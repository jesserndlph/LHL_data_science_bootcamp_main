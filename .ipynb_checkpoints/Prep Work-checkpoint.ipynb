{
 "cells": [
  {
   "cell_type": "code",
   "execution_count": null,
   "id": "adae83b6-1ae0-414a-871e-9585d28e72c0",
   "metadata": {},
   "outputs": [],
   "source": [
    "\"\"\"I used to be a farmer, and I made a fine living\n",
    "I had a little stretch of land along the CP line\n",
    "But times were hard and though I tried, the money wasn't there\n",
    "And the bankers came and took my land and told me \"fair is fair\".\n",
    "\n",
    "I looked for every kind of job, and the answer was always no\n",
    "\"Hire you right now?\" they'd always laugh, \"We just let twenty go!\"\n",
    "The government, they promised me a measly little sum\n",
    "But I've got too much pride to end up on the streets.\n",
    "\n",
    "Then I thought, who gives a damn if all the jobs are gone?\n",
    "I'm gonna be a PIRATE on the river of Saskatchewan! \"\"\""
   ]
  },
  {
   "cell_type": "code",
   "execution_count": 1,
   "id": "02198962-3107-45a7-b39f-e0ea2093db06",
   "metadata": {},
   "outputs": [
    {
     "name": "stdout",
     "output_type": "stream",
     "text": [
      "Hello World\n"
     ]
    }
   ],
   "source": [
    "print('Hello World')"
   ]
  },
  {
   "cell_type": "code",
   "execution_count": 2,
   "id": "c314b4e8-b322-4731-8652-be949cb5a911",
   "metadata": {},
   "outputs": [
    {
     "name": "stdin",
     "output_type": "stream",
     "text": [
      "Please, type in your name:  Jesse\n"
     ]
    },
    {
     "name": "stdout",
     "output_type": "stream",
     "text": [
      "Hello Jesse, it's very nice to meet you!\n"
     ]
    }
   ],
   "source": [
    "# name is a variable. It contains a string\n",
    "name = input(\"Please, type in your name: \")\n",
    "print(\"Hello \" + name + \", it's very nice to meet you!\")"
   ]
  },
  {
   "cell_type": "code",
   "execution_count": null,
   "id": "26362a8a-a3b1-4f46-b8f5-f060564c6838",
   "metadata": {},
   "outputs": [],
   "source": []
  }
 ],
 "metadata": {
  "kernelspec": {
   "display_name": "Python 3 (ipykernel)",
   "language": "python",
   "name": "python3"
  },
  "language_info": {
   "codemirror_mode": {
    "name": "ipython",
    "version": 3
   },
   "file_extension": ".py",
   "mimetype": "text/x-python",
   "name": "python",
   "nbconvert_exporter": "python",
   "pygments_lexer": "ipython3",
   "version": "3.8.11"
  }
 },
 "nbformat": 4,
 "nbformat_minor": 5
}
