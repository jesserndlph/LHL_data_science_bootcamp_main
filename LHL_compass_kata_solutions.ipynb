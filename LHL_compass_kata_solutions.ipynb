{
 "cells": [
  {
   "cell_type": "code",
   "execution_count": 22,
   "id": "bd9a5882-d184-4ea6-80af-f546610e4dbc",
   "metadata": {},
   "outputs": [],
   "source": [
    "import numpy as np"
   ]
  },
  {
   "cell_type": "code",
   "execution_count": 30,
   "id": "f38df557-937f-4417-8c21-c3a325269ae0",
   "metadata": {},
   "outputs": [
    {
     "name": "stdout",
     "output_type": "stream",
     "text": [
      "6\n",
      "9\n",
      "144\n",
      "0\n"
     ]
    }
   ],
   "source": [
    "def conditionalSum(values, condition):\n",
    "    s = 0\n",
    "    for value in values:\n",
    "        if value % 2 == 0:\n",
    "            if condition == \"even\":\n",
    "                s = s + value\n",
    "        else:\n",
    "            if condition == \"odd\":\n",
    "                s = s + value\n",
    "    return s\n",
    "\n",
    "print(conditionalSum([1, 2, 3, 4, 5], \"even\"))\n",
    "print(conditionalSum([1, 2, 3, 4, 5], \"odd\"))\n",
    "print(conditionalSum([13, 88, 12, 44, 99], \"even\"))\n",
    "print(conditionalSum([], \"odd\"))"
   ]
  },
  {
   "cell_type": "code",
   "execution_count": 32,
   "id": "94070f29-20e6-4a45-aadf-d35833cab4c6",
   "metadata": {},
   "outputs": [
    {
     "name": "stdout",
     "output_type": "stream",
     "text": [
      "3\n",
      "5\n",
      "5\n"
     ]
    }
   ],
   "source": [
    "# Sol 1\n",
    "def numberOfVowels(data):\n",
    "    num_vowels = 0\n",
    "    for ch in data:\n",
    "        if ch == 'a':\n",
    "            num_vowels = num_vowels + 1\n",
    "        elif ch == 'e':\n",
    "            num_vowels = num_vowels + 1\n",
    "        elif ch == 'i':\n",
    "            num_vowels = num_vowels + 1\n",
    "        elif ch == 'u':\n",
    "            num_vowels = num_vowels + 1\n",
    "        elif ch == 'o':\n",
    "            num_vowels = num_vowels + 1\n",
    "    return num_vowels\n",
    "\n",
    "print(numberOfVowels(\"orange\"))\n",
    "print(numberOfVowels(\"lighthouse labs\"))\n",
    "print(numberOfVowels(\"aeiou\"))"
   ]
  },
  {
   "cell_type": "code",
   "execution_count": 33,
   "id": "a0322aa4-050e-4b78-9b6a-bab7cfb8cdf9",
   "metadata": {},
   "outputs": [
    {
     "name": "stdout",
     "output_type": "stream",
     "text": [
      "3\n",
      "5\n",
      "5\n"
     ]
    }
   ],
   "source": [
    "# Sol 2\n",
    "def numberOfVowels(data):\n",
    "    num_vowels = 0\n",
    "    for ch in data:\n",
    "        if ch == 'a' or ch == 'e' or ch == 'i' or ch == 'u' or ch == 'o':\n",
    "            num_vowels = num_vowels + 1\n",
    "    return num_vowels\n",
    "\n",
    "print(numberOfVowels(\"orange\"))\n",
    "print(numberOfVowels(\"lighthouse labs\"))\n",
    "print(numberOfVowels(\"aeiou\"))"
   ]
  },
  {
   "cell_type": "code",
   "execution_count": 34,
   "id": "603121cd-113f-40bc-9f59-0dcfaa9589b5",
   "metadata": {},
   "outputs": [
    {
     "name": "stdout",
     "output_type": "stream",
     "text": [
      "3\n",
      "5\n",
      "5\n"
     ]
    }
   ],
   "source": [
    "# Sol 3\n",
    "def numberOfVowels(data):\n",
    "    num_vowels = 0\n",
    "    for ch in data:\n",
    "        if ch in 'aeiuo':\n",
    "            num_vowels = num_vowels + 1\n",
    "    return num_vowels\n",
    "\n",
    "print(numberOfVowels(\"orange\"))\n",
    "print(numberOfVowels(\"lighthouse labs\"))\n",
    "print(numberOfVowels(\"aeiou\"))"
   ]
  },
  {
   "cell_type": "code",
   "execution_count": 41,
   "id": "b1a25b2d-8bf7-4232-8113-9fcfbc1727aa",
   "metadata": {},
   "outputs": [
    {
     "name": "stdout",
     "output_type": "stream",
     "text": [
      "{'name': 'Jeremiah', 'course': 'Data'}\n",
      "{'name': 'Domascus', 'course': 'Web'}\n"
     ]
    }
   ],
   "source": [
    "def instructorWithLongestName(instructors):\n",
    "    max_length = 0\n",
    "    longest_instructor = None\n",
    "    for instructor in instructors:\n",
    "        name = instructor['name']\n",
    "        name_length = len(name)\n",
    "        if name_length > max_length:\n",
    "            longest_instructor = instructor\n",
    "            max_length = name_length\n",
    "    return longest_instructor\n",
    "\n",
    "print(instructorWithLongestName([\n",
    "  {\"name\": \"Samuel\", \"course\": \"iOS\"},\n",
    "  {\"name\": \"Jeremiah\", \"course\": \"Data\"},\n",
    "  {\"name\": \"Ophilia\", \"course\": \"Web\"},\n",
    "  {\"name\": \"Donald\", \"course\": \"Web\"}\n",
    "]))\n",
    "print(instructorWithLongestName([\n",
    "  {\"name\": \"Matthew\", \"course\": \"Data\"},\n",
    "  {\"name\": \"David\", \"course\": \"iOS\"},\n",
    "  {\"name\": \"Domascus\", \"course\": \"Web\"}\n",
    "]))\n"
   ]
  },
  {
   "cell_type": "code",
   "execution_count": null,
   "id": "10f15021-58ee-43f4-8175-f372b2ff888b",
   "metadata": {},
   "outputs": [],
   "source": []
  },
  {
   "cell_type": "code",
   "execution_count": 63,
   "id": "4e8ac790-5e01-4b22-9fad-442e41a32d81",
   "metadata": {},
   "outputs": [
    {
     "name": "stdout",
     "output_type": "stream",
     "text": [
      "Lighthouse%20Labs\n",
      "Lighthouse%20Labs\n",
      "blue%20is%20greener%20than%20purple%20for%20sure\n"
     ]
    }
   ],
   "source": [
    "def urlEncode(text):\n",
    "    length = len(text)\n",
    "    start = 0\n",
    "    end = length - 1\n",
    "    for i in range(0, length):\n",
    "        if text[i] != ' ':\n",
    "            break\n",
    "        else:\n",
    "            start = i + 1\n",
    "    for i in range(length - 1, -1, -1):\n",
    "        if text[i] != ' ':\n",
    "            break\n",
    "        else:\n",
    "            end = i - 1\n",
    "    text_clean = text[start:end+1]\n",
    "#     print('<' + text_clean + '>')\n",
    "    text_new = ''\n",
    "    for c in text_clean:\n",
    "        if c == ' ':\n",
    "            text_new = text_new + '%20'\n",
    "        else:\n",
    "            text_new = text_new + c\n",
    "    return text_new\n",
    "\n",
    "print(urlEncode(\"Lighthouse Labs\"))\n",
    "print(urlEncode(\"   Lighthouse Labs  \"))\n",
    "print(urlEncode(\"blue is greener than purple for sure\"))"
   ]
  },
  {
   "cell_type": "code",
   "execution_count": null,
   "id": "0a57f9b3-b2e2-4761-b4d6-816b5e4100d4",
   "metadata": {},
   "outputs": [],
   "source": []
  },
  {
   "cell_type": "code",
   "execution_count": 75,
   "id": "34d624bf-5877-4900-a823-3fee03899f32",
   "metadata": {},
   "outputs": [
    {
     "name": "stdout",
     "output_type": "stream",
     "text": [
      "[4, 0]\n",
      "false\n",
      "[3, 1]\n"
     ]
    }
   ],
   "source": [
    "def whereCanIPark(spots, vehicle):\n",
    "    y = len(spots)\n",
    "    x = len(spots[0])\n",
    "    available = 'false'\n",
    "    for yi in range(y):\n",
    "        for xi in range(x):\n",
    "            if spots[yi][xi] == 'R':\n",
    "                available = [xi, yi]\n",
    "                break\n",
    "            elif spots[yi][xi] == 'S':\n",
    "                if vehicle == 'small' or vehicle == 'motorcycle':\n",
    "                    available = [xi, yi]\n",
    "                    break\n",
    "            elif spots[yi][xi] == 'M':\n",
    "                if vehicle == 'motorcycle':\n",
    "                    available = [xi, yi]\n",
    "                    break\n",
    "        if available != 'false':\n",
    "            break\n",
    "    return available\n",
    "#     print('-----')\n",
    "                \n",
    "\n",
    "\n",
    "print(whereCanIPark(\n",
    "  [\n",
    "    # COLUMNS ARE X\n",
    "    # 0    1    2    3    4    5\n",
    "    ['s', 's', 's', 'S', 'R', 'M'], # 0 ROWS ARE Y\n",
    "    ['s', 'M', 's', 'S', 'r', 'M'], # 1\n",
    "    ['s', 'M', 's', 'S', 'r', 'm'], # 2\n",
    "    ['S', 'r', 's', 'm', 'r', 'M'], # 3\n",
    "    ['S', 'r', 's', 'm', 'r', 'M'], # 4\n",
    "    ['S', 'r', 'S', 'M', 'M', 'S']  # 5\n",
    "  ],\n",
    "  'regular'\n",
    "))\n",
    "\n",
    "print(whereCanIPark(\n",
    "  [\n",
    "    ['M', 'M', 'M', 'M'],\n",
    "    ['M', 's', 'M', 'M'],\n",
    "    ['M', 'M', 'M', 'M'],\n",
    "    ['M', 'M', 'r', 'M']\n",
    "  ],\n",
    "  'small'\n",
    "))\n",
    "\n",
    "print(whereCanIPark(\n",
    "  [\n",
    "    ['s', 's', 's', 's', 's', 's'],\n",
    "    ['s', 'm', 's', 'S', 'r', 's'],\n",
    "    ['s', 'm', 's', 'S', 'r', 's'],\n",
    "    ['S', 'r', 's', 'm', 'r', 's'],\n",
    "    ['S', 'r', 's', 'm', 'R', 's'],\n",
    "    ['S', 'r', 'S', 'M', 'm', 'S']\n",
    "  ],\n",
    "  'motorcycle'\n",
    "))"
   ]
  },
  {
   "cell_type": "code",
   "execution_count": 77,
   "id": "c83f99cd-8f82-40f4-9c1d-d32bf0cf6b60",
   "metadata": {},
   "outputs": [
    {
     "name": "stdout",
     "output_type": "stream",
     "text": [
      "Polluted\n",
      "Polluted\n",
      "Clean\n"
     ]
    }
   ],
   "source": [
    "def checkAir(samples, threshold):\n",
    "    dirty_num = 0\n",
    "\n",
    "    for sample in samples:\n",
    "        if sample == 'dirty':\n",
    "            dirty_num = dirty_num + 1\n",
    "    \n",
    "    proportion = dirty_num / len(samples)\n",
    "    if proportion < threshold:\n",
    "        return 'Clean'\n",
    "    else:\n",
    "        return 'Polluted'\n",
    "\n",
    "\n",
    "print(checkAir(\n",
    "  ['clean', 'clean', 'dirty', 'clean', 'dirty', 'clean', 'clean', 'dirty', 'clean', 'dirty'],\n",
    "  0.3\n",
    "))\n",
    "\n",
    "print(checkAir(\n",
    "  ['dirty', 'dirty', 'dirty', 'dirty', 'clean'],\n",
    "  0.25\n",
    "))\n",
    "\n",
    "print(checkAir(\n",
    "  ['clean', 'dirty', 'clean', 'dirty', 'clean', 'dirty', 'clean'],\n",
    "  0.9\n",
    "))"
   ]
  },
  {
   "cell_type": "code",
   "execution_count": null,
   "id": "6c3958cb-a02d-4208-ac17-9ef96cb3e9b0",
   "metadata": {},
   "outputs": [],
   "source": []
  },
  {
   "cell_type": "code",
   "execution_count": 78,
   "id": "f1cbed4f-1725-4bb9-b6eb-d4af9cadac6c",
   "metadata": {},
   "outputs": [],
   "source": [
    "import numpy as np\n",
    "import matplotlib.pyplot as plt\n",
    "from collections import Counter\n",
    "\n",
    "# set the plot style\n",
    "plt.style.use('fivethirtyeight')\n"
   ]
  },
  {
   "cell_type": "markdown",
   "id": "9c4e05cd-bb2a-4ce7-8db7-6a5d5c6f7275",
   "metadata": {},
   "source": [
    "##KATAS DONE"
   ]
  }
 ],
 "metadata": {
  "kernelspec": {
   "display_name": "Python 3",
   "language": "python",
   "name": "python3"
  },
  "language_info": {
   "codemirror_mode": {
    "name": "ipython",
    "version": 3
   },
   "file_extension": ".py",
   "mimetype": "text/x-python",
   "name": "python",
   "nbconvert_exporter": "python",
   "pygments_lexer": "ipython3",
   "version": "3.8.11"
  }
 },
 "nbformat": 4,
 "nbformat_minor": 5
}
