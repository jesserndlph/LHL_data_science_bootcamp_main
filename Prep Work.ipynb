{
 "cells": [
  {
   "cell_type": "code",
   "execution_count": 4,
   "id": "adae83b6-1ae0-414a-871e-9585d28e72c0",
   "metadata": {},
   "outputs": [
    {
     "data": {
      "text/plain": [
       "' I used to be a farmer, and I made a fine living\\nI had a little stretch of land along the CP line\\nBut times were hard and though I tried, the money wasn\\'t there\\nAnd the bankers came and took my land and told me \"fair is fair\".\\n\\nI looked for every kind of job, and the answer was always no\\n\"Hire you right now?\" they\\'d always laugh, \"We just let twenty go!\"\\nThe government, they promised me a measly little sum\\nBut I\\'ve got too much pride to end up on the streets.\\n\\nThen I thought, who gives a damn if all the jobs are gone?\\nI\\'m gonna be a PIRATE on the river of Saskatchewan! '"
      ]
     },
     "execution_count": 4,
     "metadata": {},
     "output_type": "execute_result"
    }
   ],
   "source": [
    "\"\"\" I used to be a farmer, and I made a fine living\n",
    "I had a little stretch of land along the CP line\n",
    "But times were hard and though I tried, the money wasn't there\n",
    "And the bankers came and took my land and told me \"fair is fair\".\n",
    "\n",
    "I looked for every kind of job, and the answer was always no\n",
    "\"Hire you right now?\" they'd always laugh, \"We just let twenty go!\"\n",
    "The government, they promised me a measly little sum\n",
    "But I've got too much pride to end up on the streets.\n",
    "\n",
    "Then I thought, who gives a damn if all the jobs are gone?\n",
    "I'm gonna be a PIRATE on the river of Saskatchewan! \"\"\""
   ]
  },
  {
   "cell_type": "code",
   "execution_count": 2,
   "id": "02198962-3107-45a7-b39f-e0ea2093db06",
   "metadata": {},
   "outputs": [
    {
     "name": "stdout",
     "output_type": "stream",
     "text": [
      "Hello World\n"
     ]
    }
   ],
   "source": [
    "print('Hello World')"
   ]
  },
  {
   "cell_type": "code",
   "execution_count": 3,
   "id": "c314b4e8-b322-4731-8652-be949cb5a911",
   "metadata": {},
   "outputs": [
    {
     "name": "stdin",
     "output_type": "stream",
     "text": [
      "Please, type in your name:  Jesse\n"
     ]
    },
    {
     "name": "stdout",
     "output_type": "stream",
     "text": [
      "Hello Jesse, it's very nice to meet you!\n"
     ]
    }
   ],
   "source": [
    "# name is a variable. It contains a string\n",
    "name = input(\"Please, type in your name: \")\n",
    "print(\"Hello \" + name + \", it's very nice to meet you!\")"
   ]
  },
  {
   "cell_type": "markdown",
   "id": "0628e8d9-849e-4a66-97c8-10f449981b7a",
   "metadata": {},
   "source": [
    "### Conditional statements"
   ]
  },
  {
   "cell_type": "code",
   "execution_count": 5,
   "id": "9767dedd-8f49-44f8-af3b-fc017eff2586",
   "metadata": {},
   "outputs": [
    {
     "name": "stdout",
     "output_type": "stream",
     "text": [
      "True\n"
     ]
    }
   ],
   "source": [
    "x = 0\n",
    "y = 5\n",
    "\n",
    "if y == 5:\n",
    "    print('True') "
   ]
  },
  {
   "cell_type": "code",
   "execution_count": 128,
   "id": "7fd18bb6-1e88-41bc-8ba0-3693d7682488",
   "metadata": {},
   "outputs": [
    {
     "name": "stdout",
     "output_type": "stream",
     "text": [
      "1111111111\n",
      "11, 222\n",
      "10101010, 343434343434, 9292\n"
     ]
    }
   ],
   "source": [
    "# Create a function named repeatNumbers that will return a string with each of the given values\n",
    "# repeated the appropriate number of times. If there are multiple sets of values each set should be separated by a comma. \n",
    "# If there is only one set of values then you should omit the comma.\n",
    "\n",
    "def repeatNumbers(data):\n",
    "    # Put your solution here\n",
    "    # empty list\n",
    "    res = []\n",
    "    for entry in data:\n",
    "        # build the word for each list\n",
    "        txt = ''\n",
    "        for i in range(entry[1]):\n",
    "            txt = txt + str(entry[0])\n",
    "        res.append(txt)\n",
    "    # build final text, all words separated by comma\n",
    "    final_txt = ''\n",
    "    for i in range(len(res) - 1):\n",
    "        final_txt += res[i] + ', '\n",
    "    # append last word without comma\n",
    "    final_txt += res[-1]\n",
    "    return final_txt\n",
    "\n",
    "    \n",
    "    \n",
    "    \n",
    "    \n",
    "    \n",
    "print(repeatNumbers([[1, 10]]))\n",
    "print(repeatNumbers([[1, 2], [2, 3]]))\n",
    "print(repeatNumbers([[10, 4], [34, 6], [92, 2]]))\n",
    "\n",
    "\n",
    "#output\n",
    "# 1111111111\n",
    "# 11, 222\n",
    "# 10101010, 343434343434, 9292"
   ]
  },
  {
   "cell_type": "code",
   "execution_count": 129,
   "id": "3f4da6f7-8aa2-47fc-af5a-8a1805a51403",
   "metadata": {},
   "outputs": [
    {
     "name": "stdout",
     "output_type": "stream",
     "text": [
      "1111111111\n",
      "11, 222\n",
      "10101010, 343434343434, 9292\n"
     ]
    }
   ],
   "source": [
    "# Create a function named repeatNumbers that will return a string with each of the given values\n",
    "# repeated the appropriate number of times. If there are multiple sets of values each set should be separated by a comma. \n",
    "# If there is only one set of values then you should omit the comma.\n",
    "\n",
    "def repeatNumbers(data):\n",
    "    res = []\n",
    "    for entry in data:\n",
    "        txt = ''\n",
    "        for i in range(entry[1]):\n",
    "            txt = txt + str(entry[0])\n",
    "        res.append(txt)\n",
    "    final_txt = ''\n",
    "    for i in range(len(res) - 1):\n",
    "        final_txt += res[i] + ', '\n",
    "    final_txt += res[-1]\n",
    "    return final_txt\n",
    "\n",
    "    \n",
    "    \n",
    "    \n",
    "    \n",
    "    \n",
    "print(repeatNumbers([[1, 10]]))\n",
    "print(repeatNumbers([[1, 2], [2, 3]]))\n",
    "print(repeatNumbers([[10, 4], [34, 6], [92, 2]]))\n",
    "\n",
    "\n",
    "#output\n",
    "# 1111111111\n",
    "# 11, 222\n",
    "# 10101010, 343434343434, 9292"
   ]
  },
  {
   "cell_type": "code",
   "execution_count": null,
   "id": "8fbe9d2b-5fd2-49ad-b3e4-31084d2ebb10",
   "metadata": {},
   "outputs": [],
   "source": []
  },
  {
   "cell_type": "code",
   "execution_count": null,
   "id": "d05bab33-e379-4208-8165-7abab5a84753",
   "metadata": {},
   "outputs": [],
   "source": []
  },
  {
   "cell_type": "code",
   "execution_count": null,
   "id": "5562a5be-feb2-4a40-8b37-2c5e0fa8efe4",
   "metadata": {},
   "outputs": [],
   "source": []
  },
  {
   "cell_type": "code",
   "execution_count": null,
   "id": "b42e8ed8-4114-40cc-9f22-d4d69a1842f8",
   "metadata": {},
   "outputs": [],
   "source": []
  },
  {
   "cell_type": "code",
   "execution_count": null,
   "id": "b40e6fb0-7076-4eac-811a-1d0d5ecd3b7b",
   "metadata": {},
   "outputs": [],
   "source": []
  },
  {
   "cell_type": "code",
   "execution_count": null,
   "id": "7b3aa9b6-ec48-4372-8f2b-352c822e310f",
   "metadata": {},
   "outputs": [],
   "source": []
  },
  {
   "cell_type": "code",
   "execution_count": null,
   "id": "0d7169db-8e99-45fe-9eb9-fe140bf1a424",
   "metadata": {},
   "outputs": [],
   "source": []
  },
  {
   "cell_type": "code",
   "execution_count": null,
   "id": "b0c3e8f1-1bd4-4b94-b538-7f0554e455ba",
   "metadata": {},
   "outputs": [],
   "source": []
  },
  {
   "cell_type": "code",
   "execution_count": 79,
   "id": "ae14a1ee-6247-4929-ad34-8aaa5bda2c75",
   "metadata": {},
   "outputs": [
    {
     "name": "stdout",
     "output_type": "stream",
     "text": [
      "thisIsAString\n",
      "loopyLighthouse\n",
      "supercalifragalisticexpialidocious\n"
     ]
    }
   ],
   "source": [
    "def camelCase(input):\n",
    "    from re import sub\n",
    "    input = sub(r\"(_|-)+\", \" \", input).title().replace(\" \", \"\")\n",
    "    return ''.join([input[0].lower(), input[1:]])\n",
    "\n",
    "\n",
    "print(camelCase(\"this is a string\"))\n",
    "print(camelCase(\"loopy lighthouse\"))\n",
    "print(camelCase(\"supercalifragalisticexpialidocious\"))\n",
    "\n",
    "# thisIsAString\n",
    "# loopyLighthouse\n",
    "# supercalifragalisticexpialidocious"
   ]
  },
  {
   "cell_type": "code",
   "execution_count": 54,
   "id": "1f85bd51-58f4-41b2-9717-29934f64e645",
   "metadata": {},
   "outputs": [
    {
     "name": "stdout",
     "output_type": "stream",
     "text": [
      "1\t\n",
      "None\n",
      "1\t2\t3\t4\t5\t\n",
      "2\t4\t6\t8\t10\t\n",
      "3\t6\t9\t12\t15\t\n",
      "4\t8\t12\t16\t20\t\n",
      "5\t10\t15\t20\t25\t\n",
      "None\n",
      "1\t2\t3\t4\t5\t6\t7\t8\t9\t10\t\n",
      "2\t4\t6\t8\t10\t12\t14\t16\t18\t20\t\n",
      "3\t6\t9\t12\t15\t18\t21\t24\t27\t30\t\n",
      "4\t8\t12\t16\t20\t24\t28\t32\t36\t40\t\n",
      "5\t10\t15\t20\t25\t30\t35\t40\t45\t50\t\n",
      "6\t12\t18\t24\t30\t36\t42\t48\t54\t60\t\n",
      "7\t14\t21\t28\t35\t42\t49\t56\t63\t70\t\n",
      "8\t16\t24\t32\t40\t48\t56\t64\t72\t80\t\n",
      "9\t18\t27\t36\t45\t54\t63\t72\t81\t90\t\n",
      "10\t20\t30\t40\t50\t60\t70\t80\t90\t100\t\n",
      "None\n"
     ]
    }
   ],
   "source": [
    "def multiplicationTable(maxValue):\n",
    "    for x in range(1, maxValue + 1):\n",
    "        for y in range(1, maxValue +1):\n",
    "            z = x * y\n",
    "            print(z, end=\"\\t\")\n",
    "        print()\n",
    "    \n",
    "   \n",
    "\n",
    "\n",
    "print(multiplicationTable(1))\n",
    "print(multiplicationTable(5))\n",
    "print(multiplicationTable(10))\n",
    "      \n",
    "      \n",
    "# 1\n",
    "\n",
    "# 1 2 3 4 5\n",
    "# 2 4 6 8 10\n",
    "# 3 6 9 12 15\n",
    "# 4 8 12 16 20\n",
    "# 5 10 15 20 25 \n",
    "\n",
    "# 1 2 3 4 5 6 7 8 9 10\n",
    "# 2 4 6 8 10 12 14 16 18 20\n",
    "# 3 6 9 12 15 18 21 24 27 30\n",
    "# 4 8 12 16 20 24 28 32 36 40\n",
    "# 5 10 15 20 25 30 35 40 45 50\n",
    "# 6 12 18 24 30 36 42 48 54 60\n",
    "# 7 14 21 28 35 42 49 56 63 70\n",
    "# 8 16 24 32 40 48 56 64 72 80\n",
    "# 9 18 27 36 45 54 63 72 81 90\n",
    "# 10 20 30 40 50 60 70 80 90 100"
   ]
  },
  {
   "cell_type": "code",
   "execution_count": null,
   "id": "7956d168-02cb-47b0-b239-f21d5a98f079",
   "metadata": {},
   "outputs": [],
   "source": []
  },
  {
   "cell_type": "code",
   "execution_count": null,
   "id": "8cd60b21-ad6e-431b-b339-0deef1877b8b",
   "metadata": {},
   "outputs": [],
   "source": []
  }
 ],
 "metadata": {
  "kernelspec": {
   "display_name": "Python 3 (ipykernel)",
   "language": "python",
   "name": "python3"
  },
  "language_info": {
   "codemirror_mode": {
    "name": "ipython",
    "version": 3
   },
   "file_extension": ".py",
   "mimetype": "text/x-python",
   "name": "python",
   "nbconvert_exporter": "python",
   "pygments_lexer": "ipython3",
   "version": "3.8.11"
  }
 },
 "nbformat": 4,
 "nbformat_minor": 5
}
