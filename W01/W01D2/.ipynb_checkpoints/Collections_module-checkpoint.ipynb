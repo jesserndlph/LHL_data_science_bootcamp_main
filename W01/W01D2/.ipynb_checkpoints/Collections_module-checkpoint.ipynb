{
 "cells": [
  {
   "cell_type": "markdown",
   "id": "70721775",
   "metadata": {},
   "source": [
    "# Collections Module"
   ]
  },
  {
   "cell_type": "markdown",
   "id": "82768cdd",
   "metadata": {},
   "source": [
    "## 1) namedtuple()"
   ]
  },
  {
   "cell_type": "code",
   "execution_count": null,
   "id": "1a2ff70f",
   "metadata": {},
   "outputs": [],
   "source": [
    "plain_tuple = (10,11,12,13)\n",
    "plain_tuple[0]\n",
    "# 10\n",
    "plain_tuple[3]\n",
    "# 13"
   ]
  },
  {
   "cell_type": "code",
   "execution_count": null,
   "id": "668d45e6",
   "metadata": {},
   "outputs": [],
   "source": [
    "from collections import namedtuple\n",
    "fruit = namedtuple('fruit','number variety color')\n",
    "guava = fruit(number=2,variety='HoneyCrisp',color='green')\n",
    "apple = fruit(number=5,variety='Granny Smith',color='red')\n",
    "\n",
    "guava.color\n",
    "# 'green'\n",
    "apple.variety\n",
    "# 'Granny Smith'"
   ]
  },
  {
   "cell_type": "markdown",
   "id": "dfb42024",
   "metadata": {},
   "source": [
    "## 2) Counter"
   ]
  },
  {
   "cell_type": "code",
   "execution_count": null,
   "id": "0d68d613",
   "metadata": {},
   "outputs": [],
   "source": [
    "#Importing Counter from collections\n",
    "from collections import Counter"
   ]
  },
  {
   "cell_type": "code",
   "execution_count": null,
   "id": "37f82f95",
   "metadata": {},
   "outputs": [],
   "source": [
    "With Strings\n",
    "c = Counter('abcacdabcacd')\n",
    "print(c)\n",
    "# Counter({'a': 4, 'c': 4, 'b': 2, 'd': 2})\n",
    "With Lists\n",
    "lst = [5,6,7,1,3,9,9,1,2,5,5,7,7]\n",
    "c = Counter(lst)\n",
    "print(c)\n",
    "# Counter({'a': 4, 'c': 4, 'b': 2, 'd': 2})\n",
    "With Sentence\n",
    "s = 'the lazy dog jumped over another lazy dog'\n",
    "words = s.split()\n",
    "Counter(words)\n",
    "# Counter({'another': 1, 'dog': 2, 'jumped': 1, 'lazy': 2, 'over': 1, 'the': 1})"
   ]
  },
  {
   "cell_type": "code",
   "execution_count": null,
   "id": "f95e8b8c",
   "metadata": {},
   "outputs": [],
   "source": [
    "Counter objects support three methods beyond those available for all dictionaries:\n",
    "elements()\n",
    "Returns a count of each element and If an element’s count is less than one, it is ignored.\n",
    "c = Counter(a=3, b=2, c=1, d=-2)\n",
    "sorted(c.elements())\n",
    "# ['a', 'a', 'a', 'b', 'b', 'c']\n",
    "most_common([n])\n",
    "Returns a list of the most common elements with their counts. The number of elements has to be specified as n. If none is specified it returns the count of all the elements.\n",
    "s = 'the lazy dog jumped over another lazy dog'\n",
    "words = s.split()\n",
    "Counter(words).most_common(3)\n",
    "# [('lazy', 2), ('dog', 2), ('the', 1)]"
   ]
  },
  {
   "cell_type": "code",
   "execution_count": null,
   "id": "3e31f69b",
   "metadata": {},
   "outputs": [],
   "source": [
    "Common patterns when using the Counter() object\n",
    "sum(c.values())                 # total of all counts \n",
    "c.clear()                       # reset all counts \n",
    "list(c)                         # list unique elements \n",
    "set(c)                          # convert to a set \n",
    "dict(c)                         # convert to a regular dictionary c.items()                       # convert to a list like (elem, cnt) \n",
    "Counter(dict(list_of_pairs))    # convert from a list of(elem, cnt) \n",
    "c.most_common()[:-n-1:-1]       # n least common elements \n",
    "c += Counter()                  # remove zero and negative counts"
   ]
  },
  {
   "cell_type": "markdown",
   "id": "2b6b8fd3",
   "metadata": {},
   "source": [
    "## 3) Defaultdict"
   ]
  },
  {
   "cell_type": "code",
   "execution_count": null,
   "id": "15007d74",
   "metadata": {},
   "outputs": [],
   "source": [
    "Dictionaries are an efficient way to store data for later retrieval having an unordered set of key: value pairs. Keys must be unique and immutable objects.\n",
    "fruits = {'apple':300, 'guava': 200}\n",
    "fruits['guava']\n",
    "200"
   ]
  },
  {
   "cell_type": "code",
   "execution_count": null,
   "id": "da1147a1",
   "metadata": {},
   "outputs": [],
   "source": [
    "Things are simple if the values are ints or strings. However, if the values are in the form of collections like lists or dictionaries, the value (an empty list or dict) must be initialized the first time a given key is used. defaultdict automates and simplifies this stuff. The example below will make it more obvious:"
   ]
  },
  {
   "cell_type": "code",
   "execution_count": null,
   "id": "643a828e",
   "metadata": {},
   "outputs": [],
   "source": [
    "d = {}\n",
    "print(d['A'])"
   ]
  },
  {
   "cell_type": "code",
   "execution_count": null,
   "id": "822b4e44",
   "metadata": {},
   "outputs": [],
   "source": [
    "Here, the Python dictionary throws an error since ‘A’ is not currently in the dictionary. Let us now run the same example with defaultdict.\n",
    "from collections import defaultdict\n",
    "d = defaultdict(object)\n",
    "print(d['A'])\n",
    "<object object at 0x7fc9bed4cb00>\n",
    "The defaultdict in contrast will simply create any items that you try to access (provided of course they do not exist yet).The defaultdict is also a dictionary-like object and provides all methods provided by a dictionary. However, the point of difference is that it takes the first argument (default_factory) as a default data type for the dictionary."
   ]
  },
  {
   "cell_type": "markdown",
   "id": "087bf4db",
   "metadata": {},
   "source": [
    "## 4) OrderedDict"
   ]
  },
  {
   "cell_type": "markdown",
   "id": "d27f7126",
   "metadata": {},
   "source": [
    "An OrderedDict is a dictionary subclass that remembers the order in which that keys were first inserted. When iterating over an ordered dictionary, the items are returned in the order their keys were first added. Since an ordered dictionary remembers its insertion order, it can be used in conjunction with sorting to make a sorted dictionary:\n",
    "regular dictionary"
   ]
  },
  {
   "cell_type": "code",
   "execution_count": null,
   "id": "38b53cc4",
   "metadata": {},
   "outputs": [],
   "source": [
    "d = {'banana': 3, 'apple': 4, 'pear': 1, 'orange': 2}"
   ]
  },
  {
   "cell_type": "code",
   "execution_count": 2,
   "id": "72d51c3f",
   "metadata": {},
   "outputs": [
    {
     "ename": "NameError",
     "evalue": "name 'd' is not defined",
     "output_type": "error",
     "traceback": [
      "\u001b[0;31m---------------------------------------------------------------------------\u001b[0m",
      "\u001b[0;31mNameError\u001b[0m                                 Traceback (most recent call last)",
      "\u001b[0;32m<ipython-input-2-88791386dbd1>\u001b[0m in \u001b[0;36m<module>\u001b[0;34m\u001b[0m\n\u001b[1;32m      1\u001b[0m \u001b[0;31m# dictionary sorted by key\u001b[0m\u001b[0;34m\u001b[0m\u001b[0;34m\u001b[0m\u001b[0;34m\u001b[0m\u001b[0m\n\u001b[1;32m      2\u001b[0m \u001b[0;32mfrom\u001b[0m \u001b[0mcollections\u001b[0m \u001b[0;32mimport\u001b[0m \u001b[0mOrderedDict\u001b[0m\u001b[0;34m,\u001b[0m \u001b[0mdefaultdict\u001b[0m\u001b[0;34m\u001b[0m\u001b[0;34m\u001b[0m\u001b[0m\n\u001b[0;32m----> 3\u001b[0;31m \u001b[0mOrderedDict\u001b[0m\u001b[0;34m(\u001b[0m\u001b[0msorted\u001b[0m\u001b[0;34m(\u001b[0m\u001b[0md\u001b[0m\u001b[0;34m.\u001b[0m\u001b[0mitems\u001b[0m\u001b[0;34m(\u001b[0m\u001b[0;34m)\u001b[0m\u001b[0;34m,\u001b[0m \u001b[0mkey\u001b[0m\u001b[0;34m=\u001b[0m\u001b[0;32mlambda\u001b[0m \u001b[0mt\u001b[0m\u001b[0;34m:\u001b[0m \u001b[0mt\u001b[0m\u001b[0;34m[\u001b[0m\u001b[0;36m0\u001b[0m\u001b[0;34m]\u001b[0m\u001b[0;34m)\u001b[0m\u001b[0;34m)\u001b[0m\u001b[0;34m\u001b[0m\u001b[0;34m\u001b[0m\u001b[0m\n\u001b[0m\u001b[1;32m      4\u001b[0m \u001b[0mOrderedDict\u001b[0m\u001b[0;34m(\u001b[0m\u001b[0;34m[\u001b[0m\u001b[0;34m(\u001b[0m\u001b[0;34m'apple'\u001b[0m\u001b[0;34m,\u001b[0m \u001b[0;36m4\u001b[0m\u001b[0;34m)\u001b[0m\u001b[0;34m,\u001b[0m \u001b[0;34m(\u001b[0m\u001b[0;34m'banana'\u001b[0m\u001b[0;34m,\u001b[0m \u001b[0;36m3\u001b[0m\u001b[0;34m)\u001b[0m\u001b[0;34m,\u001b[0m \u001b[0;34m(\u001b[0m\u001b[0;34m'orange'\u001b[0m\u001b[0;34m,\u001b[0m \u001b[0;36m2\u001b[0m\u001b[0;34m)\u001b[0m\u001b[0;34m,\u001b[0m \u001b[0;34m(\u001b[0m\u001b[0;34m'pear'\u001b[0m\u001b[0;34m,\u001b[0m \u001b[0;36m1\u001b[0m\u001b[0;34m)\u001b[0m\u001b[0;34m]\u001b[0m\u001b[0;34m)\u001b[0m\u001b[0;34m\u001b[0m\u001b[0;34m\u001b[0m\u001b[0m\n",
      "\u001b[0;31mNameError\u001b[0m: name 'd' is not defined"
     ]
    }
   ],
   "source": [
    "# dictionary sorted by key\n",
    "OrderedDict(sorted(d.items(), key=lambda t: t[0]))\n",
    "OrderedDict([('apple', 4), ('banana', 3), ('orange', 2), ('pear', 1)])"
   ]
  },
  {
   "cell_type": "code",
   "execution_count": null,
   "id": "f95c002e",
   "metadata": {},
   "outputs": [],
   "source": [
    "dictionary sorted by value\n",
    "OrderedDict(sorted(d.items(), key=lambda t: t[1]))\n",
    "OrderedDict([('pear', 1), ('orange', 2), ('banana', 3), ('apple', 4)])"
   ]
  },
  {
   "cell_type": "code",
   "execution_count": null,
   "id": "1b662419",
   "metadata": {},
   "outputs": [],
   "source": [
    "dictionary sorted by the length of the key string\n",
    "OrderedDict(sorted(d.items(), key=lambda t: len(t[0])))\n",
    "OrderedDict([('pear', 1), ('apple', 4), ('banana', 3), ('orange', 2)])"
   ]
  },
  {
   "cell_type": "markdown",
   "id": "e0952e68",
   "metadata": {},
   "source": [
    "# Collections Module 2"
   ]
  },
  {
   "cell_type": "markdown",
   "id": "d24a3dc8",
   "metadata": {},
   "source": [
    "## The Counter"
   ]
  },
  {
   "cell_type": "code",
   "execution_count": null,
   "id": "2243f59e",
   "metadata": {},
   "outputs": [],
   "source": [
    "from collections import Counter\n",
    "cnt = Counter()"
   ]
  },
  {
   "cell_type": "code",
   "execution_count": null,
   "id": "c723198b",
   "metadata": {},
   "outputs": [],
   "source": [
    "list11 = [1,2,3,4,1,2,6,7,3,8,1]\n",
    "Counter(list11)"
   ]
  },
  {
   "cell_type": "code",
   "execution_count": null,
   "id": "cd095b52",
   "metadata": {},
   "outputs": [],
   "source": [
    "Counter({1:3,2:4})"
   ]
  },
  {
   "cell_type": "code",
   "execution_count": null,
   "id": "d87f8d56",
   "metadata": {},
   "outputs": [],
   "source": [
    "list2 = [1,2,3,4,1,2,6,7,3,8,1]\n",
    "cnt = Counter(list2)\n",
    "print(cnt[1]) # There are 3 ones."
   ]
  },
  {
   "cell_type": "markdown",
   "id": "4e881c99",
   "metadata": {},
   "source": [
    "## element() function"
   ]
  },
  {
   "cell_type": "code",
   "execution_count": null,
   "id": "200d9b7b",
   "metadata": {},
   "outputs": [],
   "source": [
    "cnt = Counter({1:3,2:4})\n",
    "print(list(cnt.elements()))\n",
    "# [1, 1, 1, 2, 2, 2, 2]"
   ]
  },
  {
   "cell_type": "code",
   "execution_count": 1,
   "id": "c2aeaa09",
   "metadata": {},
   "outputs": [
    {
     "ename": "NameError",
     "evalue": "name 'Counter' is not defined",
     "output_type": "error",
     "traceback": [
      "\u001b[0;31m---------------------------------------------------------------------------\u001b[0m",
      "\u001b[0;31mNameError\u001b[0m                                 Traceback (most recent call last)",
      "\u001b[0;32m<ipython-input-1-ecf1f7a279f7>\u001b[0m in \u001b[0;36m<module>\u001b[0;34m\u001b[0m\n\u001b[1;32m      1\u001b[0m \u001b[0mlist\u001b[0m \u001b[0;34m=\u001b[0m \u001b[0;34m[\u001b[0m\u001b[0;36m1\u001b[0m\u001b[0;34m,\u001b[0m\u001b[0;36m2\u001b[0m\u001b[0;34m,\u001b[0m\u001b[0;36m3\u001b[0m\u001b[0;34m,\u001b[0m\u001b[0;36m4\u001b[0m\u001b[0;34m,\u001b[0m\u001b[0;36m1\u001b[0m\u001b[0;34m,\u001b[0m\u001b[0;36m2\u001b[0m\u001b[0;34m,\u001b[0m\u001b[0;36m6\u001b[0m\u001b[0;34m,\u001b[0m\u001b[0;36m7\u001b[0m\u001b[0;34m,\u001b[0m\u001b[0;36m3\u001b[0m\u001b[0;34m,\u001b[0m\u001b[0;36m8\u001b[0m\u001b[0;34m,\u001b[0m\u001b[0;36m1\u001b[0m\u001b[0;34m]\u001b[0m\u001b[0;34m\u001b[0m\u001b[0;34m\u001b[0m\u001b[0m\n\u001b[0;32m----> 2\u001b[0;31m \u001b[0mcnt\u001b[0m \u001b[0;34m=\u001b[0m \u001b[0mCounter\u001b[0m\u001b[0;34m(\u001b[0m\u001b[0mlist\u001b[0m\u001b[0;34m)\u001b[0m\u001b[0;34m\u001b[0m\u001b[0;34m\u001b[0m\u001b[0m\n\u001b[0m\u001b[1;32m      3\u001b[0m \u001b[0mprint\u001b[0m\u001b[0;34m(\u001b[0m\u001b[0mcnt\u001b[0m\u001b[0;34m.\u001b[0m\u001b[0mmost_common\u001b[0m\u001b[0;34m(\u001b[0m\u001b[0;34m)\u001b[0m\u001b[0;34m)\u001b[0m\u001b[0;34m\u001b[0m\u001b[0;34m\u001b[0m\u001b[0m\n\u001b[1;32m      4\u001b[0m \u001b[0;31m# [(1, 3), (2, 2), (3, 2), (4, 1), (6, 1), (7, 1), (8, 1)]\u001b[0m\u001b[0;34m\u001b[0m\u001b[0;34m\u001b[0m\u001b[0;34m\u001b[0m\u001b[0m\n",
      "\u001b[0;31mNameError\u001b[0m: name 'Counter' is not defined"
     ]
    }
   ],
   "source": [
    "list = [1,2,3,4,1,2,6,7,3,8,1]\n",
    "cnt = Counter(list)\n",
    "print(cnt.most_common()) # most common function\n",
    "# [(1, 3), (2, 2), (3, 2), (4, 1), (6, 1), (7, 1), (8, 1)]"
   ]
  },
  {
   "cell_type": "code",
   "execution_count": null,
   "id": "d075f346",
   "metadata": {},
   "outputs": [],
   "source": [
    "cnt = Counter({1:3,2:4})\n",
    "deduct = {1:1, 2:2}\n",
    "cnt.subtract(deduct) # subtract function\n",
    "print(cnt)\n",
    "# Counter({1: 2, 2: 2})"
   ]
  },
  {
   "cell_type": "markdown",
   "id": "9f9ae1e2",
   "metadata": {},
   "source": [
    "## The defaultdict"
   ]
  },
  {
   "cell_type": "code",
   "execution_count": null,
   "id": "c2e8406b",
   "metadata": {},
   "outputs": [],
   "source": [
    "from collections import defaultdict"
   ]
  },
  {
   "cell_type": "code",
   "execution_count": null,
   "id": "0adef440",
   "metadata": {},
   "outputs": [],
   "source": [
    "nums = defaultdict(int)\n",
    "nums['one'] = 1\n",
    "nums['two'] = 2\n",
    "print(nums['three'])\n",
    "# 0 NO KEYERROR!"
   ]
  },
  {
   "cell_type": "code",
   "execution_count": null,
   "id": "69bfb16b",
   "metadata": {},
   "outputs": [],
   "source": [
    "from collections import defaultdict\n",
    "\n",
    "count = defaultdict(int)\n",
    "names_list = \"Mike John Mike Anna Mike John John Mike Mike Britney Smith Anna Smith\".split()\n",
    "for names in names_list:\n",
    "    count[names] +=1\n",
    "print(count)"
   ]
  },
  {
   "cell_type": "markdown",
   "id": "0d1abe93",
   "metadata": {},
   "source": [
    "## The ordereddict"
   ]
  },
  {
   "cell_type": "code",
   "execution_count": null,
   "id": "555190cd",
   "metadata": {},
   "outputs": [],
   "source": [
    "from collections import OrderedDict"
   ]
  },
  {
   "cell_type": "code",
   "execution_count": null,
   "id": "c9d63a2b",
   "metadata": {},
   "outputs": [],
   "source": [
    "od = OrderedDict()\n",
    "od['a'] = 1\n",
    "od['b'] = 2\n",
    "od['c'] = 3\n",
    "print(od)"
   ]
  },
  {
   "cell_type": "code",
   "execution_count": null,
   "id": "6e9f8021",
   "metadata": {},
   "outputs": [],
   "source": [
    "OrderedDict([('a', 1), ('b', 2), ('c', 3)])"
   ]
  },
  {
   "cell_type": "code",
   "execution_count": null,
   "id": "4191d7f6",
   "metadata": {},
   "outputs": [],
   "source": [
    "for key, value in od.items():\n",
    "    print(key, value)\n",
    "    \n",
    "# a 1\n",
    "# b 2\n",
    "# c 3"
   ]
  },
  {
   "cell_type": "code",
   "execution_count": null,
   "id": "a92bb956",
   "metadata": {},
   "outputs": [],
   "source": [
    "list = [\"a\",\"c\",\"c\",\"a\",\"b\",\"a\",\"a\",\"b\",\"c\"]\n",
    "cnt = Counter(list)\n",
    "od = OrderedDict(cnt.most_common())\n",
    "for key, value in od.items():\n",
    "    print(key, value)\n",
    "    \n",
    "# a 4\n",
    "# c 3\n",
    "# b 2"
   ]
  },
  {
   "cell_type": "markdown",
   "id": "caab72a8",
   "metadata": {},
   "source": [
    "## The deque"
   ]
  },
  {
   "cell_type": "code",
   "execution_count": null,
   "id": "eb356d99",
   "metadata": {},
   "outputs": [],
   "source": [
    "from collections import deque\n",
    "list = [\"a\",\"b\",\"c\"]\n",
    "deq = deque(list)\n",
    "print(deq\n",
    "      \n",
    "#       deque(['a', 'b', 'c'])"
   ]
  },
  {
   "cell_type": "code",
   "execution_count": null,
   "id": "9311705a",
   "metadata": {},
   "outputs": [],
   "source": [
    "deq.append(\"d\")\n",
    "deq.appendleft(\"e\")\n",
    "print(deq)\n",
    "\n",
    "# deque(['e', 'a', 'b', 'c', 'd'])"
   ]
  },
  {
   "cell_type": "code",
   "execution_count": null,
   "id": "4b87840b",
   "metadata": {},
   "outputs": [],
   "source": [
    "deq.pop()\n",
    "deq.popleft()\n",
    "print(deq)\n",
    "\n",
    "# deque(['a', 'b', 'c'])"
   ]
  },
  {
   "cell_type": "code",
   "execution_count": null,
   "id": "a3d98794",
   "metadata": {},
   "outputs": [],
   "source": [
    "list = [\"a\",\"b\",\"c\"]\n",
    "deq = deque(list)\n",
    "print(deq)\n",
    "print(deq.clear())\n",
    "\n",
    "# deque(['a', 'b', 'c'])\n",
    "# None"
   ]
  },
  {
   "cell_type": "code",
   "execution_count": null,
   "id": "23161ccf",
   "metadata": {},
   "outputs": [],
   "source": [
    "list = [\"a\",\"b\",\"c\"]\n",
    "deq = deque(list)\n",
    "print(deq.count(\"a\"))\n",
    "\n",
    "# 1"
   ]
  },
  {
   "cell_type": "markdown",
   "id": "5447378f",
   "metadata": {},
   "source": [
    "## The chainmap"
   ]
  },
  {
   "cell_type": "code",
   "execution_count": null,
   "id": "36a9a291",
   "metadata": {},
   "outputs": [],
   "source": [
    "from collections import ChainMap"
   ]
  },
  {
   "cell_type": "code",
   "execution_count": null,
   "id": "e793d11d",
   "metadata": {},
   "outputs": [],
   "source": [
    "dict1 = { 'a' : 1, 'b' : 2 }\n",
    "dict2 = { 'c' : 3, 'b' : 4 }\n",
    "chain_map = ChainMap(dict1, dict2)\n",
    "print(chain_map.maps)\n",
    "\n",
    "# [{'b': 2, 'a': 1}, {'c': 3, 'b': 4}]"
   ]
  },
  {
   "cell_type": "code",
   "execution_count": null,
   "id": "7b0aaee3",
   "metadata": {},
   "outputs": [],
   "source": [
    "print(chain_map['a'])\n",
    "\n",
    "# 1"
   ]
  },
  {
   "cell_type": "code",
   "execution_count": null,
   "id": "28737938",
   "metadata": {},
   "outputs": [],
   "source": [
    "dict2['c'] = 5\n",
    "print(chain_map.maps)\n",
    "\n",
    "# [{'a': 1, 'b': 2}, {'c': 5, 'b': 4}]"
   ]
  },
  {
   "cell_type": "code",
   "execution_count": null,
   "id": "a6f97598",
   "metadata": {},
   "outputs": [],
   "source": [
    "dict1 = { 'a' : 1, 'b' : 2 } \n",
    "dict2 = { 'c' : 3, 'b' : 4 }\n",
    "chain_map = ChainMap(dict1, dict2)\n",
    "print (list(chain_map.keys())) # getting keys\n",
    "print (list(chain_map.values())) # getting values\n",
    "\n",
    "# ['b', 'a', 'c']\n",
    "# [2, 1, 3]"
   ]
  },
  {
   "cell_type": "code",
   "execution_count": null,
   "id": "14b675be",
   "metadata": {},
   "outputs": [],
   "source": [
    "dict3 = {'e' : 5, 'f' : 6}\n",
    "new_chain_map = chain_map.new_child(dict3)\n",
    "print(new_chain_map)\n",
    "\n",
    "# ChainMap({'f': 6, 'e': 5}, {'a': 1, 'b': 2}, {'b': 4, 'c': 3})\n"
   ]
  },
  {
   "cell_type": "markdown",
   "id": "b669772c",
   "metadata": {},
   "source": [
    "## The namedtuple"
   ]
  },
  {
   "cell_type": "code",
   "execution_count": null,
   "id": "950d6825",
   "metadata": {},
   "outputs": [],
   "source": [
    "from collections import namedtuple"
   ]
  },
  {
   "cell_type": "code",
   "execution_count": null,
   "id": "2a42a894",
   "metadata": {},
   "outputs": [],
   "source": [
    "from collections import namedtuple\n",
    "\n",
    "Student = namedtuple('Student', 'fname, lname, age')\n",
    "s1 = Student('John', 'Clarke', '13')\n",
    "print(s1.fname)\n",
    "\n",
    "# Student(fname='John', lname='Clarke', age='13')\n"
   ]
  },
  {
   "cell_type": "code",
   "execution_count": null,
   "id": "10ee748a",
   "metadata": {},
   "outputs": [],
   "source": [
    "s2 = Student._make(['Adam','joe','18'])\n",
    "print(s2)\n",
    "\n",
    "# Student(fname='Adam', lname='joe', age='18')\n"
   ]
  },
  {
   "cell_type": "code",
   "execution_count": null,
   "id": "472210f7",
   "metadata": {},
   "outputs": [],
   "source": [
    "s2 = s1._asdict()\n",
    "print(s2)\n",
    "\n",
    "# OrderedDict([('fname', 'John'), ('lname', 'Clarke'), ('age', '13')])\n"
   ]
  },
  {
   "cell_type": "code",
   "execution_count": null,
   "id": "5f99deec",
   "metadata": {},
   "outputs": [],
   "source": [
    "s2 = s1._replace(age='14')\n",
    "print(s1)\n",
    "print(s2)\n",
    "\n",
    "# Student(fname='John', lname='Clarke', age='13')\n",
    "# Student(fname='John', lname='Clarke', age='14')\n"
   ]
  }
 ],
 "metadata": {
  "kernelspec": {
   "display_name": "Python 3",
   "language": "python",
   "name": "python3"
  },
  "language_info": {
   "codemirror_mode": {
    "name": "ipython",
    "version": 3
   },
   "file_extension": ".py",
   "mimetype": "text/x-python",
   "name": "python",
   "nbconvert_exporter": "python",
   "pygments_lexer": "ipython3",
   "version": "3.8.8"
  }
 },
 "nbformat": 4,
 "nbformat_minor": 5
}
