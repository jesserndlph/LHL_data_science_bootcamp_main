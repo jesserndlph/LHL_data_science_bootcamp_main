{
 "cells": [
  {
   "cell_type": "markdown",
   "id": "db3a0925",
   "metadata": {},
   "source": [
    "# Line continuation # do not run."
   ]
  },
  {
   "cell_type": "code",
   "execution_count": null,
   "id": "aeacad10",
   "metadata": {},
   "outputs": [],
   "source": [
    ">>> a = [\n",
    "        [1, 2, 3, 4, 5],\n",
    "        [6, 7, 8, 9, 10],\n",
    "        [11, 12, 13, 14, 15],\n",
    "        [16, 17, 18, 19, 20],\n",
    "        [21, 22, 23, 24, 25]\n",
    "    ]\n",
    "a"
   ]
  },
  {
   "cell_type": "code",
   "execution_count": null,
   "id": "1f9bd6c8",
   "metadata": {},
   "outputs": [],
   "source": [
    ">>> someone_is_of_working_age = (\n",
    "...     (person1_age >= 18 and person1_age <= 65)\n",
    "...     or (person2_age >= 18 and person2_age <= 65)\n",
    "...     or (person3_age >= 18 and person3_age <= 65)\n",
    "... )"
   ]
  },
  {
   "cell_type": "code",
   "execution_count": null,
   "id": "fee6b7ca",
   "metadata": {},
   "outputs": [],
   "source": [
    ">>> x = (\n",
    "...     1 + 2\n",
    "...     + 3 + 4\n",
    "...     + 5 + 6\n",
    "... )"
   ]
  },
  {
   "cell_type": "code",
   "execution_count": null,
   "id": "dcedef62",
   "metadata": {},
   "outputs": [],
   "source": [
    ">>> a = [\n",
    "...     [\n",
    "...         ['foo', 'bar'],\n",
    "...         [1, 2, 3]\n",
    "...     ],\n",
    "...     {1, 3, 5},\n",
    "...     {\n",
    "...         'a': 1,\n",
    "...         'b': 2\n",
    "...     }\n",
    "... ]"
   ]
  },
  {
   "cell_type": "markdown",
   "id": "9bf0b0fa",
   "metadata": {},
   "source": [
    "##### To indicate explicit line continuation, you can specify a backslash (\\) character as the final character on the line. In that case, Python ignores the following newline, and the statement is effectively continued on next line:"
   ]
  },
  {
   "cell_type": "code",
   "execution_count": 1,
   "id": "feba698b",
   "metadata": {},
   "outputs": [],
   "source": [
    ">>> s = \\\n",
    "... 'Hello, World!'\n",
    ">>> s\n",
    "'Hello, World!'\n",
    "\n",
    ">>> x = 1 + 2 \\\n",
    "...     + 3 + 4 \\\n",
    "...     + 5 + 6\n",
    "# must be the last character on the line! Even whitespace gives an error"
   ]
  },
  {
   "cell_type": "markdown",
   "id": "8761b284",
   "metadata": {},
   "source": [
    "# Multiple statements per line"
   ]
  },
  {
   "cell_type": "code",
   "execution_count": null,
   "id": "c557f4a4",
   "metadata": {},
   "outputs": [],
   "source": [
    ">>> x = 1; y = 2; z = 3\n",
    ">>> print(x); print(y); print(z)"
   ]
  },
  {
   "cell_type": "code",
   "execution_count": null,
   "id": "42056b81",
   "metadata": {},
   "outputs": [],
   "source": [
    ">>> x, y, z = 1, 2, 3\n",
    ">>> print(x, y, z, sep='\\n')"
   ]
  },
  {
   "cell_type": "markdown",
   "id": "1f09fe42",
   "metadata": {},
   "source": [
    "# Whitespace"
   ]
  },
  {
   "cell_type": "code",
   "execution_count": 4,
   "id": "ec9c6224",
   "metadata": {},
   "outputs": [],
   "source": [
    "# Character\tASCII Code\tLiteral Expression\n",
    "# space    \t32 (0x20)\t' '\n",
    "# tab   \t9 (0x9) \t'\\t'\n",
    "# newline\t10(0xa) \t'\\n'"
   ]
  },
  {
   "cell_type": "code",
   "execution_count": null,
   "id": "e271f509",
   "metadata": {},
   "outputs": [],
   "source": [
    ">>> x=3;y=12\n",
    ">>> x+y\n",
    "15\n",
    "\n",
    ">>> (x==3)and(x<y)\n",
    "True\n",
    "\n",
    ">>> a=['foo','bar','baz']\n",
    ">>> a\n",
    "['foo', 'bar', 'baz']\n",
    "\n",
    ">>> d={'foo':3,'bar':4}\n",
    ">>> d\n",
    "{'foo': 3, 'bar': 4}\n",
    "\n",
    ">>> x,y,z='foo',14,21.1\n",
    ">>> (x,y,z)\n",
    "('foo', 14, 21.1)\n",
    "\n",
    ">>> z='foo'\"bar\"'baz'#Comment\n",
    ">>> z\n",
    "'foobarbaz'"
   ]
  },
  {
   "cell_type": "code",
   "execution_count": null,
   "id": "19a6047d",
   "metadata": {},
   "outputs": [],
   "source": []
  }
 ],
 "metadata": {
  "kernelspec": {
   "display_name": "Python 3",
   "language": "python",
   "name": "python3"
  },
  "language_info": {
   "codemirror_mode": {
    "name": "ipython",
    "version": 3
   },
   "file_extension": ".py",
   "mimetype": "text/x-python",
   "name": "python",
   "nbconvert_exporter": "python",
   "pygments_lexer": "ipython3",
   "version": "3.8.8"
  }
 },
 "nbformat": 4,
 "nbformat_minor": 5
}
