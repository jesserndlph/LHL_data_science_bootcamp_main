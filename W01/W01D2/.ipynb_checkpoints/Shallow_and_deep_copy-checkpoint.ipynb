{
 "cells": [
  {
   "cell_type": "markdown",
   "id": "c6fe8598",
   "metadata": {},
   "source": [
    "# Python Shallow Copy and Deep Copy"
   ]
  },
  {
   "cell_type": "code",
   "execution_count": 1,
   "id": "1913f902",
   "metadata": {},
   "outputs": [
    {
     "name": "stdout",
     "output_type": "stream",
     "text": [
      "Old List: [[1, 2, 3], [4, 5, 6], [7, 8, 9]]\n",
      "ID of Old List: 140402212885504\n",
      "New List: [[1, 2, 3], [4, 5, 6], [7, 8, 9]]\n",
      "ID of New List: 140402212885504\n"
     ]
    }
   ],
   "source": [
    "old_list = [[1, 2, 3], [4, 5, 6], [7, 8, 'a']]\n",
    "new_list = old_list\n",
    "\n",
    "new_list[2][2] = 9\n",
    "\n",
    "print('Old List:', old_list)\n",
    "print('ID of Old List:', id(old_list))\n",
    "\n",
    "print('New List:', new_list)\n",
    "print('ID of New List:', id(new_list))\n",
    "\n",
    "# Old List: [[1, 2, 3], [4, 5, 6], [7, 8, 9]]\n",
    "# ID of Old List: 140673303268168\n",
    "\n",
    "# New List: [[1, 2, 3], [4, 5, 6], [7, 8, 9]]\n",
    "# ID of New List: 140673303268168"
   ]
  },
  {
   "cell_type": "markdown",
   "id": "dd96521b",
   "metadata": {},
   "source": [
    "## Copy Module?!"
   ]
  },
  {
   "cell_type": "code",
   "execution_count": null,
   "id": "477e3581",
   "metadata": {},
   "outputs": [],
   "source": [
    "import copy\n",
    "copy.copy(x)\n",
    "copy.deepcopy(x)\n",
    "\n",
    "# Here, the copy() return a shallow copy of x. Similarly, deepcopy() return a deep copy of x."
   ]
  },
  {
   "cell_type": "markdown",
   "id": "199eccdf",
   "metadata": {},
   "source": [
    "### Shallow copy"
   ]
  },
  {
   "cell_type": "markdown",
   "id": "1b30391c",
   "metadata": {},
   "source": [
    "#### A shallow copy creates a new object which stores the reference of the original elements."
   ]
  },
  {
   "cell_type": "code",
   "execution_count": null,
   "id": "09a2d055",
   "metadata": {},
   "outputs": [],
   "source": [
    "import copy\n",
    "\n",
    "old_list = [[1, 2, 3], [4, 5, 6], [7, 8, 9]]\n",
    "new_list = copy.copy(old_list)\n",
    "\n",
    "print(\"Old list:\", old_list)\n",
    "print(\"New list:\", new_list)\n",
    "\n",
    "# Old list: [[1, 2, 3], [4, 5, 6], [7, 8, 9]]\n",
    "# New list: [[1, 2, 3], [4, 5, 6], [7, 8, 9]]"
   ]
  },
  {
   "cell_type": "code",
   "execution_count": null,
   "id": "6c4fc84d",
   "metadata": {},
   "outputs": [],
   "source": [
    "import copy\n",
    "\n",
    "old_list = [[1, 1, 1], [2, 2, 2], [3, 3, 3]]\n",
    "new_list = copy.copy(old_list)\n",
    "\n",
    "old_list.append([4, 4, 4])\n",
    "\n",
    "print(\"Old list:\", old_list)\n",
    "print(\"New list:\", new_list)\n",
    "\n",
    "# Old list: [[1, 1, 1], [2, 2, 2], [3, 3, 3], [4, 4, 4]]\n",
    "# New list: [[1, 1, 1], [2, 2, 2], [3, 3, 3]]"
   ]
  },
  {
   "cell_type": "code",
   "execution_count": null,
   "id": "086f5345",
   "metadata": {},
   "outputs": [],
   "source": [
    "import copy\n",
    "\n",
    "old_list = [[1, 1, 1], [2, 2, 2], [3, 3, 3]]\n",
    "new_list = copy.copy(old_list)\n",
    "\n",
    "old_list[1][1] = 'AA'\n",
    "\n",
    "print(\"Old list:\", old_list)\n",
    "print(\"New list:\", new_list)\n",
    "\n",
    "# Old list: [[1, 1, 1], [2, 'AA', 2], [3, 3, 3]]\n",
    "# New list: [[1, 1, 1], [2, 'AA', 2], [3, 3, 3]]"
   ]
  },
  {
   "cell_type": "markdown",
   "id": "b8308651",
   "metadata": {},
   "source": [
    "### Deep copy"
   ]
  },
  {
   "cell_type": "markdown",
   "id": "ae139fa2",
   "metadata": {},
   "source": [
    "#### A deep copy creates a new object and recursively adds the copies of nested objects present in the original elements."
   ]
  },
  {
   "cell_type": "code",
   "execution_count": null,
   "id": "1fa13f73",
   "metadata": {},
   "outputs": [],
   "source": [
    "import copy\n",
    "\n",
    "old_list = [[1, 1, 1], [2, 2, 2], [3, 3, 3]]\n",
    "new_list = copy.deepcopy(old_list)\n",
    "\n",
    "print(\"Old list:\", old_list)\n",
    "print(\"New list:\", new_list)\n",
    "\n",
    "Old list: [[1, 1, 1], [2, 2, 2], [3, 3, 3]]\n",
    "New list: [[1, 1, 1], [2, 2, 2], [3, 3, 3]]"
   ]
  },
  {
   "cell_type": "code",
   "execution_count": null,
   "id": "403a27ee",
   "metadata": {},
   "outputs": [],
   "source": [
    "import copy\n",
    "\n",
    "old_list = [[1, 1, 1], [2, 2, 2], [3, 3, 3]]\n",
    "new_list = copy.deepcopy(old_list)\n",
    "\n",
    "old_list[1][0] = 'BB'\n",
    "\n",
    "print(\"Old list:\", old_list)\n",
    "print(\"New list:\", new_list)\n",
    "Old list: [[1, 1, 1], ['BB', 2, 2], [3, 3, 3]]\n",
    "New list: [[1, 1, 1], [2, 2, 2], [3, 3, 3]]"
   ]
  },
  {
   "cell_type": "code",
   "execution_count": null,
   "id": "fff298be",
   "metadata": {},
   "outputs": [],
   "source": []
  },
  {
   "cell_type": "code",
   "execution_count": null,
   "id": "82f9afc7",
   "metadata": {},
   "outputs": [],
   "source": []
  },
  {
   "cell_type": "code",
   "execution_count": null,
   "id": "ab987cdd",
   "metadata": {},
   "outputs": [],
   "source": []
  }
 ],
 "metadata": {
  "kernelspec": {
   "display_name": "Python 3",
   "language": "python",
   "name": "python3"
  },
  "language_info": {
   "codemirror_mode": {
    "name": "ipython",
    "version": 3
   },
   "file_extension": ".py",
   "mimetype": "text/x-python",
   "name": "python",
   "nbconvert_exporter": "python",
   "pygments_lexer": "ipython3",
   "version": "3.8.8"
  }
 },
 "nbformat": 4,
 "nbformat_minor": 5
}
