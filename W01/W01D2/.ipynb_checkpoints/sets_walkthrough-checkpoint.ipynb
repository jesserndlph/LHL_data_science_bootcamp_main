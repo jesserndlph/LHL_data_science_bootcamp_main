{
 "cells": [
  {
   "cell_type": "markdown",
   "id": "c498b152",
   "metadata": {},
   "source": [
    "# Defining a set"
   ]
  },
  {
   "cell_type": "code",
   "execution_count": null,
   "id": "1d661251",
   "metadata": {},
   "outputs": [],
   "source": [
    "x = set(<iter>)"
   ]
  },
  {
   "cell_type": "code",
   "execution_count": null,
   "id": "a8f881b5",
   "metadata": {},
   "outputs": [],
   "source": [
    ">>> x = set(['foo', 'bar', 'baz', 'foo', 'qux'])\n",
    ">>> x\n",
    "# {'qux', 'foo', 'bar', 'baz'}\n",
    "\n",
    ">>> x = set(('foo', 'bar', 'baz', 'foo', 'qux'))\n",
    ">>> x\n",
    "# {'qux', 'foo', 'bar', 'baz'}"
   ]
  },
  {
   "cell_type": "code",
   "execution_count": null,
   "id": "15e58f06",
   "metadata": {},
   "outputs": [],
   "source": [
    ">>> s = 'quux'\n",
    "\n",
    ">>> list(s)\n",
    "# ['q', 'u', 'u', 'x']\n",
    ">>> set(s)\n",
    "# {'x', 'u', 'q'} no duplicates :!"
   ]
  },
  {
   "cell_type": "markdown",
   "id": "1260dc20",
   "metadata": {},
   "source": [
    "##### the argument 'set' is an iterable. See how it iterates through the string?"
   ]
  },
  {
   "cell_type": "code",
   "execution_count": null,
   "id": "0308505d",
   "metadata": {},
   "outputs": [],
   "source": [
    ">>> {'foo'}\n",
    "{'foo'}\n",
    "\n",
    ">>> set('foo')\n",
    "{'o', 'f'}"
   ]
  },
  {
   "cell_type": "code",
   "execution_count": null,
   "id": "0c4546f0",
   "metadata": {},
   "outputs": [],
   "source": [
    ">>> x = set()\n",
    ">>> bool(x)\n",
    "# False ... an empty set is falsy"
   ]
  },
  {
   "cell_type": "code",
   "execution_count": null,
   "id": "08d870e3",
   "metadata": {},
   "outputs": [],
   "source": [
    "# sets can have different elements!\n",
    ">>> x = {42, 'foo', 3.14159, None}\n",
    ">>> x\n",
    "# {None, 'foo', 42, 3.14159}\n",
    "# But lists and dictionaries are mutable, so they can’t be set elements:"
   ]
  },
  {
   "cell_type": "markdown",
   "id": "d78efc92",
   "metadata": {},
   "source": [
    "## Set size and membership"
   ]
  },
  {
   "cell_type": "code",
   "execution_count": null,
   "id": "c37662de",
   "metadata": {},
   "outputs": [],
   "source": [
    ">>> x = {'foo', 'bar', 'baz'}\n",
    "\n",
    ">>> len(x)\n",
    "# 3\n",
    "\n",
    ">>> 'bar' in x\n",
    "# True, in can be used along with not in\n",
    ">>> 'qux' in x\n",
    "# False"
   ]
  },
  {
   "cell_type": "markdown",
   "id": "18c08840",
   "metadata": {},
   "source": [
    "## operators vs. methods"
   ]
  },
  {
   "cell_type": "code",
   "execution_count": null,
   "id": "79f6d399",
   "metadata": {},
   "outputs": [],
   "source": [
    ">>> x1 = {'foo', 'bar', 'baz'}\n",
    ">>> x2 = {'baz', 'qux', 'quux'}\n",
    ">>> x1 | x2\n",
    "# {'baz', 'quux', 'qux', 'bar', 'foo'} a set union is done using a bar in python!\n",
    "# with | both operands MUST be sets."
   ]
  },
  {
   "cell_type": "code",
   "execution_count": null,
   "id": "373d43ab",
   "metadata": {},
   "outputs": [],
   "source": [
    ">>> x1.union(x2) # or the union operator\n",
    "# {'baz', 'quux', 'qux', 'bar', 'foo'}\n",
    "# .union can take iterables as arguments! converting it to a set then performing the union. NEAT!"
   ]
  },
  {
   "cell_type": "code",
   "execution_count": null,
   "id": "259096ec",
   "metadata": {},
   "outputs": [],
   "source": [
    ">>> a = {1, 2, 3, 4}\n",
    ">>> b = {2, 3, 4, 5}\n",
    ">>> c = {3, 4, 5, 6}\n",
    ">>> d = {4, 5, 6, 7}\n",
    "\n",
    ">>> a.union(b, c, d)\n",
    "# {1, 2, 3, 4, 5, 6, 7}\n",
    "\n",
    ">>> a | b | c | d\n",
    "# {1, 2, 3, 4, 5, 6, 7}"
   ]
  },
  {
   "cell_type": "markdown",
   "id": "03346663",
   "metadata": {},
   "source": [
    "#### intersection (imagine a ven diagram, the overlap contains elements in both sets...)"
   ]
  },
  {
   "cell_type": "code",
   "execution_count": null,
   "id": "eac4a2f0",
   "metadata": {},
   "outputs": [],
   "source": [
    ">>> x1 = {'foo', 'bar', 'baz'}\n",
    ">>> x2 = {'baz', 'qux', 'quux'}\n",
    "\n",
    ">>> x1.intersection(x2)\n",
    "# {'baz'}\n",
    "\n",
    ">>> x1 & x2\n",
    "# {'baz'}"
   ]
  },
  {
   "cell_type": "code",
   "execution_count": null,
   "id": "ae42654a",
   "metadata": {},
   "outputs": [],
   "source": [
    ">>> a = {1, 2, 3, 4}\n",
    ">>> b = {2, 3, 4, 5}\n",
    ">>> c = {3, 4, 5, 6}\n",
    ">>> d = {4, 5, 6, 7}\n",
    "\n",
    ">>> a.intersection(b, c, d)\n",
    "# {4}\n",
    "\n",
    ">>> a & b & c & d\n",
    "# {4}"
   ]
  },
  {
   "cell_type": "markdown",
   "id": "e4ec32bd",
   "metadata": {},
   "source": [
    "#### difference (imagine a ven diagram, unique elements in set one are on the left, unique in set 2 are right)"
   ]
  },
  {
   "cell_type": "code",
   "execution_count": 2,
   "id": "993359d9",
   "metadata": {},
   "outputs": [],
   "source": [
    "# x1.difference(x2) and x1 - x2 return the set of all elements that are in x1 but not in x2:"
   ]
  },
  {
   "cell_type": "code",
   "execution_count": null,
   "id": "ad41fbe3",
   "metadata": {},
   "outputs": [],
   "source": [
    ">>> x1 = {'foo', 'bar', 'baz'}\n",
    ">>> x2 = {'baz', 'qux', 'quux'}\n",
    "\n",
    ">>> x1.difference(x2)\n",
    "# {'foo', 'bar'} what's in 1 but NOT in 2?\n",
    "\n",
    ">>> x1 - x2\n",
    "# {'foo', 'bar'} what's in 1 but NOT in 2?"
   ]
  },
  {
   "cell_type": "code",
   "execution_count": null,
   "id": "5e0d42ad",
   "metadata": {},
   "outputs": [],
   "source": [
    ">>> a = {1, 2, 3, 30, 300}\n",
    ">>> b = {10, 20, 30, 40}\n",
    ">>> c = {100, 200, 300, 400}\n",
    "\n",
    ">>> a.difference(b, c)\n",
    "# {1, 2, 3} what's in 1 that's not in b OR c?\n",
    "\n",
    ">>> a - b - c\n",
    "# {1, 2, 3} what's in 1 that's not in b OR c?"
   ]
  },
  {
   "cell_type": "code",
   "execution_count": null,
   "id": "397be9d0",
   "metadata": {},
   "outputs": [],
   "source": [
    "# what about showing UNIQUE values in all sets?\n",
    ">>> x1 = {'foo', 'bar', 'baz'}\n",
    ">>> x2 = {'baz', 'qux', 'quux'}\n",
    "\n",
    ">>> x1.symmetric_difference(x2) # only takes one argument. Try 2 and get an error!\n",
    "# {'foo', 'qux', 'quux', 'bar'} \n",
    "\n",
    ">>> x1 ^ x2\n",
    "# {'foo', 'qux', 'quux', 'bar'}"
   ]
  },
  {
   "cell_type": "code",
   "execution_count": null,
   "id": "4b882d47",
   "metadata": {},
   "outputs": [],
   "source": [
    "# more than 2 sets?\n",
    ">>> a = {1, 2, 3, 4, 5}\n",
    ">>> b = {10, 2, 3, 4, 50}\n",
    ">>> c = {1, 50, 100}\n",
    "\n",
    ">>> a ^ b ^ c\n",
    "# {100, 5, 10}"
   ]
  },
  {
   "cell_type": "code",
   "execution_count": null,
   "id": "f13ef3de",
   "metadata": {},
   "outputs": [],
   "source": [
    "# True or False to see if similar elements?\n",
    ">>> x1 = {'foo', 'bar', 'baz'}\n",
    ">>> x2 = {'baz', 'qux', 'quux'}\n",
    "\n",
    ">>> x1.isdisjoint(x2) # returns True if x1 and x2 have no elements in common\n",
    "# False\n",
    "\n",
    ">>> x2 - {'baz'}\n",
    "{'quux', 'qux'}\n",
    ">>> x1.isdisjoint(x2 - {'baz'}) # take away baz and you're good\n",
    "# True"
   ]
  },
  {
   "cell_type": "code",
   "execution_count": null,
   "id": "99506f3c",
   "metadata": {},
   "outputs": [],
   "source": [
    ">>> x1 = {1, 3, 5}\n",
    ">>> x2 = {2, 4, 6}\n",
    "\n",
    ">>> x1.isdisjoint(x2) #  is True, then x1 & x2 is the empty set\n",
    "True\n",
    ">>> x1 & x2\n",
    "set()"
   ]
  },
  {
   "cell_type": "markdown",
   "id": "38c088b4",
   "metadata": {},
   "source": [
    "### Subset = if every element of a is in b."
   ]
  },
  {
   "cell_type": "code",
   "execution_count": null,
   "id": "1fd114f8",
   "metadata": {},
   "outputs": [],
   "source": [
    ">>> x1 = {'foo', 'bar', 'baz'}\n",
    ">>> x1.issubset({'foo', 'bar', 'baz', 'qux', 'quux'}) # or use x1 <= x2\n",
    "# True\n",
    "\n",
    ">>> x2 = {'baz', 'qux', 'quux'}\n",
    ">>> x1 <= x2\n",
    "# False\n",
    "\n",
    "# Sets are considered subsets of themselves."
   ]
  },
  {
   "cell_type": "markdown",
   "id": "639cce9d",
   "metadata": {},
   "source": [
    "### A proper subset = same, but sets cannot be identical."
   ]
  },
  {
   "cell_type": "code",
   "execution_count": null,
   "id": "64beafd1",
   "metadata": {},
   "outputs": [],
   "source": [
    ">>> x1 = {'foo', 'bar'}\n",
    ">>> x2 = {'foo', 'bar', 'baz'}\n",
    ">>> x1 < x2\n",
    "# True\n",
    "\n",
    ">>> x1 = {'foo', 'bar', 'baz'}\n",
    ">>> x2 = {'foo', 'bar', 'baz'}\n",
    ">>> x1 < x2\n",
    "# False"
   ]
  },
  {
   "cell_type": "code",
   "execution_count": null,
   "id": "ed796c85",
   "metadata": {},
   "outputs": [],
   "source": [
    ">>> x = {1, 2, 3, 4, 5}\n",
    ">>> x <= x\n",
    "# True\n",
    ">>> x < x\n",
    "# False"
   ]
  },
  {
   "cell_type": "code",
   "execution_count": null,
   "id": "152da3e9",
   "metadata": {},
   "outputs": [],
   "source": [
    ">>> x1 = {'foo', 'bar', 'baz'}\n",
    ">>> x2 = {'foo', 'bar'}\n",
    ">>> x1 > x2\n",
    "# True\n",
    "\n",
    ">>> x1 = {'foo', 'bar', 'baz'}\n",
    ">>> x2 = {'foo', 'bar', 'baz'}\n",
    ">>> x1 > x2\n",
    "# False"
   ]
  },
  {
   "cell_type": "markdown",
   "id": "c4a6ac12",
   "metadata": {},
   "source": [
    "### Superset = reverse of a subset. "
   ]
  },
  {
   "cell_type": "code",
   "execution_count": null,
   "id": "d4cc5cd5",
   "metadata": {},
   "outputs": [],
   "source": [
    ">>> x1 = {'foo', 'bar', 'baz'}\n",
    "\n",
    ">>> x1.issuperset({'foo', 'bar'})\n",
    "# True\n",
    "\n",
    ">>> x2 = {'baz', 'qux', 'quux'}\n",
    ">>> x1 >= x2\n",
    "# False"
   ]
  },
  {
   "cell_type": "markdown",
   "id": "3b717ef5",
   "metadata": {},
   "source": [
    "# Modifying a set"
   ]
  },
  {
   "cell_type": "code",
   "execution_count": null,
   "id": "62ab5c74",
   "metadata": {},
   "outputs": [],
   "source": [
    ">>> x1 = {'foo', 'bar', 'baz'}\n",
    ">>> x2 = {'foo', 'baz', 'qux'}\n",
    "\n",
    ">>> x1 |= x2 # add to x1, what it doesn't already have\n",
    ">>> x1\n",
    "# {'qux', 'foo', 'bar', 'baz'}\n",
    "\n",
    ">>> x1.update(['corge', 'garply'])\n",
    ">>> x1\n",
    "# {'qux', 'corge', 'garply', 'foo', 'bar', 'baz'}"
   ]
  },
  {
   "cell_type": "code",
   "execution_count": null,
   "id": "898ac451",
   "metadata": {},
   "outputs": [],
   "source": [
    ">>> x1 = {'foo', 'bar', 'baz'}\n",
    ">>> x2 = {'foo', 'baz', 'qux'}\n",
    "\n",
    ">>> x1 &= x2 # make x1 retain only what's in both\n",
    ">>> x1\n",
    "# {'foo', 'baz'}\n",
    "\n",
    ">>> x1.intersection_update(['baz', 'qux'])\n",
    ">>> x1\n",
    "# {'baz'}"
   ]
  },
  {
   "cell_type": "code",
   "execution_count": null,
   "id": "f4726b0e",
   "metadata": {},
   "outputs": [],
   "source": [
    ">>> x1 = {'foo', 'bar', 'baz'}\n",
    ">>> x2 = {'foo', 'baz', 'qux'}\n",
    "\n",
    ">>> x1 -= x2 # removing elements found in x2\n",
    ">>> x1\n",
    "# {'bar'}\n",
    "\n",
    ">>> x1.difference_update(['foo', 'bar', 'qux'])\n",
    ">>> x1\n",
    "set()"
   ]
  },
  {
   "cell_type": "code",
   "execution_count": null,
   "id": "0596947e",
   "metadata": {},
   "outputs": [],
   "source": [
    ">>> x1 = {'foo', 'bar', 'baz'}\n",
    ">>> x2 = {'foo', 'baz', 'qux'}\n",
    ">>> \n",
    ">>> x1 ^= x2 # retaining elements found in either, but NOT both\n",
    ">>> x1\n",
    "# {'bar', 'qux'}\n",
    ">>> \n",
    ">>> x1.symmetric_difference_update(['qux', 'corge'])\n",
    ">>> x1\n",
    "{'bar', 'corge'}"
   ]
  },
  {
   "cell_type": "markdown",
   "id": "210c3b64",
   "metadata": {},
   "source": [
    "### other methods for modifying sets..."
   ]
  },
  {
   "cell_type": "code",
   "execution_count": null,
   "id": "f37c942f",
   "metadata": {},
   "outputs": [],
   "source": [
    ">>> x = {'foo', 'bar', 'baz'}\n",
    "\n",
    ">>> x.add('qux') # add element to a set\n",
    ">>> x\n",
    "# {'bar', 'baz', 'foo', 'qux'}"
   ]
  },
  {
   "cell_type": "code",
   "execution_count": null,
   "id": "d9c8d78e",
   "metadata": {},
   "outputs": [],
   "source": [
    ">>> x = {'foo', 'bar', 'baz'}\n",
    "\n",
    ">>> x.remove('baz') # remove element from a set\n",
    ">>> x\n",
    "# {'bar', 'foo'} get ERROR if it's not in the set"
   ]
  },
  {
   "cell_type": "code",
   "execution_count": null,
   "id": "061e1c77",
   "metadata": {},
   "outputs": [],
   "source": [
    ">>> x = {'foo', 'bar', 'baz'}\n",
    "\n",
    ">>> x.discard('baz')\n",
    ">>> x\n",
    "# {'bar', 'foo'}\n",
    "\n",
    ">>> x.discard('qux')\n",
    ">>> x\n",
    "# {'bar', 'foo'} NO ERROR!"
   ]
  },
  {
   "cell_type": "code",
   "execution_count": null,
   "id": "c3ca2a15",
   "metadata": {},
   "outputs": [],
   "source": [
    ">>> x = {'foo', 'bar', 'baz'}\n",
    "\n",
    ">>> x.pop() # removes RANDOM element. If empty set, get an ERROR\n",
    "'bar'\n",
    ">>> x\n",
    "# {'baz', 'foo'}\n",
    "\n",
    ">>> x.pop()\n",
    "'baz'\n",
    ">>> x\n",
    "# {'foo'}\n",
    "\n",
    ">>> x.pop()\n",
    "'foo'\n",
    ">>> x\n",
    "# set()"
   ]
  },
  {
   "cell_type": "code",
   "execution_count": null,
   "id": "0b012ca4",
   "metadata": {},
   "outputs": [],
   "source": [
    ">>> x = {'foo', 'bar', 'baz'}\n",
    ">>> x\n",
    "# {'foo', 'bar', 'baz'}\n",
    ">>> \n",
    ">>> x.clear() # Removes ALL ELEMENTS\n",
    ">>> x\n",
    "# set()"
   ]
  },
  {
   "cell_type": "markdown",
   "id": "29f911b0",
   "metadata": {},
   "source": [
    "## Frozen Sets"
   ]
  },
  {
   "cell_type": "code",
   "execution_count": 3,
   "id": "410e2966",
   "metadata": {},
   "outputs": [
    {
     "data": {
      "text/plain": [
       "frozenset({'baz'})"
      ]
     },
     "execution_count": 3,
     "metadata": {},
     "output_type": "execute_result"
    }
   ],
   "source": [
    ">>> x = frozenset(['foo', 'bar', 'baz']) # immutable but CAN perform non modifying operations\n",
    ">>> x\n",
    "# frozenset({'foo', 'baz', 'bar'})\n",
    "\n",
    ">>> len(x)\n",
    "# 3\n",
    "\n",
    ">>> x & {'baz', 'qux', 'quux'}\n",
    "# frozenset({'baz'})\n",
    "\n",
    "# Try to .add, .pop, .clear whatever.. it raises an error."
   ]
  },
  {
   "cell_type": "code",
   "execution_count": null,
   "id": "c135ecf4",
   "metadata": {},
   "outputs": [],
   "source": [
    "##### Need to use a set but you need an immutable object?\n",
    "\n",
    ">>> x1 = set(['foo'])\n",
    ">>> x2 = set(['bar'])\n",
    ">>> x3 = set(['baz'])\n",
    ">>> x = {x1, x2, x3}\n",
    "Traceback (most recent call last):\n",
    "  File \"<pyshell#38>\", line 1, in <module>\n",
    "    x = {x1, x2, x3}\n",
    "TypeError: unhashable type: 'set'\n",
    "        \n",
    "        # but...\n",
    "        \n",
    ">>> x1 = frozenset(['foo'])\n",
    ">>> x2 = frozenset(['bar'])\n",
    ">>> x3 = frozenset(['baz'])\n",
    ">>> x = {x1, x2, x3}\n",
    ">>> x\n",
    "# {frozenset({'bar'}), frozenset({'baz'}), frozenset({'foo'})} WORKS"
   ]
  },
  {
   "cell_type": "code",
   "execution_count": null,
   "id": "e12cb25e",
   "metadata": {},
   "outputs": [],
   "source": []
  },
  {
   "cell_type": "code",
   "execution_count": null,
   "id": "28ee2b11",
   "metadata": {},
   "outputs": [],
   "source": []
  },
  {
   "cell_type": "code",
   "execution_count": null,
   "id": "1f152517",
   "metadata": {},
   "outputs": [],
   "source": []
  },
  {
   "cell_type": "code",
   "execution_count": null,
   "id": "7194db91",
   "metadata": {},
   "outputs": [],
   "source": []
  },
  {
   "cell_type": "code",
   "execution_count": null,
   "id": "1505604a",
   "metadata": {},
   "outputs": [],
   "source": []
  },
  {
   "cell_type": "code",
   "execution_count": null,
   "id": "bc5f797a",
   "metadata": {},
   "outputs": [],
   "source": []
  },
  {
   "cell_type": "code",
   "execution_count": null,
   "id": "e152f9e4",
   "metadata": {},
   "outputs": [],
   "source": []
  }
 ],
 "metadata": {
  "kernelspec": {
   "display_name": "Python 3",
   "language": "python",
   "name": "python3"
  },
  "language_info": {
   "codemirror_mode": {
    "name": "ipython",
    "version": 3
   },
   "file_extension": ".py",
   "mimetype": "text/x-python",
   "name": "python",
   "nbconvert_exporter": "python",
   "pygments_lexer": "ipython3",
   "version": "3.8.8"
  }
 },
 "nbformat": 4,
 "nbformat_minor": 5
}
