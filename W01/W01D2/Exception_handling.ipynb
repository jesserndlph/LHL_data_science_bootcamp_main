{
 "cells": [
  {
   "cell_type": "markdown",
   "id": "746a89c4",
   "metadata": {},
   "source": [
    "# Exception handling"
   ]
  },
  {
   "cell_type": "code",
   "execution_count": null,
   "id": "bcadf1a7",
   "metadata": {},
   "outputs": [],
   "source": [
    "try:\n",
    "    a=5\n",
    "    b='0'\n",
    "    print(a/b)\n",
    "except:\n",
    "    print('Some error occurred.')\n",
    "print(\"Out of try except blocks.\")\n",
    "# Some error occurred.\n",
    "# Out of try except blocks."
   ]
  },
  {
   "cell_type": "code",
   "execution_count": null,
   "id": "064f298d",
   "metadata": {},
   "outputs": [],
   "source": [
    "try:\n",
    "    a=5\n",
    "    b='0'\n",
    "    print (a+b)\n",
    "except TypeError:\n",
    "    print('Unsupported operation')\n",
    "print (\"Out of try except blocks\")\n",
    "\n",
    "# Unsupported operation\n",
    "# Out of try except blocks"
   ]
  },
  {
   "cell_type": "code",
   "execution_count": null,
   "id": "6e509912",
   "metadata": {},
   "outputs": [],
   "source": [
    "try:\n",
    "    a=5\n",
    "    b=0\n",
    "    print (a/b)\n",
    "except TypeError:\n",
    "    print('Unsupported operation')\n",
    "except ZeroDivisionError:\n",
    "    print ('Division by zero not allowed')\n",
    "print ('Out of try except blocks')\n",
    "\n",
    "# Division by zero not allowed\n",
    "# Out of try except blocks"
   ]
  },
  {
   "cell_type": "markdown",
   "id": "8853d819",
   "metadata": {},
   "source": [
    "### else and finally"
   ]
  },
  {
   "cell_type": "code",
   "execution_count": null,
   "id": "2519ce23",
   "metadata": {},
   "outputs": [],
   "source": [
    "try:\n",
    "    #statements in try block\n",
    "except:\n",
    "    #executed when error in try block\n",
    "else:\n",
    "    #executed if try block is error-free\n",
    "finally:\n",
    "    #executed irrespective of exception occured or not"
   ]
  },
  {
   "cell_type": "code",
   "execution_count": null,
   "id": "71ca4469",
   "metadata": {},
   "outputs": [],
   "source": [
    "try:\n",
    "    print('try block')\n",
    "    x=int(input('Enter a number: '))\n",
    "    y=int(input('Enter another number: '))\n",
    "    z=x/y\n",
    "except ZeroDivisionError:\n",
    "    print(\"except ZeroDivisionError block\")\n",
    "    print(\"Division by 0 not accepted\")\n",
    "else:\n",
    "    print(\"else block\")\n",
    "    print(\"Division = \", z)\n",
    "finally:\n",
    "    print(\"finally block\")\n",
    "    x=0\n",
    "    y=0\n",
    "print (\"Out of try, except, else and finally blocks.\" )\n",
    "\n",
    "# try block\n",
    "# Enter a number: 10\n",
    "# Enter another number: 2\n",
    "# else block\n",
    "# Division =  5.0\n",
    "# finally block\n",
    "# Out of try, except, else and finally blocks."
   ]
  },
  {
   "cell_type": "markdown",
   "id": "b948ae16",
   "metadata": {},
   "source": [
    "### Raise an exception"
   ]
  },
  {
   "cell_type": "code",
   "execution_count": null,
   "id": "35fb92b9",
   "metadata": {},
   "outputs": [],
   "source": [
    "try:\n",
    "    x=int(input('Enter a number upto 100: '))\n",
    "    if x > 100:\n",
    "        raise ValueError(x)\n",
    "except ValueError:\n",
    "    print(x, \"is out of allowed range\")\n",
    "else:\n",
    "    print(x, \"is within the allowed range\")\n",
    "    \n",
    "#     Enter a number upto 100: 200\n",
    "# 200 is out of allowed range\n",
    "# Enter a number upto 100: 50\n",
    "# 50 is within the allowed range"
   ]
  },
  {
   "cell_type": "code",
   "execution_count": null,
   "id": "fbce0873",
   "metadata": {},
   "outputs": [],
   "source": []
  },
  {
   "cell_type": "code",
   "execution_count": null,
   "id": "028d488e",
   "metadata": {},
   "outputs": [],
   "source": []
  },
  {
   "cell_type": "code",
   "execution_count": null,
   "id": "5e7d83fd",
   "metadata": {},
   "outputs": [],
   "source": []
  },
  {
   "cell_type": "code",
   "execution_count": null,
   "id": "8547958a",
   "metadata": {},
   "outputs": [],
   "source": []
  },
  {
   "cell_type": "code",
   "execution_count": null,
   "id": "100e81f7",
   "metadata": {},
   "outputs": [],
   "source": []
  }
 ],
 "metadata": {
  "kernelspec": {
   "display_name": "Python 3",
   "language": "python",
   "name": "python3"
  },
  "language_info": {
   "codemirror_mode": {
    "name": "ipython",
    "version": 3
   },
   "file_extension": ".py",
   "mimetype": "text/x-python",
   "name": "python",
   "nbconvert_exporter": "python",
   "pygments_lexer": "ipython3",
   "version": "3.8.8"
  }
 },
 "nbformat": 4,
 "nbformat_minor": 5
}
