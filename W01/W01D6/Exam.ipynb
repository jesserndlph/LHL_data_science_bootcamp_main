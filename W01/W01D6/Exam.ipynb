{
 "cells": [
  {
   "cell_type": "code",
   "execution_count": 2,
   "id": "b3d653d7-b39f-48c3-8264-56f5136c21eb",
   "metadata": {},
   "outputs": [],
   "source": [
    "\"\"\"\n",
    "Create a function that determines whether or not it’s possible to split a pie fairly given these three parameters:\n",
    "  - Total number of slices\n",
    "  - Number of recipients\n",
    "  - How many slices each person gets \n",
    "\n",
    "Form of the function:\n",
    "    equal_slices(total_ slices, no_recipients, slices_each)\n",
    "\n",
    "Examples:\n",
    "    equal_slices(11, 5, 2) ➞ True\n",
    "    5 people x 2 slices each = 10 slices < 11 slices \n",
    "\n",
    "    equal_slices(11, 5, 3) ➞ False\n",
    "    5 people x 3 slices each = 15 slices > 11 slices\n",
    "\n",
    "\n",
    "    equal_slices(8, 3, 2) ➞ True\n",
    "\n",
    "    equal_slices(8, 3, 3) ➞ False\n",
    "\n",
    "    equal_slices(24, 12, 2) ➞ True\n",
    "\n",
    "Notes:\n",
    " - Return True if there are zero people.\n",
    " - It's fine not to use the entire pie.\n",
    " - All parameters are integers\n",
    "\"\"\"\n",
    "\n",
    "\n",
    "def equal_slices(total_slices, no_recipients, slices_each):\n",
    "    return total_slices >= no_recipients * slices_each"
   ]
  },
  {
   "cell_type": "code",
   "execution_count": 3,
   "id": "9758cc1a-cf3f-4828-bbad-e1c029a257df",
   "metadata": {},
   "outputs": [
    {
     "data": {
      "text/plain": [
       "True"
      ]
     },
     "execution_count": 3,
     "metadata": {},
     "output_type": "execute_result"
    }
   ],
   "source": [
    "equal_slices(24, 12, 2)"
   ]
  },
  {
   "cell_type": "code",
   "execution_count": 20,
   "id": "b94d6d93-6205-4a53-81c7-486f69204f40",
   "metadata": {},
   "outputs": [],
   "source": [
    "\"\"\"\n",
    "Adjust the function 'equal_slices' from question_00 to return number of pieces left as well.\n",
    "\n",
    "Examples:\n",
    "    equal_slices(11, 5, 2) ➞ (True, 1)\n",
    "    # 5 people x 2 slices each = 10 slices < 11 slices \n",
    "\n",
    "    equal_slices(11, 5, 3) ➞ (False,None)\n",
    "    # 5 people x 3 slices each = 15 slices > 11 slicess\n",
    "\n",
    "    equal_slices(8, 3, 2) ➞ (True, 2)\n",
    "\n",
    "    equal_slices(8, 3, 3) ➞ (False, None)\n",
    "\n",
    "    equal_slices(24, 12, 2) ➞ (True, 0)\n",
    "\n",
    "Notes:\n",
    " - Return (True, total_slices) if there are zero people.\n",
    " - All parameters are integers.\n",
    "\n",
    "\"\"\"\n",
    "def equal_slices(total_slices, no_recipients, slices_each):\n",
    "    if total_slices >= slices_each * no_recipients:\n",
    "        return True, total_slices - (slices_each * no_recipients) \n",
    "    \n",
    "    else:\n",
    "        return False, None\n"
   ]
  },
  {
   "cell_type": "code",
   "execution_count": 16,
   "id": "bdb4088e-e955-4ef8-a4e3-6c1afa1c0ad4",
   "metadata": {},
   "outputs": [
    {
     "data": {
      "text/plain": [
       "(True, 14)"
      ]
     },
     "execution_count": 16,
     "metadata": {},
     "output_type": "execute_result"
    }
   ],
   "source": [
    "equal_slices(24, 12, 2)\n",
    "equal_slices(8, 3, 3)\n",
    "equal_slices(8, 3, 2)"
   ]
  },
  {
   "cell_type": "code",
   "execution_count": 17,
   "id": "d78d7940-22de-4f80-84fb-468ffb139e73",
   "metadata": {},
   "outputs": [
    {
     "data": {
      "text/plain": [
       "(True, 48)"
      ]
     },
     "execution_count": 17,
     "metadata": {},
     "output_type": "execute_result"
    }
   ],
   "source": [
    "equal_slices(24, 12, 2)"
   ]
  },
  {
   "cell_type": "code",
   "execution_count": 21,
   "id": "a452d5bf-5744-4ea9-b5c6-5b003290688b",
   "metadata": {},
   "outputs": [
    {
     "data": {
      "text/plain": [
       "(False, None)"
      ]
     },
     "execution_count": 21,
     "metadata": {},
     "output_type": "execute_result"
    }
   ],
   "source": [
    "equal_slices(8, 3, 3)"
   ]
  },
  {
   "cell_type": "code",
   "execution_count": 22,
   "id": "13c2b034-5b7a-403b-9a10-477a978a70ae",
   "metadata": {},
   "outputs": [
    {
     "data": {
      "text/plain": [
       "(True, 2)"
      ]
     },
     "execution_count": 22,
     "metadata": {},
     "output_type": "execute_result"
    }
   ],
   "source": [
    "equal_slices(8, 3, 2)"
   ]
  },
  {
   "cell_type": "code",
   "execution_count": 27,
   "id": "c96abc40-a892-4635-852a-ea34985fbf51",
   "metadata": {},
   "outputs": [],
   "source": [
    "\"\"\"\n",
    "Given two strings, create a function that returns the total number of unique characters from the combined string.\n",
    "\n",
    "Examples:\n",
    "    count_unique_chars(\"apple\", \"play\") ➞ 5\n",
    "    \"appleplay\" has 5 unique characters:  \"a\", \"e\", \"l\", \"p\", \"y\"\n",
    "\n",
    "    count_unique_chars(\"sore\", \"zebra\") ➞ 7\n",
    "\n",
    "    count_unique_chars(\"a\", \"soup\") ➞ 5\n",
    "\n",
    "Notes:\n",
    " - Careful with empty strings\n",
    " - All characters will be lowercase.\n",
    "\n",
    "\"\"\"\n",
    "\n",
    "def count_unique_chars(string_1, string_2):\n",
    "    unique = string_1 + string_2\n",
    "    set_convert = set(unique)\n",
    "    \n",
    "    return len(set_convert)"
   ]
  },
  {
   "cell_type": "code",
   "execution_count": 28,
   "id": "3a499935-77d0-4602-a611-6305ff79d347",
   "metadata": {},
   "outputs": [
    {
     "data": {
      "text/plain": [
       "5"
      ]
     },
     "execution_count": 28,
     "metadata": {},
     "output_type": "execute_result"
    }
   ],
   "source": [
    "count_unique_chars(\"apple\", \"play\")"
   ]
  },
  {
   "cell_type": "code",
   "execution_count": 29,
   "id": "87bd4c42-2f32-4358-ac47-4f2ef3410764",
   "metadata": {},
   "outputs": [],
   "source": [
    "\"\"\"\n",
    "Create a function that takes a string of lowercase characters and returns that string reversed and in upper case.\n",
    "\n",
    "Examples:\n",
    "    reverse_capitalize(\"abc\") ➞ \"CBA\"\n",
    "\n",
    "    reverse_capitalize(\"hellothere\") ➞ \"EREHTOLLEH\"\n",
    "\n",
    "    reverse_capitalize(\"input\") ➞ \"TUPNI\"\n",
    "\"\"\"\n",
    "\n",
    "def reverse_capitalize(string):\n",
    "    txt = string[::-1]\n",
    "    return txt.upper()"
   ]
  },
  {
   "cell_type": "code",
   "execution_count": 30,
   "id": "22d3467e-7d03-4978-945c-97b5780209bd",
   "metadata": {
    "tags": []
   },
   "outputs": [
    {
     "data": {
      "text/plain": [
       "'CBA'"
      ]
     },
     "execution_count": 30,
     "metadata": {},
     "output_type": "execute_result"
    }
   ],
   "source": [
    " reverse_capitalize(\"abc\")"
   ]
  },
  {
   "cell_type": "code",
   "execution_count": null,
   "id": "6623f399-eae0-4e72-b542-dfbe0bfff8a3",
   "metadata": {},
   "outputs": [],
   "source": [
    "def is_divisible_by_3(number):\n",
    "    if sum(map(int, str(number))) % 3 != 0:\n",
    "        my_bool = False\n",
    "    return my_bool"
   ]
  },
  {
   "cell_type": "code",
   "execution_count": 38,
   "id": "f4bdc256-49a2-4547-8cd8-0bc2c28108fa",
   "metadata": {},
   "outputs": [],
   "source": [
    "\"\"\"\n",
    "Create a function that takes an integer and returns True if it's divisible by 100, otherwise return False.\n",
    "\n",
    "Examples:\n",
    "    divisible(1) ➞ False\n",
    "\n",
    "    divisible(1000) ➞ True\n",
    "\n",
    "    divisible(100) ➞ True\n",
    "\n",
    "\"\"\"\n",
    "def divisible(integer):\n",
    "    if integer % 100 != 0:\n",
    "        return False\n",
    "    else:\n",
    "        return True"
   ]
  },
  {
   "cell_type": "code",
   "execution_count": 40,
   "id": "2e16e1b4-2227-48af-ba0b-634e67e1f3d5",
   "metadata": {},
   "outputs": [
    {
     "data": {
      "text/plain": [
       "False"
      ]
     },
     "execution_count": 40,
     "metadata": {},
     "output_type": "execute_result"
    }
   ],
   "source": [
    " divisible(1)"
   ]
  },
  {
   "cell_type": "code",
   "execution_count": null,
   "id": "3e514379-cea2-48e7-af00-76ae70534248",
   "metadata": {},
   "outputs": [],
   "source": []
  }
 ],
 "metadata": {
  "kernelspec": {
   "display_name": "Python 3 (ipykernel)",
   "language": "python",
   "name": "python3"
  },
  "language_info": {
   "codemirror_mode": {
    "name": "ipython",
    "version": 3
   },
   "file_extension": ".py",
   "mimetype": "text/x-python",
   "name": "python",
   "nbconvert_exporter": "python",
   "pygments_lexer": "ipython3",
   "version": "3.8.11"
  }
 },
 "nbformat": 4,
 "nbformat_minor": 5
}
