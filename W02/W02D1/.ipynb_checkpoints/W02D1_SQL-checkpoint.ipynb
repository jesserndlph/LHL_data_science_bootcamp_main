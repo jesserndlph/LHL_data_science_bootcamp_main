{
 "cells": [
  {
   "cell_type": "code",
   "execution_count": 1,
   "metadata": {},
   "outputs": [],
   "source": [
    "import psycopg2"
   ]
  },
  {
   "cell_type": "code",
   "execution_count": null,
   "metadata": {},
   "outputs": [],
   "source": []
  },
  {
   "cell_type": "markdown",
   "metadata": {
    "slideshow": {
     "slide_type": "slide"
    }
   },
   "source": [
    "## Lighthouse Labs\n",
    "### W02D1 SQL\n",
    "\n",
    "Instructor: Socorro Dominguez  \n",
    "September 20, 2021"
   ]
  },
  {
   "cell_type": "markdown",
   "metadata": {
    "slideshow": {
     "slide_type": "slide"
    }
   },
   "source": [
    "## Agenda\n",
    "1. Context and Landscape (40 mins)\n",
    "2. Break (10 mins)\n",
    "3. Writing SELECT statements (60 mins)\n",
    "    * Filtering, ordering, limiting, etc.\n",
    "    * Joining tables\n",
    "    * Grouping records\n",
    "    * Aggregate functions\n",
    "4. Exercise"
   ]
  },
  {
   "cell_type": "markdown",
   "metadata": {
    "slideshow": {
     "slide_type": "slide"
    }
   },
   "source": [
    "[Directory Link](https://downgit.github.io/#/home?url=https://github.com/sedv8808/LighthouseLabs/tree/main/W02D1)"
   ]
  },
  {
   "cell_type": "markdown",
   "metadata": {
    "slideshow": {
     "slide_type": "slide"
    }
   },
   "source": [
    "## Why databases?\n",
    "\n",
    "* Organized way to store data and relate data to each other.\n",
    "* Enforces strict structure and relationships (forces you to keep data clean)\n",
    "    - Makes it easier to train Machine Learning algorithms\n",
    "* Enables data governance (e.g., availability, usability, integrity and security of data)\n",
    "* Efficient retrieval of structured data\n",
    "* Can store lots of data\n",
    "\n",
    "_\"A company cannot be managed with Excel spreadsheets\"_"
   ]
  },
  {
   "cell_type": "markdown",
   "metadata": {
    "slideshow": {
     "slide_type": "slide"
    }
   },
   "source": [
    "## Why SQL?\n",
    "\n",
    "* A lot of data is still stored in SQL databases\n",
    "* Structured Query Language (SQL) still the most proficient tool to investigate, filter, slice and dice your data\n",
    "\n",
    "## NoSQL databases\n",
    "* There exists NoSQL databases (e.g., MongoDB, neo4j)\n",
    "* Want to learn more? https://www.mongodb.com/nosql-explained\n",
    "https://neo4j.com/"
   ]
  },
  {
   "cell_type": "markdown",
   "metadata": {
    "slideshow": {
     "slide_type": "slide"
    }
   },
   "source": [
    "### Why are we learning SQL?\n",
    "\n",
    "- Public dataset format has less common use-case.\n",
    "- Internal database querying\n",
    "    - May contain information you don’t want\n",
    "    - May want to train your model on combinations/aggregations of fields from various tables\n",
    "- Data exploration through simple operations on different groups/subsets\n",
    "- Better understand transformations on data\n",
    "- Mentioned in almost every data science job posting\n",
    "    - Data science jobs ask for a ton of skills, good to have exposure to all for interview purposes, even if they won’t all realistically be necessary"
   ]
  },
  {
   "cell_type": "markdown",
   "metadata": {
    "slideshow": {
     "slide_type": "slide"
    }
   },
   "source": [
    "### Challenges when writing SQL\n",
    "\n",
    "- Declarative (SQL) vs. imperative/algorithmic (Python). Basically, no control flow\n",
    "- Long, nested queries with many variable names\n",
    "    - Vs. imperative programming where most readable programs break logic up into multiple steps\n",
    "- Many things happening concurrently in a single statement, order not explicit\n",
    "    - Vs. imperative programming where code executes line-by-line\n",
    "- Debugging is more difficult due to the above\n",
    "    - Can help to break a complex query down into steps and test those out first. Incremental approach to writing the query\n",
    "    \n",
    "    \n",
    "To review the fundamentals: https://www.w3schools.com/sql/"
   ]
  },
  {
   "cell_type": "markdown",
   "metadata": {
    "slideshow": {
     "slide_type": "slide"
    }
   },
   "source": [
    "### Database schemas\n",
    "\n",
    "- How do the different tables relate to each other?\n",
    "- Arguably most difficult part of relational databases is designing the schema\n",
    "    - \"Less of a concern for data scientists — not our job!\"\n",
    "- For our purposes, useful to understand table structure of a database to know how to write our queries (e.g. what tables to join)\n",
    "- Common design principles\n",
    "    - Star schema\n",
    "    - Snowflake shema\n"
   ]
  },
  {
   "cell_type": "markdown",
   "metadata": {
    "slideshow": {
     "slide_type": "skip"
    }
   },
   "source": [
    "**Resources:**\n",
    "* https://www.guru99.com/star-snowflake-data-warehousing.html\n",
    "* https://en.wikipedia.org/wiki/Snowflake_schema\n",
    "* https://en.wikipedia.org/wiki/Star_schema"
   ]
  },
  {
   "cell_type": "markdown",
   "metadata": {
    "slideshow": {
     "slide_type": "slide"
    }
   },
   "source": [
    "### Star Schema\n",
    "\n",
    "<img src=\"star-schema.png\" width=300>\n",
    "\n",
    "* Every dimension represented by only one dimension table\n",
    "* Dimension table contains set of attributes\n",
    "* Dimension tables are joined to the fact table using a foreign key\n",
    "* Dimension tables **are not** joined to each other\n",
    "* Fact table contains key and measure"
   ]
  },
  {
   "cell_type": "markdown",
   "metadata": {
    "slideshow": {
     "slide_type": "slide"
    }
   },
   "source": [
    "### Snowflake Schema\n",
    "\n",
    "<img src=\"snowflake-schema.png\" width=700>\n",
    "\n",
    "* Extension of the star schema by adding extra dimensions\n",
    "* Dimension tables are created to protect the data and to make the database more flexible,eliminating redundancy and inconsistent dependency."
   ]
  },
  {
   "cell_type": "markdown",
   "metadata": {
    "slideshow": {
     "slide_type": "slide"
    }
   },
   "source": [
    "## Schema comparison\n",
    "\n",
    "**Star schema:**\n",
    "* Easy to understand\n",
    "* Dimension tables are not normalized - country ID does not have country lookup table\n",
    "* Widely supported by BI tools\n",
    "\n",
    "**Snowflake schema:**\n",
    "* Easy to implement and \"grow\"\n",
    "* Lower query performance with multiple tables\n",
    "* More difficult to maintain with more lookup tables\n"
   ]
  },
  {
   "cell_type": "markdown",
   "metadata": {
    "slideshow": {
     "slide_type": "slide"
    }
   },
   "source": [
    "## RDBMS Landscape\n",
    "\n",
    "\n",
    "<img src=\"rdbms.png\" width=400>\n",
    "\n",
    "* Relational Database Management System\n",
    "* Software system that enables users to define, create, maintain and control access to the database\n",
    "* Many, many, many vendors"
   ]
  },
  {
   "cell_type": "markdown",
   "metadata": {
    "slideshow": {
     "slide_type": "slide"
    }
   },
   "source": [
    "### RDBMS Vendors\n",
    "\n",
    "* **Closed source** (i.e., you have to pay)\n",
    "    * Vendors: Oracle, SQL Server (Microsoft), IBM DB2, Microsoft Access - local small databases\n",
    "    * Could come with integrations and services that make things easier  \n",
    "    \n",
    "<br>\n",
    "\n",
    "* **Open source** (i.e., free)\n",
    "    * MySQL, PostgreSQL, SQLite, MariaDB\n",
    "    * Good developer community makes these great options\n",
    "    * [This website](https://www.digitalocean.com/community/tutorials/sqlite-vs-mysql-vs-postgresql-a-comparison-of-relational-database-management-systems#:~:text=SQLite%20is%20a%20self%2Dcontained,even%20in%20low%2Dmemory%20environments.) offers a good comparison of open source systems options."
   ]
  },
  {
   "cell_type": "markdown",
   "metadata": {
    "slideshow": {
     "slide_type": "slide"
    }
   },
   "source": [
    "## Why SQLite?\n",
    "\n",
    "* Not directly comparable to client/server SQL database engines such as MySQL, Oracle, PostgreSQL, or SQL Server\n",
    "* Used as on-disk file format for desktop applications\n",
    "* Great to learn on to get a hang of SQL\n",
    "\n",
    "For more information: https://www.sqlite.org/whentouse.html"
   ]
  },
  {
   "cell_type": "markdown",
   "metadata": {
    "slideshow": {
     "slide_type": "slide"
    }
   },
   "source": [
    "## Why PostGres? \n",
    "\n",
    "* Created by scientists from the University of California at Berkeley\n",
    "* Open source nature makes it easy to upgrade or extend\n",
    "* High compliance to the SQL standard\n",
    "* Offers its users a huge (and growing) number of functions allowing programmers to create new applications, better protect data integrity, and developers build resilient and secure environments\n",
    "* Can easily run it on Windows, Mac OS X, and almost all Linux and Unix distributions\n",
    "* MySQL would be a good choice too\n",
    "* We use will use `psql`\n"
   ]
  },
  {
   "cell_type": "markdown",
   "metadata": {
    "slideshow": {
     "slide_type": "slide"
    }
   },
   "source": [
    "# Break (Or make sure you install Postgres)"
   ]
  },
  {
   "cell_type": "markdown",
   "metadata": {
    "slideshow": {
     "slide_type": "slide"
    }
   },
   "source": [
    "## Exercise"
   ]
  },
  {
   "cell_type": "markdown",
   "metadata": {
    "slideshow": {
     "slide_type": "fragment"
    }
   },
   "source": [
    "### Things we will be doing:\n",
    "- Creating a PostgreSQL database using the psql shell tool.\n",
    "- Importing existing data to fill the database (the drinks.sql file in this repository)\n",
    "- Using the psycopg2 Python package to interact with the database (we could have alternatively used a dedicated SQL IDE like SQL Workbench, PgAdmin)\n",
    "- Quering the database to explore SQL concepts such as:\n",
    "    - Filtering, ordering, limiting, etc.\n",
    "    - Joining tables\n",
    "    - Grouping records\n",
    "    - Aggregate functions\n"
   ]
  },
  {
   "cell_type": "markdown",
   "metadata": {
    "slideshow": {
     "slide_type": "slide"
    }
   },
   "source": [
    "## Make sure you've installed Postgres...\n",
    "\n",
    "1. Install PostGreSQL: https://www.postgresqltutorial.com/install-postgresql/\n",
    "* From your terminal: `conda install psycopg2`, `pip install psycopg2-binary`\n",
    "* Open a jupyter notebook and run `import psycopg2`to make sure it works \n"
   ]
  },
  {
   "cell_type": "markdown",
   "metadata": {
    "slideshow": {
     "slide_type": "slide"
    }
   },
   "source": [
    "#### Creating the database using psql\n",
    "1. Start up your terminal.\n",
    "2. Start the psql shell tool. \\ psql\n",
    "3. List the PostgreSQL databases that exist on your computer (press \"q\" when you want to exit the list view).  \n",
    "`\\l`\n",
    "4. Create a new empty database called \"drinks\".   \n",
    "`CREATE DATABASE drinks;`\n",
    "5. Confirm that the \"drinks\" database was created (press \"q\" when you want to exit the list view).   \n",
    "`\\l`"
   ]
  },
  {
   "cell_type": "markdown",
   "metadata": {
    "slideshow": {
     "slide_type": "slide"
    }
   },
   "source": [
    "To write to a database:\n",
    "\n",
    "(You will need the `drinks.sql` file in the same directory as this notebook)"
   ]
  },
  {
   "cell_type": "code",
   "execution_count": null,
   "metadata": {},
   "outputs": [],
   "source": []
  },
  {
   "cell_type": "code",
   "execution_count": 2,
   "metadata": {
    "slideshow": {
     "slide_type": "slide"
    }
   },
   "outputs": [
    {
     "name": "stdout",
     "output_type": "stream",
     "text": [
      "<cursor object at 0x7fd6512fc9a0; closed: 0>\n"
     ]
    }
   ],
   "source": [
    "import psycopg2\n",
    "import config as cfg\n",
    "import pandas as pd\n",
    "\n",
    "postgres_pwd = cfg.postgres['password'] # This is the password you entered when you set up PGSQL\n",
    "\n",
    "con = psycopg2.connect(database='drinks', user='postgres', password=postgres_pwd,\n",
    "                       host='127.0.0.1', port='5432')  # This should work if you left everything as default\n",
    "\n",
    "cur = con.cursor()\n",
    "print(cur)\n",
    "\n",
    "#cur.execute(open('drinks.sql', 'r').read())  # Uncomment this the first time you run the db"
   ]
  },
  {
   "cell_type": "markdown",
   "metadata": {
    "slideshow": {
     "slide_type": "slide"
    }
   },
   "source": [
    "## Demo & Tutorial\n",
    "* Show you how to query data from a database\n",
    "* Statements that start with `SELECT`"
   ]
  },
  {
   "cell_type": "markdown",
   "metadata": {
    "slideshow": {
     "slide_type": "slide"
    }
   },
   "source": [
    "## Intro to the sample database we're using - Drinks\n",
    "\n",
    "Database schema:\n",
    "\n",
    "* has_on_menu(<em><ins>bar</ins></em>: string,   <em><ins>drink_id</ins></em>: string, <em><ins>price</ins></em>: real)\n",
    "\n",
    "\n",
    "* orders(<em><ins>person</ins></em>: string, <em><ins>date</ins></em>: string, bar :string , <em><ins>drink_id</ins></em>: string, quantity: integer)\n",
    "\n",
    "\n",
    "* drink_info(<em><ins>drink_id</ins></em>: string, <em><ins>type</ins></em>: string)\n",
    "\n",
    "The `drink_info` relation specifies for each `drink_id` what type of drink it is, e.g., beer, wine, etc."
   ]
  },
  {
   "cell_type": "markdown",
   "metadata": {
    "slideshow": {
     "slide_type": "slide"
    }
   },
   "source": [
    "## Setting up the connection to our database via Python"
   ]
  },
  {
   "cell_type": "markdown",
   "metadata": {
    "slideshow": {
     "slide_type": "slide"
    }
   },
   "source": [
    "## Executing our first query\n",
    "\n",
    "Get the first 5 rows from orders"
   ]
  },
  {
   "cell_type": "code",
   "execution_count": 3,
   "metadata": {
    "slideshow": {
     "slide_type": "slide"
    }
   },
   "outputs": [
    {
     "ename": "UndefinedTable",
     "evalue": "relation \"orders\" does not exist\nLINE 3: FROM orders\n             ^\n",
     "output_type": "error",
     "traceback": [
      "\u001b[0;31m---------------------------------------------------------------------------\u001b[0m",
      "\u001b[0;31mUndefinedTable\u001b[0m                            Traceback (most recent call last)",
      "\u001b[0;32m/var/folders/wg/4yj17hrn3q9g_27l8zsxxy5m0000gn/T/ipykernel_84677/4022064859.py\u001b[0m in \u001b[0;36m<module>\u001b[0;34m\u001b[0m\n\u001b[1;32m      1\u001b[0m \u001b[0;31m# execute a simple query\u001b[0m\u001b[0;34m\u001b[0m\u001b[0;34m\u001b[0m\u001b[0m\n\u001b[0;32m----> 2\u001b[0;31m cur.execute(\n\u001b[0m\u001b[1;32m      3\u001b[0m \"\"\"\n\u001b[1;32m      4\u001b[0m \u001b[0mSELECT\u001b[0m \u001b[0;34m*\u001b[0m\u001b[0;34m\u001b[0m\u001b[0;34m\u001b[0m\u001b[0m\n\u001b[1;32m      5\u001b[0m \u001b[0mFROM\u001b[0m \u001b[0morders\u001b[0m\u001b[0;34m\u001b[0m\u001b[0;34m\u001b[0m\u001b[0m\n",
      "\u001b[0;31mUndefinedTable\u001b[0m: relation \"orders\" does not exist\nLINE 3: FROM orders\n             ^\n"
     ]
    }
   ],
   "source": [
    "# execute a simple query\n",
    "cur.execute(\n",
    "\"\"\"\n",
    "SELECT *\n",
    "FROM orders\n",
    "LIMIT 5;\n",
    "\"\"\")\n",
    "\n",
    "response = cur.fetchall()\n",
    "\n",
    "#for row in response:\n",
    "#    print(row)\n",
    "response"
   ]
  },
  {
   "cell_type": "code",
   "execution_count": null,
   "metadata": {
    "slideshow": {
     "slide_type": "slide"
    }
   },
   "outputs": [],
   "source": [
    "# raw response\n",
    "response"
   ]
  },
  {
   "cell_type": "markdown",
   "metadata": {
    "slideshow": {
     "slide_type": "fragment"
    }
   },
   "source": [
    "* orders(<em><ins>person</ins></em>: string, <em><ins>date</ins></em>: string,  <em><ins>bar</ins></em>: string, <em><ins>drink_id</ins></em>: string, quantity: integer)\n"
   ]
  },
  {
   "cell_type": "markdown",
   "metadata": {
    "slideshow": {
     "slide_type": "slide"
    }
   },
   "source": [
    "An easier way to see the data..."
   ]
  },
  {
   "cell_type": "code",
   "execution_count": null,
   "metadata": {
    "scrolled": true,
    "slideshow": {
     "slide_type": "fragment"
    }
   },
   "outputs": [],
   "source": [
    "pd.DataFrame(response, columns = ['person', 'date', 'bar', 'drink_id', 'qty']) #You will learn this tomorrow"
   ]
  },
  {
   "cell_type": "code",
   "execution_count": null,
   "metadata": {},
   "outputs": [],
   "source": [
    "# Before doing anything else, let's create a function out\n",
    "# of the things we're doing above\n",
    "def execute_query(query_string, return_pandas=True):\n",
    "    if return_pandas:\n",
    "        response = pd.read_sql_query(query_string, con)\n",
    "    else:\n",
    "        cur.execute(query_string)\n",
    "        response = cur.fetchall()\n",
    "    return response\n",
    "\n",
    "\n",
    "# Let's try out our function to make sure it does\n",
    "# the same as what we have above\n",
    "query = \"\"\"\n",
    "SELECT *\n",
    "FROM orders\n",
    "LIMIT 5;\n",
    "\"\"\"\n",
    "execute_query(query)"
   ]
  },
  {
   "cell_type": "markdown",
   "metadata": {
    "slideshow": {
     "slide_type": "slide"
    }
   },
   "source": [
    "## Quick recap for SQL\n",
    "\n",
    "The basic format is\n",
    "<img src='select-statement.png' width=200>\n",
    "\n",
    "What would the following tell us with our database?\n",
    "```\n",
    "SELECT *\n",
    "FROM orders\n",
    "WHERE bar='bar 9'\n",
    "```\n",
    "\n",
    "---\n",
    "Reminder - our schemas:\n",
    "\n",
    "<img src='our-db.png' width=400 align='left'>"
   ]
  },
  {
   "cell_type": "code",
   "execution_count": null,
   "metadata": {
    "slideshow": {
     "slide_type": "slide"
    }
   },
   "outputs": [],
   "source": [
    "query2 = \"\"\"\n",
    "SELECT *\n",
    "FROM orders\n",
    "WHERE bar = 'bar 9';\n",
    "\"\"\"\n",
    "\n",
    "execute_query(query2)"
   ]
  },
  {
   "cell_type": "code",
   "execution_count": null,
   "metadata": {},
   "outputs": [],
   "source": [
    "data = execute_query(query2)"
   ]
  },
  {
   "cell_type": "code",
   "execution_count": null,
   "metadata": {},
   "outputs": [],
   "source": [
    "type(data)"
   ]
  },
  {
   "cell_type": "code",
   "execution_count": null,
   "metadata": {},
   "outputs": [],
   "source": [
    "data[data['bar'] == 'bar 9']"
   ]
  },
  {
   "cell_type": "markdown",
   "metadata": {
    "slideshow": {
     "slide_type": "slide"
    }
   },
   "source": [
    "## Other commands\n",
    "\n",
    "Use a cheat sheet!\n",
    "<img src='sql-cheat-sheet.png' width=700>"
   ]
  },
  {
   "cell_type": "markdown",
   "metadata": {
    "slideshow": {
     "slide_type": "slide"
    }
   },
   "source": [
    "## Joins\n",
    "\n",
    "- `(INNER) JOIN`: Returns records that have matching values in both tables\n",
    "- `LEFT (OUTER) JOIN`: Returns all records from the left table, and the matched records from the right table\n",
    "- `RIGHT (OUTER) JOIN`: Returns all records from the right table, and the matched records from the left table\n",
    "- `FULL (OUTER) JOIN`: Returns all records when there is a match in either left or right table\n",
    "\n",
    "<img src='joins.png'>"
   ]
  },
  {
   "cell_type": "markdown",
   "metadata": {
    "slideshow": {
     "slide_type": "slide"
    }
   },
   "source": [
    "### Aggregate Functions\n",
    "\n",
    "- SQL is excellent at aggregating data the way you might in a pivot table in Excel. \n",
    "- You will use aggregate functions all the time, so it's important to get comfortable with them. \n",
    "- You know the functions1 They are the same ones you will find in Excel or any other analytics program. \n",
    "- The most important functions are:\n",
    "\n",
    "    - `COUNT` counts how many rows are in a particular column.\n",
    "    - `SUM` adds together all the values in a particular column.\n",
    "    - `MIN` and MAX return the lowest and highest values in a particular column, respectively.\n",
    "    - `AVG` calculates the average of a group of selected values."
   ]
  },
  {
   "cell_type": "markdown",
   "metadata": {
    "slideshow": {
     "slide_type": "slide"
    }
   },
   "source": [
    "## Exercise in Groups\n",
    "\n",
    "### Remember collaboration is key."
   ]
  },
  {
   "cell_type": "markdown",
   "metadata": {
    "slideshow": {
     "slide_type": "slide"
    }
   },
   "source": [
    "## Let's work through some problems\n",
    "\n",
    "### Question 1:\n",
    "Get the bar name and average price of each bar\n",
    "\n",
    "What do you think? What table do we need? What calculation do we need?\n",
    "\n",
    "---\n",
    "Reminder - our database:\n",
    "\n",
    "<img src='our-db.png' width=400 align='left'>"
   ]
  },
  {
   "cell_type": "markdown",
   "metadata": {
    "slideshow": {
     "slide_type": "slide"
    }
   },
   "source": [
    "Get the bar name and average price of drinks at each bar.\n",
    "<table style=\"border: 5px; width: 100%\">\n",
    " <tr>\n",
    "    <td><b style=\"font-size:30px\">has_on_menu</b></td>\n",
    "    <td><b style=\"font-size:30px\">orders</b></td>\n",
    "    <td><b style=\"font-size:30px\">drink_info</b></td>\n",
    " </tr>\n",
    " <tr>\n",
    "    <td style=\"font-size:20px\"><b>drink_id</b>: string</td>\n",
    "    <td style=\"font-size:20px\"><b>drink_id</b>: string</td>\n",
    "    <td style=\"font-size:20px\"><b>drink_id</b>: string</td>\n",
    " </tr>\n",
    " <tr>\n",
    "    <td style=\"font-size:20px\"><b>bar</b>: string</td>\n",
    "    <td style=\"font-size:20px\"><b>bar</b>: string</td>\n",
    "    <td style=\"font-size:20px\"><b>type</b>: string</td>\n",
    " </tr>\n",
    " <tr>\n",
    "    <td style=\"font-size:20px\"><b>price</b>: real</td>\n",
    "    <td style=\"font-size:20px\"><b>person</b>: string</td>\n",
    "    <td style=\"font-size:20px\"></td>\n",
    " </tr>\n",
    " <tr>\n",
    "    <td style=\"font-size:20px\"></td>\n",
    "    <td style=\"font-size:20px\"><b>date</b>: string</td>\n",
    "    <td style=\"font-size:20px\"></td>\n",
    " </tr>\n",
    " <tr>\n",
    "    <td style=\"font-size:20px\"></td>\n",
    "    <td style=\"font-size:20px\"><b>quantity</b>: integer</td>\n",
    "    <td style=\"font-size:20px\"></td>\n",
    " </tr>\n",
    "</table>"
   ]
  },
  {
   "cell_type": "code",
   "execution_count": null,
   "metadata": {},
   "outputs": [],
   "source": [
    "'''\n",
    "query= \"\"\"\n",
    "SELECT * from .....\n",
    "\"\"\"\n",
    "\n",
    "execute_query(query)\n",
    "'''"
   ]
  },
  {
   "cell_type": "markdown",
   "metadata": {
    "slideshow": {
     "slide_type": "slide"
    }
   },
   "source": [
    "### Question 2:\n",
    "Get the bars with the top 5 average prices.\n",
    "\n",
    "What do you think? How can we adapt the code we did before?\n",
    "\n",
    "---\n",
    "Reminder - our database:\n",
    "\n",
    "<img src='our-db.png' width=400 align='left'>"
   ]
  },
  {
   "cell_type": "markdown",
   "metadata": {},
   "source": [
    "Get the bar name and average price of drinks at each bar.\n",
    "<table style=\"border: 5px; width: 100%\">\n",
    " <tr>\n",
    "    <td><b style=\"font-size:30px\">has_on_menu</b></td>\n",
    "    <td><b style=\"font-size:30px\">orders</b></td>\n",
    "    <td><b style=\"font-size:30px\">drink_info</b></td>\n",
    " </tr>\n",
    " <tr>\n",
    "    <td style=\"font-size:20px\"><b>drink_id</b>: string</td>\n",
    "    <td style=\"font-size:20px\"><b>drink_id</b>: string</td>\n",
    "    <td style=\"font-size:20px\"><b>drink_id</b>: string</td>\n",
    " </tr>\n",
    " <tr>\n",
    "    <td style=\"font-size:20px\"><b>bar</b>: string</td>\n",
    "    <td style=\"font-size:20px\"><b>bar</b>: string</td>\n",
    "    <td style=\"font-size:20px\"><b>type</b>: string</td>\n",
    " </tr>\n",
    " <tr>\n",
    "    <td style=\"font-size:20px\"><b>price</b>: real</td>\n",
    "    <td style=\"font-size:20px\"><b>person</b>: string</td>\n",
    "    <td style=\"font-size:20px\"></td>\n",
    " </tr>\n",
    " <tr>\n",
    "    <td style=\"font-size:20px\"></td>\n",
    "    <td style=\"font-size:20px\"><b>date</b>: string</td>\n",
    "    <td style=\"font-size:20px\"></td>\n",
    " </tr>\n",
    " <tr>\n",
    "    <td style=\"font-size:20px\"></td>\n",
    "    <td style=\"font-size:20px\"><b>quantity</b>: integer</td>\n",
    "    <td style=\"font-size:20px\"></td>\n",
    " </tr>\n",
    "</table>"
   ]
  },
  {
   "cell_type": "code",
   "execution_count": null,
   "metadata": {
    "scrolled": true,
    "slideshow": {
     "slide_type": "subslide"
    }
   },
   "outputs": [],
   "source": [
    "'''\n",
    "query= \"\"\"\n",
    "\"\"\"\n",
    "\n",
    "execute_query(query)\n",
    "'''"
   ]
  },
  {
   "cell_type": "markdown",
   "metadata": {
    "slideshow": {
     "slide_type": "slide"
    }
   },
   "source": [
    "### Question 3:\n",
    "Which bar sells the cheapest drink? Which drink and what's the price?\n",
    "\n",
    "---\n",
    "Reminder - our database:\n",
    "\n",
    "<img src='our-db.png' width=400 align='left'>"
   ]
  },
  {
   "cell_type": "markdown",
   "metadata": {},
   "source": [
    "Get the bar name and average price of drinks at each bar.\n",
    "<table style=\"border: 5px; width: 100%\">\n",
    " <tr>\n",
    "    <td><b style=\"font-size:30px\">has_on_menu</b></td>\n",
    "    <td><b style=\"font-size:30px\">orders</b></td>\n",
    "    <td><b style=\"font-size:30px\">drink_info</b></td>\n",
    " </tr>\n",
    " <tr>\n",
    "    <td style=\"font-size:20px\"><b>drink_id</b>: string</td>\n",
    "    <td style=\"font-size:20px\"><b>drink_id</b>: string</td>\n",
    "    <td style=\"font-size:20px\"><b>drink_id</b>: string</td>\n",
    " </tr>\n",
    " <tr>\n",
    "    <td style=\"font-size:20px\"><b>bar</b>: string</td>\n",
    "    <td style=\"font-size:20px\"><b>bar</b>: string</td>\n",
    "    <td style=\"font-size:20px\"><b>type</b>: string</td>\n",
    " </tr>\n",
    " <tr>\n",
    "    <td style=\"font-size:20px\"><b>price</b>: real</td>\n",
    "    <td style=\"font-size:20px\"><b>person</b>: string</td>\n",
    "    <td style=\"font-size:20px\"></td>\n",
    " </tr>\n",
    " <tr>\n",
    "    <td style=\"font-size:20px\"></td>\n",
    "    <td style=\"font-size:20px\"><b>date</b>: string</td>\n",
    "    <td style=\"font-size:20px\"></td>\n",
    " </tr>\n",
    " <tr>\n",
    "    <td style=\"font-size:20px\"></td>\n",
    "    <td style=\"font-size:20px\"><b>quantity</b>: integer</td>\n",
    "    <td style=\"font-size:20px\"></td>\n",
    " </tr>\n",
    "</table>"
   ]
  },
  {
   "cell_type": "code",
   "execution_count": null,
   "metadata": {
    "slideshow": {
     "slide_type": "subslide"
    }
   },
   "outputs": [],
   "source": [
    "'''\n",
    "query= \"\"\"\n",
    "\"\"\"\n",
    "\n",
    "execute_query(query)\n",
    "'''"
   ]
  },
  {
   "cell_type": "markdown",
   "metadata": {
    "slideshow": {
     "slide_type": "slide"
    }
   },
   "source": [
    "### Question 4:\n",
    "What is the number of beers sold by each bar?\n",
    "\n",
    "(If you interpret it to be \"sold\" as in available for sale, then you need `has_on_menu`; if you interpret \"sold\" as in a sale was made, then you need `orders`)\n",
    "\n",
    "Hint: you need two tables here\n",
    "\n",
    "---\n",
    "Reminder - our database:\n",
    "\n",
    "<img src='our-db.png' width=400 align='left'>"
   ]
  },
  {
   "cell_type": "markdown",
   "metadata": {},
   "source": [
    "Get the bar name and average price of drinks at each bar.\n",
    "<table style=\"border: 5px; width: 100%\">\n",
    " <tr>\n",
    "    <td><b style=\"font-size:30px\">has_on_menu</b></td>\n",
    "    <td><b style=\"font-size:30px\">orders</b></td>\n",
    "    <td><b style=\"font-size:30px\">drink_info</b></td>\n",
    " </tr>\n",
    " <tr>\n",
    "    <td style=\"font-size:20px\"><b>drink_id</b>: string</td>\n",
    "    <td style=\"font-size:20px\"><b>drink_id</b>: string</td>\n",
    "    <td style=\"font-size:20px\"><b>drink_id</b>: string</td>\n",
    " </tr>\n",
    " <tr>\n",
    "    <td style=\"font-size:20px\"><b>bar</b>: string</td>\n",
    "    <td style=\"font-size:20px\"><b>bar</b>: string</td>\n",
    "    <td style=\"font-size:20px\"><b>type</b>: string</td>\n",
    " </tr>\n",
    " <tr>\n",
    "    <td style=\"font-size:20px\"><b>price</b>: real</td>\n",
    "    <td style=\"font-size:20px\"><b>person</b>: string</td>\n",
    "    <td style=\"font-size:20px\"></td>\n",
    " </tr>\n",
    " <tr>\n",
    "    <td style=\"font-size:20px\"></td>\n",
    "    <td style=\"font-size:20px\"><b>date</b>: string</td>\n",
    "    <td style=\"font-size:20px\"></td>\n",
    " </tr>\n",
    " <tr>\n",
    "    <td style=\"font-size:20px\"></td>\n",
    "    <td style=\"font-size:20px\"><b>quantity</b>: integer</td>\n",
    "    <td style=\"font-size:20px\"></td>\n",
    " </tr>\n",
    "</table>"
   ]
  },
  {
   "cell_type": "code",
   "execution_count": null,
   "metadata": {},
   "outputs": [],
   "source": [
    "query= \"\"\"\n",
    "select drink_id from has_on_menu\n",
    "WHERE drink_id=\"Beer\"\n",
    "\n",
    "\"\"\"\n",
    "\n",
    "execute_query(query)\n"
   ]
  },
  {
   "cell_type": "markdown",
   "metadata": {
    "slideshow": {
     "slide_type": "slide"
    }
   },
   "source": [
    "### Challenge question\n",
    "\n",
    "For each person, find the bar they visit, and the type(s) and price(s) of the drink(s) they drink during those visits.\n",
    "\n",
    "---\n",
    "Reminder - our database:\n",
    "\n",
    "<img src='our-db.png' width=400 align='left'>"
   ]
  },
  {
   "cell_type": "markdown",
   "metadata": {},
   "source": [
    "Get the bar name and average price of drinks at each bar.\n",
    "<table style=\"border: 5px; width: 100%\">\n",
    " <tr>\n",
    "    <td><b style=\"font-size:30px\">has_on_menu</b></td>\n",
    "    <td><b style=\"font-size:30px\">orders</b></td>\n",
    "    <td><b style=\"font-size:30px\">drink_info</b></td>\n",
    " </tr>\n",
    " <tr>\n",
    "    <td style=\"font-size:20px\"><b>drink_id</b>: string</td>\n",
    "    <td style=\"font-size:20px\"><b>drink_id</b>: string</td>\n",
    "    <td style=\"font-size:20px\"><b>drink_id</b>: string</td>\n",
    " </tr>\n",
    " <tr>\n",
    "    <td style=\"font-size:20px\"><b>bar</b>: string</td>\n",
    "    <td style=\"font-size:20px\"><b>bar</b>: string</td>\n",
    "    <td style=\"font-size:20px\"><b>type</b>: string</td>\n",
    " </tr>\n",
    " <tr>\n",
    "    <td style=\"font-size:20px\"><b>price</b>: real</td>\n",
    "    <td style=\"font-size:20px\"><b>person</b>: string</td>\n",
    "    <td style=\"font-size:20px\"></td>\n",
    " </tr>\n",
    " <tr>\n",
    "    <td style=\"font-size:20px\"></td>\n",
    "    <td style=\"font-size:20px\"><b>date</b>: string</td>\n",
    "    <td style=\"font-size:20px\"></td>\n",
    " </tr>\n",
    " <tr>\n",
    "    <td style=\"font-size:20px\"></td>\n",
    "    <td style=\"font-size:20px\"><b>quantity</b>: integer</td>\n",
    "    <td style=\"font-size:20px\"></td>\n",
    " </tr>\n",
    "</table>"
   ]
  },
  {
   "cell_type": "code",
   "execution_count": null,
   "metadata": {
    "slideshow": {
     "slide_type": "subslide"
    }
   },
   "outputs": [],
   "source": [
    "'''\n",
    "query= \"\"\"\n",
    "\"\"\"\n",
    "\n",
    "execute_query(query)\n",
    "'''"
   ]
  },
  {
   "cell_type": "markdown",
   "metadata": {
    "slideshow": {
     "slide_type": "slide"
    }
   },
   "source": [
    "### Making sure we close off the connection"
   ]
  },
  {
   "cell_type": "code",
   "execution_count": null,
   "metadata": {
    "slideshow": {
     "slide_type": "-"
    }
   },
   "outputs": [],
   "source": [
    "cur.close()"
   ]
  },
  {
   "cell_type": "markdown",
   "metadata": {
    "slideshow": {
     "slide_type": "slide"
    }
   },
   "source": [
    "## Additional resoures\n",
    "\n",
    "* [Mode Tutorial](https://mode.com/sql-tutorial/)"
   ]
  },
  {
   "cell_type": "code",
   "execution_count": null,
   "metadata": {},
   "outputs": [],
   "source": []
  }
 ],
 "metadata": {
  "celltoolbar": "Slideshow",
  "kernelspec": {
   "display_name": "Python 3",
   "language": "python",
   "name": "python3"
  },
  "language_info": {
   "codemirror_mode": {
    "name": "ipython",
    "version": 3
   },
   "file_extension": ".py",
   "mimetype": "text/x-python",
   "name": "python",
   "nbconvert_exporter": "python",
   "pygments_lexer": "ipython3",
   "version": "3.8.8"
  }
 },
 "nbformat": 4,
 "nbformat_minor": 4
}
