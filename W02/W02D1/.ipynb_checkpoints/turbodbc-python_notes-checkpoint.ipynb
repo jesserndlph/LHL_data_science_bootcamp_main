{
 "cells": [
  {
   "cell_type": "code",
   "execution_count": 2,
   "id": "b85b2196",
   "metadata": {},
   "outputs": [
    {
     "ename": "DatabaseError",
     "evalue": "ODBC error\nstate: 01000\nnative error code: 0\nmessage: [unixODBC][Driver Manager]Can't open lib 'PostgreSQL' : file not found",
     "output_type": "error",
     "traceback": [
      "\u001b[0;31m---------------------------------------------------------------------------\u001b[0m",
      "\u001b[0;31mError\u001b[0m                                     Traceback (most recent call last)",
      "\u001b[0;32m~/opt/anaconda3/envs/SQL/lib/python3.9/site-packages/turbodbc/exceptions.py\u001b[0m in \u001b[0;36mwrapper\u001b[0;34m(*args, **kwds)\u001b[0m\n\u001b[1;32m     40\u001b[0m         \u001b[0;32mtry\u001b[0m\u001b[0;34m:\u001b[0m\u001b[0;34m\u001b[0m\u001b[0;34m\u001b[0m\u001b[0m\n\u001b[0;32m---> 41\u001b[0;31m             \u001b[0;32mreturn\u001b[0m \u001b[0mf\u001b[0m\u001b[0;34m(\u001b[0m\u001b[0;34m*\u001b[0m\u001b[0margs\u001b[0m\u001b[0;34m,\u001b[0m \u001b[0;34m**\u001b[0m\u001b[0mkwds\u001b[0m\u001b[0;34m)\u001b[0m\u001b[0;34m\u001b[0m\u001b[0;34m\u001b[0m\u001b[0m\n\u001b[0m\u001b[1;32m     42\u001b[0m         \u001b[0;32mexcept\u001b[0m \u001b[0mInternError\u001b[0m \u001b[0;32mas\u001b[0m \u001b[0me\u001b[0m\u001b[0;34m:\u001b[0m\u001b[0;34m\u001b[0m\u001b[0;34m\u001b[0m\u001b[0m\n",
      "\u001b[0;32m~/opt/anaconda3/envs/SQL/lib/python3.9/site-packages/turbodbc/connect.py\u001b[0m in \u001b[0;36mconnect\u001b[0;34m(dsn, turbodbc_options, connection_string, **kwargs)\u001b[0m\n\u001b[1;32m     37\u001b[0m \u001b[0;34m\u001b[0m\u001b[0m\n\u001b[0;32m---> 38\u001b[0;31m     connection = Connection(intern_connect(connection_string,\n\u001b[0m\u001b[1;32m     39\u001b[0m                                            turbodbc_options))\n",
      "\u001b[0;31mError\u001b[0m: ODBC error\nstate: 01000\nnative error code: 0\nmessage: [unixODBC][Driver Manager]Can't open lib 'PostgreSQL' : file not found",
      "\nDuring handling of the above exception, another exception occurred:\n",
      "\u001b[0;31mDatabaseError\u001b[0m                             Traceback (most recent call last)",
      "\u001b[0;32m/var/folders/wg/4yj17hrn3q9g_27l8zsxxy5m0000gn/T/ipykernel_86892/752265883.py\u001b[0m in \u001b[0;36m<module>\u001b[0;34m\u001b[0m\n\u001b[1;32m      3\u001b[0m \u001b[0;32mimport\u001b[0m \u001b[0mpandas\u001b[0m \u001b[0;32mas\u001b[0m \u001b[0mpd\u001b[0m\u001b[0;34m\u001b[0m\u001b[0;34m\u001b[0m\u001b[0m\n\u001b[1;32m      4\u001b[0m \u001b[0mpostgres_pwd\u001b[0m \u001b[0;34m=\u001b[0m \u001b[0mcfg\u001b[0m\u001b[0;34m.\u001b[0m\u001b[0mpostgres\u001b[0m\u001b[0;34m[\u001b[0m\u001b[0;34m'password'\u001b[0m\u001b[0;34m]\u001b[0m\u001b[0;34m\u001b[0m\u001b[0;34m\u001b[0m\u001b[0m\n\u001b[0;32m----> 5\u001b[0;31m connection = connect(driver=\"PostgreSQL\",\n\u001b[0m\u001b[1;32m      6\u001b[0m                      \u001b[0mserver\u001b[0m\u001b[0;34m=\u001b[0m\u001b[0;34m\"mid-term-project.ca2jkepgjpne.us-east-2.rds.amazonaws.com\"\u001b[0m\u001b[0;34m,\u001b[0m\u001b[0;34m\u001b[0m\u001b[0;34m\u001b[0m\u001b[0m\n\u001b[1;32m      7\u001b[0m                      \u001b[0mport\u001b[0m\u001b[0;34m=\u001b[0m\u001b[0;34m\"5432\"\u001b[0m\u001b[0;34m,\u001b[0m\u001b[0;34m\u001b[0m\u001b[0;34m\u001b[0m\u001b[0m\n",
      "\u001b[0;32m~/opt/anaconda3/envs/SQL/lib/python3.9/site-packages/turbodbc/exceptions.py\u001b[0m in \u001b[0;36mwrapper\u001b[0;34m(*args, **kwds)\u001b[0m\n\u001b[1;32m     41\u001b[0m             \u001b[0;32mreturn\u001b[0m \u001b[0mf\u001b[0m\u001b[0;34m(\u001b[0m\u001b[0;34m*\u001b[0m\u001b[0margs\u001b[0m\u001b[0;34m,\u001b[0m \u001b[0;34m**\u001b[0m\u001b[0mkwds\u001b[0m\u001b[0;34m)\u001b[0m\u001b[0;34m\u001b[0m\u001b[0;34m\u001b[0m\u001b[0m\n\u001b[1;32m     42\u001b[0m         \u001b[0;32mexcept\u001b[0m \u001b[0mInternError\u001b[0m \u001b[0;32mas\u001b[0m \u001b[0me\u001b[0m\u001b[0;34m:\u001b[0m\u001b[0;34m\u001b[0m\u001b[0;34m\u001b[0m\u001b[0m\n\u001b[0;32m---> 43\u001b[0;31m             \u001b[0;32mraise\u001b[0m \u001b[0mDatabaseError\u001b[0m\u001b[0;34m(\u001b[0m\u001b[0mstr\u001b[0m\u001b[0;34m(\u001b[0m\u001b[0me\u001b[0m\u001b[0;34m)\u001b[0m\u001b[0;34m)\u001b[0m\u001b[0;34m\u001b[0m\u001b[0;34m\u001b[0m\u001b[0m\n\u001b[0m\u001b[1;32m     44\u001b[0m         \u001b[0;32mexcept\u001b[0m \u001b[0mInternInterfaceError\u001b[0m \u001b[0;32mas\u001b[0m \u001b[0me\u001b[0m\u001b[0;34m:\u001b[0m\u001b[0;34m\u001b[0m\u001b[0;34m\u001b[0m\u001b[0m\n\u001b[1;32m     45\u001b[0m             \u001b[0;32mraise\u001b[0m \u001b[0mInterfaceError\u001b[0m\u001b[0;34m(\u001b[0m\u001b[0mstr\u001b[0m\u001b[0;34m(\u001b[0m\u001b[0me\u001b[0m\u001b[0;34m)\u001b[0m\u001b[0;34m)\u001b[0m\u001b[0;34m\u001b[0m\u001b[0;34m\u001b[0m\u001b[0m\n",
      "\u001b[0;31mDatabaseError\u001b[0m: ODBC error\nstate: 01000\nnative error code: 0\nmessage: [unixODBC][Driver Manager]Can't open lib 'PostgreSQL' : file not found"
     ]
    }
   ],
   "source": [
    "from turbodbc import connect\n",
    "import config as cfg\n",
    "import pandas as pd\n",
    "postgres_pwd = cfg.postgres['password']\n",
    "connection = connect(driver=\"PostgreSQL\",\n",
    "                     server=\"mid-term-project.ca2jkepgjpne.us-east-2.rds.amazonaws.com\",                     \n",
    "                     port=\"5432\",\n",
    "                     database=\"northwind\",\n",
    "                     uid=\"lhl_student\",\n",
    "                     pwd=\"lhl_student\")\n",
    "# This does not work because I don't know what \"Driver\" is."
   ]
  },
  {
   "cell_type": "code",
   "execution_count": null,
   "id": "0023e4e7",
   "metadata": {},
   "outputs": [],
   "source": [
    "# from turbodbc import connect\n",
    "# connection = connect(dsn='My data source name as defined by your ODBC configuration')"
   ]
  },
  {
   "cell_type": "markdown",
   "id": "6e7210c8",
   "metadata": {},
   "source": [
    "To execute a query, you need to create a cursor object first:\n",
    "\n",
    "cursor = connection.cursor()\n",
    "This cursor object lets you execute SQL commands and queries. Here is how to execute a SELECT query:\n",
    "\n",
    "cursor.execute('SELECT 42')\n",
    "You have multiple options to retrieve the generated result set. For example, you can iterate over the cursor:\n",
    "\n",
    "for row in cursor:\n",
    "...     print row\n",
    "[42L]\n",
    "Alternatively, you can fetch all results as a list of rows:\n",
    "\n",
    "cursor.fetchall()\n",
    "[[42L]]"
   ]
  },
  {
   "cell_type": "code",
   "execution_count": null,
   "id": "d418a673",
   "metadata": {},
   "outputs": [],
   "source": []
  }
 ],
 "metadata": {
  "kernelspec": {
   "display_name": "Python 3 (ipykernel)",
   "language": "python",
   "name": "python3"
  },
  "language_info": {
   "codemirror_mode": {
    "name": "ipython",
    "version": 3
   },
   "file_extension": ".py",
   "mimetype": "text/x-python",
   "name": "python",
   "nbconvert_exporter": "python",
   "pygments_lexer": "ipython3",
   "version": "3.9.7"
  }
 },
 "nbformat": 4,
 "nbformat_minor": 5
}
