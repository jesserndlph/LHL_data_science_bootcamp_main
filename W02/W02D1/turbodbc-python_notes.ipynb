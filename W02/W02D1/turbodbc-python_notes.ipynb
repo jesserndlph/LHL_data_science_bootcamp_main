{
 "cells": [
  {
   "cell_type": "code",
   "execution_count": 5,
   "id": "b85b2196",
   "metadata": {},
   "outputs": [],
   "source": [
    "from turbodbc import connect\n",
    "from turbodbc import Error\n",
    "import config as cfg\n",
    "import pandas as pd\n",
    "\n",
    "def create_connection(path):\n",
    "    connection = None\n",
    "    try:\n",
    "        connection = sqlite3.connect(path)\n",
    "        print(\"Connection to SQLite DB successful\")\n",
    "    except Error as e:\n",
    "        print(f\"The error '{e}' occurred\")\n",
    "\n",
    "    return connection\n",
    "\n",
    "\n",
    "# postgres_pwd = cfg.postgres['password']\n",
    "# connection = connect(driver=\"PostgreSQL\",\n",
    "#                      server=\"mid-term-project.ca2jkepgjpne.us-east-2.rds.amazonaws.com\",                     \n",
    "#                      port=\"5432\",\n",
    "#                      database=\"northwind\",\n",
    "#                      uid=\"lhl_student\",\n",
    "#                      pwd=\"lhl_student\")\n",
    "# # This does not work because I don't know what \"Driver\" is."
   ]
  },
  {
   "cell_type": "code",
   "execution_count": null,
   "id": "0023e4e7",
   "metadata": {},
   "outputs": [],
   "source": [
    "# from turbodbc import connect\n",
    "# connection = connect(dsn='My data source name as defined by your ODBC configuration')"
   ]
  },
  {
   "cell_type": "markdown",
   "id": "ea744ab4",
   "metadata": {},
   "source": [
    "To execute a query, you need to create a cursor object first:\n",
    "\n",
    "cursor = connection.cursor()\n",
    "This cursor object lets you execute SQL commands and queries. Here is how to execute a SELECT query:\n",
    "\n",
    "cursor.execute('SELECT 42')\n",
    "You have multiple options to retrieve the generated result set. For example, you can iterate over the cursor:\n",
    "\n",
    "for row in cursor:\n",
    "...     print row\n",
    "[42L]\n",
    "Alternatively, you can fetch all results as a list of rows:\n",
    "\n",
    "cursor.fetchall()\n",
    "[[42L]]"
   ]
  },
  {
   "cell_type": "code",
   "execution_count": null,
   "id": "06c4163a",
   "metadata": {},
   "outputs": [],
   "source": []
  }
 ],
 "metadata": {
  "kernelspec": {
   "display_name": "Python 3 (ipykernel)",
   "language": "python",
   "name": "python3"
  },
  "language_info": {
   "codemirror_mode": {
    "name": "ipython",
    "version": 3
   },
   "file_extension": ".py",
   "mimetype": "text/x-python",
   "name": "python",
   "nbconvert_exporter": "python",
   "pygments_lexer": "ipython3",
   "version": "3.9.7"
  }
 },
 "nbformat": 4,
 "nbformat_minor": 5
}
