{
 "cells": [
  {
   "cell_type": "markdown",
   "id": "691daa95-15b4-4d2d-9335-14675532043d",
   "metadata": {},
   "source": [
    "#  Programming Test II"
   ]
  },
  {
   "cell_type": "code",
   "execution_count": 19,
   "id": "ac7ccf5d-a354-483a-836d-d790d7fd345f",
   "metadata": {},
   "outputs": [],
   "source": [
    "#q0\n",
    "\n",
    "\"\"\"\n",
    "Create a function that takes a list of strings and integers, and filters out the list so that it returns a list of integers only.\n",
    "\n",
    "Examples:\n",
    "    filter_list([1, 2, 3, \"a\", \"b\", 4]) returns [1, 2, 3, 4]\n",
    "\n",
    "    filter_list(['A', 0, 'Edabit', 1729, 'Python', '1729']) returns [0, 1729]\n",
    "\n",
    "Notes:\n",
    "    - Function always returns list\n",
    "\"\"\"\n",
    "\n",
    "def filter_list(lst):\n",
    "    a_lst = [num for num in lst if isinstance(num, (int,float))]\n",
    "\n",
    "    return a_lst"
   ]
  },
  {
   "cell_type": "code",
   "execution_count": 20,
   "id": "126b384b-e777-480a-b098-c57e14d4ddf2",
   "metadata": {},
   "outputs": [
    {
     "data": {
      "text/plain": [
       "[1, 2, 3, 4]"
      ]
     },
     "execution_count": 20,
     "metadata": {},
     "output_type": "execute_result"
    }
   ],
   "source": [
    " filter_list([1, 2, 3, \"a\", \"b\", 4])"
   ]
  },
  {
   "cell_type": "code",
   "execution_count": 22,
   "id": "930b492c-f818-4cb3-8652-5f5d944a374f",
   "metadata": {},
   "outputs": [
    {
     "data": {
      "text/plain": [
       "[0, 1729]"
      ]
     },
     "execution_count": 22,
     "metadata": {},
     "output_type": "execute_result"
    }
   ],
   "source": [
    "filter_list(['A', 0, 'Edabit', 1729, 'Python', '1729'])"
   ]
  },
  {
   "cell_type": "code",
   "execution_count": 30,
   "id": "a1bbea77-5a51-4997-8b38-62115b1c0bc2",
   "metadata": {},
   "outputs": [],
   "source": [
    "#q1\n",
    "\n",
    "\"\"\"\n",
    "Create a function that returns the mean of all digits.\n",
    "\n",
    "Example:\n",
    "    mean(42) ➞ 3.0\n",
    "\n",
    "    mean(12345) ➞ 3.0\n",
    "\n",
    "    mean(666) ➞ 6.0\n",
    "\n",
    "Notes:\n",
    "    - Function should always return float\n",
    "\"\"\"\n",
    "\n",
    "\n",
    "def mean(digits):\n",
    "    f = str(digits)\n",
    "    return sum((ord(i) - ord('0')) for i in f) / len(f)"
   ]
  },
  {
   "cell_type": "code",
   "execution_count": 31,
   "id": "f08e985f-0006-486c-b574-fbed91d0dccf",
   "metadata": {},
   "outputs": [
    {
     "data": {
      "text/plain": [
       "3.0"
      ]
     },
     "execution_count": 31,
     "metadata": {},
     "output_type": "execute_result"
    }
   ],
   "source": [
    "mean(42)"
   ]
  },
  {
   "cell_type": "code",
   "execution_count": 39,
   "id": "bb02ace4-f4b5-47b7-9eae-d8d6d45cb9cd",
   "metadata": {},
   "outputs": [],
   "source": [
    "#q2\n",
    "\n",
    "\"\"\"\n",
    "Write a function that takes a string and calculates the number of letters and digits within it. Return the result in a dictionary.\n",
    "\n",
    "Examples:\n",
    "    count_all(\"Hello World\") ➞ { \"LETTERS\":  10, \"DIGITS\": 0 }\n",
    "\n",
    "    count_all(\"H3ll0 Wor1d\") ➞ { \"LETTERS\":  7, \"DIGITS\": 3 }\n",
    "\n",
    "    count_all(\"149990\") ➞ { \"LETTERS\": 0, \"DIGITS\": 6 }\n",
    "\n",
    "Notes:\n",
    "    - Tests contain only alphanumeric characters.\n",
    "    - Spaces are not letters.\n",
    "    - All tests contain valid strings.\n",
    "    - The function should return dictionary\n",
    "\n",
    "\"\"\"\n",
    "\n",
    "def count_all(string):\n",
    "    d = 0\n",
    "    l = 0\n",
    "    dic = {\"LETTERS\": 0, \"DIGITS\": 0}\n",
    "    for i in string:\n",
    "        if i.isdigit():\n",
    "            d = d + 1\n",
    "        elif i.isalpha():\n",
    "            l = l + 1\n",
    "        else:\n",
    "            pass\n",
    "    dic[\"LETTERS\"] = l\n",
    "    dic[\"DIGITS\"] = d\n",
    "\n",
    "    return dic"
   ]
  },
  {
   "cell_type": "code",
   "execution_count": 40,
   "id": "d202d357-2b57-45ff-b77b-a51f67c6ff50",
   "metadata": {},
   "outputs": [
    {
     "data": {
      "text/plain": [
       "{'LETTERS': 10, 'DIGITS': 0}"
      ]
     },
     "execution_count": 40,
     "metadata": {},
     "output_type": "execute_result"
    }
   ],
   "source": [
    "count_all(\"Hello World\")"
   ]
  },
  {
   "cell_type": "code",
   "execution_count": 41,
   "id": "7fc3c487-cd7c-4f3d-9186-b72057fbf372",
   "metadata": {},
   "outputs": [
    {
     "data": {
      "text/plain": [
       "{'LETTERS': 7, 'DIGITS': 3}"
      ]
     },
     "execution_count": 41,
     "metadata": {},
     "output_type": "execute_result"
    }
   ],
   "source": [
    "count_all(\"H3ll0 Wor1d\")"
   ]
  },
  {
   "cell_type": "code",
   "execution_count": 42,
   "id": "e3007777-8307-49d1-9898-7ba03b4f17c2",
   "metadata": {},
   "outputs": [
    {
     "data": {
      "text/plain": [
       "{'LETTERS': 0, 'DIGITS': 6}"
      ]
     },
     "execution_count": 42,
     "metadata": {},
     "output_type": "execute_result"
    }
   ],
   "source": [
    "count_all(\"149990\")"
   ]
  },
  {
   "cell_type": "code",
   "execution_count": null,
   "id": "75641bf1-60fe-436f-a36c-cc249682a073",
   "metadata": {},
   "outputs": [],
   "source": []
  }
 ],
 "metadata": {
  "kernelspec": {
   "display_name": "Python 3 (ipykernel)",
   "language": "python",
   "name": "python3"
  },
  "language_info": {
   "codemirror_mode": {
    "name": "ipython",
    "version": 3
   },
   "file_extension": ".py",
   "mimetype": "text/x-python",
   "name": "python",
   "nbconvert_exporter": "python",
   "pygments_lexer": "ipython3",
   "version": "3.8.11"
  }
 },
 "nbformat": 4,
 "nbformat_minor": 5
}
