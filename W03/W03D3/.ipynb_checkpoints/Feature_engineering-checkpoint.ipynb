{
 "cells": [
  {
   "cell_type": "markdown",
   "id": "bd28f96d",
   "metadata": {},
   "source": [
    "# Do not run, I imported nothing"
   ]
  },
  {
   "cell_type": "code",
   "execution_count": null,
   "id": "c58747a8",
   "metadata": {},
   "outputs": [],
   "source": [
    "poke_df[['HP', 'Attack', 'Defense']].describe()\n",
    "# always describe"
   ]
  },
  {
   "cell_type": "markdown",
   "id": "74a48dfb",
   "metadata": {},
   "source": [
    "## Binarization"
   ]
  },
  {
   "cell_type": "code",
   "execution_count": null,
   "id": "9fa29837",
   "metadata": {},
   "outputs": [],
   "source": [
    "# Did they listen to the song, once or more?\n",
    "watched = np.array(popsong_df['listen_count']) # make column array\n",
    "watched[watched >= 1] = 1 # MADE ALL VALUES OVER 2, EQUAL TO 1. Now 0's and 1's!\n",
    "popsong_df['watched'] = watched"
   ]
  },
  {
   "cell_type": "code",
   "execution_count": 4,
   "id": "088dbde5",
   "metadata": {},
   "outputs": [
    {
     "data": {
      "text/plain": [
       "array([1, 2, 3, 1, 1, 1, 1, 1, 1])"
      ]
     },
     "execution_count": 4,
     "metadata": {},
     "output_type": "execute_result"
    }
   ],
   "source": [
    "import numpy as np\n",
    "thearray = np.array([1,2,3,4,5,6,7,8,9])\n",
    "thearray[thearray >= 4] = 1 # MADE ALL VALUES OVER 4, EQUAL TO 1\n",
    "thearray"
   ]
  },
  {
   "cell_type": "code",
   "execution_count": null,
   "id": "f3aa0c65",
   "metadata": {},
   "outputs": [],
   "source": [
    "# all 0's and 1's\n",
    "from sklearn.preprocessing import Binarizer # SEARCH UP BINARIZER\n",
    "bn = Binarizer(threshold=0.9)\n",
    "pd_watched = bn.transform([popsong_df['listen_count']])[0]\n",
    "popsong_df['pd_watched'] = pd_watched\n",
    "popsong_df.head(11)"
   ]
  },
  {
   "cell_type": "code",
   "execution_count": null,
   "id": "9c68770f",
   "metadata": {},
   "outputs": [],
   "source": [
    "# ROUNDING\n",
    "items_popularity = pd.read_csv('datasets/item_popularity.csv',  \n",
    "                               encoding='utf-8')\n",
    "items_popularity['popularity_scale_10'] = np.array(\n",
    "                   np.round((items_popularity['pop_percent'] * 10)),  \n",
    "                   dtype='int')\n",
    "items_popularity['popularity_scale_100'] = np.array(\n",
    "                  np.round((items_popularity['pop_percent'] * 100)),    \n",
    "                  dtype='int')"
   ]
  },
  {
   "cell_type": "code",
   "execution_count": null,
   "id": "4b2dbed5",
   "metadata": {},
   "outputs": [],
   "source": [
    "# INTERACTIONS\n",
    "from sklearn.preprocessing import PolynomialFeatures\n",
    "pf = PolynomialFeatures(degree=2, interaction_only=False,  \n",
    "                        include_bias=False)\n",
    "res = pf.fit_transform(atk_def)\n",
    "\n",
    "pd.DataFrame(pf.powers_, columns=['Attack_degree',  \n",
    "                                  'Defense_degree']) # This turned pokemon attack/Defense into 0-1-2"
   ]
  },
  {
   "cell_type": "markdown",
   "id": "2f23b255",
   "metadata": {},
   "source": [
    "## Binning"
   ]
  },
  {
   "cell_type": "code",
   "execution_count": null,
   "id": "67adb549",
   "metadata": {},
   "outputs": [],
   "source": [
    "fcc_survey_df['Age_bin_round'] = np.array(np.floor(\n",
    "                              np.array(fcc_survey_df['Age']) / 10.))\n",
    "fcc_survey_df[['ID.x', 'Age', 'Age_bin_round']].iloc[1071:1076]\n",
    "\n",
    "# 17 becomes 1, 22 becomes 2... that's a bin round."
   ]
  },
  {
   "cell_type": "code",
   "execution_count": null,
   "id": "394ab923",
   "metadata": {},
   "outputs": [],
   "source": [
    "bin_ranges = [0, 15, 30, 45, 60, 75, 100]\n",
    "bin_names = [1, 2, 3, 4, 5, 6]\n",
    "fcc_survey_df['Age_bin_custom_range'] = pd.cut(        # make a new column\n",
    "                                           np.array(\n",
    "                                              fcc_survey_df['Age']), \n",
    "                                              bins=bin_ranges) # shows [15,30][30,45] in the rows.\n",
    "fcc_survey_df['Age_bin_custom_label'] = pd.cut(        # make a new column\n",
    "                                           np.array(\n",
    "                                              fcc_survey_df['Age']), \n",
    "                                              bins=bin_ranges, # shows 1,2,2,4,5,3 in the rows.         \n",
    "                                              labels=bin_names)\n",
    "# view the binned features \n",
    "fcc_survey_df[['ID.x', 'Age', 'Age_bin_round', \n",
    "               'Age_bin_custom_range',   \n",
    "               'Age_bin_custom_label']].iloc[1071:1076] # took specific rows sample to show"
   ]
  },
  {
   "cell_type": "code",
   "execution_count": null,
   "id": "79fca702",
   "metadata": {},
   "outputs": [],
   "source": [
    "# ADAPTIVE BINNING\n",
    "quantile_list = [0, .25, .5, .75, 1.]\n",
    "quantiles = fcc_survey_df['Income'].quantile(quantile_list) # lowest to highest stored in quantiles\n",
    "quantiles\n",
    "\n",
    "Output\n",
    "------\n",
    "0.00      6000.0\n",
    "0.25     20000.0\n",
    "0.50     37000.0\n",
    "0.75     60000.0\n",
    "1.00    200000.0\n",
    "Name: Income, dtype: float64"
   ]
  },
  {
   "cell_type": "code",
   "execution_count": null,
   "id": "c7dff8cf",
   "metadata": {},
   "outputs": [],
   "source": [
    "# HISTOGRAM SALARY, BUT BINS SHOW UP AS RED LINES ! Nice visual to show percentage bins\n",
    "fig, ax = plt.subplots()\n",
    "fcc_survey_df['Income'].hist(bins=30, color='#A9C5D3', \n",
    "                             edgecolor='black', grid=False)\n",
    "for quantile in quantiles:\n",
    "    qvl = plt.axvline(quantile, color='r')\n",
    "ax.legend([qvl], ['Quantiles'], fontsize=10)\n",
    "ax.set_title('Developer Income Histogram with Quantiles', \n",
    "             fontsize=12)\n",
    "ax.set_xlabel('Developer Income', fontsize=12)\n",
    "ax.set_ylabel('Frequency', fontsize=12)"
   ]
  },
  {
   "cell_type": "code",
   "execution_count": null,
   "id": "ab87ffc2",
   "metadata": {},
   "outputs": [],
   "source": [
    "quantile_labels = ['0-25Q', '25-50Q', '50-75Q', '75-100Q']\n",
    "fcc_survey_df['Income_quantile_range'] = pd.qcut(\n",
    "                                            fcc_survey_df['Income'], \n",
    "                                            q=quantile_list) # column shows [5999,20000][37000,60000] etc\n",
    "fcc_survey_df['Income_quantile_label'] = pd.qcut(\n",
    "                                            fcc_survey_df['Income'], \n",
    "                                            q=quantile_list,       \n",
    "                                            labels=quantile_labels) # column shows 0-25Q,50-75Q,25-50Q etc.\n",
    "\n",
    "fcc_survey_df[['ID.x', 'Age', 'Income', 'Income_quantile_range', \n",
    "               'Income_quantile_label']].iloc[4:9]"
   ]
  },
  {
   "cell_type": "code",
   "execution_count": null,
   "id": "5334f0f1",
   "metadata": {},
   "outputs": [],
   "source": [
    "fcc_survey_df['Income_log'] = np.log((1+ fcc_survey_df['Income']))\n",
    "fcc_survey_df[['ID.x', 'Age', 'Income', 'Income_log']].iloc[4:9]\n",
    "# log makes skewed distribution as normal-like as possible.\n"
   ]
  },
  {
   "cell_type": "markdown",
   "id": "48acbc9f",
   "metadata": {},
   "source": [
    "## box com transform"
   ]
  },
  {
   "cell_type": "code",
   "execution_count": null,
   "id": "7b49fecc",
   "metadata": {},
   "outputs": [],
   "source": [
    "income = np.array(fcc_survey_df['Income']) # make column np array\n",
    "income_clean = income[~np.isnan(income)] # get rid of isnans\n",
    "l, opt_lambda = spstats.boxcox(income_clean) # Get optimal lambda value\n",
    "print('Optimal lambda value:', opt_lambda)\n",
    "\n",
    "Output\n",
    "------\n",
    "Optimal lambda value: 0.117991239456"
   ]
  },
  {
   "cell_type": "code",
   "execution_count": null,
   "id": "cb3b6795",
   "metadata": {},
   "outputs": [],
   "source": [
    "fcc_survey_df['Income_boxcox_lambda_0'] = spstats.boxcox(\n",
    "                                        (1+fcc_survey_df['Income']), \n",
    "                                          lmbda=0) # normal-like income values\n",
    "fcc_survey_df['Income_boxcox_lambda_opt'] = spstats.boxcox(\n",
    "                                            fcc_survey_df['Income'], \n",
    "                                              lmbda=opt_lambda) # other normal-like lambda values\n",
    "\n",
    "fcc_survey_df[['ID.x', 'Age', 'Income', 'Income_log', \n",
    "               'Income_boxcox_lambda_0',       \n",
    "               'Income_boxcox_lambda_opt']].iloc[4:9]"
   ]
  }
 ],
 "metadata": {
  "kernelspec": {
   "display_name": "Python 3 (ipykernel)",
   "language": "python",
   "name": "python3"
  },
  "language_info": {
   "codemirror_mode": {
    "name": "ipython",
    "version": 3
   },
   "file_extension": ".py",
   "mimetype": "text/x-python",
   "name": "python",
   "nbconvert_exporter": "python",
   "pygments_lexer": "ipython3",
   "version": "3.9.7"
  }
 },
 "nbformat": 4,
 "nbformat_minor": 5
}
