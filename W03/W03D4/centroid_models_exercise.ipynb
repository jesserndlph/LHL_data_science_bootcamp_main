{
 "cells": [
  {
   "cell_type": "markdown",
   "metadata": {},
   "source": [
    "## Centroid Models Assignment"
   ]
  },
  {
   "cell_type": "code",
   "execution_count": 72,
   "metadata": {
    "ExecuteTime": {
     "end_time": "2020-04-23T18:49:13.019261Z",
     "start_time": "2020-04-23T18:49:11.598033Z"
    }
   },
   "outputs": [],
   "source": [
    "# import pandas\n",
    "import pandas as pd\n",
    "\n",
    "# import Kmeans \n",
    "from sklearn.cluster import KMeans\n",
    "\n",
    "# import numpy\n",
    "import numpy as np\n",
    "\n",
    "# import matplotlib\n",
    "import matplotlib.pyplot as plt\n",
    "\n",
    "import seaborn as sns\n",
    "sns.set(context=\"notebook\", palette=\"Spectral\", style = 'darkgrid' ,font_scale = 1.5, color_codes=True)\n",
    "\n",
    "# set figure size\n",
    "plt.rcParams[\"figure.figsize\"] = (12,8)"
   ]
  },
  {
   "cell_type": "code",
   "execution_count": 49,
   "metadata": {
    "ExecuteTime": {
     "end_time": "2020-04-23T18:49:13.389568Z",
     "start_time": "2020-04-23T18:49:13.066942Z"
    }
   },
   "outputs": [],
   "source": [
    "# Load dataframe\n",
    "df = pd.read_csv('https://raw.githubusercontent.com/lucko515/clustering-python/master/Customer%20in%20Mall%20clusterng/Mall_Customers.csv', index_col=False)"
   ]
  },
  {
   "cell_type": "markdown",
   "metadata": {},
   "source": [
    "**Take some time to explore the dataframe above.**"
   ]
  },
  {
   "cell_type": "code",
   "execution_count": 75,
   "metadata": {},
   "outputs": [
    {
     "data": {
      "text/html": [
       "<div>\n",
       "<style scoped>\n",
       "    .dataframe tbody tr th:only-of-type {\n",
       "        vertical-align: middle;\n",
       "    }\n",
       "\n",
       "    .dataframe tbody tr th {\n",
       "        vertical-align: top;\n",
       "    }\n",
       "\n",
       "    .dataframe thead th {\n",
       "        text-align: right;\n",
       "    }\n",
       "</style>\n",
       "<table border=\"1\" class=\"dataframe\">\n",
       "  <thead>\n",
       "    <tr style=\"text-align: right;\">\n",
       "      <th></th>\n",
       "      <th>CustomerID</th>\n",
       "      <th>Genre</th>\n",
       "      <th>Age</th>\n",
       "      <th>Annual Income (k$)</th>\n",
       "      <th>Spending Score (1-100)</th>\n",
       "    </tr>\n",
       "  </thead>\n",
       "  <tbody>\n",
       "    <tr>\n",
       "      <th>0</th>\n",
       "      <td>1</td>\n",
       "      <td>Male</td>\n",
       "      <td>19</td>\n",
       "      <td>15</td>\n",
       "      <td>39</td>\n",
       "    </tr>\n",
       "    <tr>\n",
       "      <th>1</th>\n",
       "      <td>2</td>\n",
       "      <td>Male</td>\n",
       "      <td>21</td>\n",
       "      <td>15</td>\n",
       "      <td>81</td>\n",
       "    </tr>\n",
       "    <tr>\n",
       "      <th>2</th>\n",
       "      <td>3</td>\n",
       "      <td>Female</td>\n",
       "      <td>20</td>\n",
       "      <td>16</td>\n",
       "      <td>6</td>\n",
       "    </tr>\n",
       "    <tr>\n",
       "      <th>3</th>\n",
       "      <td>4</td>\n",
       "      <td>Female</td>\n",
       "      <td>23</td>\n",
       "      <td>16</td>\n",
       "      <td>77</td>\n",
       "    </tr>\n",
       "    <tr>\n",
       "      <th>4</th>\n",
       "      <td>5</td>\n",
       "      <td>Female</td>\n",
       "      <td>31</td>\n",
       "      <td>17</td>\n",
       "      <td>40</td>\n",
       "    </tr>\n",
       "  </tbody>\n",
       "</table>\n",
       "</div>"
      ],
      "text/plain": [
       "   CustomerID   Genre  Age  Annual Income (k$)  Spending Score (1-100)\n",
       "0           1    Male   19                  15                      39\n",
       "1           2    Male   21                  15                      81\n",
       "2           3  Female   20                  16                       6\n",
       "3           4  Female   23                  16                      77\n",
       "4           5  Female   31                  17                      40"
      ]
     },
     "execution_count": 75,
     "metadata": {},
     "output_type": "execute_result"
    }
   ],
   "source": [
    "df.head()"
   ]
  },
  {
   "cell_type": "code",
   "execution_count": 76,
   "metadata": {},
   "outputs": [],
   "source": [
    "df.drop_duplicates(inplace=True)"
   ]
  },
  {
   "cell_type": "markdown",
   "metadata": {
    "ExecuteTime": {
     "end_time": "2020-02-19T08:33:55.508169Z",
     "start_time": "2020-02-19T08:33:55.504670Z"
    }
   },
   "source": [
    "----------------------\n",
    "## Objective: \n",
    "#### 1. Fit K-Means, \n",
    "#### 2. Find the optimal number of clusters using the elbow rule and plot the clusters.\n",
    "\n",
    "\n",
    "It may be difficult to visualize clusters on dataframes with many features. To simplify the task, we can plot the clusters in 2-D, by creating a clustering model on the last two columns of the dataset. \n",
    "\n",
    "> **Note:** There are ways to lower the dimension of your data so it can plotted in two dimensions and we will get to those in the beginning of next week.\n",
    "\n",
    "We shouldn't forget to scale the data using some technique from sklearn, even though it's **not a must** in the case because we take only the last two columns, and they have already have similar scale.\n"
   ]
  },
  {
   "cell_type": "code",
   "execution_count": 78,
   "metadata": {},
   "outputs": [
    {
     "data": {
      "text/plain": [
       "array([[ 19,  15],\n",
       "       [ 21,  15],\n",
       "       [ 20,  16],\n",
       "       [ 23,  16],\n",
       "       [ 31,  17],\n",
       "       [ 22,  17],\n",
       "       [ 35,  18],\n",
       "       [ 23,  18],\n",
       "       [ 64,  19],\n",
       "       [ 30,  19],\n",
       "       [ 67,  19],\n",
       "       [ 35,  19],\n",
       "       [ 58,  20],\n",
       "       [ 24,  20],\n",
       "       [ 37,  20],\n",
       "       [ 22,  20],\n",
       "       [ 35,  21],\n",
       "       [ 20,  21],\n",
       "       [ 52,  23],\n",
       "       [ 35,  23],\n",
       "       [ 35,  24],\n",
       "       [ 25,  24],\n",
       "       [ 46,  25],\n",
       "       [ 31,  25],\n",
       "       [ 54,  28],\n",
       "       [ 29,  28],\n",
       "       [ 45,  28],\n",
       "       [ 35,  28],\n",
       "       [ 40,  29],\n",
       "       [ 23,  29],\n",
       "       [ 60,  30],\n",
       "       [ 21,  30],\n",
       "       [ 53,  33],\n",
       "       [ 18,  33],\n",
       "       [ 49,  33],\n",
       "       [ 21,  33],\n",
       "       [ 42,  34],\n",
       "       [ 30,  34],\n",
       "       [ 36,  37],\n",
       "       [ 20,  37],\n",
       "       [ 65,  38],\n",
       "       [ 24,  38],\n",
       "       [ 48,  39],\n",
       "       [ 31,  39],\n",
       "       [ 49,  39],\n",
       "       [ 24,  39],\n",
       "       [ 50,  40],\n",
       "       [ 27,  40],\n",
       "       [ 29,  40],\n",
       "       [ 31,  40],\n",
       "       [ 49,  42],\n",
       "       [ 33,  42],\n",
       "       [ 31,  43],\n",
       "       [ 59,  43],\n",
       "       [ 50,  43],\n",
       "       [ 47,  43],\n",
       "       [ 51,  44],\n",
       "       [ 69,  44],\n",
       "       [ 27,  46],\n",
       "       [ 53,  46],\n",
       "       [ 70,  46],\n",
       "       [ 19,  46],\n",
       "       [ 67,  47],\n",
       "       [ 54,  47],\n",
       "       [ 63,  48],\n",
       "       [ 18,  48],\n",
       "       [ 43,  48],\n",
       "       [ 68,  48],\n",
       "       [ 19,  48],\n",
       "       [ 32,  48],\n",
       "       [ 70,  49],\n",
       "       [ 47,  49],\n",
       "       [ 60,  50],\n",
       "       [ 60,  50],\n",
       "       [ 59,  54],\n",
       "       [ 26,  54],\n",
       "       [ 45,  54],\n",
       "       [ 40,  54],\n",
       "       [ 23,  54],\n",
       "       [ 49,  54],\n",
       "       [ 57,  54],\n",
       "       [ 38,  54],\n",
       "       [ 67,  54],\n",
       "       [ 46,  54],\n",
       "       [ 21,  54],\n",
       "       [ 48,  54],\n",
       "       [ 55,  57],\n",
       "       [ 22,  57],\n",
       "       [ 34,  58],\n",
       "       [ 50,  58],\n",
       "       [ 68,  59],\n",
       "       [ 18,  59],\n",
       "       [ 48,  60],\n",
       "       [ 40,  60],\n",
       "       [ 32,  60],\n",
       "       [ 24,  60],\n",
       "       [ 47,  60],\n",
       "       [ 27,  60],\n",
       "       [ 48,  61],\n",
       "       [ 20,  61],\n",
       "       [ 23,  62],\n",
       "       [ 49,  62],\n",
       "       [ 67,  62],\n",
       "       [ 26,  62],\n",
       "       [ 49,  62],\n",
       "       [ 21,  62],\n",
       "       [ 66,  63],\n",
       "       [ 54,  63],\n",
       "       [ 68,  63],\n",
       "       [ 66,  63],\n",
       "       [ 65,  63],\n",
       "       [ 19,  63],\n",
       "       [ 38,  64],\n",
       "       [ 19,  64],\n",
       "       [ 18,  65],\n",
       "       [ 19,  65],\n",
       "       [ 63,  65],\n",
       "       [ 49,  65],\n",
       "       [ 51,  67],\n",
       "       [ 50,  67],\n",
       "       [ 27,  67],\n",
       "       [ 38,  67],\n",
       "       [ 40,  69],\n",
       "       [ 39,  69],\n",
       "       [ 23,  70],\n",
       "       [ 31,  70],\n",
       "       [ 43,  71],\n",
       "       [ 40,  71],\n",
       "       [ 59,  71],\n",
       "       [ 38,  71],\n",
       "       [ 47,  71],\n",
       "       [ 39,  71],\n",
       "       [ 25,  72],\n",
       "       [ 31,  72],\n",
       "       [ 20,  73],\n",
       "       [ 29,  73],\n",
       "       [ 44,  73],\n",
       "       [ 32,  73],\n",
       "       [ 19,  74],\n",
       "       [ 35,  74],\n",
       "       [ 57,  75],\n",
       "       [ 32,  75],\n",
       "       [ 28,  76],\n",
       "       [ 32,  76],\n",
       "       [ 25,  77],\n",
       "       [ 28,  77],\n",
       "       [ 48,  77],\n",
       "       [ 32,  77],\n",
       "       [ 34,  78],\n",
       "       [ 34,  78],\n",
       "       [ 43,  78],\n",
       "       [ 39,  78],\n",
       "       [ 44,  78],\n",
       "       [ 38,  78],\n",
       "       [ 47,  78],\n",
       "       [ 27,  78],\n",
       "       [ 37,  78],\n",
       "       [ 30,  78],\n",
       "       [ 34,  78],\n",
       "       [ 30,  78],\n",
       "       [ 56,  79],\n",
       "       [ 29,  79],\n",
       "       [ 19,  81],\n",
       "       [ 31,  81],\n",
       "       [ 50,  85],\n",
       "       [ 36,  85],\n",
       "       [ 42,  86],\n",
       "       [ 33,  86],\n",
       "       [ 36,  87],\n",
       "       [ 32,  87],\n",
       "       [ 40,  87],\n",
       "       [ 28,  87],\n",
       "       [ 36,  87],\n",
       "       [ 36,  87],\n",
       "       [ 52,  88],\n",
       "       [ 30,  88],\n",
       "       [ 58,  88],\n",
       "       [ 27,  88],\n",
       "       [ 59,  93],\n",
       "       [ 35,  93],\n",
       "       [ 37,  97],\n",
       "       [ 32,  97],\n",
       "       [ 46,  98],\n",
       "       [ 29,  98],\n",
       "       [ 41,  99],\n",
       "       [ 30,  99],\n",
       "       [ 54, 101],\n",
       "       [ 28, 101],\n",
       "       [ 41, 103],\n",
       "       [ 36, 103],\n",
       "       [ 34, 103],\n",
       "       [ 32, 103],\n",
       "       [ 33, 113],\n",
       "       [ 38, 113],\n",
       "       [ 47, 120],\n",
       "       [ 35, 120],\n",
       "       [ 45, 126],\n",
       "       [ 32, 126],\n",
       "       [ 32, 137],\n",
       "       [ 30, 137]])"
      ]
     },
     "execution_count": 78,
     "metadata": {},
     "output_type": "execute_result"
    }
   ],
   "source": [
    "X = df.iloc[:, [2, 3]].values # can't use dataframe columns?\n",
    "X"
   ]
  },
  {
   "cell_type": "code",
   "execution_count": 91,
   "metadata": {},
   "outputs": [],
   "source": [
    "from sklearn.cluster import KMeans\n",
    "wcss = []\n",
    "for i in range(1, 11):\n",
    "    kmeans = KMeans(n_clusters = i, init = 'k-means++', random_state = 0)\n",
    "    kmeans.fit(X) # Here's X\n",
    "    # inertia method returns wcss for that model\n",
    "    wcss.append(kmeans.inertia_)"
   ]
  },
  {
   "cell_type": "code",
   "execution_count": 92,
   "metadata": {},
   "outputs": [
    {
     "name": "stderr",
     "output_type": "stream",
     "text": [
      "/Users/louisrossi/opt/anaconda3/envs/plot/lib/python3.9/site-packages/seaborn/_decorators.py:36: FutureWarning: Pass the following variables as keyword args: x, y. From version 0.12, the only valid positional argument will be `data`, and passing other arguments without an explicit keyword will result in an error or misinterpretation.\n",
      "  warnings.warn(\n"
     ]
    },
    {
     "data": {
      "image/png": "[encoded data removed]",
      "text/plain": [
       "<Figure size 720x360 with 1 Axes>"
      ]
     },
     "metadata": {},
     "output_type": "display_data"
    }
   ],
   "source": [
    "plt.figure(figsize=(10,5))\n",
    "sns.lineplot(range(1, 11), wcss,marker='o',color='red')\n",
    "plt.title('The Elbow Method')\n",
    "plt.xlabel('Number of clusters')\n",
    "plt.ylabel('WCSS')\n",
    "plt.show()"
   ]
  },
  {
   "cell_type": "code",
   "execution_count": 95,
   "metadata": {},
   "outputs": [],
   "source": [
    "# Fitting K-Means to the dataset\n",
    "kmeans = KMeans(n_clusters = 3, init = 'k-means++', random_state = 0)\n",
    "y_kmeans = kmeans.fit_predict(X)"
   ]
  },
  {
   "cell_type": "markdown",
   "metadata": {},
   "source": [
    "- elbow rule"
   ]
  },
  {
   "cell_type": "code",
   "execution_count": 96,
   "metadata": {
    "ExecuteTime": {
     "end_time": "2020-04-23T18:49:14.289468Z",
     "start_time": "2020-04-23T18:49:13.646392Z"
    }
   },
   "outputs": [
    {
     "name": "stderr",
     "output_type": "stream",
     "text": [
      "/Users/louisrossi/opt/anaconda3/envs/plot/lib/python3.9/site-packages/seaborn/_decorators.py:36: FutureWarning: Pass the following variables as keyword args: x, y. From version 0.12, the only valid positional argument will be `data`, and passing other arguments without an explicit keyword will result in an error or misinterpretation.\n",
      "  warnings.warn(\n",
      "/Users/louisrossi/opt/anaconda3/envs/plot/lib/python3.9/site-packages/seaborn/_decorators.py:36: FutureWarning: Pass the following variables as keyword args: x, y. From version 0.12, the only valid positional argument will be `data`, and passing other arguments without an explicit keyword will result in an error or misinterpretation.\n",
      "  warnings.warn(\n",
      "/Users/louisrossi/opt/anaconda3/envs/plot/lib/python3.9/site-packages/seaborn/_decorators.py:36: FutureWarning: Pass the following variables as keyword args: x, y. From version 0.12, the only valid positional argument will be `data`, and passing other arguments without an explicit keyword will result in an error or misinterpretation.\n",
      "  warnings.warn(\n",
      "/Users/louisrossi/opt/anaconda3/envs/plot/lib/python3.9/site-packages/seaborn/_decorators.py:36: FutureWarning: Pass the following variables as keyword args: x, y. From version 0.12, the only valid positional argument will be `data`, and passing other arguments without an explicit keyword will result in an error or misinterpretation.\n",
      "  warnings.warn(\n"
     ]
    },
    {
     "data": {
      "image/png": "[encoded data removed]",
      "text/plain": [
       "<Figure size 1080x504 with 1 Axes>"
      ]
     },
     "metadata": {},
     "output_type": "display_data"
    }
   ],
   "source": [
    "# Visualising the clusters\n",
    "plt.figure(figsize=(15,7))\n",
    "sns.scatterplot(X[y_kmeans == 0, 0], X[y_kmeans == 0, 1], color = 'yellow', label = 'Cluster 1',s=50)\n",
    "sns.scatterplot(X[y_kmeans == 1, 0], X[y_kmeans == 1, 1], color = 'blue', label = 'Cluster 2',s=50)\n",
    "sns.scatterplot(X[y_kmeans == 2, 0], X[y_kmeans == 2, 1], color = 'green', label = 'Cluster 3',s=50)\n",
    "sns.scatterplot(X[y_kmeans == 3, 0], X[y_kmeans == 3, 1], color = 'grey', label = 'Cluster 4',s=50)\n",
    "sns.scatterplot(X[y_kmeans == 4, 0], X[y_kmeans == 4, 1], color = 'orange', label = 'Cluster 5',s=50)\n",
    "sns.scatterplot(kmeans.cluster_centers_[:, 0], kmeans.cluster_centers_[:, 1], color = 'red', \n",
    "                label = 'Centroids',s=250,marker=',')\n",
    "plt.grid(False)\n",
    "plt.title('Clusters of customers')\n",
    "plt.xlabel('Annual Income (k$)')\n",
    "plt.ylabel('Spending Score (1-100)')\n",
    "plt.legend()\n",
    "plt.show()"
   ]
  },
  {
   "cell_type": "code",
   "execution_count": 100,
   "metadata": {},
   "outputs": [
    {
     "data": {
      "text/plain": [
       "Index(['CustomerID', 'Genre', 'Age', 'Annual Income (k$)',\n",
       "       'Spending Score (1-100)'],\n",
       "      dtype='object')"
      ]
     },
     "execution_count": 100,
     "metadata": {},
     "output_type": "execute_result"
    }
   ],
   "source": [
    "df.keys()"
   ]
  },
  {
   "cell_type": "code",
   "execution_count": 111,
   "metadata": {},
   "outputs": [
    {
     "data": {
      "text/plain": [
       "array([[ 19,  15],\n",
       "       [ 21,  15],\n",
       "       [ 20,  16],\n",
       "       [ 23,  16],\n",
       "       [ 31,  17],\n",
       "       [ 22,  17],\n",
       "       [ 35,  18],\n",
       "       [ 23,  18],\n",
       "       [ 64,  19],\n",
       "       [ 30,  19],\n",
       "       [ 67,  19],\n",
       "       [ 35,  19],\n",
       "       [ 58,  20],\n",
       "       [ 24,  20],\n",
       "       [ 37,  20],\n",
       "       [ 22,  20],\n",
       "       [ 35,  21],\n",
       "       [ 20,  21],\n",
       "       [ 52,  23],\n",
       "       [ 35,  23],\n",
       "       [ 35,  24],\n",
       "       [ 25,  24],\n",
       "       [ 46,  25],\n",
       "       [ 31,  25],\n",
       "       [ 54,  28],\n",
       "       [ 29,  28],\n",
       "       [ 45,  28],\n",
       "       [ 35,  28],\n",
       "       [ 40,  29],\n",
       "       [ 23,  29],\n",
       "       [ 60,  30],\n",
       "       [ 21,  30],\n",
       "       [ 53,  33],\n",
       "       [ 18,  33],\n",
       "       [ 49,  33],\n",
       "       [ 21,  33],\n",
       "       [ 42,  34],\n",
       "       [ 30,  34],\n",
       "       [ 36,  37],\n",
       "       [ 20,  37],\n",
       "       [ 65,  38],\n",
       "       [ 24,  38],\n",
       "       [ 48,  39],\n",
       "       [ 31,  39],\n",
       "       [ 49,  39],\n",
       "       [ 24,  39],\n",
       "       [ 50,  40],\n",
       "       [ 27,  40],\n",
       "       [ 29,  40],\n",
       "       [ 31,  40],\n",
       "       [ 49,  42],\n",
       "       [ 33,  42],\n",
       "       [ 31,  43],\n",
       "       [ 59,  43],\n",
       "       [ 50,  43],\n",
       "       [ 47,  43],\n",
       "       [ 51,  44],\n",
       "       [ 69,  44],\n",
       "       [ 27,  46],\n",
       "       [ 53,  46],\n",
       "       [ 70,  46],\n",
       "       [ 19,  46],\n",
       "       [ 67,  47],\n",
       "       [ 54,  47],\n",
       "       [ 63,  48],\n",
       "       [ 18,  48],\n",
       "       [ 43,  48],\n",
       "       [ 68,  48],\n",
       "       [ 19,  48],\n",
       "       [ 32,  48],\n",
       "       [ 70,  49],\n",
       "       [ 47,  49],\n",
       "       [ 60,  50],\n",
       "       [ 60,  50],\n",
       "       [ 59,  54],\n",
       "       [ 26,  54],\n",
       "       [ 45,  54],\n",
       "       [ 40,  54],\n",
       "       [ 23,  54],\n",
       "       [ 49,  54],\n",
       "       [ 57,  54],\n",
       "       [ 38,  54],\n",
       "       [ 67,  54],\n",
       "       [ 46,  54],\n",
       "       [ 21,  54],\n",
       "       [ 48,  54],\n",
       "       [ 55,  57],\n",
       "       [ 22,  57],\n",
       "       [ 34,  58],\n",
       "       [ 50,  58],\n",
       "       [ 68,  59],\n",
       "       [ 18,  59],\n",
       "       [ 48,  60],\n",
       "       [ 40,  60],\n",
       "       [ 32,  60],\n",
       "       [ 24,  60],\n",
       "       [ 47,  60],\n",
       "       [ 27,  60],\n",
       "       [ 48,  61],\n",
       "       [ 20,  61],\n",
       "       [ 23,  62],\n",
       "       [ 49,  62],\n",
       "       [ 67,  62],\n",
       "       [ 26,  62],\n",
       "       [ 49,  62],\n",
       "       [ 21,  62],\n",
       "       [ 66,  63],\n",
       "       [ 54,  63],\n",
       "       [ 68,  63],\n",
       "       [ 66,  63],\n",
       "       [ 65,  63],\n",
       "       [ 19,  63],\n",
       "       [ 38,  64],\n",
       "       [ 19,  64],\n",
       "       [ 18,  65],\n",
       "       [ 19,  65],\n",
       "       [ 63,  65],\n",
       "       [ 49,  65],\n",
       "       [ 51,  67],\n",
       "       [ 50,  67],\n",
       "       [ 27,  67],\n",
       "       [ 38,  67],\n",
       "       [ 40,  69],\n",
       "       [ 39,  69],\n",
       "       [ 23,  70],\n",
       "       [ 31,  70],\n",
       "       [ 43,  71],\n",
       "       [ 40,  71],\n",
       "       [ 59,  71],\n",
       "       [ 38,  71],\n",
       "       [ 47,  71],\n",
       "       [ 39,  71],\n",
       "       [ 25,  72],\n",
       "       [ 31,  72],\n",
       "       [ 20,  73],\n",
       "       [ 29,  73],\n",
       "       [ 44,  73],\n",
       "       [ 32,  73],\n",
       "       [ 19,  74],\n",
       "       [ 35,  74],\n",
       "       [ 57,  75],\n",
       "       [ 32,  75],\n",
       "       [ 28,  76],\n",
       "       [ 32,  76],\n",
       "       [ 25,  77],\n",
       "       [ 28,  77],\n",
       "       [ 48,  77],\n",
       "       [ 32,  77],\n",
       "       [ 34,  78],\n",
       "       [ 34,  78],\n",
       "       [ 43,  78],\n",
       "       [ 39,  78],\n",
       "       [ 44,  78],\n",
       "       [ 38,  78],\n",
       "       [ 47,  78],\n",
       "       [ 27,  78],\n",
       "       [ 37,  78],\n",
       "       [ 30,  78],\n",
       "       [ 34,  78],\n",
       "       [ 30,  78],\n",
       "       [ 56,  79],\n",
       "       [ 29,  79],\n",
       "       [ 19,  81],\n",
       "       [ 31,  81],\n",
       "       [ 50,  85],\n",
       "       [ 36,  85],\n",
       "       [ 42,  86],\n",
       "       [ 33,  86],\n",
       "       [ 36,  87],\n",
       "       [ 32,  87],\n",
       "       [ 40,  87],\n",
       "       [ 28,  87],\n",
       "       [ 36,  87],\n",
       "       [ 36,  87],\n",
       "       [ 52,  88],\n",
       "       [ 30,  88],\n",
       "       [ 58,  88],\n",
       "       [ 27,  88],\n",
       "       [ 59,  93],\n",
       "       [ 35,  93],\n",
       "       [ 37,  97],\n",
       "       [ 32,  97],\n",
       "       [ 46,  98],\n",
       "       [ 29,  98],\n",
       "       [ 41,  99],\n",
       "       [ 30,  99],\n",
       "       [ 54, 101],\n",
       "       [ 28, 101],\n",
       "       [ 41, 103],\n",
       "       [ 36, 103],\n",
       "       [ 34, 103],\n",
       "       [ 32, 103],\n",
       "       [ 33, 113],\n",
       "       [ 38, 113],\n",
       "       [ 47, 120],\n",
       "       [ 35, 120],\n",
       "       [ 45, 126],\n",
       "       [ 32, 126],\n",
       "       [ 32, 137],\n",
       "       [ 30, 137]])"
      ]
     },
     "execution_count": 111,
     "metadata": {},
     "output_type": "execute_result"
    }
   ],
   "source": [
    "X = df.iloc[:, [2, 3]].values # THIS WORKS. Why can't we use dataframe columns? Need NP array or list.\n",
    "# can convert DF to np easily...\n",
    "# X = df[[\"Annual Income (k$)\",\"Spending Score (1-100)\"]]\n",
    "X"
   ]
  },
  {
   "cell_type": "markdown",
   "metadata": {},
   "source": [
    "* fit model with optimal number of clusters"
   ]
  },
  {
   "cell_type": "code",
   "execution_count": 112,
   "metadata": {
    "ExecuteTime": {
     "end_time": "2020-04-23T18:49:14.458083Z",
     "start_time": "2020-04-23T18:49:14.407738Z"
    }
   },
   "outputs": [],
   "source": [
    "km = KMeans(n_clusters=3,n_init=10,random_state=0) # take randomness out. Like a seed."
   ]
  },
  {
   "cell_type": "code",
   "execution_count": 113,
   "metadata": {},
   "outputs": [],
   "source": [
    "y_km = km.fit_predict(X) # train y with those rules. \n",
    "# both fitting, then predicting. Can be done seperately."
   ]
  },
  {
   "cell_type": "markdown",
   "metadata": {},
   "source": [
    "* define function plot_clusters"
   ]
  },
  {
   "cell_type": "code",
   "execution_count": 114,
   "metadata": {
    "ExecuteTime": {
     "end_time": "2020-04-23T18:49:14.521508Z",
     "start_time": "2020-04-23T18:49:14.512112Z"
    }
   },
   "outputs": [],
   "source": [
    "def plot_clusters(X,y_res, plt_cluster_centers = False):\n",
    "    X_centroids = []\n",
    "    Y_centroids = []\n",
    "    \n",
    "    for cluster in set(y_res):\n",
    "        x = X[y_res == cluster,0] # indexing. find which cluster this belongs to (True or False)\n",
    "        y = X[y_res == cluster,1]\n",
    "        X_centroids.append(np.mean(x))\n",
    "        Y_centroids.append(np.mean(y))\n",
    "        \n",
    "        plt.scatter(x,y,s=50,marker='s',label='cluster {}'.format(cluster))\n",
    "    \n",
    "    if plt_cluster_centers:\n",
    "        plt.scatter(X_centroids,\n",
    "                   Y_centroids,\n",
    "                   marker=\"+\",\n",
    "                   c='red',\n",
    "                   s=250,\n",
    "                   label='centroids')\n",
    "    plt.legend()\n",
    "    plt.grid()\n",
    "    plt.show()\n",
    "        "
   ]
  },
  {
   "cell_type": "code",
   "execution_count": null,
   "metadata": {},
   "outputs": [],
   "source": []
  },
  {
   "cell_type": "markdown",
   "metadata": {},
   "source": [
    "* plot clusters"
   ]
  },
  {
   "cell_type": "code",
   "execution_count": 115,
   "metadata": {
    "ExecuteTime": {
     "end_time": "2020-04-23T18:49:14.989930Z",
     "start_time": "2020-04-23T18:49:14.719639Z"
    }
   },
   "outputs": [
    {
     "data": {
      "image/png": "[encoded data removed]",
      "text/plain": [
       "<Figure size 864x576 with 1 Axes>"
      ]
     },
     "metadata": {},
     "output_type": "display_data"
    }
   ],
   "source": [
    "plot_clusters(X, y_km, plt_cluster_centers=True)"
   ]
  },
  {
   "cell_type": "code",
   "execution_count": null,
   "metadata": {},
   "outputs": [],
   "source": []
  },
  {
   "cell_type": "code",
   "execution_count": null,
   "metadata": {},
   "outputs": [],
   "source": []
  }
 ],
 "metadata": {
  "kernelspec": {
   "display_name": "Python 3 (ipykernel)",
   "language": "python",
   "name": "python3"
  },
  "language_info": {
   "codemirror_mode": {
    "name": "ipython",
    "version": 3
   },
   "file_extension": ".py",
   "mimetype": "text/x-python",
   "name": "python",
   "nbconvert_exporter": "python",
   "pygments_lexer": "ipython3",
   "version": "3.9.7"
  },
  "toc": {
   "base_numbering": 1,
   "nav_menu": {},
   "number_sections": true,
   "sideBar": true,
   "skip_h1_title": false,
   "title_cell": "Table of Contents",
   "title_sidebar": "Contents",
   "toc_cell": false,
   "toc_position": {},
   "toc_section_display": true,
   "toc_window_display": false
  },
  "varInspector": {
   "cols": {
    "lenName": 16,
    "lenType": 16,
    "lenVar": 40
   },
   "kernels_config": {
    "python": {
     "delete_cmd_postfix": "",
     "delete_cmd_prefix": "del ",
     "library": "var_list.py",
     "varRefreshCmd": "print(var_dic_list())"
    },
    "r": {
     "delete_cmd_postfix": ") ",
     "delete_cmd_prefix": "rm(",
     "library": "var_list.r",
     "varRefreshCmd": "cat(var_dic_list()) "
    }
   },
   "types_to_exclude": [
    "module",
    "function",
    "builtin_function_or_method",
    "instance",
    "_Feature"
   ],
   "window_display": false
  }
 },
 "nbformat": 4,
 "nbformat_minor": 4
}
