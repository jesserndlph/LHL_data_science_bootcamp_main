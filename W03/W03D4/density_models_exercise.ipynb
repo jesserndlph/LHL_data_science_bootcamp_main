{
 "cells": [
  {
   "cell_type": "markdown",
   "metadata": {},
   "source": [
    "## Density Models Assignment"
   ]
  },
  {
   "cell_type": "code",
   "execution_count": 1,
   "metadata": {
    "ExecuteTime": {
     "end_time": "2020-04-23T18:57:34.497284Z",
     "start_time": "2020-04-23T18:57:33.392644Z"
    }
   },
   "outputs": [],
   "source": [
    "# import matplotlib\n",
    "import matplotlib.pyplot as plt\n",
    "\n",
    "# set figure size\n",
    "plt.rcParams[\"figure.figsize\"] = (12,8)\n",
    "\n",
    "#import numpy\n",
    "import numpy as np\n",
    "\n",
    "# from sklearn import make_blobs\n",
    "from sklearn.datasets import make_blobs\n",
    "\n",
    "# import DBSCAN\n",
    "from sklearn.cluster import DBSCAN"
   ]
  },
  {
   "cell_type": "markdown",
   "metadata": {},
   "source": [
    "## Task: Generate clusters with make_blobs function \n",
    "\n",
    "Use the following settings:\n",
    "   * n_samples=150,\n",
    "   * n_features=2,\n",
    "   * centers=3,\n",
    "   * cluster_std=0.6,\n",
    "   * random_state=0"
   ]
  },
  {
   "cell_type": "code",
   "execution_count": 2,
   "metadata": {
    "ExecuteTime": {
     "end_time": "2020-04-23T18:57:34.524988Z",
     "start_time": "2020-04-23T18:57:34.517457Z"
    }
   },
   "outputs": [],
   "source": [
    "X,y = make_blobs(n_samples=150,\n",
    "                n_features=2,\n",
    "                centers=3,\n",
    "                cluster_std=0.6,\n",
    "                random_state=0) # rules!"
   ]
  },
  {
   "cell_type": "markdown",
   "metadata": {},
   "source": [
    "* plot data points"
   ]
  },
  {
   "cell_type": "markdown",
   "metadata": {},
   "source": [
    "X[whichrow?,whichcolumn?] or X[:everyrow,0firstcolumn]"
   ]
  },
  {
   "cell_type": "code",
   "execution_count": 28,
   "metadata": {
    "ExecuteTime": {
     "end_time": "2020-04-23T18:57:51.592512Z",
     "start_time": "2020-04-23T18:57:51.383761Z"
    }
   },
   "outputs": [
    {
     "data": {
      "image/png": "[encoded data removed]",
      "text/plain": [
       "<Figure size 576x432 with 1 Axes>"
      ]
     },
     "metadata": {
      "needs_background": "light"
     },
     "output_type": "display_data"
    }
   ],
   "source": [
    "plt.rcParams[\"figure.figsize\"] = (8,6)\n",
    "plt.scatter(X[:,0],X[:,1],c=\"red\",marker=\"*\")\n",
    "plt.grid()\n",
    "plt.show()"
   ]
  },
  {
   "cell_type": "markdown",
   "metadata": {},
   "source": [
    "* define function plot_clusters"
   ]
  },
  {
   "cell_type": "code",
   "execution_count": 30,
   "metadata": {
    "ExecuteTime": {
     "end_time": "2020-02-19T11:19:59.717246Z",
     "start_time": "2020-02-19T11:19:59.705473Z"
    }
   },
   "outputs": [],
   "source": [
    "def plot_clusters(X,y_res,plt_cluster_centers=False):\n",
    "    X_centers = []\n",
    "    Y_centers = []\n",
    "    \n",
    "    for i in set(y_res):\n",
    "        x = X[y_res == i,0]\n",
    "        y = X[y_res == i,1]\n",
    "        X_centers.append(np.mean(x))\n",
    "        Y_centers.append(np.mean(y))\n",
    "        \n",
    "        plt.scatter(x,y,marker=\"*\",c=\"red\",label=\"cluster {}\".format(i))\n",
    "        \n",
    "    if plt_cluster_centers:\n",
    "        plt.scatter(X_centers,\n",
    "                    Y_centers,\n",
    "                    marker='*',\n",
    "                    c='red',\n",
    "                    s=250,\n",
    "                    label='centroids')\n",
    "    plt.legend()\n",
    "    plt.grid()\n",
    "    plt.show()"
   ]
  },
  {
   "cell_type": "markdown",
   "metadata": {
    "ExecuteTime": {
     "end_time": "2020-02-19T11:09:12.710481Z",
     "start_time": "2020-02-19T11:09:12.706057Z"
    }
   },
   "source": [
    "## Objective: \n",
    "Try to find optimal settings of `eps` and `min_samples` params of DBSCAN. You can iterate over multiple parameters combinations and plot the clustering results."
   ]
  },
  {
   "cell_type": "markdown",
   "metadata": {},
   "source": [
    "* define params space"
   ]
  },
  {
   "cell_type": "code",
   "execution_count": 104,
   "metadata": {},
   "outputs": [],
   "source": [
    "def plot_clusters_dbscan(X,y_res, ax=None, plt_cluster_centers = False):\n",
    "    X_centroids = []\n",
    "    Y_centroids = []\n",
    "    \n",
    "    if ax is None:\n",
    "        fig, ax = plt.subplots()\n",
    "\n",
    "    for cluster in set(y_res):\n",
    "        x = X[y_res == cluster,0]\n",
    "        y = X[y_res == cluster,1]\n",
    "        X_centroids.append(np.mean(x))\n",
    "        Y_centroids.append(np.mean(y))\n",
    "\n",
    "        ax.scatter(x,\n",
    "                    y,\n",
    "                    s=5,\n",
    "                    marker='s',\n",
    "                    label=f'cluster {cluster}')\n",
    "\n",
    "    if plt_cluster_centers:\n",
    "        ax.scatter(X_centroids,\n",
    "                    Y_centroids,\n",
    "                    marker='*',\n",
    "                    c='red',\n",
    "                    s=25,\n",
    "                    label='centroids')\n",
    "    ax.grid()"
   ]
  },
  {
   "cell_type": "code",
   "execution_count": 100,
   "metadata": {
    "ExecuteTime": {
     "end_time": "2020-02-19T11:20:01.071874Z",
     "start_time": "2020-02-19T11:20:01.065289Z"
    }
   },
   "outputs": [],
   "source": [
    "db = DBSCAN(eps=0.7, # 6,7 works well\n",
    "            min_samples=10,\n",
    "            metric='euclidean')"
   ]
  },
  {
   "cell_type": "markdown",
   "metadata": {},
   "source": [
    "* combinations (hint: use 'product' function from 'itertools')"
   ]
  },
  {
   "cell_type": "code",
   "execution_count": 101,
   "metadata": {
    "ExecuteTime": {
     "end_time": "2020-02-19T11:20:01.823584Z",
     "start_time": "2020-02-19T11:20:01.817305Z"
    }
   },
   "outputs": [],
   "source": [
    "y_db = db.fit_predict(X)"
   ]
  },
  {
   "cell_type": "code",
   "execution_count": 102,
   "metadata": {},
   "outputs": [
    {
     "data": {
      "image/png": "[encoded data removed]",
      "text/plain": [
       "<Figure size 576x432 with 1 Axes>"
      ]
     },
     "metadata": {
      "needs_background": "light"
     },
     "output_type": "display_data"
    }
   ],
   "source": [
    "plot_clusters_dbscan(X,y_db) # without itertools... manually found best result I think..."
   ]
  },
  {
   "cell_type": "code",
   "execution_count": 90,
   "metadata": {},
   "outputs": [],
   "source": [
    "from itertools import product"
   ]
  },
  {
   "cell_type": "code",
   "execution_count": 73,
   "metadata": {
    "ExecuteTime": {
     "end_time": "2020-02-19T11:20:01.823584Z",
     "start_time": "2020-02-19T11:20:01.817305Z"
    }
   },
   "outputs": [],
   "source": [
    "# epslist = [0.2,0.3,0.4,0.5,0.6,0.7,0.8] needed?\n",
    "# min_samples = [4,6,8,10,12]\n",
    "# y_db2 = DBScan(eps=) this won't work...\n",
    "# "
   ]
  },
  {
   "cell_type": "code",
   "execution_count": 97,
   "metadata": {},
   "outputs": [
    {
     "data": {
      "text/plain": [
       "[(0.3, 8),\n",
       " (0.3, 10),\n",
       " (0.3, 12),\n",
       " (0.5, 8),\n",
       " (0.5, 10),\n",
       " (0.5, 12),\n",
       " (0.7, 8),\n",
       " (0.7, 10),\n",
       " (0.7, 12)]"
      ]
     },
     "execution_count": 97,
     "metadata": {},
     "output_type": "execute_result"
    }
   ],
   "source": [
    "a = [0.3,0.5,0.7]\n",
    "b = [8,10,12]\n",
    "list(product(a,b))"
   ]
  },
  {
   "cell_type": "code",
   "execution_count": 112,
   "metadata": {},
   "outputs": [
    {
     "data": {
      "image/png": "[encoded data removed]",
      "text/plain": [
       "<Figure size 720x720 with 9 Axes>"
      ]
     },
     "metadata": {
      "needs_background": "light"
     },
     "output_type": "display_data"
    }
   ],
   "source": [
    "fig, axs = plt.subplots(3,3, figsize=(10,10))\n",
    "\n",
    "for row, eps in enumerate(a):\n",
    "    for col, minsamples in enumerate(b):\n",
    "        db = DBSCAN(eps=eps, \n",
    "            min_samples=minsamples,\n",
    "            metric='euclidean')\n",
    "        y_db = db.fit_predict(X)\n",
    "        plot_clusters_dbscan(X,y_db,ax=axs[row,col])\n",
    "\n",
    "for col, minsamples in enumerate(b):\n",
    "    axs[2,col].set_xlabel(\"minsamples=\" + str(minsamples))\n",
    "    \n",
    "for row, eps in enumerate(a):\n",
    "    axs[row,0].set_ylabel(\"epsilon=\" + str(eps))"
   ]
  },
  {
   "cell_type": "code",
   "execution_count": null,
   "metadata": {},
   "outputs": [],
   "source": []
  },
  {
   "cell_type": "code",
   "execution_count": null,
   "metadata": {},
   "outputs": [],
   "source": []
  },
  {
   "cell_type": "code",
   "execution_count": null,
   "metadata": {},
   "outputs": [],
   "source": []
  }
 ],
 "metadata": {
  "kernelspec": {
   "display_name": "Python 3 (ipykernel)",
   "language": "python",
   "name": "python3"
  },
  "language_info": {
   "codemirror_mode": {
    "name": "ipython",
    "version": 3
   },
   "file_extension": ".py",
   "mimetype": "text/x-python",
   "name": "python",
   "nbconvert_exporter": "python",
   "pygments_lexer": "ipython3",
   "version": "3.9.7"
  },
  "toc": {
   "base_numbering": 1,
   "nav_menu": {},
   "number_sections": true,
   "sideBar": true,
   "skip_h1_title": false,
   "title_cell": "Table of Contents",
   "title_sidebar": "Contents",
   "toc_cell": false,
   "toc_position": {},
   "toc_section_display": true,
   "toc_window_display": false
  },
  "varInspector": {
   "cols": {
    "lenName": 16,
    "lenType": 16,
    "lenVar": 40
   },
   "kernels_config": {
    "python": {
     "delete_cmd_postfix": "",
     "delete_cmd_prefix": "del ",
     "library": "var_list.py",
     "varRefreshCmd": "print(var_dic_list())"
    },
    "r": {
     "delete_cmd_postfix": ") ",
     "delete_cmd_prefix": "rm(",
     "library": "var_list.r",
     "varRefreshCmd": "cat(var_dic_list()) "
    }
   },
   "types_to_exclude": [
    "module",
    "function",
    "builtin_function_or_method",
    "instance",
    "_Feature"
   ],
   "window_display": false
  }
 },
 "nbformat": 4,
 "nbformat_minor": 4
}
