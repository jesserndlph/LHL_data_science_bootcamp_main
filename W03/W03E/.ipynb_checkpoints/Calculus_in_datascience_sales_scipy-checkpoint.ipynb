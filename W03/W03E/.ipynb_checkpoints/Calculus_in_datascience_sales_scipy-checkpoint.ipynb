{
 "cells": [
  {
   "cell_type": "markdown",
   "id": "94ca1f92",
   "metadata": {},
   "source": [
    "# Max or Min outcomes. Sales. Let's plug it in"
   ]
  },
  {
   "cell_type": "markdown",
   "id": "75feaba8",
   "metadata": {},
   "source": [
    "### How much can we charge to increase revenue. BY HAND\n",
    "### https://www.youtube.com/watch?v=GMGNoRcZEwM&t=73s"
   ]
  },
  {
   "cell_type": "code",
   "execution_count": 2,
   "id": "f6dd594f",
   "metadata": {},
   "outputs": [],
   "source": [
    "subscription = 500 # per year\n",
    "member_sales_per_week = 180\n",
    "# for every $5 discount = 3 more sales. No overhead increase..."
   ]
  },
  {
   "cell_type": "markdown",
   "id": "e6869a80",
   "metadata": {},
   "source": [
    "find sales as a function of price. get y intercept.\n",
    "Price 500 - 5. When does this = 0?"
   ]
  },
  {
   "cell_type": "code",
   "execution_count": 5,
   "id": "632e1563",
   "metadata": {},
   "outputs": [],
   "source": [
    "# When does $500 - $5 = 0?"
   ]
  },
  {
   "cell_type": "code",
   "execution_count": 7,
   "id": "4fed4fe6",
   "metadata": {},
   "outputs": [],
   "source": [
    "# 500-500-5d=0-500\n",
    "# -5d=-500\n",
    "# /by -5\n",
    "# d = 100. When d is 100, x is 0. This is how we get y intercept."
   ]
  },
  {
   "cell_type": "markdown",
   "id": "9f8964e5",
   "metadata": {},
   "source": [
    "Now substitute this into sales. intercept = 180 + 3d"
   ]
  },
  {
   "cell_type": "code",
   "execution_count": 9,
   "id": "f45bfe3a",
   "metadata": {},
   "outputs": [],
   "source": [
    "# y_intercept = 480\n",
    "# when price is $0, expected price is 480 lolz"
   ]
  },
  {
   "cell_type": "code",
   "execution_count": 10,
   "id": "5988d531",
   "metadata": {},
   "outputs": [],
   "source": [
    "# slope = Change in Y / Change in X\n",
    "# Sales 180+3d, Price 500 - 5d\n",
    "# slope is +3 / -5 = -0.6\n",
    "# Sales = 480(yint) - 0.6*price"
   ]
  },
  {
   "cell_type": "code",
   "execution_count": 13,
   "id": "d11a6ffe",
   "metadata": {},
   "outputs": [],
   "source": [
    "# Revenue = (480 - 0.6*price)(price) or 480*price - 0.6*price**2"
   ]
  },
  {
   "cell_type": "code",
   "execution_count": 16,
   "id": "e56a06c4",
   "metadata": {},
   "outputs": [],
   "source": [
    "# get derivitive\n",
    "# 480*price - 0.6*price**2\n",
    "# derivitive of 480*price is 480 ... because we know that's the price. price was x.\n",
    "# -0.6*price**2 is 0.6*2*price.. is 1.2*price\n",
    "# now solve for 0! Why? because that's giving us where Y is at the max. Where is slope 0"
   ]
  },
  {
   "cell_type": "code",
   "execution_count": 18,
   "id": "53a0a47c",
   "metadata": {},
   "outputs": [],
   "source": [
    "# solve for 0.\n",
    "# When does 480 - 1.2*price = 0?\n",
    "# -480 by each side, divide by -1.2... price = 400. more income if we charge 400 instead."
   ]
  },
  {
   "cell_type": "code",
   "execution_count": 19,
   "id": "7604c8c1",
   "metadata": {},
   "outputs": [],
   "source": [
    "# how many sales can we get?\n",
    "# take 480 - 0.6*400, 240 total. 240 new subscriptions per week."
   ]
  },
  {
   "cell_type": "markdown",
   "id": "8070cdde",
   "metadata": {},
   "source": [
    "# apparently we can use Scipy for optimization"
   ]
  },
  {
   "cell_type": "code",
   "execution_count": 21,
   "id": "9536dc8c",
   "metadata": {},
   "outputs": [],
   "source": [
    "import scipy"
   ]
  },
  {
   "cell_type": "code",
   "execution_count": 24,
   "id": "040e9eb0",
   "metadata": {},
   "outputs": [
    {
     "name": "stdout",
     "output_type": "stream",
     "text": [
      "/Users/louisrossi/opt/anaconda3/lib/python3.8/site-packages/scipy/__init__.py\n"
     ]
    }
   ],
   "source": [
    "print(scipy.__file__)"
   ]
  },
  {
   "cell_type": "code",
   "execution_count": 34,
   "id": "493d9a55",
   "metadata": {},
   "outputs": [],
   "source": [
    "from pathlib import Path\n",
    "import numpy as np\n",
    "from scipy.cluster.vq import whiten, kmeans, vq\n",
    "import pandas as pd"
   ]
  },
  {
   "cell_type": "code",
   "execution_count": 60,
   "id": "7d1d4037",
   "metadata": {},
   "outputs": [],
   "source": [
    "data = Path(\"SMSSpamCollection copy\").read_text()\n",
    "data = data.strip()\n",
    "data = data.split(\"\\n\")"
   ]
  },
  {
   "cell_type": "code",
   "execution_count": 58,
   "id": "f2969d57",
   "metadata": {},
   "outputs": [
    {
     "data": {
      "text/html": [
       "<div>\n",
       "<style scoped>\n",
       "    .dataframe tbody tr th:only-of-type {\n",
       "        vertical-align: middle;\n",
       "    }\n",
       "\n",
       "    .dataframe tbody tr th {\n",
       "        vertical-align: top;\n",
       "    }\n",
       "\n",
       "    .dataframe thead th {\n",
       "        text-align: right;\n",
       "    }\n",
       "</style>\n",
       "<table border=\"1\" class=\"dataframe\">\n",
       "  <thead>\n",
       "    <tr style=\"text-align: right;\">\n",
       "      <th></th>\n",
       "      <th>0</th>\n",
       "    </tr>\n",
       "  </thead>\n",
       "  <tbody>\n",
       "    <tr>\n",
       "      <th>0</th>\n",
       "      <td>ham\\tGo until jurong point, crazy.. Available ...</td>\n",
       "    </tr>\n",
       "    <tr>\n",
       "      <th>1</th>\n",
       "      <td>ham\\tOk lar... Joking wif u oni...</td>\n",
       "    </tr>\n",
       "    <tr>\n",
       "      <th>2</th>\n",
       "      <td>spam\\tFree entry in 2 a wkly comp to win FA Cu...</td>\n",
       "    </tr>\n",
       "    <tr>\n",
       "      <th>3</th>\n",
       "      <td>ham\\tU dun say so early hor... U c already the...</td>\n",
       "    </tr>\n",
       "    <tr>\n",
       "      <th>4</th>\n",
       "      <td>ham\\tNah I don't think he goes to usf, he live...</td>\n",
       "    </tr>\n",
       "    <tr>\n",
       "      <th>...</th>\n",
       "      <td>...</td>\n",
       "    </tr>\n",
       "    <tr>\n",
       "      <th>5569</th>\n",
       "      <td>spam\\tThis is the 2nd time we have tried 2 con...</td>\n",
       "    </tr>\n",
       "    <tr>\n",
       "      <th>5570</th>\n",
       "      <td>ham\\tWill ü b going to esplanade fr home?</td>\n",
       "    </tr>\n",
       "    <tr>\n",
       "      <th>5571</th>\n",
       "      <td>ham\\tPity, * was in mood for that. So...any ot...</td>\n",
       "    </tr>\n",
       "    <tr>\n",
       "      <th>5572</th>\n",
       "      <td>ham\\tThe guy did some bitching but I acted lik...</td>\n",
       "    </tr>\n",
       "    <tr>\n",
       "      <th>5573</th>\n",
       "      <td>ham\\tRofl. Its true to its name</td>\n",
       "    </tr>\n",
       "  </tbody>\n",
       "</table>\n",
       "<p>5574 rows × 1 columns</p>\n",
       "</div>"
      ],
      "text/plain": [
       "                                                      0\n",
       "0     ham\\tGo until jurong point, crazy.. Available ...\n",
       "1                    ham\\tOk lar... Joking wif u oni...\n",
       "2     spam\\tFree entry in 2 a wkly comp to win FA Cu...\n",
       "3     ham\\tU dun say so early hor... U c already the...\n",
       "4     ham\\tNah I don't think he goes to usf, he live...\n",
       "...                                                 ...\n",
       "5569  spam\\tThis is the 2nd time we have tried 2 con...\n",
       "5570          ham\\tWill ü b going to esplanade fr home?\n",
       "5571  ham\\tPity, * was in mood for that. So...any ot...\n",
       "5572  ham\\tThe guy did some bitching but I acted lik...\n",
       "5573                    ham\\tRofl. Its true to its name\n",
       "\n",
       "[5574 rows x 1 columns]"
      ]
     },
     "execution_count": 58,
     "metadata": {},
     "output_type": "execute_result"
    }
   ],
   "source": [
    "pd.DataFrame(data)"
   ]
  },
  {
   "cell_type": "code",
   "execution_count": null,
   "id": "1f940d95",
   "metadata": {},
   "outputs": [],
   "source": [
    "#### create numpy array rows = number of texts.\n",
    "#### use to associate number of digits in the message to see if spam or not"
   ]
  },
  {
   "cell_type": "code",
   "execution_count": 63,
   "id": "0d5f5347",
   "metadata": {},
   "outputs": [
    {
     "data": {
      "text/plain": [
       "array([[ 2329281613512397902,  8606218498465358179],\n",
       "       [ 3473743367810592800,  8319637388744863801],\n",
       "       [ 7309377861439332468,  6074828605956628594],\n",
       "       ...,\n",
       "       [ 2830829216167260783,  2336361472229141612],\n",
       "       [ 8102831641014329708,  2325341002271386977],\n",
       "       [ 7955925922710056549, -4458437782395654284]])"
      ]
     },
     "execution_count": 63,
     "metadata": {},
     "output_type": "execute_result"
    }
   ],
   "source": [
    "# scipy needs numpy arrays as input so we cant use collections\n",
    "digit_counts = np.empty((len(data), 2), dtype=int)\n",
    "digit_counts"
   ]
  },
  {
   "cell_type": "code",
   "execution_count": 64,
   "id": "fc744945",
   "metadata": {},
   "outputs": [],
   "source": [
    "for i, line in enumerate(data):\n",
    "    case, message = line.split(\"\\t\")\n",
    "    num_digits = sum(c.isdigit() for c in message)\n",
    "    digit_counts[i, 0] = 0 if case == \"ham\" else 1\n",
    "    digit_counts[i, 1] = num_digits"
   ]
  },
  {
   "cell_type": "markdown",
   "id": "dc3552f5",
   "metadata": {},
   "source": [
    "#### Here's how the above code works."
   ]
  },
  {
   "cell_type": "markdown",
   "id": "f1565e20",
   "metadata": {},
   "source": [
    "Line 8: Loop over data. You use enumerate() to put the value from the list in line and create an index i for this list. To learn more about enumerate(), check out Python enumerate(): Simplify Looping With Counters.\n",
    "\n",
    "Line 9: Split the line on the tab character to create case and message. case is a string that says whether the message is ham or spam, while message is a string with the text of the message.\n",
    "\n",
    "Line 10: Calculate the number of digits in the message by using the sum() of a comprehension. In the comprehension, you check each character in the message using isdigit(), which returns True if the element is a numeral and False otherwise. sum() then treats each True result as a 1 and each False as a 0. So, the result of sum() on this comprehension is the number of characters for which isdigit() returned True.\n",
    "\n",
    "Line 11: Assign values into digit_counts. You assign the first column of the i row to be 0 if the message was legitimate (ham) or 1 if the message was spam.\n",
    "\n",
    "Line 12: Assign values into digit_counts. You assign the second column of the i row to be the number of digits in the message."
   ]
  },
  {
   "cell_type": "code",
   "execution_count": 65,
   "id": "ee1e01ee",
   "metadata": {},
   "outputs": [],
   "source": [
    "unique_counts = np.unique(digit_counts[:, 1], return_counts=True)\n",
    "# create an array where the first column has the number of digits in a message, and \n",
    "# the second column is the number of messages that have that number of digits"
   ]
  },
  {
   "cell_type": "code",
   "execution_count": 66,
   "id": "0d00dd62",
   "metadata": {},
   "outputs": [],
   "source": [
    "unique_counts = np.transpose(np.vstack(unique_counts))"
   ]
  },
  {
   "cell_type": "code",
   "execution_count": 67,
   "id": "01270cec",
   "metadata": {},
   "outputs": [],
   "source": [
    "whitened_counts = whiten(unique_counts)\n",
    "codebook, _ = kmeans(whitened_counts, 3)"
   ]
  },
  {
   "cell_type": "markdown",
   "id": "b1ce6ac2",
   "metadata": {},
   "source": [
    "You use whiten() to normalize each feature to have unit variance, which improves the results from kmeans(). Then, kmeans() takes the whitened data and the number of clusters to create as arguments. In this example, you want to create 3 clusters, for definitely ham, definitely spam, and unknown. kmeans() returns two values:\n",
    "\n",
    "An array with three rows and two columns representing the centroids of each group: The kmeans() algorithm calculates the optimal location of the centroid of each cluster by minimizing the distance from the observations to each centroid. This array is assigned to codebook.\n",
    "\n",
    "The mean Euclidian distance from the observations to the centroids: You won’t need that value for the rest of this example, so you can assign it to _."
   ]
  },
  {
   "cell_type": "code",
   "execution_count": 68,
   "id": "f164afb7",
   "metadata": {},
   "outputs": [],
   "source": [
    "codes, _ = vq(whitened_counts, codebook)"
   ]
  },
  {
   "cell_type": "code",
   "execution_count": 69,
   "id": "d2844537",
   "metadata": {},
   "outputs": [],
   "source": [
    "ham_code = codes[0]\n",
    "spam_code = codes[-1]\n",
    "unknown_code = list(set(range(3)) ^ set((ham_code, spam_code)))[0]"
   ]
  },
  {
   "cell_type": "code",
   "execution_count": 70,
   "id": "b05f581b",
   "metadata": {},
   "outputs": [
    {
     "name": "stdout",
     "output_type": "stream",
     "text": [
      "definitely ham: [   0 4110]\n",
      "definitely spam: [47  1]\n",
      "unknown: [20 18]\n"
     ]
    }
   ],
   "source": [
    "print(\"definitely ham:\", unique_counts[codes == ham_code][-1])\n",
    "print(\"definitely spam:\", unique_counts[codes == spam_code][-1])\n",
    "print(\"unknown:\", unique_counts[codes == unknown_code][-1])"
   ]
  },
  {
   "cell_type": "code",
   "execution_count": 72,
   "id": "5e43a6cc",
   "metadata": {},
   "outputs": [],
   "source": [
    "digits = digit_counts[:, 1]\n",
    "predicted_hams = digits == 0\n",
    "predicted_spams = digits > 20\n",
    "predicted_unknowns = np.logical_and(digits > 0, digits <= 20)"
   ]
  },
  {
   "cell_type": "code",
   "execution_count": 73,
   "id": "db86e4ce",
   "metadata": {},
   "outputs": [],
   "source": [
    "spam_cluster = digit_counts[predicted_spams]\n",
    "ham_cluster = digit_counts[predicted_hams]\n",
    "unk_cluster = digit_counts[predicted_unknowns]"
   ]
  },
  {
   "cell_type": "code",
   "execution_count": 74,
   "id": "15f81998",
   "metadata": {},
   "outputs": [
    {
     "name": "stdout",
     "output_type": "stream",
     "text": [
      "hams: (array([0, 1]), array([4071,   39]))\n",
      "spams: (array([0, 1]), array([  1, 232]))\n",
      "unknowns: (array([0, 1]), array([755, 476]))\n"
     ]
    }
   ],
   "source": [
    "print(\"hams:\", np.unique(ham_cluster[:, 0], return_counts=True))\n",
    "print(\"spams:\", np.unique(spam_cluster[:, 0], return_counts=True))\n",
    "print(\"unknowns:\", np.unique(unk_cluster[:, 0], return_counts=True))"
   ]
  },
  {
   "cell_type": "markdown",
   "id": "d57ef535",
   "metadata": {},
   "source": [
    "From this output, you can see that 4110 messages fell into the definitely ham group, of which 4071 were actually ham and only 39 were spam. Conversely, of the 233 messages that fell into the definitely spam group, only 1 was actually ham and the rest were spam.\n",
    "\n",
    "Of course, over 1200 messages fell into the unknown category, so some more advanced analysis would be needed to classify those messages. You might want to look into something like natural language processing to help improve the accuracy of your prediction, and you can use Python and Keras to help out."
   ]
  },
  {
   "cell_type": "code",
   "execution_count": null,
   "id": "c3ef2c37",
   "metadata": {},
   "outputs": [],
   "source": []
  }
 ],
 "metadata": {
  "kernelspec": {
   "display_name": "Python 3",
   "language": "python",
   "name": "python3"
  },
  "language_info": {
   "codemirror_mode": {
    "name": "ipython",
    "version": 3
   },
   "file_extension": ".py",
   "mimetype": "text/x-python",
   "name": "python",
   "nbconvert_exporter": "python",
   "pygments_lexer": "ipython3",
   "version": "3.8.8"
  }
 },
 "nbformat": 4,
 "nbformat_minor": 5
}
