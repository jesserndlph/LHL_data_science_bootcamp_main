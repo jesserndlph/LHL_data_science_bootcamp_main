{
 "cells": [
  {
   "cell_type": "markdown",
   "id": "390ac63c",
   "metadata": {},
   "source": [
    "### minimize_scalar() and minimize() to minimize a function of one variable and many variables, respectively\n",
    "### curve_fit() to fit a function to a set of data\n",
    "### root_scalar() and root() to find the zeros of a function of one variable and many variables, respectively\n",
    "### linprog() to minimize a linear objective function with linear inequality and equality constraints"
   ]
  },
  {
   "cell_type": "code",
   "execution_count": 1,
   "id": "713778c6",
   "metadata": {},
   "outputs": [],
   "source": [
    "# objective : find minimum value in quartic polynomial scalar function\n",
    "# y = 3x**4 - 2x + 1"
   ]
  },
  {
   "cell_type": "code",
   "execution_count": 2,
   "id": "6121db51",
   "metadata": {},
   "outputs": [],
   "source": [
    "from matplotlib import pyplot as plt\n",
    "import scipy\n",
    "import numpy as np"
   ]
  },
  {
   "cell_type": "code",
   "execution_count": 3,
   "id": "dfb0c9e7",
   "metadata": {},
   "outputs": [],
   "source": [
    "from scipy.optimize import minimize_scalar\n",
    "\n",
    "def objective_function(x):\n",
    "    return 3 * x ** 4 - 2 * x + 1 # put in our function"
   ]
  },
  {
   "cell_type": "code",
   "execution_count": 4,
   "id": "d81fa6a0",
   "metadata": {},
   "outputs": [],
   "source": [
    "res = minimize_scalar(objective_function)"
   ]
  },
  {
   "cell_type": "code",
   "execution_count": 5,
   "id": "5e4afed1",
   "metadata": {},
   "outputs": [
    {
     "data": {
      "text/plain": [
       "     fun: 0.17451818777634331\n",
       "    nfev: 16\n",
       "     nit: 12\n",
       " success: True\n",
       "       x: 0.5503212087491959"
      ]
     },
     "execution_count": 5,
     "metadata": {},
     "output_type": "execute_result"
    }
   ],
   "source": [
    "res # optimal value for this function is near x: 0.55"
   ]
  },
  {
   "cell_type": "code",
   "execution_count": 6,
   "id": "38e44d29",
   "metadata": {},
   "outputs": [],
   "source": [
    "def objective_function2(x):\n",
    "    return x ** 4 - x ** 2"
   ]
  },
  {
   "cell_type": "code",
   "execution_count": 7,
   "id": "1ec81dc0",
   "metadata": {},
   "outputs": [],
   "source": [
    "res2 = minimize_scalar(objective_function2)"
   ]
  },
  {
   "cell_type": "code",
   "execution_count": 8,
   "id": "3d362a5d",
   "metadata": {},
   "outputs": [
    {
     "data": {
      "text/plain": [
       "     fun: -0.24999999999999994\n",
       "    nfev: 15\n",
       "     nit: 11\n",
       " success: True\n",
       "       x: 0.7071067853059209"
      ]
     },
     "execution_count": 8,
     "metadata": {},
     "output_type": "execute_result"
    }
   ],
   "source": [
    "res2"
   ]
  },
  {
   "cell_type": "code",
   "execution_count": 9,
   "id": "e4319417",
   "metadata": {},
   "outputs": [
    {
     "data": {
      "text/plain": [
       "     fun: -0.24999999999998732\n",
       " message: 'Solution found.'\n",
       "    nfev: 10\n",
       "  status: 0\n",
       " success: True\n",
       "       x: -0.707106701474177"
      ]
     },
     "execution_count": 9,
     "metadata": {},
     "output_type": "execute_result"
    }
   ],
   "source": [
    "res3 = minimize_scalar(objective_function2, method='bounded', bounds=(-1, 0))\n",
    "res3"
   ]
  },
  {
   "cell_type": "code",
   "execution_count": 10,
   "id": "f76922e1",
   "metadata": {},
   "outputs": [],
   "source": [
    "## optimization problem\n",
    "import numpy as np\n",
    "from scipy.optimize import minimize, LinearConstraint\n",
    "\n",
    "n_buyers = 10\n",
    "n_shares = 15"
   ]
  },
  {
   "cell_type": "code",
   "execution_count": 11,
   "id": "26960b4d",
   "metadata": {},
   "outputs": [],
   "source": [
    "np.random.seed(10)\n",
    "prices = np.random.random(n_buyers)\n",
    "money_available = np.random.randint(1, 4, n_buyers)"
   ]
  },
  {
   "cell_type": "code",
   "execution_count": 12,
   "id": "ab200540",
   "metadata": {},
   "outputs": [
    {
     "name": "stdout",
     "output_type": "stream",
     "text": [
      "[0.77132064 0.02075195 0.63364823 0.74880388 0.49850701 0.22479665\n",
      " 0.19806286 0.76053071 0.16911084 0.08833981]\n",
      "[1 1 1 3 1 3 3 2 1 1]\n",
      "[ 1.29647768 48.18824404  1.57816269  4.00638948  2.00598984 13.34539487\n",
      " 15.14670609  2.62974258  5.91328161 11.3199242 ]\n"
     ]
    }
   ],
   "source": [
    "n_shares_per_buyer = money_available / prices\n",
    "print(prices, money_available, n_shares_per_buyer, sep=\"\\n\")"
   ]
  },
  {
   "cell_type": "markdown",
   "id": "2dd1a072",
   "metadata": {},
   "source": [
    "first row is array of prices, followed by maximum cash available (int between 1 and 4), then you can see how many shares a buyer can purchase."
   ]
  },
  {
   "cell_type": "code",
   "execution_count": 13,
   "id": "9e928170",
   "metadata": {},
   "outputs": [],
   "source": [
    "constraint = LinearConstraint(np.ones(n_buyers), lb=n_shares, ub=n_shares)\n",
    "# cant buy more shares than whats available"
   ]
  },
  {
   "cell_type": "code",
   "execution_count": 14,
   "id": "feab17a2",
   "metadata": {},
   "outputs": [],
   "source": [
    "bounds = [(0, n) for n in n_shares_per_buyer]"
   ]
  },
  {
   "cell_type": "code",
   "execution_count": 15,
   "id": "4803cc6a",
   "metadata": {},
   "outputs": [],
   "source": [
    "def objective_function(x, prices):\n",
    "    return -x.dot(prices)"
   ]
  },
  {
   "cell_type": "code",
   "execution_count": 16,
   "id": "58a47986",
   "metadata": {},
   "outputs": [],
   "source": [
    "res = minimize(\n",
    "    objective_function, # what we're optimizing\n",
    "    x0=10 * np.random.random(n_buyers), # guess for values of the solution\n",
    "    args=(prices,), # tuple of other arguments necessary to be passed into the objective function\n",
    "    constraints=constraint, # sequence of constraints on the problem. # of available shares\n",
    "    bounds=bounds, # last argument in the sequence of bounds on the solution variables we generated earlier\n",
    ")"
   ]
  },
  {
   "cell_type": "code",
   "execution_count": 17,
   "id": "f974b1b3",
   "metadata": {},
   "outputs": [
    {
     "data": {
      "text/plain": [
       "     fun: -8.783020157087716\n",
       "     jac: array([-0.77132058, -0.02075195, -0.63364816, -0.74880385, -0.49850702,\n",
       "       -0.22479665, -0.1980629 , -0.76053071, -0.16911077, -0.08833981])\n",
       " message: 'Optimization terminated successfully'\n",
       "    nfev: 187\n",
       "     nit: 17\n",
       "    njev: 17\n",
       "  status: 0\n",
       " success: True\n",
       "       x: array([1.29647768, 0.        , 1.57816269, 4.00638948, 2.00598984,\n",
       "       3.48323773, 0.        , 2.62974258, 0.        , 0.        ])"
      ]
     },
     "execution_count": 17,
     "metadata": {},
     "output_type": "execute_result"
    }
   ],
   "source": [
    "res"
   ]
  },
  {
   "cell_type": "code",
   "execution_count": 18,
   "id": "8c99eb62",
   "metadata": {},
   "outputs": [
    {
     "name": "stdout",
     "output_type": "stream",
     "text": [
      "The total number of shares is: 15.000000000000071\n",
      "Leftover money for each buyer: [0.         1.         0.         0.         0.         2.21697984\n",
      " 3.         0.         1.         1.        ]\n"
     ]
    }
   ],
   "source": [
    "print(\"The total number of shares is:\", sum(res.x))\n",
    "print(\"Leftover money for each buyer:\", money_available - res.x * prices)"
   ]
  },
  {
   "cell_type": "markdown",
   "id": "efea1bfc",
   "metadata": {},
   "source": [
    "# practice test"
   ]
  },
  {
   "cell_type": "code",
   "execution_count": 19,
   "id": "7a7f9f78",
   "metadata": {},
   "outputs": [],
   "source": [
    "def question3(x):\n",
    "    return 4 * (x - 1) ** 2 + 5 # put in our function"
   ]
  },
  {
   "cell_type": "code",
   "execution_count": 20,
   "id": "af200d07",
   "metadata": {},
   "outputs": [
    {
     "data": {
      "text/plain": [
       "     fun: 5.0\n",
       "    nfev: 8\n",
       "     nit: 4\n",
       " success: True\n",
       "       x: 1.0"
      ]
     },
     "execution_count": 20,
     "metadata": {},
     "output_type": "execute_result"
    }
   ],
   "source": [
    "reso = minimize_scalar(question3)\n",
    "reso"
   ]
  },
  {
   "cell_type": "code",
   "execution_count": null,
   "id": "8afbb2cf",
   "metadata": {},
   "outputs": [],
   "source": []
  },
  {
   "cell_type": "code",
   "execution_count": null,
   "id": "bce7ce78",
   "metadata": {},
   "outputs": [],
   "source": []
  },
  {
   "cell_type": "code",
   "execution_count": null,
   "id": "740ece5a",
   "metadata": {},
   "outputs": [],
   "source": []
  },
  {
   "cell_type": "code",
   "execution_count": null,
   "id": "dd978771",
   "metadata": {},
   "outputs": [],
   "source": []
  },
  {
   "cell_type": "code",
   "execution_count": null,
   "id": "27817f63",
   "metadata": {},
   "outputs": [],
   "source": []
  }
 ],
 "metadata": {
  "kernelspec": {
   "display_name": "Python 3",
   "language": "python",
   "name": "python3"
  },
  "language_info": {
   "codemirror_mode": {
    "name": "ipython",
    "version": 3
   },
   "file_extension": ".py",
   "mimetype": "text/x-python",
   "name": "python",
   "nbconvert_exporter": "python",
   "pygments_lexer": "ipython3",
   "version": "3.8.8"
  }
 },
 "nbformat": 4,
 "nbformat_minor": 5
}
