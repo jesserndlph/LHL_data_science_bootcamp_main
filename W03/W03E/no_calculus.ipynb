{
 "cells": [
  {
   "cell_type": "code",
   "execution_count": 18,
   "id": "6dc73ab5",
   "metadata": {},
   "outputs": [],
   "source": [
    "import pandas as pd\n",
    "import numpy as np\n",
    "import matplotlib.pyplot as plt"
   ]
  },
  {
   "cell_type": "code",
   "execution_count": 2,
   "id": "79667d26",
   "metadata": {},
   "outputs": [],
   "source": [
    "x = pd.DataFrame()"
   ]
  },
  {
   "cell_type": "code",
   "execution_count": 3,
   "id": "9583e5cd",
   "metadata": {},
   "outputs": [],
   "source": [
    "charge = 500\n",
    "discount = 5\n",
    "charge_list = []\n",
    "discount_list = []"
   ]
  },
  {
   "cell_type": "code",
   "execution_count": 4,
   "id": "d4cad0a7",
   "metadata": {},
   "outputs": [],
   "source": [
    "for i in range(50):\n",
    "    charge-=10\n",
    "    charge_list.append(charge)"
   ]
  },
  {
   "cell_type": "code",
   "execution_count": 5,
   "id": "818d6aca",
   "metadata": {},
   "outputs": [],
   "source": [
    "for i in range(50):\n",
    "    discount+=5\n",
    "    discount_list.append(discount)"
   ]
  },
  {
   "cell_type": "code",
   "execution_count": 6,
   "id": "a7cd267e",
   "metadata": {},
   "outputs": [],
   "source": [
    "x[\"charge\"] = charge_list\n",
    "x[\"discount\"] = discount_list"
   ]
  },
  {
   "cell_type": "code",
   "execution_count": 7,
   "id": "11ccf4bd",
   "metadata": {},
   "outputs": [
    {
     "data": {
      "text/html": [
       "<div>\n",
       "<style scoped>\n",
       "    .dataframe tbody tr th:only-of-type {\n",
       "        vertical-align: middle;\n",
       "    }\n",
       "\n",
       "    .dataframe tbody tr th {\n",
       "        vertical-align: top;\n",
       "    }\n",
       "\n",
       "    .dataframe thead th {\n",
       "        text-align: right;\n",
       "    }\n",
       "</style>\n",
       "<table border=\"1\" class=\"dataframe\">\n",
       "  <thead>\n",
       "    <tr style=\"text-align: right;\">\n",
       "      <th></th>\n",
       "      <th>charge</th>\n",
       "      <th>discount</th>\n",
       "    </tr>\n",
       "  </thead>\n",
       "  <tbody>\n",
       "    <tr>\n",
       "      <th>0</th>\n",
       "      <td>490</td>\n",
       "      <td>10</td>\n",
       "    </tr>\n",
       "    <tr>\n",
       "      <th>1</th>\n",
       "      <td>480</td>\n",
       "      <td>15</td>\n",
       "    </tr>\n",
       "    <tr>\n",
       "      <th>2</th>\n",
       "      <td>470</td>\n",
       "      <td>20</td>\n",
       "    </tr>\n",
       "    <tr>\n",
       "      <th>3</th>\n",
       "      <td>460</td>\n",
       "      <td>25</td>\n",
       "    </tr>\n",
       "    <tr>\n",
       "      <th>4</th>\n",
       "      <td>450</td>\n",
       "      <td>30</td>\n",
       "    </tr>\n",
       "  </tbody>\n",
       "</table>\n",
       "</div>"
      ],
      "text/plain": [
       "   charge  discount\n",
       "0     490        10\n",
       "1     480        15\n",
       "2     470        20\n",
       "3     460        25\n",
       "4     450        30"
      ]
     },
     "execution_count": 7,
     "metadata": {},
     "output_type": "execute_result"
    }
   ],
   "source": [
    "x.head()"
   ]
  },
  {
   "cell_type": "code",
   "execution_count": 8,
   "id": "5f7e5651",
   "metadata": {},
   "outputs": [],
   "source": [
    "members_list = []\n",
    "members = 0\n",
    "for i in range(50):\n",
    "    members+=4\n",
    "    members_list.append(members)"
   ]
  },
  {
   "cell_type": "code",
   "execution_count": 9,
   "id": "da67e198",
   "metadata": {},
   "outputs": [],
   "source": [
    "x[\"members\"] = members_list"
   ]
  },
  {
   "cell_type": "code",
   "execution_count": 15,
   "id": "23d9032d",
   "metadata": {},
   "outputs": [],
   "source": [
    "x[\"revenue\"] = x.charge*x.members"
   ]
  },
  {
   "cell_type": "code",
   "execution_count": 31,
   "id": "7681812d",
   "metadata": {},
   "outputs": [
    {
     "data": {
      "image/png": "[encoded data removed]",
      "text/plain": [
       "<Figure size 432x288 with 1 Axes>"
      ]
     },
     "metadata": {
      "needs_background": "light"
     },
     "output_type": "display_data"
    }
   ],
   "source": [
    "fig, ax = plt.subplots()\n",
    "ax.plot(x.charge, x.revenue)\n",
    "\n",
    "ax.set(xlabel='charge', ylabel='revenue',\n",
    "       title='how much to charge?')\n",
    "ax.grid()"
   ]
  },
  {
   "cell_type": "code",
   "execution_count": null,
   "id": "15876f8d",
   "metadata": {},
   "outputs": [],
   "source": []
  },
  {
   "cell_type": "code",
   "execution_count": null,
   "id": "6534462f",
   "metadata": {},
   "outputs": [],
   "source": []
  }
 ],
 "metadata": {
  "kernelspec": {
   "display_name": "Python 3",
   "language": "python",
   "name": "python3"
  },
  "language_info": {
   "codemirror_mode": {
    "name": "ipython",
    "version": 3
   },
   "file_extension": ".py",
   "mimetype": "text/x-python",
   "name": "python",
   "nbconvert_exporter": "python",
   "pygments_lexer": "ipython3",
   "version": "3.8.8"
  }
 },
 "nbformat": 4,
 "nbformat_minor": 5
}
