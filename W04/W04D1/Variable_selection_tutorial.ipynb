{
 "cells": [
  {
   "cell_type": "code",
   "execution_count": 1,
   "id": "9074871a",
   "metadata": {},
   "outputs": [],
   "source": [
    "import pandas as pd\n",
    "import numpy as np\n",
    "import matplotlib.pyplot as plt"
   ]
  },
  {
   "cell_type": "code",
   "execution_count": 2,
   "id": "98ed3f9a",
   "metadata": {},
   "outputs": [],
   "source": [
    "df = pd.read_csv(\"house_prices.csv\")"
   ]
  },
  {
   "cell_type": "code",
   "execution_count": 3,
   "id": "b5da3f26",
   "metadata": {},
   "outputs": [],
   "source": [
    "y = df.SalePrice\n",
    "df.drop(\"SalePrice\",axis=1, inplace=True)\n",
    "# now we have our X,y set. X is DF and y is our saleprice! NICE!"
   ]
  },
  {
   "cell_type": "markdown",
   "id": "91f4c267",
   "metadata": {},
   "source": [
    "## removing features with small variance"
   ]
  },
  {
   "cell_type": "code",
   "execution_count": 4,
   "id": "ff014524",
   "metadata": {},
   "outputs": [],
   "source": [
    "from sklearn.feature_selection import VarianceThreshold\n",
    "\n",
    "vt = VarianceThreshold(0.1)\n",
    "df_transformed = vt.fit_transform(df)"
   ]
  },
  {
   "cell_type": "markdown",
   "id": "d9ca724b",
   "metadata": {},
   "source": [
    "#### As mentioned last week, fit_transform() in sklearn transforms an object from DataFrame to numpy.array and we are losing column names, so we need to do some tricks to get them back!"
   ]
  },
  {
   "cell_type": "code",
   "execution_count": 5,
   "id": "30ba4d18",
   "metadata": {},
   "outputs": [],
   "source": [
    "# columns we have selected\n",
    "# get_support() is method of VarianceThreshold and stores boolean of each variable in the numpy array.\n",
    "selected_columns = df.columns[vt.get_support()]\n",
    "# transforming an array back to a data-frame preserves column labels\n",
    "df_transformed = pd.DataFrame(df_transformed, columns = selected_columns)"
   ]
  },
  {
   "cell_type": "markdown",
   "id": "765b284d",
   "metadata": {},
   "source": [
    "## removing correlated features"
   ]
  },
  {
   "cell_type": "code",
   "execution_count": 6,
   "id": "ce1ffa82",
   "metadata": {},
   "outputs": [],
   "source": [
    "# step 1 calculate a correlation matrix\n",
    "df_corr = df_transformed.corr().abs()\n",
    "\n",
    "# step 2 get pairs of highly correlated figures\n",
    "indices = np.where(df_corr > 0.8) \n",
    "indices = [(df_corr.index[x], df_corr.columns[y]) \n",
    "for x, y in zip(*indices)\n",
    "    if x != y and x < y]\n",
    "\n",
    "# step 3 remove correlated columns\n",
    "for idx in indices: #each pair\n",
    "    try:\n",
    "        df_transformed.drop(idx[1], axis = 1, inplace=True)\n",
    "    except KeyError:\n",
    "        pass"
   ]
  },
  {
   "cell_type": "code",
   "execution_count": 7,
   "id": "282045d2",
   "metadata": {},
   "outputs": [
    {
     "name": "stdout",
     "output_type": "stream",
     "text": [
      "[('TotalBsmtSF', '1stFlrSF'), ('GrLivArea', 'TotRmsAbvGrd'), ('GrLivArea', '1stFlr_2ndFlr_SF'), ('TotRmsAbvGrd', '1stFlr_2ndFlr_SF'), ('GarageCars', 'GarageArea'), ('GarageQual', 'GarageCond')]\n"
     ]
    }
   ],
   "source": [
    "print(indices) # highly correlated pairs"
   ]
  },
  {
   "cell_type": "markdown",
   "id": "8f525295",
   "metadata": {},
   "source": [
    "## forward regression"
   ]
  },
  {
   "cell_type": "code",
   "execution_count": 8,
   "id": "d39fc819",
   "metadata": {},
   "outputs": [],
   "source": [
    "from sklearn.feature_selection import f_regression, SelectKBest\n",
    "skb = SelectKBest(f_regression, k=10)\n",
    "X = skb.fit_transform(df_transformed, y)"
   ]
  },
  {
   "cell_type": "code",
   "execution_count": 9,
   "id": "e1452fc9",
   "metadata": {},
   "outputs": [],
   "source": [
    "# this will give us the position of top 10 columns\n",
    "skb.get_support()\n",
    "# column names\n",
    "df_transformed.columns[skb.get_support()]\n",
    "X = pd.DataFrame(X,columns=df_transformed.columns[skb.get_support()]) # back to DataFrame"
   ]
  },
  {
   "cell_type": "markdown",
   "id": "f468519e",
   "metadata": {},
   "source": [
    "# statsmodel"
   ]
  },
  {
   "cell_type": "code",
   "execution_count": 10,
   "id": "9dd2509e",
   "metadata": {},
   "outputs": [],
   "source": [
    "import statsmodels.api as sm"
   ]
  },
  {
   "cell_type": "code",
   "execution_count": 12,
   "id": "e468f5f0",
   "metadata": {},
   "outputs": [],
   "source": [
    "X = sm.add_constant(X) # adding a constant"
   ]
  },
  {
   "cell_type": "code",
   "execution_count": 13,
   "id": "a6b0a1f4",
   "metadata": {},
   "outputs": [],
   "source": [
    "lin_reg = sm.OLS(y,X) # LEAST SQUARES \"OLS\""
   ]
  },
  {
   "cell_type": "code",
   "execution_count": 14,
   "id": "14edc833",
   "metadata": {},
   "outputs": [
    {
     "name": "stdout",
     "output_type": "stream",
     "text": [
      "                            OLS Regression Results                            \n",
      "==============================================================================\n",
      "Dep. Variable:              SalePrice   R-squared:                       0.835\n",
      "Model:                            OLS   Adj. R-squared:                  0.834\n",
      "Method:                 Least Squares   F-statistic:                     732.0\n",
      "Date:                Wed, 06 Oct 2021   Prob (F-statistic):               0.00\n",
      "Time:                        12:47:49   Log-Likelihood:                -17206.\n",
      "No. Observations:                1458   AIC:                         3.443e+04\n",
      "Df Residuals:                    1447   BIC:                         3.449e+04\n",
      "Df Model:                          10                                         \n",
      "Covariance Type:            nonrobust                                         \n",
      "================================================================================\n",
      "                   coef    std err          t      P>|t|      [0.025      0.975]\n",
      "--------------------------------------------------------------------------------\n",
      "const        -8.992e+05   8.93e+04    -10.069      0.000   -1.07e+06   -7.24e+05\n",
      "OverallQual   5507.5419   1492.215      3.691      0.000    2580.406    8434.678\n",
      "YearBuilt      392.2864     47.578      8.245      0.000     298.958     485.615\n",
      "ExterQual     1.447e+04   2498.908      5.789      0.000    9564.917    1.94e+04\n",
      "BsmtQual       920.7862   1443.233      0.638      0.524   -1910.266    3751.839\n",
      "TotalBsmtSF     42.1385      2.705     15.581      0.000      36.833      47.444\n",
      "GrLivArea       66.8550      2.624     25.476      0.000      61.707      72.003\n",
      "FullBath     -1.122e+04   2268.762     -4.945      0.000   -1.57e+04   -6768.180\n",
      "KitchenQual   1.147e+04   1981.665      5.788      0.000    7582.652    1.54e+04\n",
      "GarageCars    9314.4359   1565.232      5.951      0.000    6244.069    1.24e+04\n",
      "OverallGrade  1078.1960    150.946      7.143      0.000     782.100    1374.292\n",
      "==============================================================================\n",
      "Omnibus:                      574.228   Durbin-Watson:                   1.967\n",
      "Prob(Omnibus):                  0.000   Jarque-Bera (JB):             5878.203\n",
      "Skew:                           1.540   Prob(JB):                         0.00\n",
      "Kurtosis:                      12.342   Cond. No.                     2.87e+05\n",
      "==============================================================================\n",
      "\n",
      "Notes:\n",
      "[1] Standard Errors assume that the covariance matrix of the errors is correctly specified.\n",
      "[2] The condition number is large, 2.87e+05. This might indicate that there are\n",
      "strong multicollinearity or other numerical problems.\n"
     ]
    }
   ],
   "source": [
    "model = lin_reg.fit()\n",
    "print_model = model.summary()\n",
    "print(print_model)"
   ]
  },
  {
   "cell_type": "markdown",
   "id": "52fe977c",
   "metadata": {},
   "source": [
    "# sklearn"
   ]
  },
  {
   "cell_type": "code",
   "execution_count": 16,
   "id": "a2b4ab2e",
   "metadata": {},
   "outputs": [
    {
     "data": {
      "text/plain": [
       "LinearRegression()"
      ]
     },
     "execution_count": 16,
     "metadata": {},
     "output_type": "execute_result"
    }
   ],
   "source": [
    "from sklearn.linear_model import LinearRegression\n",
    "regressor = LinearRegression()\n",
    "regressor.fit(X,y)"
   ]
  },
  {
   "cell_type": "code",
   "execution_count": 17,
   "id": "8eb00b19",
   "metadata": {},
   "outputs": [
    {
     "name": "stdout",
     "output_type": "stream",
     "text": [
      "[     0.           5507.54189138    392.2863556   14466.78601472\n",
      "    920.78618122     42.13854481     66.85496149 -11218.59562134\n",
      "  11469.89475761   9314.43585305   1078.19597724]\n"
     ]
    }
   ],
   "source": [
    "print(regressor.coef_)"
   ]
  },
  {
   "cell_type": "code",
   "execution_count": 18,
   "id": "4ec5b7a1",
   "metadata": {},
   "outputs": [
    {
     "data": {
      "text/plain": [
       "0.83494920713919"
      ]
     },
     "execution_count": 18,
     "metadata": {},
     "output_type": "execute_result"
    }
   ],
   "source": [
    "regressor.score(X,y)"
   ]
  },
  {
   "cell_type": "code",
   "execution_count": null,
   "id": "069e67c1",
   "metadata": {},
   "outputs": [],
   "source": []
  }
 ],
 "metadata": {
  "kernelspec": {
   "display_name": "Python 3 (ipykernel)",
   "language": "python",
   "name": "python3"
  },
  "language_info": {
   "codemirror_mode": {
    "name": "ipython",
    "version": 3
   },
   "file_extension": ".py",
   "mimetype": "text/x-python",
   "name": "python",
   "nbconvert_exporter": "python",
   "pygments_lexer": "ipython3",
   "version": "3.8.12"
  }
 },
 "nbformat": 4,
 "nbformat_minor": 5
}
