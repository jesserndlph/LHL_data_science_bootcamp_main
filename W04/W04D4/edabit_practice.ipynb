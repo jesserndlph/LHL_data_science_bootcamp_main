{
 "cells": [
  {
   "cell_type": "code",
   "execution_count": 3,
   "id": "15f31ca6",
   "metadata": {},
   "outputs": [],
   "source": [
    "def end_corona(recovers, new_cases, active_cases):\n",
    "    day=0\n",
    "    while active_cases > 0:\n",
    "        active_cases = active_cases+new_cases-recovers\n",
    "        day+=1\n",
    "    return day"
   ]
  },
  {
   "cell_type": "code",
   "execution_count": 4,
   "id": "2d463168",
   "metadata": {},
   "outputs": [
    {
     "data": {
      "text/plain": [
       "35"
      ]
     },
     "execution_count": 4,
     "metadata": {},
     "output_type": "execute_result"
    }
   ],
   "source": [
    "end_corona(4000,2000,70000)"
   ]
  },
  {
   "cell_type": "code",
   "execution_count": 5,
   "id": "7958a3ae",
   "metadata": {},
   "outputs": [
    {
     "data": {
      "text/plain": [
       "0.017453292519943295"
      ]
     },
     "execution_count": 5,
     "metadata": {},
     "output_type": "execute_result"
    }
   ],
   "source": [
    "import math\n",
    "math.radians(1)"
   ]
  },
  {
   "cell_type": "code",
   "execution_count": null,
   "id": "554a7684",
   "metadata": {},
   "outputs": [],
   "source": []
  }
 ],
 "metadata": {
  "kernelspec": {
   "display_name": "Python 3 (ipykernel)",
   "language": "python",
   "name": "python3"
  },
  "language_info": {
   "codemirror_mode": {
    "name": "ipython",
    "version": 3
   },
   "file_extension": ".py",
   "mimetype": "text/x-python",
   "name": "python",
   "nbconvert_exporter": "python",
   "pygments_lexer": "ipython3",
   "version": "3.9.7"
  }
 },
 "nbformat": 4,
 "nbformat_minor": 5
}
