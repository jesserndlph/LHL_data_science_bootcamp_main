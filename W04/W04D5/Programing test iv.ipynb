{
 "cells": [
  {
   "cell_type": "code",
   "execution_count": 1,
   "id": "611ddfd7-20be-48fb-9cbd-d1180d17ed0b",
   "metadata": {},
   "outputs": [],
   "source": [
    "\"\"\"\n",
    "\n",
    "#00\n",
    "A pie chart is a circular graphical representation of a dataset, \n",
    "where each category frequency is represented by a slice (or circular sector) \n",
    "with an amplitude in degrees given by the single frequency percentage over the total of frequencies. \n",
    "\n",
    "You can obtain the degrees of sectors following these steps:\n",
    "    - Calculate frequencies total.\n",
    "    - Calculate percentage of every category frequency dividing it by the frequencies total.\n",
    "    - Transform every percentage in degrees multiplying it for 360.\n",
    "\n",
    "You are given a dictionary data with keys being the data categories (represented by letters) and values \n",
    "being the data frequencies. Implement a function that returns a map to design a pie chart, \n",
    "like to say the same dictionary with values transformed in degrees instead of frequencies. \n",
    "Round final values to the nearest tenth.\n",
    "\n",
    "Example:\n",
    "    pie_chart({ \"a\": 1, \"b\": 2 }) ➞ { \"a\": 120, \"b\": 240 }\n",
    "\n",
    "    pie_chart({ \"a\": 30, \"b\": 15, \"c\": 55 }) ➞ { \"a\": 108, \"b\": 54, \"c\": 198 }\n",
    "\n",
    "    pie_chart({ \"a\": 8, \"b\": 21, \"c\": 12, \"d\": 5, \"e\": 4 }) ➞ { \"a\": 57.6, \"b\": 151.2, \"c\": 86.4, \"d\": 36, \"e\": 28.8 }\n",
    "\"\"\"\n",
    "\n",
    "\n",
    "def pie_chart(dictionary):\n",
    "    total = 0\n",
    "    degrees = dict()\n",
    "    for value in dictionary.values():\n",
    "        total += value\n",
    "    for key, value in dictionary.items():\n",
    "        degree = 360 * (value / total)\n",
    "        degrees[key] = degree\n",
    "    return degrees"
   ]
  },
  {
   "cell_type": "code",
   "execution_count": 8,
   "id": "8463c879-d35d-4ec5-b9e7-67b3d2b349ef",
   "metadata": {},
   "outputs": [
    {
     "data": {
      "text/plain": [
       "{'a': 57.6, 'b': 151.2, 'c': 86.39999999999999, 'd': 36.0, 'e': 28.8}"
      ]
     },
     "execution_count": 8,
     "metadata": {},
     "output_type": "execute_result"
    }
   ],
   "source": [
    "pie_chart({ \"a\": 8, \"b\": 21, \"c\": 12, \"d\": 5, \"e\": 4 })"
   ]
  },
  {
   "cell_type": "code",
   "execution_count": 5,
   "id": "9374c905-ea42-4c82-8f45-123d1f655552",
   "metadata": {},
   "outputs": [],
   "source": [
    "\"\"\"\n",
    "\n",
    "#01\n",
    "Create a function that performs an even-odd transform to a list, n times. \n",
    "Each even-odd transformation:\n",
    "    - Adds 2(+2) to each odd integer.\n",
    "    - Subtracts 2 (-2) to each even integer.\n",
    "\n",
    "Example:\n",
    "    even_odd_transform([3, 4, 9], 3) ➞ [9, -2, 15]\n",
    "    # Since [3, 4, 9] => [5, 2, 11] => [7, 0, 13] => [9, -2, 15]\n",
    "\n",
    "    even_odd_transform([0, 0, 0], 10) ➞ [-20, -20, -20]\n",
    "\n",
    "    even_odd_transform([1, 2, 3], 1) ➞ [3, 0, 5]\n",
    "\n",
    "\"\"\"\n",
    "\n",
    "def even_odd_transform(lst,repeat):\n",
    "    for i in range(repeat):\n",
    "        for j in range(len(lst)):\n",
    "            if lst[j] % 2 == 1:\n",
    "                lst[j] += 2\n",
    "            else:\n",
    "                lst[j] -= 2\n",
    "    return lst"
   ]
  },
  {
   "cell_type": "code",
   "execution_count": 6,
   "id": "c5be8919-585c-46ad-9613-63edbb8fb9a4",
   "metadata": {},
   "outputs": [
    {
     "data": {
      "text/plain": [
       "[-20, -20, -20]"
      ]
     },
     "execution_count": 6,
     "metadata": {},
     "output_type": "execute_result"
    }
   ],
   "source": [
    "even_odd_transform([0, 0, 0], 10)"
   ]
  },
  {
   "cell_type": "code",
   "execution_count": null,
   "id": "60c96524-68b7-45e2-accd-c7c91a9bd04a",
   "metadata": {},
   "outputs": [],
   "source": [
    "import pandas as pd\n",
    "import sys\n",
    "from supporting_files.data_loader import load_excel\n",
    "\n",
    "df = load_excel('supporting_files/SaleData.xlsx')\n",
    "\n",
    "\n",
    "\"\"\"\n",
    "\n",
    "#02\n",
    "Write a Pandas program to find the total sale amount (Sale_amt) region and manager wise. \n",
    "Order the dataframe by Sale_amt, starting with the highest.\n",
    "Output should be DataFrame with 3 columns (order is important):\n",
    "    - Region\n",
    "    - Manager\n",
    "    - Sale_amt\n",
    "and numeric index starting with 0 (after sorting).\n",
    "\"\"\"\n",
    "\n",
    "def compute_total_sale(df):\n",
    "    return df[['Region','Manager','Sale_amt']]. groupby(['Region','Manager']).sum().sort_values(by=['Sale_amt'],ascending=False).reset_index()"
   ]
  }
 ],
 "metadata": {
  "kernelspec": {
   "display_name": "Python 3 (ipykernel)",
   "language": "python",
   "name": "python3"
  },
  "language_info": {
   "codemirror_mode": {
    "name": "ipython",
    "version": 3
   },
   "file_extension": ".py",
   "mimetype": "text/x-python",
   "name": "python",
   "nbconvert_exporter": "python",
   "pygments_lexer": "ipython3",
   "version": "3.8.12"
  }
 },
 "nbformat": 4,
 "nbformat_minor": 5
}
