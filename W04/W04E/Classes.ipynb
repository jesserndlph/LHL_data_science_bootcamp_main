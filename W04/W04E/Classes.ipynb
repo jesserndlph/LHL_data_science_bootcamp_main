{
 "cells": [
  {
   "cell_type": "code",
   "execution_count": 56,
   "id": "5ca418cb",
   "metadata": {},
   "outputs": [
    {
     "name": "stdout",
     "output_type": "stream",
     "text": [
      "52000\n",
      "54080\n"
     ]
    }
   ],
   "source": [
    "class Employee:\n",
    "    \n",
    "    raise_amount = 1.04\n",
    "    num_of_employees = 0\n",
    "    \n",
    "    def __init__(self,first,last,pay):\n",
    "        self.first=first\n",
    "        self.last=last\n",
    "        self.pay=pay\n",
    "        self.email = first + \".\" + last + \"@company.com\"\n",
    "        \n",
    "        Employee.num_of_employees += 1\n",
    "    \n",
    "    def fullname(self):\n",
    "        return \"{} {}\".format(self.first, self.last)\n",
    "\n",
    "    def apply_raise(self):\n",
    "        self.pay = int(self.pay * self.raise_amount)\n",
    "        \n",
    "    \n",
    "    @classmethod # now takes class as first instance\n",
    "    def set_raise_amt(cls, amount): # cls is class. can't say class lol\n",
    "        cls.raise_amount = amount   # our class is Employee. This'll change it all\n",
    "        \n",
    "    @classmethod # use case, method to parse strings.\n",
    "    def from_string(cls, emp_str):\n",
    "        first, last, pay = emp_str.split(\"-\")\n",
    "        return cls(first, last, pay)\n",
    "    \n",
    "    @staticmethod # statics dont use class. if no class use, use static.\n",
    "    def is_workday(day):\n",
    "        if day.weekday() == 5 or day.weekday() == 6: # 5 is saturday, 6 is sunday\n",
    "            return False\n",
    "        return True\n",
    "        \n",
    "        \n",
    "emp_1 = Employee(\"Louis\",\"Rossi\",52000)\n",
    "emp_2 = Employee(\"Lauren\",\"Rossi\",86000)\n",
    "\n",
    "print(emp_1.pay)\n",
    "emp_1.apply_raise()\n",
    "print(emp_1.pay)"
   ]
  },
  {
   "cell_type": "code",
   "execution_count": 38,
   "id": "e3faa392",
   "metadata": {},
   "outputs": [
    {
     "data": {
      "text/plain": [
       "{'first': 'Louis',\n",
       " 'last': 'Rossi',\n",
       " 'pay': 54080,\n",
       " 'email': 'Louis.Rossi@company.com'}"
      ]
     },
     "execution_count": 38,
     "metadata": {},
     "output_type": "execute_result"
    }
   ],
   "source": [
    "emp_1.__dict__"
   ]
  },
  {
   "cell_type": "code",
   "execution_count": 39,
   "id": "a814dc56",
   "metadata": {},
   "outputs": [
    {
     "data": {
      "text/plain": [
       "mappingproxy({'__module__': '__main__',\n",
       "              'raise_amount': 1.04,\n",
       "              'num_of_employees': 2,\n",
       "              '__init__': <function __main__.Employee.__init__(self, first, last, pay)>,\n",
       "              'fullname': <function __main__.Employee.fullname(self)>,\n",
       "              'apply_raise': <function __main__.Employee.apply_raise(self)>,\n",
       "              'set_raise_amt': <classmethod at 0x7fa3912d0190>,\n",
       "              '__dict__': <attribute '__dict__' of 'Employee' objects>,\n",
       "              '__weakref__': <attribute '__weakref__' of 'Employee' objects>,\n",
       "              '__doc__': None})"
      ]
     },
     "execution_count": 39,
     "metadata": {},
     "output_type": "execute_result"
    }
   ],
   "source": [
    "Employee.__dict__"
   ]
  },
  {
   "cell_type": "code",
   "execution_count": 40,
   "id": "f65a8aa6",
   "metadata": {},
   "outputs": [
    {
     "data": {
      "text/plain": [
       "1.04"
      ]
     },
     "execution_count": 40,
     "metadata": {},
     "output_type": "execute_result"
    }
   ],
   "source": [
    "# can change raise amount for one employee only.\n",
    "# it'll look at instances first (each employee)\n",
    "# if instance has no raise_amount, it'll default to class raise_amount\n",
    "\n",
    "Employee.raise_amount"
   ]
  },
  {
   "cell_type": "code",
   "execution_count": 41,
   "id": "2f40deb3",
   "metadata": {},
   "outputs": [
    {
     "data": {
      "text/plain": [
       "1.04"
      ]
     },
     "execution_count": 41,
     "metadata": {},
     "output_type": "execute_result"
    }
   ],
   "source": [
    "emp_1.raise_amount # since none in emp_1, it defaults to class"
   ]
  },
  {
   "cell_type": "code",
   "execution_count": 43,
   "id": "63f5fa3f",
   "metadata": {},
   "outputs": [
    {
     "name": "stdout",
     "output_type": "stream",
     "text": [
      "1.04\n",
      "1.07\n",
      "1.04\n"
     ]
    }
   ],
   "source": [
    "emp_1.raise_amount = 1.07\n",
    "print(Employee.raise_amount)\n",
    "print(emp_1.raise_amount)\n",
    "print(emp_2.raise_amount)"
   ]
  },
  {
   "cell_type": "code",
   "execution_count": 44,
   "id": "28ccbc7f",
   "metadata": {},
   "outputs": [
    {
     "name": "stdout",
     "output_type": "stream",
     "text": [
      "{'first': 'Louis', 'last': 'Rossi', 'pay': 54080, 'email': 'Louis.Rossi@company.com', 'raise_amount': 1.07}\n",
      "{'first': 'Lauren', 'last': 'Rossi', 'pay': 86000, 'email': 'Lauren.Rossi@company.com'}\n"
     ]
    }
   ],
   "source": [
    "print(emp_1.__dict__) # now has raise amount.\n",
    "print(emp_2.__dict__)"
   ]
  },
  {
   "cell_type": "code",
   "execution_count": 45,
   "id": "c0177d85",
   "metadata": {},
   "outputs": [
    {
     "data": {
      "text/plain": [
       "2"
      ]
     },
     "execution_count": 45,
     "metadata": {},
     "output_type": "execute_result"
    }
   ],
   "source": [
    "Employee.num_of_employees"
   ]
  },
  {
   "cell_type": "code",
   "execution_count": 33,
   "id": "5adede7a",
   "metadata": {},
   "outputs": [],
   "source": [
    "Employee.set_raise_amt(1.05) # Changes the whole class variable to 1.05"
   ]
  },
  {
   "cell_type": "code",
   "execution_count": 36,
   "id": "c65bbeee",
   "metadata": {},
   "outputs": [
    {
     "name": "stdout",
     "output_type": "stream",
     "text": [
      "1.05\n",
      "1.07\n",
      "1.05\n"
     ]
    }
   ],
   "source": [
    "print(Employee.raise_amount)\n",
    "print(emp_1.raise_amount)\n",
    "print(emp_2.raise_amount) # see? It changed it all. EXCEPT emp_1. We made that."
   ]
  },
  {
   "cell_type": "markdown",
   "id": "2fe78a31",
   "metadata": {},
   "source": [
    "### Usecase, getting employee info as strings with hyphens. Fix it"
   ]
  },
  {
   "cell_type": "code",
   "execution_count": 47,
   "id": "f0247e50",
   "metadata": {},
   "outputs": [],
   "source": [
    "emp_str_1 = \"John-Doe-70000\"\n",
    "emp_str_2 = \"Jane-Doe-78000\"\n",
    "emp_str_3= \"Steve-Smith-45000\""
   ]
  },
  {
   "cell_type": "code",
   "execution_count": 48,
   "id": "edfeab55",
   "metadata": {},
   "outputs": [],
   "source": [
    "first, last, pay = emp_str_1.split(\"-\")"
   ]
  },
  {
   "cell_type": "code",
   "execution_count": 49,
   "id": "f7fd8757",
   "metadata": {},
   "outputs": [],
   "source": [
    "new_emp_1 = Employee(first, last, pay)"
   ]
  },
  {
   "cell_type": "code",
   "execution_count": 50,
   "id": "0806b3cf",
   "metadata": {},
   "outputs": [
    {
     "data": {
      "text/plain": [
       "3"
      ]
     },
     "execution_count": 50,
     "metadata": {},
     "output_type": "execute_result"
    }
   ],
   "source": [
    "Employee.num_of_employees # now we have 3!"
   ]
  },
  {
   "cell_type": "code",
   "execution_count": 52,
   "id": "92c326f5",
   "metadata": {},
   "outputs": [
    {
     "name": "stdout",
     "output_type": "stream",
     "text": [
      "John.Doe@company.com\n",
      "70000\n"
     ]
    }
   ],
   "source": [
    "print(new_emp_1.email)\n",
    "print(new_emp_1.pay)"
   ]
  },
  {
   "cell_type": "code",
   "execution_count": 53,
   "id": "84eb5e7b",
   "metadata": {},
   "outputs": [],
   "source": [
    "### checking static method"
   ]
  },
  {
   "cell_type": "code",
   "execution_count": 57,
   "id": "82e4524d",
   "metadata": {},
   "outputs": [
    {
     "name": "stdout",
     "output_type": "stream",
     "text": [
      "False\n"
     ]
    }
   ],
   "source": [
    "import datetime\n",
    "my_date = datetime.date(2016, 7, 10)\n",
    "print(Employee.is_workday(my_date))"
   ]
  },
  {
   "cell_type": "code",
   "execution_count": null,
   "id": "05ccabf9",
   "metadata": {},
   "outputs": [],
   "source": []
  }
 ],
 "metadata": {
  "kernelspec": {
   "display_name": "Python 3",
   "language": "python",
   "name": "python3"
  },
  "language_info": {
   "codemirror_mode": {
    "name": "ipython",
    "version": 3
   },
   "file_extension": ".py",
   "mimetype": "text/x-python",
   "name": "python",
   "nbconvert_exporter": "python",
   "pygments_lexer": "ipython3",
   "version": "3.8.8"
  }
 },
 "nbformat": 4,
 "nbformat_minor": 5
}
