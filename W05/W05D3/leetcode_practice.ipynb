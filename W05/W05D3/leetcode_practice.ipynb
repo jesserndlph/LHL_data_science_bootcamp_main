{
 "cells": [
  {
   "cell_type": "code",
   "execution_count": 27,
   "id": "c3fe74b8",
   "metadata": {},
   "outputs": [
    {
     "data": {
      "text/plain": [
       "['Open', 'Senior', 'Open', 'Senior']"
      ]
     },
     "execution_count": 27,
     "metadata": {},
     "output_type": "execute_result"
    }
   ],
   "source": [
    "# my answer\n",
    "def open_or_senior(data):\n",
    "    slist = []\n",
    "    for i in data:\n",
    "        if i[0] >= 55 and i[1] > 7:\n",
    "            slist.append(\"Senior\")\n",
    "        else:\n",
    "            slist.append(\"Open\")\n",
    "    return slist\n",
    "\n",
    "open_or_senior([(45, 12),(55,21),(19, -2),(104, 20)])"
   ]
  },
  {
   "cell_type": "code",
   "execution_count": 28,
   "id": "2c4233ad",
   "metadata": {},
   "outputs": [],
   "source": [
    "# dirty answer\n",
    "def openOrSenior2(data):\n",
    "     return [\"Senior\" if age >= 55 and handicap >= 8 else \"Open\" for (age, handicap) in data] # wow."
   ]
  },
  {
   "cell_type": "code",
   "execution_count": 29,
   "id": "789a5cbd",
   "metadata": {},
   "outputs": [
    {
     "data": {
      "text/plain": [
       "['Open', 'Senior', 'Open', 'Senior']"
      ]
     },
     "execution_count": 29,
     "metadata": {},
     "output_type": "execute_result"
    }
   ],
   "source": [
    "openOrSenior2([(45, 12),(55,21),(19, -2),(104, 20)])"
   ]
  },
  {
   "cell_type": "code",
   "execution_count": 32,
   "id": "2d35fc7b",
   "metadata": {},
   "outputs": [],
   "source": [
    "# my answer\n",
    "# get sum of two lowest numbers in list\n",
    "# min drop min drop?\n",
    "def sum_two_smallest_numbers(numbers):\n",
    "    minimal = []\n",
    "    minimal.append(min(numbers))\n",
    "    numbers.remove(min(numbers))\n",
    "    minimal.append(min(numbers))\n",
    "    return sum(minimal)"
   ]
  },
  {
   "cell_type": "code",
   "execution_count": 34,
   "id": "7c2b6569",
   "metadata": {},
   "outputs": [],
   "source": [
    "# dirty answer\n",
    "def sum_two_smallest_numbers2(numbers):\n",
    "    return sum(sorted(numbers)[:2])"
   ]
  },
  {
   "cell_type": "code",
   "execution_count": 33,
   "id": "3493b851",
   "metadata": {},
   "outputs": [
    {
     "data": {
      "text/plain": [
       "13"
      ]
     },
     "execution_count": 33,
     "metadata": {},
     "output_type": "execute_result"
    }
   ],
   "source": [
    "sum_two_smallest_numbers([5, 8, 12, 18, 22])"
   ]
  },
  {
   "cell_type": "code",
   "execution_count": null,
   "id": "1669d271",
   "metadata": {},
   "outputs": [],
   "source": []
  }
 ],
 "metadata": {
  "kernelspec": {
   "display_name": "Python 3",
   "language": "python",
   "name": "python3"
  },
  "language_info": {
   "codemirror_mode": {
    "name": "ipython",
    "version": 3
   },
   "file_extension": ".py",
   "mimetype": "text/x-python",
   "name": "python",
   "nbconvert_exporter": "python",
   "pygments_lexer": "ipython3",
   "version": "3.8.8"
  }
 },
 "nbformat": 4,
 "nbformat_minor": 5
}
