{
 "cells": [
  {
   "cell_type": "code",
   "execution_count": 22,
   "id": "cfdcf080",
   "metadata": {},
   "outputs": [],
   "source": [
    "def xo(s):\n",
    "    countx = s.lower().count(\"x\")\n",
    "    counto = s.lower().count(\"o\")\n",
    "    return True if countx == counto else False"
   ]
  },
  {
   "cell_type": "code",
   "execution_count": 25,
   "id": "b04ab899",
   "metadata": {},
   "outputs": [
    {
     "name": "stdout",
     "output_type": "stream",
     "text": [
      "6 6\n"
     ]
    },
    {
     "data": {
      "text/plain": [
       "True"
      ]
     },
     "execution_count": 25,
     "metadata": {},
     "output_type": "execute_result"
    }
   ],
   "source": [
    "xo(\"xxxoxooxoxoo\")"
   ]
  },
  {
   "cell_type": "code",
   "execution_count": null,
   "id": "aa21f1ac",
   "metadata": {},
   "outputs": [],
   "source": []
  }
 ],
 "metadata": {
  "kernelspec": {
   "display_name": "Python 3 (ipykernel)",
   "language": "python",
   "name": "python3"
  },
  "language_info": {
   "codemirror_mode": {
    "name": "ipython",
    "version": 3
   },
   "file_extension": ".py",
   "mimetype": "text/x-python",
   "name": "python",
   "nbconvert_exporter": "python",
   "pygments_lexer": "ipython3",
   "version": "3.8.12"
  }
 },
 "nbformat": 4,
 "nbformat_minor": 5
}
