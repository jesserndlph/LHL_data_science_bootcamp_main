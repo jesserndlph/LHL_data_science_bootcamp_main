{
 "cells": [
  {
   "cell_type": "code",
   "execution_count": 7,
   "id": "944bf778",
   "metadata": {},
   "outputs": [],
   "source": [
    "string = \"banana\"\n",
    "res = [string[i: j] for i in range(len(string)) # substrings\n",
    "          for j in range(i + 1, len(string) + 1)]"
   ]
  },
  {
   "cell_type": "code",
   "execution_count": 13,
   "id": "8767b29d",
   "metadata": {},
   "outputs": [
    {
     "name": "stdout",
     "output_type": "stream",
     "text": [
      "Not a vowel start\n"
     ]
    }
   ],
   "source": [
    "if string[0].lower in [\"aeiou\"]:\n",
    "    print(\"Vowel start good\")\n",
    "else:\n",
    "    print(\"Not a vowel start\")"
   ]
  },
  {
   "cell_type": "code",
   "execution_count": 10,
   "id": "996c7216",
   "metadata": {},
   "outputs": [
    {
     "data": {
      "text/plain": [
       "str"
      ]
     },
     "execution_count": 10,
     "metadata": {},
     "output_type": "execute_result"
    }
   ],
   "source": [
    "type(string[0])"
   ]
  },
  {
   "cell_type": "code",
   "execution_count": null,
   "id": "40fbdd8b",
   "metadata": {},
   "outputs": [],
   "source": []
  }
 ],
 "metadata": {
  "kernelspec": {
   "display_name": "Python 3 (ipykernel)",
   "language": "python",
   "name": "python3"
  },
  "language_info": {
   "codemirror_mode": {
    "name": "ipython",
    "version": 3
   },
   "file_extension": ".py",
   "mimetype": "text/x-python",
   "name": "python",
   "nbconvert_exporter": "python",
   "pygments_lexer": "ipython3",
   "version": "3.8.12"
  }
 },
 "nbformat": 4,
 "nbformat_minor": 5
}
