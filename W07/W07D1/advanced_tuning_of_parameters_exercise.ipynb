{
 "cells": [
  {
   "cell_type": "markdown",
   "metadata": {},
   "source": [
    "## Advanced tuning of parameters\n",
    "\n",
    "In this tutorial, we will apply the skills from previous tutorials and build a classifier using the `Pipelines` and `FeatureUnion` functions from sklearn."
   ]
  },
  {
   "cell_type": "code",
   "execution_count": 1,
   "metadata": {
    "ExecuteTime": {
     "end_time": "2020-04-27T12:42:41.683438Z",
     "start_time": "2020-04-27T12:42:40.277500Z"
    }
   },
   "outputs": [],
   "source": [
    "# IMPORT PACKAGES"
   ]
  },
  {
   "cell_type": "code",
   "execution_count": 2,
   "metadata": {},
   "outputs": [],
   "source": [
    "from sklearn.svm import SVC\n",
    "import pandas as pd\n",
    "import numpy as np\n",
    "from sklearn.model_selection import GridSearchCV\n",
    "from sklearn.pipeline import Pipeline, FeatureUnion\n",
    "\n",
    "from sklearn.decomposition import PCA\n",
    "from sklearn.feature_selection import SelectKBest"
   ]
  },
  {
   "cell_type": "markdown",
   "metadata": {},
   "source": [
    "### Data\n",
    "\n",
    "We will be building a binary classifier that predicts wheter a person has diabetes or not, using information on the patient's health. \n",
    "\n",
    "The data can be found [here](https://drive.google.com/file/d/1TvCKlmH3Z32XAKk-VUcZyYu95Ccyw3PO/view?usp=sharing). \n"
   ]
  },
  {
   "cell_type": "code",
   "execution_count": 3,
   "metadata": {
    "ExecuteTime": {
     "end_time": "2020-04-27T12:42:42.514840Z",
     "start_time": "2020-04-27T12:42:42.076342Z"
    }
   },
   "outputs": [],
   "source": [
    "col_names = ['preg', 'plas', 'pres', 'skin', 'test', 'mass', 'pedi', 'age', 'class']"
   ]
  },
  {
   "cell_type": "code",
   "execution_count": 4,
   "metadata": {},
   "outputs": [],
   "source": [
    "df = pd.read_csv(\"pima-indians-diabetes.csv\",sep=\";\")"
   ]
  },
  {
   "cell_type": "code",
   "execution_count": 5,
   "metadata": {},
   "outputs": [
    {
     "data": {
      "text/html": [
       "<div>\n",
       "<style scoped>\n",
       "    .dataframe tbody tr th:only-of-type {\n",
       "        vertical-align: middle;\n",
       "    }\n",
       "\n",
       "    .dataframe tbody tr th {\n",
       "        vertical-align: top;\n",
       "    }\n",
       "\n",
       "    .dataframe thead th {\n",
       "        text-align: right;\n",
       "    }\n",
       "</style>\n",
       "<table border=\"1\" class=\"dataframe\">\n",
       "  <thead>\n",
       "    <tr style=\"text-align: right;\">\n",
       "      <th></th>\n",
       "      <th>preg</th>\n",
       "      <th>plas</th>\n",
       "      <th>pres</th>\n",
       "      <th>skin</th>\n",
       "      <th>test</th>\n",
       "      <th>mass</th>\n",
       "      <th>pedi</th>\n",
       "      <th>age</th>\n",
       "      <th>class</th>\n",
       "    </tr>\n",
       "  </thead>\n",
       "  <tbody>\n",
       "    <tr>\n",
       "      <th>0</th>\n",
       "      <td>6</td>\n",
       "      <td>148</td>\n",
       "      <td>72</td>\n",
       "      <td>35</td>\n",
       "      <td>0</td>\n",
       "      <td>33.6</td>\n",
       "      <td>0.627</td>\n",
       "      <td>50</td>\n",
       "      <td>1</td>\n",
       "    </tr>\n",
       "    <tr>\n",
       "      <th>1</th>\n",
       "      <td>1</td>\n",
       "      <td>85</td>\n",
       "      <td>66</td>\n",
       "      <td>29</td>\n",
       "      <td>0</td>\n",
       "      <td>26.6</td>\n",
       "      <td>0.351</td>\n",
       "      <td>31</td>\n",
       "      <td>0</td>\n",
       "    </tr>\n",
       "    <tr>\n",
       "      <th>2</th>\n",
       "      <td>8</td>\n",
       "      <td>183</td>\n",
       "      <td>64</td>\n",
       "      <td>0</td>\n",
       "      <td>0</td>\n",
       "      <td>23.3</td>\n",
       "      <td>0.672</td>\n",
       "      <td>32</td>\n",
       "      <td>1</td>\n",
       "    </tr>\n",
       "    <tr>\n",
       "      <th>3</th>\n",
       "      <td>1</td>\n",
       "      <td>89</td>\n",
       "      <td>66</td>\n",
       "      <td>23</td>\n",
       "      <td>94</td>\n",
       "      <td>28.1</td>\n",
       "      <td>0.167</td>\n",
       "      <td>21</td>\n",
       "      <td>0</td>\n",
       "    </tr>\n",
       "    <tr>\n",
       "      <th>4</th>\n",
       "      <td>0</td>\n",
       "      <td>137</td>\n",
       "      <td>40</td>\n",
       "      <td>35</td>\n",
       "      <td>168</td>\n",
       "      <td>43.1</td>\n",
       "      <td>2.288</td>\n",
       "      <td>33</td>\n",
       "      <td>1</td>\n",
       "    </tr>\n",
       "  </tbody>\n",
       "</table>\n",
       "</div>"
      ],
      "text/plain": [
       "   preg  plas  pres  skin  test  mass   pedi  age  class\n",
       "0     6   148    72    35     0  33.6  0.627   50      1\n",
       "1     1    85    66    29     0  26.6  0.351   31      0\n",
       "2     8   183    64     0     0  23.3  0.672   32      1\n",
       "3     1    89    66    23    94  28.1  0.167   21      0\n",
       "4     0   137    40    35   168  43.1  2.288   33      1"
      ]
     },
     "execution_count": 5,
     "metadata": {},
     "output_type": "execute_result"
    }
   ],
   "source": [
    "df.head()"
   ]
  },
  {
   "cell_type": "code",
   "execution_count": 6,
   "metadata": {},
   "outputs": [],
   "source": [
    "X, y = df.loc[ : , df.columns != 'class'], df['class']"
   ]
  },
  {
   "cell_type": "markdown",
   "metadata": {},
   "source": [
    "### Task\n",
    "\n",
    "Build classifier which predicts the target variable `class` using rest of the attributes. The model should be fitted using pipeline that contains:\n",
    "- PCA method\n",
    "- SelectKBest method\n",
    "- FeatureUnion\n",
    "- Random Forest\n",
    "\n",
    "Choose the best set of parameters using `Pipeline` and grid_search.\n",
    "\n",
    "> #### Note\n",
    "> **In this exercise, we are focusing on the implementation of pipeline. Since we have only 9 columns in our dataset the PCA is probably not the best technique to use during the data preparation from a methodology point of view.**"
   ]
  },
  {
   "cell_type": "code",
   "execution_count": 7,
   "metadata": {},
   "outputs": [],
   "source": [
    "pca = PCA(n_components=2)\n",
    "selection = SelectKBest(k=3)\n",
    "combined_features = FeatureUnion([(\"pca\", pca), (\"univ_select\", selection)])"
   ]
  },
  {
   "cell_type": "code",
   "execution_count": 8,
   "metadata": {},
   "outputs": [],
   "source": [
    "svm = SVC(kernel='linear')\n",
    "pipeline = Pipeline([(\"features\", combined_features), (\"svm\", svm)])"
   ]
  },
  {
   "cell_type": "code",
   "execution_count": 9,
   "metadata": {},
   "outputs": [],
   "source": [
    "param_grid = {\"features__pca__n_components\": [1, 2, 3],\n",
    "                  \"features__univ_select__k\": [1, 2, 3],\n",
    "                  \"svm__C\":[0.1, 1, 10]}"
   ]
  },
  {
   "cell_type": "code",
   "execution_count": 10,
   "metadata": {
    "ExecuteTime": {
     "end_time": "2020-03-19T08:47:53.792413Z",
     "start_time": "2020-03-19T08:47:53.786003Z"
    }
   },
   "outputs": [
    {
     "name": "stdout",
     "output_type": "stream",
     "text": [
      "Fitting 5 folds for each of 27 candidates, totalling 135 fits\n",
      "[CV 1/5; 1/27] START features__pca__n_components=1, features__univ_select__k=1, svm__C=0.1\n",
      "[CV 1/5; 1/27] END features__pca__n_components=1, features__univ_select__k=1, svm__C=0.1;, score=0.721 total time=   0.2s\n",
      "[CV 2/5; 1/27] START features__pca__n_components=1, features__univ_select__k=1, svm__C=0.1\n",
      "[CV 2/5; 1/27] END features__pca__n_components=1, features__univ_select__k=1, svm__C=0.1;, score=0.708 total time=   0.2s\n",
      "[CV 3/5; 1/27] START features__pca__n_components=1, features__univ_select__k=1, svm__C=0.1\n",
      "[CV 3/5; 1/27] END features__pca__n_components=1, features__univ_select__k=1, svm__C=0.1;, score=0.753 total time=   0.1s\n",
      "[CV 4/5; 1/27] START features__pca__n_components=1, features__univ_select__k=1, svm__C=0.1\n",
      "[CV 4/5; 1/27] END features__pca__n_components=1, features__univ_select__k=1, svm__C=0.1;, score=0.784 total time=   0.4s\n",
      "[CV 5/5; 1/27] START features__pca__n_components=1, features__univ_select__k=1, svm__C=0.1\n",
      "[CV 5/5; 1/27] END features__pca__n_components=1, features__univ_select__k=1, svm__C=0.1;, score=0.771 total time=   0.1s\n",
      "[CV 1/5; 2/27] START features__pca__n_components=1, features__univ_select__k=1, svm__C=1\n",
      "[CV 1/5; 2/27] END features__pca__n_components=1, features__univ_select__k=1, svm__C=1;, score=0.721 total time=   1.2s\n",
      "[CV 2/5; 2/27] START features__pca__n_components=1, features__univ_select__k=1, svm__C=1\n",
      "[CV 2/5; 2/27] END features__pca__n_components=1, features__univ_select__k=1, svm__C=1;, score=0.708 total time=   1.1s\n",
      "[CV 3/5; 2/27] START features__pca__n_components=1, features__univ_select__k=1, svm__C=1\n",
      "[CV 3/5; 2/27] END features__pca__n_components=1, features__univ_select__k=1, svm__C=1;, score=0.760 total time=   1.4s\n",
      "[CV 4/5; 2/27] START features__pca__n_components=1, features__univ_select__k=1, svm__C=1\n",
      "[CV 4/5; 2/27] END features__pca__n_components=1, features__univ_select__k=1, svm__C=1;, score=0.784 total time=   1.2s\n",
      "[CV 5/5; 2/27] START features__pca__n_components=1, features__univ_select__k=1, svm__C=1\n",
      "[CV 5/5; 2/27] END features__pca__n_components=1, features__univ_select__k=1, svm__C=1;, score=0.771 total time=   1.5s\n",
      "[CV 1/5; 3/27] START features__pca__n_components=1, features__univ_select__k=1, svm__C=10\n",
      "[CV 1/5; 3/27] END features__pca__n_components=1, features__univ_select__k=1, svm__C=10;, score=0.734 total time=  28.0s\n",
      "[CV 2/5; 3/27] START features__pca__n_components=1, features__univ_select__k=1, svm__C=10\n",
      "[CV 2/5; 3/27] END features__pca__n_components=1, features__univ_select__k=1, svm__C=10;, score=0.708 total time=   9.4s\n",
      "[CV 3/5; 3/27] START features__pca__n_components=1, features__univ_select__k=1, svm__C=10\n",
      "[CV 3/5; 3/27] END features__pca__n_components=1, features__univ_select__k=1, svm__C=10;, score=0.753 total time=  11.1s\n",
      "[CV 4/5; 3/27] START features__pca__n_components=1, features__univ_select__k=1, svm__C=10\n",
      "[CV 4/5; 3/27] END features__pca__n_components=1, features__univ_select__k=1, svm__C=10;, score=0.778 total time=  10.7s\n",
      "[CV 5/5; 3/27] START features__pca__n_components=1, features__univ_select__k=1, svm__C=10\n",
      "[CV 5/5; 3/27] END features__pca__n_components=1, features__univ_select__k=1, svm__C=10;, score=0.778 total time=  33.0s\n",
      "[CV 1/5; 4/27] START features__pca__n_components=1, features__univ_select__k=2, svm__C=0.1\n",
      "[CV 1/5; 4/27] END features__pca__n_components=1, features__univ_select__k=2, svm__C=0.1;, score=0.766 total time=   0.3s\n",
      "[CV 2/5; 4/27] START features__pca__n_components=1, features__univ_select__k=2, svm__C=0.1\n",
      "[CV 2/5; 4/27] END features__pca__n_components=1, features__univ_select__k=2, svm__C=0.1;, score=0.727 total time=   0.2s\n",
      "[CV 3/5; 4/27] START features__pca__n_components=1, features__univ_select__k=2, svm__C=0.1\n",
      "[CV 3/5; 4/27] END features__pca__n_components=1, features__univ_select__k=2, svm__C=0.1;, score=0.753 total time=   0.4s\n",
      "[CV 4/5; 4/27] START features__pca__n_components=1, features__univ_select__k=2, svm__C=0.1\n",
      "[CV 4/5; 4/27] END features__pca__n_components=1, features__univ_select__k=2, svm__C=0.1;, score=0.784 total time=   0.2s\n",
      "[CV 5/5; 4/27] START features__pca__n_components=1, features__univ_select__k=2, svm__C=0.1\n",
      "[CV 5/5; 4/27] END features__pca__n_components=1, features__univ_select__k=2, svm__C=0.1;, score=0.752 total time=   0.3s\n",
      "[CV 1/5; 5/27] START features__pca__n_components=1, features__univ_select__k=2, svm__C=1\n",
      "[CV 1/5; 5/27] END features__pca__n_components=1, features__univ_select__k=2, svm__C=1;, score=0.766 total time=   1.8s\n",
      "[CV 2/5; 5/27] START features__pca__n_components=1, features__univ_select__k=2, svm__C=1\n",
      "[CV 2/5; 5/27] END features__pca__n_components=1, features__univ_select__k=2, svm__C=1;, score=0.727 total time=   3.2s\n",
      "[CV 3/5; 5/27] START features__pca__n_components=1, features__univ_select__k=2, svm__C=1\n",
      "[CV 3/5; 5/27] END features__pca__n_components=1, features__univ_select__k=2, svm__C=1;, score=0.747 total time=   1.8s\n",
      "[CV 4/5; 5/27] START features__pca__n_components=1, features__univ_select__k=2, svm__C=1\n",
      "[CV 4/5; 5/27] END features__pca__n_components=1, features__univ_select__k=2, svm__C=1;, score=0.784 total time=   1.6s\n",
      "[CV 5/5; 5/27] START features__pca__n_components=1, features__univ_select__k=2, svm__C=1\n",
      "[CV 5/5; 5/27] END features__pca__n_components=1, features__univ_select__k=2, svm__C=1;, score=0.752 total time=   2.0s\n",
      "[CV 1/5; 6/27] START features__pca__n_components=1, features__univ_select__k=2, svm__C=10\n",
      "[CV 1/5; 6/27] END features__pca__n_components=1, features__univ_select__k=2, svm__C=10;, score=0.779 total time=  13.2s\n",
      "[CV 2/5; 6/27] START features__pca__n_components=1, features__univ_select__k=2, svm__C=10\n",
      "[CV 2/5; 6/27] END features__pca__n_components=1, features__univ_select__k=2, svm__C=10;, score=0.727 total time=  27.9s\n",
      "[CV 3/5; 6/27] START features__pca__n_components=1, features__univ_select__k=2, svm__C=10\n",
      "[CV 3/5; 6/27] END features__pca__n_components=1, features__univ_select__k=2, svm__C=10;, score=0.747 total time=  16.9s\n",
      "[CV 4/5; 6/27] START features__pca__n_components=1, features__univ_select__k=2, svm__C=10\n",
      "[CV 4/5; 6/27] END features__pca__n_components=1, features__univ_select__k=2, svm__C=10;, score=0.778 total time=  24.5s\n",
      "[CV 5/5; 6/27] START features__pca__n_components=1, features__univ_select__k=2, svm__C=10\n",
      "[CV 5/5; 6/27] END features__pca__n_components=1, features__univ_select__k=2, svm__C=10;, score=0.745 total time=  14.0s\n",
      "[CV 1/5; 7/27] START features__pca__n_components=1, features__univ_select__k=3, svm__C=0.1\n",
      "[CV 1/5; 7/27] END features__pca__n_components=1, features__univ_select__k=3, svm__C=0.1;, score=0.747 total time=   0.2s\n",
      "[CV 2/5; 7/27] START features__pca__n_components=1, features__univ_select__k=3, svm__C=0.1\n",
      "[CV 2/5; 7/27] END features__pca__n_components=1, features__univ_select__k=3, svm__C=0.1;, score=0.734 total time=   0.2s\n",
      "[CV 3/5; 7/27] START features__pca__n_components=1, features__univ_select__k=3, svm__C=0.1\n",
      "[CV 3/5; 7/27] END features__pca__n_components=1, features__univ_select__k=3, svm__C=0.1;, score=0.747 total time=   0.2s\n",
      "[CV 4/5; 7/27] START features__pca__n_components=1, features__univ_select__k=3, svm__C=0.1\n",
      "[CV 4/5; 7/27] END features__pca__n_components=1, features__univ_select__k=3, svm__C=0.1;, score=0.791 total time=   0.3s\n",
      "[CV 5/5; 7/27] START features__pca__n_components=1, features__univ_select__k=3, svm__C=0.1\n",
      "[CV 5/5; 7/27] END features__pca__n_components=1, features__univ_select__k=3, svm__C=0.1;, score=0.771 total time=   0.1s\n",
      "[CV 1/5; 8/27] START features__pca__n_components=1, features__univ_select__k=3, svm__C=1\n",
      "[CV 1/5; 8/27] END features__pca__n_components=1, features__univ_select__k=3, svm__C=1;, score=0.747 total time=   1.4s\n",
      "[CV 2/5; 8/27] START features__pca__n_components=1, features__univ_select__k=3, svm__C=1\n",
      "[CV 2/5; 8/27] END features__pca__n_components=1, features__univ_select__k=3, svm__C=1;, score=0.734 total time=   1.3s\n",
      "[CV 3/5; 8/27] START features__pca__n_components=1, features__univ_select__k=3, svm__C=1\n",
      "[CV 3/5; 8/27] END features__pca__n_components=1, features__univ_select__k=3, svm__C=1;, score=0.747 total time=   2.6s\n",
      "[CV 4/5; 8/27] START features__pca__n_components=1, features__univ_select__k=3, svm__C=1\n",
      "[CV 4/5; 8/27] END features__pca__n_components=1, features__univ_select__k=3, svm__C=1;, score=0.778 total time=   2.3s\n",
      "[CV 5/5; 8/27] START features__pca__n_components=1, features__univ_select__k=3, svm__C=1\n"
     ]
    },
    {
     "name": "stdout",
     "output_type": "stream",
     "text": [
      "[CV 5/5; 8/27] END features__pca__n_components=1, features__univ_select__k=3, svm__C=1;, score=0.765 total time=   2.3s\n",
      "[CV 1/5; 9/27] START features__pca__n_components=1, features__univ_select__k=3, svm__C=10\n",
      "[CV 1/5; 9/27] END features__pca__n_components=1, features__univ_select__k=3, svm__C=10;, score=0.753 total time=  18.8s\n",
      "[CV 2/5; 9/27] START features__pca__n_components=1, features__univ_select__k=3, svm__C=10\n",
      "[CV 2/5; 9/27] END features__pca__n_components=1, features__univ_select__k=3, svm__C=10;, score=0.734 total time=  11.2s\n",
      "[CV 3/5; 9/27] START features__pca__n_components=1, features__univ_select__k=3, svm__C=10\n",
      "[CV 3/5; 9/27] END features__pca__n_components=1, features__univ_select__k=3, svm__C=10;, score=0.747 total time=  18.1s\n",
      "[CV 4/5; 9/27] START features__pca__n_components=1, features__univ_select__k=3, svm__C=10\n",
      "[CV 4/5; 9/27] END features__pca__n_components=1, features__univ_select__k=3, svm__C=10;, score=0.784 total time=   8.9s\n",
      "[CV 5/5; 9/27] START features__pca__n_components=1, features__univ_select__k=3, svm__C=10\n",
      "[CV 5/5; 9/27] END features__pca__n_components=1, features__univ_select__k=3, svm__C=10;, score=0.784 total time=  20.6s\n",
      "[CV 1/5; 10/27] START features__pca__n_components=2, features__univ_select__k=1, svm__C=0.1\n",
      "[CV 1/5; 10/27] END features__pca__n_components=2, features__univ_select__k=1, svm__C=0.1;, score=0.727 total time=   0.2s\n",
      "[CV 2/5; 10/27] START features__pca__n_components=2, features__univ_select__k=1, svm__C=0.1\n",
      "[CV 2/5; 10/27] END features__pca__n_components=2, features__univ_select__k=1, svm__C=0.1;, score=0.695 total time=   0.8s\n",
      "[CV 3/5; 10/27] START features__pca__n_components=2, features__univ_select__k=1, svm__C=0.1\n",
      "[CV 3/5; 10/27] END features__pca__n_components=2, features__univ_select__k=1, svm__C=0.1;, score=0.747 total time=   0.2s\n",
      "[CV 4/5; 10/27] START features__pca__n_components=2, features__univ_select__k=1, svm__C=0.1\n",
      "[CV 4/5; 10/27] END features__pca__n_components=2, features__univ_select__k=1, svm__C=0.1;, score=0.771 total time=   0.2s\n",
      "[CV 5/5; 10/27] START features__pca__n_components=2, features__univ_select__k=1, svm__C=0.1\n",
      "[CV 5/5; 10/27] END features__pca__n_components=2, features__univ_select__k=1, svm__C=0.1;, score=0.784 total time=   0.2s\n",
      "[CV 1/5; 11/27] START features__pca__n_components=2, features__univ_select__k=1, svm__C=1\n",
      "[CV 1/5; 11/27] END features__pca__n_components=2, features__univ_select__k=1, svm__C=1;, score=0.727 total time=   2.2s\n",
      "[CV 2/5; 11/27] START features__pca__n_components=2, features__univ_select__k=1, svm__C=1\n",
      "[CV 2/5; 11/27] END features__pca__n_components=2, features__univ_select__k=1, svm__C=1;, score=0.695 total time=   1.5s\n",
      "[CV 3/5; 11/27] START features__pca__n_components=2, features__univ_select__k=1, svm__C=1\n",
      "[CV 3/5; 11/27] END features__pca__n_components=2, features__univ_select__k=1, svm__C=1;, score=0.753 total time=   1.4s\n",
      "[CV 4/5; 11/27] START features__pca__n_components=2, features__univ_select__k=1, svm__C=1\n",
      "[CV 4/5; 11/27] END features__pca__n_components=2, features__univ_select__k=1, svm__C=1;, score=0.771 total time=   4.0s\n",
      "[CV 5/5; 11/27] START features__pca__n_components=2, features__univ_select__k=1, svm__C=1\n",
      "[CV 5/5; 11/27] END features__pca__n_components=2, features__univ_select__k=1, svm__C=1;, score=0.778 total time=   1.9s\n",
      "[CV 1/5; 12/27] START features__pca__n_components=2, features__univ_select__k=1, svm__C=10\n",
      "[CV 1/5; 12/27] END features__pca__n_components=2, features__univ_select__k=1, svm__C=10;, score=0.734 total time=  15.4s\n",
      "[CV 2/5; 12/27] START features__pca__n_components=2, features__univ_select__k=1, svm__C=10\n",
      "[CV 2/5; 12/27] END features__pca__n_components=2, features__univ_select__k=1, svm__C=10;, score=0.688 total time=  13.6s\n",
      "[CV 3/5; 12/27] START features__pca__n_components=2, features__univ_select__k=1, svm__C=10\n",
      "[CV 3/5; 12/27] END features__pca__n_components=2, features__univ_select__k=1, svm__C=10;, score=0.753 total time=  21.5s\n",
      "[CV 4/5; 12/27] START features__pca__n_components=2, features__univ_select__k=1, svm__C=10\n",
      "[CV 4/5; 12/27] END features__pca__n_components=2, features__univ_select__k=1, svm__C=10;, score=0.771 total time=   8.7s\n",
      "[CV 5/5; 12/27] START features__pca__n_components=2, features__univ_select__k=1, svm__C=10\n",
      "[CV 5/5; 12/27] END features__pca__n_components=2, features__univ_select__k=1, svm__C=10;, score=0.791 total time=  19.6s\n",
      "[CV 1/5; 13/27] START features__pca__n_components=2, features__univ_select__k=2, svm__C=0.1\n",
      "[CV 1/5; 13/27] END features__pca__n_components=2, features__univ_select__k=2, svm__C=0.1;, score=0.766 total time=   0.2s\n",
      "[CV 2/5; 13/27] START features__pca__n_components=2, features__univ_select__k=2, svm__C=0.1\n",
      "[CV 2/5; 13/27] END features__pca__n_components=2, features__univ_select__k=2, svm__C=0.1;, score=0.734 total time=   0.3s\n",
      "[CV 3/5; 13/27] START features__pca__n_components=2, features__univ_select__k=2, svm__C=0.1\n",
      "[CV 3/5; 13/27] END features__pca__n_components=2, features__univ_select__k=2, svm__C=0.1;, score=0.753 total time=   0.8s\n",
      "[CV 4/5; 13/27] START features__pca__n_components=2, features__univ_select__k=2, svm__C=0.1\n",
      "[CV 4/5; 13/27] END features__pca__n_components=2, features__univ_select__k=2, svm__C=0.1;, score=0.784 total time=   0.2s\n",
      "[CV 5/5; 13/27] START features__pca__n_components=2, features__univ_select__k=2, svm__C=0.1\n",
      "[CV 5/5; 13/27] END features__pca__n_components=2, features__univ_select__k=2, svm__C=0.1;, score=0.752 total time=   0.2s\n",
      "[CV 1/5; 14/27] START features__pca__n_components=2, features__univ_select__k=2, svm__C=1\n",
      "[CV 1/5; 14/27] END features__pca__n_components=2, features__univ_select__k=2, svm__C=1;, score=0.766 total time=   1.5s\n",
      "[CV 2/5; 14/27] START features__pca__n_components=2, features__univ_select__k=2, svm__C=1\n",
      "[CV 2/5; 14/27] END features__pca__n_components=2, features__univ_select__k=2, svm__C=1;, score=0.734 total time=   2.7s\n",
      "[CV 3/5; 14/27] START features__pca__n_components=2, features__univ_select__k=2, svm__C=1\n",
      "[CV 3/5; 14/27] END features__pca__n_components=2, features__univ_select__k=2, svm__C=1;, score=0.747 total time=   1.5s\n",
      "[CV 4/5; 14/27] START features__pca__n_components=2, features__univ_select__k=2, svm__C=1\n",
      "[CV 4/5; 14/27] END features__pca__n_components=2, features__univ_select__k=2, svm__C=1;, score=0.784 total time=   2.0s\n",
      "[CV 5/5; 14/27] START features__pca__n_components=2, features__univ_select__k=2, svm__C=1\n",
      "[CV 5/5; 14/27] END features__pca__n_components=2, features__univ_select__k=2, svm__C=1;, score=0.752 total time=   1.5s\n",
      "[CV 1/5; 15/27] START features__pca__n_components=2, features__univ_select__k=2, svm__C=10\n",
      "[CV 1/5; 15/27] END features__pca__n_components=2, features__univ_select__k=2, svm__C=10;, score=0.773 total time=  14.6s\n",
      "[CV 2/5; 15/27] START features__pca__n_components=2, features__univ_select__k=2, svm__C=10\n",
      "[CV 2/5; 15/27] END features__pca__n_components=2, features__univ_select__k=2, svm__C=10;, score=0.727 total time=  16.6s\n",
      "[CV 3/5; 15/27] START features__pca__n_components=2, features__univ_select__k=2, svm__C=10\n",
      "[CV 3/5; 15/27] END features__pca__n_components=2, features__univ_select__k=2, svm__C=10;, score=0.760 total time=  15.5s\n",
      "[CV 4/5; 15/27] START features__pca__n_components=2, features__univ_select__k=2, svm__C=10\n",
      "[CV 4/5; 15/27] END features__pca__n_components=2, features__univ_select__k=2, svm__C=10;, score=0.778 total time=  15.1s\n",
      "[CV 5/5; 15/27] START features__pca__n_components=2, features__univ_select__k=2, svm__C=10\n",
      "[CV 5/5; 15/27] END features__pca__n_components=2, features__univ_select__k=2, svm__C=10;, score=0.745 total time=  44.2s\n",
      "[CV 1/5; 16/27] START features__pca__n_components=2, features__univ_select__k=3, svm__C=0.1\n",
      "[CV 1/5; 16/27] END features__pca__n_components=2, features__univ_select__k=3, svm__C=0.1;, score=0.760 total time=   0.2s\n",
      "[CV 2/5; 16/27] START features__pca__n_components=2, features__univ_select__k=3, svm__C=0.1\n",
      "[CV 2/5; 16/27] END features__pca__n_components=2, features__univ_select__k=3, svm__C=0.1;, score=0.753 total time=   0.2s\n",
      "[CV 3/5; 16/27] START features__pca__n_components=2, features__univ_select__k=3, svm__C=0.1\n",
      "[CV 3/5; 16/27] END features__pca__n_components=2, features__univ_select__k=3, svm__C=0.1;, score=0.727 total time=   0.2s\n",
      "[CV 4/5; 16/27] START features__pca__n_components=2, features__univ_select__k=3, svm__C=0.1\n"
     ]
    },
    {
     "name": "stdout",
     "output_type": "stream",
     "text": [
      "[CV 4/5; 16/27] END features__pca__n_components=2, features__univ_select__k=3, svm__C=0.1;, score=0.791 total time=   0.3s\n",
      "[CV 5/5; 16/27] START features__pca__n_components=2, features__univ_select__k=3, svm__C=0.1\n",
      "[CV 5/5; 16/27] END features__pca__n_components=2, features__univ_select__k=3, svm__C=0.1;, score=0.784 total time=   0.2s\n",
      "[CV 1/5; 17/27] START features__pca__n_components=2, features__univ_select__k=3, svm__C=1\n",
      "[CV 1/5; 17/27] END features__pca__n_components=2, features__univ_select__k=3, svm__C=1;, score=0.760 total time=   1.8s\n",
      "[CV 2/5; 17/27] START features__pca__n_components=2, features__univ_select__k=3, svm__C=1\n",
      "[CV 2/5; 17/27] END features__pca__n_components=2, features__univ_select__k=3, svm__C=1;, score=0.753 total time=   1.1s\n",
      "[CV 3/5; 17/27] START features__pca__n_components=2, features__univ_select__k=3, svm__C=1\n",
      "[CV 3/5; 17/27] END features__pca__n_components=2, features__univ_select__k=3, svm__C=1;, score=0.727 total time=   2.3s\n",
      "[CV 4/5; 17/27] START features__pca__n_components=2, features__univ_select__k=3, svm__C=1\n",
      "[CV 4/5; 17/27] END features__pca__n_components=2, features__univ_select__k=3, svm__C=1;, score=0.791 total time=   1.9s\n",
      "[CV 5/5; 17/27] START features__pca__n_components=2, features__univ_select__k=3, svm__C=1\n",
      "[CV 5/5; 17/27] END features__pca__n_components=2, features__univ_select__k=3, svm__C=1;, score=0.784 total time=   1.2s\n",
      "[CV 1/5; 18/27] START features__pca__n_components=2, features__univ_select__k=3, svm__C=10\n",
      "[CV 1/5; 18/27] END features__pca__n_components=2, features__univ_select__k=3, svm__C=10;, score=0.753 total time=  11.9s\n",
      "[CV 2/5; 18/27] START features__pca__n_components=2, features__univ_select__k=3, svm__C=10\n",
      "[CV 2/5; 18/27] END features__pca__n_components=2, features__univ_select__k=3, svm__C=10;, score=0.753 total time=  15.7s\n",
      "[CV 3/5; 18/27] START features__pca__n_components=2, features__univ_select__k=3, svm__C=10\n",
      "[CV 3/5; 18/27] END features__pca__n_components=2, features__univ_select__k=3, svm__C=10;, score=0.727 total time=  27.6s\n",
      "[CV 4/5; 18/27] START features__pca__n_components=2, features__univ_select__k=3, svm__C=10\n",
      "[CV 4/5; 18/27] END features__pca__n_components=2, features__univ_select__k=3, svm__C=10;, score=0.810 total time=  23.1s\n",
      "[CV 5/5; 18/27] START features__pca__n_components=2, features__univ_select__k=3, svm__C=10\n",
      "[CV 5/5; 18/27] END features__pca__n_components=2, features__univ_select__k=3, svm__C=10;, score=0.771 total time=  20.0s\n",
      "[CV 1/5; 19/27] START features__pca__n_components=3, features__univ_select__k=1, svm__C=0.1\n",
      "[CV 1/5; 19/27] END features__pca__n_components=3, features__univ_select__k=1, svm__C=0.1;, score=0.714 total time=   0.3s\n",
      "[CV 2/5; 19/27] START features__pca__n_components=3, features__univ_select__k=1, svm__C=0.1\n",
      "[CV 2/5; 19/27] END features__pca__n_components=3, features__univ_select__k=1, svm__C=0.1;, score=0.695 total time=   0.3s\n",
      "[CV 3/5; 19/27] START features__pca__n_components=3, features__univ_select__k=1, svm__C=0.1\n",
      "[CV 3/5; 19/27] END features__pca__n_components=3, features__univ_select__k=1, svm__C=0.1;, score=0.740 total time=   0.2s\n",
      "[CV 4/5; 19/27] START features__pca__n_components=3, features__univ_select__k=1, svm__C=0.1\n",
      "[CV 4/5; 19/27] END features__pca__n_components=3, features__univ_select__k=1, svm__C=0.1;, score=0.771 total time=   0.4s\n",
      "[CV 5/5; 19/27] START features__pca__n_components=3, features__univ_select__k=1, svm__C=0.1\n",
      "[CV 5/5; 19/27] END features__pca__n_components=3, features__univ_select__k=1, svm__C=0.1;, score=0.791 total time=   0.2s\n",
      "[CV 1/5; 20/27] START features__pca__n_components=3, features__univ_select__k=1, svm__C=1\n",
      "[CV 1/5; 20/27] END features__pca__n_components=3, features__univ_select__k=1, svm__C=1;, score=0.708 total time=   1.7s\n",
      "[CV 2/5; 20/27] START features__pca__n_components=3, features__univ_select__k=1, svm__C=1\n",
      "[CV 2/5; 20/27] END features__pca__n_components=3, features__univ_select__k=1, svm__C=1;, score=0.695 total time=   2.2s\n",
      "[CV 3/5; 20/27] START features__pca__n_components=3, features__univ_select__k=1, svm__C=1\n",
      "[CV 3/5; 20/27] END features__pca__n_components=3, features__univ_select__k=1, svm__C=1;, score=0.734 total time=   1.1s\n",
      "[CV 4/5; 20/27] START features__pca__n_components=3, features__univ_select__k=1, svm__C=1\n",
      "[CV 4/5; 20/27] END features__pca__n_components=3, features__univ_select__k=1, svm__C=1;, score=0.771 total time=   1.5s\n",
      "[CV 5/5; 20/27] START features__pca__n_components=3, features__univ_select__k=1, svm__C=1\n",
      "[CV 5/5; 20/27] END features__pca__n_components=3, features__univ_select__k=1, svm__C=1;, score=0.791 total time=   1.5s\n",
      "[CV 1/5; 21/27] START features__pca__n_components=3, features__univ_select__k=1, svm__C=10\n",
      "[CV 1/5; 21/27] END features__pca__n_components=3, features__univ_select__k=1, svm__C=10;, score=0.727 total time=  18.3s\n",
      "[CV 2/5; 21/27] START features__pca__n_components=3, features__univ_select__k=1, svm__C=10\n",
      "[CV 2/5; 21/27] END features__pca__n_components=3, features__univ_select__k=1, svm__C=10;, score=0.695 total time=  10.3s\n",
      "[CV 3/5; 21/27] START features__pca__n_components=3, features__univ_select__k=1, svm__C=10\n",
      "[CV 3/5; 21/27] END features__pca__n_components=3, features__univ_select__k=1, svm__C=10;, score=0.747 total time=  10.5s\n",
      "[CV 4/5; 21/27] START features__pca__n_components=3, features__univ_select__k=1, svm__C=10\n",
      "[CV 4/5; 21/27] END features__pca__n_components=3, features__univ_select__k=1, svm__C=10;, score=0.771 total time=  26.4s\n",
      "[CV 5/5; 21/27] START features__pca__n_components=3, features__univ_select__k=1, svm__C=10\n",
      "[CV 5/5; 21/27] END features__pca__n_components=3, features__univ_select__k=1, svm__C=10;, score=0.791 total time=  15.2s\n",
      "[CV 1/5; 22/27] START features__pca__n_components=3, features__univ_select__k=2, svm__C=0.1\n",
      "[CV 1/5; 22/27] END features__pca__n_components=3, features__univ_select__k=2, svm__C=0.1;, score=0.766 total time=   0.2s\n",
      "[CV 2/5; 22/27] START features__pca__n_components=3, features__univ_select__k=2, svm__C=0.1\n",
      "[CV 2/5; 22/27] END features__pca__n_components=3, features__univ_select__k=2, svm__C=0.1;, score=0.766 total time=   0.2s\n",
      "[CV 3/5; 22/27] START features__pca__n_components=3, features__univ_select__k=2, svm__C=0.1\n",
      "[CV 3/5; 22/27] END features__pca__n_components=3, features__univ_select__k=2, svm__C=0.1;, score=0.747 total time=   0.2s\n",
      "[CV 4/5; 22/27] START features__pca__n_components=3, features__univ_select__k=2, svm__C=0.1\n",
      "[CV 4/5; 22/27] END features__pca__n_components=3, features__univ_select__k=2, svm__C=0.1;, score=0.797 total time=   0.3s\n",
      "[CV 5/5; 22/27] START features__pca__n_components=3, features__univ_select__k=2, svm__C=0.1\n",
      "[CV 5/5; 22/27] END features__pca__n_components=3, features__univ_select__k=2, svm__C=0.1;, score=0.739 total time=   0.3s\n",
      "[CV 1/5; 23/27] START features__pca__n_components=3, features__univ_select__k=2, svm__C=1\n",
      "[CV 1/5; 23/27] END features__pca__n_components=3, features__univ_select__k=2, svm__C=1;, score=0.766 total time=   2.4s\n",
      "[CV 2/5; 23/27] START features__pca__n_components=3, features__univ_select__k=2, svm__C=1\n",
      "[CV 2/5; 23/27] END features__pca__n_components=3, features__univ_select__k=2, svm__C=1;, score=0.766 total time=   1.9s\n",
      "[CV 3/5; 23/27] START features__pca__n_components=3, features__univ_select__k=2, svm__C=1\n",
      "[CV 3/5; 23/27] END features__pca__n_components=3, features__univ_select__k=2, svm__C=1;, score=0.747 total time=   1.8s\n",
      "[CV 4/5; 23/27] START features__pca__n_components=3, features__univ_select__k=2, svm__C=1\n",
      "[CV 4/5; 23/27] END features__pca__n_components=3, features__univ_select__k=2, svm__C=1;, score=0.797 total time=   1.4s\n",
      "[CV 5/5; 23/27] START features__pca__n_components=3, features__univ_select__k=2, svm__C=1\n",
      "[CV 5/5; 23/27] END features__pca__n_components=3, features__univ_select__k=2, svm__C=1;, score=0.752 total time=   1.7s\n",
      "[CV 1/5; 24/27] START features__pca__n_components=3, features__univ_select__k=2, svm__C=10\n",
      "[CV 1/5; 24/27] END features__pca__n_components=3, features__univ_select__k=2, svm__C=10;, score=0.766 total time=  15.4s\n",
      "[CV 2/5; 24/27] START features__pca__n_components=3, features__univ_select__k=2, svm__C=10\n",
      "[CV 2/5; 24/27] END features__pca__n_components=3, features__univ_select__k=2, svm__C=10;, score=0.766 total time=  10.5s\n",
      "[CV 3/5; 24/27] START features__pca__n_components=3, features__univ_select__k=2, svm__C=10\n"
     ]
    },
    {
     "name": "stdout",
     "output_type": "stream",
     "text": [
      "[CV 3/5; 24/27] END features__pca__n_components=3, features__univ_select__k=2, svm__C=10;, score=0.747 total time=  18.5s\n",
      "[CV 4/5; 24/27] START features__pca__n_components=3, features__univ_select__k=2, svm__C=10\n",
      "[CV 4/5; 24/27] END features__pca__n_components=3, features__univ_select__k=2, svm__C=10;, score=0.791 total time=  10.3s\n",
      "[CV 5/5; 24/27] START features__pca__n_components=3, features__univ_select__k=2, svm__C=10\n",
      "[CV 5/5; 24/27] END features__pca__n_components=3, features__univ_select__k=2, svm__C=10;, score=0.739 total time=  12.5s\n",
      "[CV 1/5; 25/27] START features__pca__n_components=3, features__univ_select__k=3, svm__C=0.1\n",
      "[CV 1/5; 25/27] END features__pca__n_components=3, features__univ_select__k=3, svm__C=0.1;, score=0.753 total time=   0.3s\n",
      "[CV 2/5; 25/27] START features__pca__n_components=3, features__univ_select__k=3, svm__C=0.1\n",
      "[CV 2/5; 25/27] END features__pca__n_components=3, features__univ_select__k=3, svm__C=0.1;, score=0.760 total time=   0.2s\n",
      "[CV 3/5; 25/27] START features__pca__n_components=3, features__univ_select__k=3, svm__C=0.1\n",
      "[CV 3/5; 25/27] END features__pca__n_components=3, features__univ_select__k=3, svm__C=0.1;, score=0.734 total time=   0.2s\n",
      "[CV 4/5; 25/27] START features__pca__n_components=3, features__univ_select__k=3, svm__C=0.1\n",
      "[CV 4/5; 25/27] END features__pca__n_components=3, features__univ_select__k=3, svm__C=0.1;, score=0.810 total time=   0.4s\n",
      "[CV 5/5; 25/27] START features__pca__n_components=3, features__univ_select__k=3, svm__C=0.1\n",
      "[CV 5/5; 25/27] END features__pca__n_components=3, features__univ_select__k=3, svm__C=0.1;, score=0.771 total time=   0.2s\n",
      "[CV 1/5; 26/27] START features__pca__n_components=3, features__univ_select__k=3, svm__C=1\n",
      "[CV 1/5; 26/27] END features__pca__n_components=3, features__univ_select__k=3, svm__C=1;, score=0.753 total time=   2.5s\n",
      "[CV 2/5; 26/27] START features__pca__n_components=3, features__univ_select__k=3, svm__C=1\n",
      "[CV 2/5; 26/27] END features__pca__n_components=3, features__univ_select__k=3, svm__C=1;, score=0.760 total time=   1.6s\n",
      "[CV 3/5; 26/27] START features__pca__n_components=3, features__univ_select__k=3, svm__C=1\n",
      "[CV 3/5; 26/27] END features__pca__n_components=3, features__univ_select__k=3, svm__C=1;, score=0.727 total time=   1.5s\n",
      "[CV 4/5; 26/27] START features__pca__n_components=3, features__univ_select__k=3, svm__C=1\n",
      "[CV 4/5; 26/27] END features__pca__n_components=3, features__univ_select__k=3, svm__C=1;, score=0.810 total time=   2.6s\n",
      "[CV 5/5; 26/27] START features__pca__n_components=3, features__univ_select__k=3, svm__C=1\n",
      "[CV 5/5; 26/27] END features__pca__n_components=3, features__univ_select__k=3, svm__C=1;, score=0.771 total time=   1.8s\n",
      "[CV 1/5; 27/27] START features__pca__n_components=3, features__univ_select__k=3, svm__C=10\n",
      "[CV 1/5; 27/27] END features__pca__n_components=3, features__univ_select__k=3, svm__C=10;, score=0.753 total time=  19.2s\n",
      "[CV 2/5; 27/27] START features__pca__n_components=3, features__univ_select__k=3, svm__C=10\n",
      "[CV 2/5; 27/27] END features__pca__n_components=3, features__univ_select__k=3, svm__C=10;, score=0.760 total time=  26.0s\n",
      "[CV 3/5; 27/27] START features__pca__n_components=3, features__univ_select__k=3, svm__C=10\n",
      "[CV 3/5; 27/27] END features__pca__n_components=3, features__univ_select__k=3, svm__C=10;, score=0.727 total time=  38.9s\n",
      "[CV 4/5; 27/27] START features__pca__n_components=3, features__univ_select__k=3, svm__C=10\n",
      "[CV 4/5; 27/27] END features__pca__n_components=3, features__univ_select__k=3, svm__C=10;, score=0.810 total time=  11.1s\n",
      "[CV 5/5; 27/27] START features__pca__n_components=3, features__univ_select__k=3, svm__C=10\n",
      "[CV 5/5; 27/27] END features__pca__n_components=3, features__univ_select__k=3, svm__C=10;, score=0.765 total time=  16.5s\n"
     ]
    },
    {
     "data": {
      "text/plain": [
       "GridSearchCV(estimator=Pipeline(steps=[('features',\n",
       "                                        FeatureUnion(transformer_list=[('pca',\n",
       "                                                                        PCA(n_components=2)),\n",
       "                                                                       ('univ_select',\n",
       "                                                                        SelectKBest(k=3))])),\n",
       "                                       ('svm', SVC(kernel='linear'))]),\n",
       "             param_grid={'features__pca__n_components': [1, 2, 3],\n",
       "                         'features__univ_select__k': [1, 2, 3],\n",
       "                         'svm__C': [0.1, 1, 10]},\n",
       "             verbose=10)"
      ]
     },
     "execution_count": 10,
     "metadata": {},
     "output_type": "execute_result"
    }
   ],
   "source": [
    "# why does this lock up? Maybe doesn't, just takes forever.\n",
    "grid_search = GridSearchCV(pipeline, param_grid, verbose=10, refit=True) \n",
    "grid_search.fit(X,y)"
   ]
  },
  {
   "cell_type": "code",
   "execution_count": 11,
   "metadata": {},
   "outputs": [
    {
     "name": "stdout",
     "output_type": "stream",
     "text": [
      "{'features__pca__n_components': 3, 'features__univ_select__k': 3, 'svm__C': 0.1}\n"
     ]
    }
   ],
   "source": [
    "print(grid_search.best_params_)"
   ]
  },
  {
   "cell_type": "code",
   "execution_count": null,
   "metadata": {},
   "outputs": [],
   "source": []
  }
 ],
 "metadata": {
  "kernelspec": {
   "display_name": "Python 3 (ipykernel)",
   "language": "python",
   "name": "python3"
  },
  "language_info": {
   "codemirror_mode": {
    "name": "ipython",
    "version": 3
   },
   "file_extension": ".py",
   "mimetype": "text/x-python",
   "name": "python",
   "nbconvert_exporter": "python",
   "pygments_lexer": "ipython3",
   "version": "3.8.12"
  },
  "toc": {
   "base_numbering": 1,
   "nav_menu": {},
   "number_sections": true,
   "sideBar": true,
   "skip_h1_title": false,
   "title_cell": "Table of Contents",
   "title_sidebar": "Contents",
   "toc_cell": false,
   "toc_position": {},
   "toc_section_display": true,
   "toc_window_display": false
  },
  "varInspector": {
   "cols": {
    "lenName": 16,
    "lenType": 16,
    "lenVar": 40
   },
   "kernels_config": {
    "python": {
     "delete_cmd_postfix": "",
     "delete_cmd_prefix": "del ",
     "library": "var_list.py",
     "varRefreshCmd": "print(var_dic_list())"
    },
    "r": {
     "delete_cmd_postfix": ") ",
     "delete_cmd_prefix": "rm(",
     "library": "var_list.r",
     "varRefreshCmd": "cat(var_dic_list()) "
    }
   },
   "types_to_exclude": [
    "module",
    "function",
    "builtin_function_or_method",
    "instance",
    "_Feature"
   ],
   "window_display": false
  }
 },
 "nbformat": 4,
 "nbformat_minor": 4
}
