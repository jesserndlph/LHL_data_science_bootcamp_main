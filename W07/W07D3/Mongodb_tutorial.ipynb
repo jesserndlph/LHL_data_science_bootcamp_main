{
 "cells": [
  {
   "cell_type": "code",
   "execution_count": 1,
   "id": "009b56c1",
   "metadata": {},
   "outputs": [],
   "source": [
    "import pymongo"
   ]
  },
  {
   "cell_type": "code",
   "execution_count": 2,
   "id": "a919be2c",
   "metadata": {},
   "outputs": [
    {
     "data": {
      "text/plain": [
       "MongoClient(host=['localhost:27017'], document_class=dict, tz_aware=False, connect=True)"
      ]
     },
     "execution_count": 2,
     "metadata": {},
     "output_type": "execute_result"
    }
   ],
   "source": [
    "from pymongo import MongoClient\n",
    "client = MongoClient()\n",
    "client # this establishes a connection."
   ]
  },
  {
   "cell_type": "code",
   "execution_count": 3,
   "id": "4ccbf92b",
   "metadata": {},
   "outputs": [],
   "source": [
    "client = MongoClient(host=\"localhost\", port=27017)"
   ]
  },
  {
   "cell_type": "code",
   "execution_count": 4,
   "id": "322c17f1",
   "metadata": {},
   "outputs": [],
   "source": [
    "# you can also use URL format\n",
    "# client = MongoClient(\"mongodb://localhost:27017\")"
   ]
  },
  {
   "cell_type": "code",
   "execution_count": 5,
   "id": "c7822e0e",
   "metadata": {},
   "outputs": [],
   "source": [
    "db = client.rptutorials # or like dict client['rptutorials']"
   ]
  },
  {
   "cell_type": "code",
   "execution_count": 6,
   "id": "43740e80",
   "metadata": {},
   "outputs": [
    {
     "data": {
      "text/plain": [
       "Database(MongoClient(host=['localhost:27017'], document_class=dict, tz_aware=False, connect=True), 'rptutorials')"
      ]
     },
     "execution_count": 6,
     "metadata": {},
     "output_type": "execute_result"
    }
   ],
   "source": [
    "db"
   ]
  },
  {
   "cell_type": "code",
   "execution_count": 7,
   "id": "8da3fc10",
   "metadata": {},
   "outputs": [],
   "source": [
    "tutorial1 = {\n",
    "     \"title\": \"Working With JSON Data in Python\", \"author\": \"Lucas\",\"contributors\": \n",
    "     [\n",
    "         \"Aldren\",\n",
    "         \"Dan\",\n",
    "         \"Joanna\"\n",
    "     ],\n",
    "     \"url\": \"https://realpython.com/python-json/\"\n",
    "}"
   ]
  },
  {
   "cell_type": "code",
   "execution_count": 8,
   "id": "6660d237",
   "metadata": {},
   "outputs": [],
   "source": [
    "tutorial = db.tutorial"
   ]
  },
  {
   "cell_type": "code",
   "execution_count": 9,
   "id": "826d7000",
   "metadata": {},
   "outputs": [
    {
     "data": {
      "text/plain": [
       "Collection(Database(MongoClient(host=['localhost:27017'], document_class=dict, tz_aware=False, connect=True), 'rptutorials'), 'tutorial')"
      ]
     },
     "execution_count": 9,
     "metadata": {},
     "output_type": "execute_result"
    }
   ],
   "source": [
    "tutorial"
   ]
  },
  {
   "cell_type": "code",
   "execution_count": 10,
   "id": "d4aaf8ae",
   "metadata": {},
   "outputs": [
    {
     "data": {
      "text/plain": [
       "<pymongo.results.InsertOneResult at 0x7f8ee803ad80>"
      ]
     },
     "execution_count": 10,
     "metadata": {},
     "output_type": "execute_result"
    }
   ],
   "source": [
    "result = tutorial.insert_one(tutorial1)\n",
    "result"
   ]
  },
  {
   "cell_type": "code",
   "execution_count": 11,
   "id": "ef8d2523",
   "metadata": {},
   "outputs": [
    {
     "data": {
      "text/plain": [
       "Collection(Database(MongoClient(host=['localhost:27017'], document_class=dict, tz_aware=False, connect=True), 'rptutorials'), 'tutorial')"
      ]
     },
     "execution_count": 11,
     "metadata": {},
     "output_type": "execute_result"
    }
   ],
   "source": [
    "db.tutorial"
   ]
  },
  {
   "cell_type": "code",
   "execution_count": 12,
   "id": "f254c3bb",
   "metadata": {},
   "outputs": [],
   "source": [
    "tutorial2 = {\n",
    "     \"title\": \"Python's Requests Library (Guide)\",\n",
    "     \"author\": \"Alex\",\n",
    "     \"contributors\": [\n",
    "         \"Aldren\",\n",
    "         \"Brad\",\n",
    "         \"Joanna\"\n",
    "     ],\n",
    "     \"url\": \"https://realpython.com/python-requests/\"\n",
    " }\n",
    "\n",
    "tutorial3 = {\n",
    "     \"title\": \"Object-Oriented Programming (OOP) in Python 3\",\n",
    "     \"author\": \"David\",\n",
    "     \"contributors\": [\n",
    "         \"Aldren\",\n",
    "         \"Joanna\",\n",
    "         \"Jacob\"\n",
    "     ],\n",
    "     \"url\": \"https://realpython.com/python3-object-oriented-programming/\"\n",
    " }"
   ]
  },
  {
   "cell_type": "code",
   "execution_count": 13,
   "id": "3e6c8792",
   "metadata": {},
   "outputs": [],
   "source": [
    "new_result = tutorial.insert_many([tutorial2, tutorial3])"
   ]
  },
  {
   "cell_type": "code",
   "execution_count": 14,
   "id": "9bc350a5",
   "metadata": {},
   "outputs": [
    {
     "data": {
      "text/plain": [
       "<pymongo.results.InsertManyResult at 0x7f8ee802f900>"
      ]
     },
     "execution_count": 14,
     "metadata": {},
     "output_type": "execute_result"
    }
   ],
   "source": [
    "new_result"
   ]
  },
  {
   "cell_type": "code",
   "execution_count": 15,
   "id": "0f09cb0b",
   "metadata": {},
   "outputs": [
    {
     "name": "stdout",
     "output_type": "stream",
     "text": [
      "{'_id': ObjectId('617973327d5a9aeea67816d8'),\n",
      " 'author': 'Jon',\n",
      " 'contributors': ['Aldren', 'Geir Arne', 'Joanna', 'Jason'],\n",
      " 'title': 'Reading and Writing CSV Files in Python',\n",
      " 'url': 'https://realpython.com/python-csv/'}\n",
      "{'_id': ObjectId('617973497d5a9aeea67816d9'),\n",
      " 'author': 'Jon',\n",
      " 'contributors': ['Aldren', 'Geir Arne', 'Joanna', 'Jason'],\n",
      " 'title': 'Reading and Writing CSV Files in Python',\n",
      " 'url': 'https://realpython.com/python-csv/'}\n",
      "{'_id': ObjectId('617973667d5a9aeea67816da'),\n",
      " 'author': 'Jon',\n",
      " 'contributors': ['Aldren', 'Geir Arne', 'Joanna', 'Jason'],\n",
      " 'title': 'Reading and Writing CSV Files in Python',\n",
      " 'url': 'https://realpython.com/python-csv/'}\n",
      "{'_id': ObjectId('61797d0e11deda3d3cf56866'),\n",
      " 'author': 'Lucas',\n",
      " 'contributors': ['Aldren', 'Dan', 'Joanna'],\n",
      " 'title': 'Working With JSON Data in Python',\n",
      " 'url': 'https://realpython.com/python-json/'}\n",
      "{'_id': ObjectId('61797ebb11deda3d3cf56867'),\n",
      " 'author': 'Alex',\n",
      " 'contributors': ['Aldren', 'Brad', 'Joanna'],\n",
      " 'title': \"Python's Requests Library (Guide)\",\n",
      " 'url': 'https://realpython.com/python-requests/'}\n",
      "{'_id': ObjectId('61797ebb11deda3d3cf56868'),\n",
      " 'author': 'David',\n",
      " 'contributors': ['Aldren', 'Joanna', 'Jacob'],\n",
      " 'title': 'Object-Oriented Programming (OOP) in Python 3',\n",
      " 'url': 'https://realpython.com/python3-object-oriented-programming/'}\n"
     ]
    }
   ],
   "source": [
    "import pprint\n",
    "\n",
    "for doc in tutorial.find():\n",
    "    pprint.pprint(doc)"
   ]
  },
  {
   "cell_type": "code",
   "execution_count": 16,
   "id": "2a3395f8",
   "metadata": {},
   "outputs": [],
   "source": [
    "jon_tutorial = tutorial.find_one({'author':'Jon'})"
   ]
  },
  {
   "cell_type": "code",
   "execution_count": 17,
   "id": "049c1a53",
   "metadata": {},
   "outputs": [
    {
     "name": "stdout",
     "output_type": "stream",
     "text": [
      "{'_id': ObjectId('617973327d5a9aeea67816d8'),\n",
      " 'author': 'Jon',\n",
      " 'contributors': ['Aldren', 'Geir Arne', 'Joanna', 'Jason'],\n",
      " 'title': 'Reading and Writing CSV Files in Python',\n",
      " 'url': 'https://realpython.com/python-csv/'}\n"
     ]
    }
   ],
   "source": [
    "pprint.pprint(jon_tutorial)"
   ]
  },
  {
   "cell_type": "code",
   "execution_count": 18,
   "id": "f72fa9cb",
   "metadata": {},
   "outputs": [],
   "source": [
    "client.close()"
   ]
  },
  {
   "cell_type": "code",
   "execution_count": 19,
   "id": "d22acc2a",
   "metadata": {},
   "outputs": [],
   "source": [
    "# new stuff\n",
    "import pprint\n",
    "from pymongo import MongoClient"
   ]
  },
  {
   "cell_type": "code",
   "execution_count": 20,
   "id": "4be23b29",
   "metadata": {},
   "outputs": [
    {
     "name": "stdout",
     "output_type": "stream",
     "text": [
      "{'_id': ObjectId('617973327d5a9aeea67816d8'),\n",
      " 'author': 'Jon',\n",
      " 'contributors': ['Aldren', 'Geir Arne', 'Joanna', 'Jason'],\n",
      " 'title': 'Reading and Writing CSV Files in Python',\n",
      " 'url': 'https://realpython.com/python-csv/'}\n",
      "{'_id': ObjectId('617973497d5a9aeea67816d9'),\n",
      " 'author': 'Jon',\n",
      " 'contributors': ['Aldren', 'Geir Arne', 'Joanna', 'Jason'],\n",
      " 'title': 'Reading and Writing CSV Files in Python',\n",
      " 'url': 'https://realpython.com/python-csv/'}\n",
      "{'_id': ObjectId('617973667d5a9aeea67816da'),\n",
      " 'author': 'Jon',\n",
      " 'contributors': ['Aldren', 'Geir Arne', 'Joanna', 'Jason'],\n",
      " 'title': 'Reading and Writing CSV Files in Python',\n",
      " 'url': 'https://realpython.com/python-csv/'}\n",
      "{'_id': ObjectId('61797d0e11deda3d3cf56866'),\n",
      " 'author': 'Lucas',\n",
      " 'contributors': ['Aldren', 'Dan', 'Joanna'],\n",
      " 'title': 'Working With JSON Data in Python',\n",
      " 'url': 'https://realpython.com/python-json/'}\n",
      "{'_id': ObjectId('61797ebb11deda3d3cf56867'),\n",
      " 'author': 'Alex',\n",
      " 'contributors': ['Aldren', 'Brad', 'Joanna'],\n",
      " 'title': \"Python's Requests Library (Guide)\",\n",
      " 'url': 'https://realpython.com/python-requests/'}\n",
      "{'_id': ObjectId('61797ebb11deda3d3cf56868'),\n",
      " 'author': 'David',\n",
      " 'contributors': ['Aldren', 'Joanna', 'Jacob'],\n",
      " 'title': 'Object-Oriented Programming (OOP) in Python 3',\n",
      " 'url': 'https://realpython.com/python3-object-oriented-programming/'}\n"
     ]
    }
   ],
   "source": [
    "with MongoClient() as client:\n",
    "    db = client.rptutorials\n",
    "    for doc in db.tutorial.find():\n",
    "        pprint.pprint(doc)"
   ]
  },
  {
   "cell_type": "code",
   "execution_count": 21,
   "id": "f46bce58",
   "metadata": {},
   "outputs": [],
   "source": [
    "from mongoengine import connect"
   ]
  },
  {
   "cell_type": "code",
   "execution_count": 22,
   "id": "ae658005",
   "metadata": {},
   "outputs": [
    {
     "data": {
      "text/plain": [
       "MongoClient(host=['localhost:27017'], document_class=dict, tz_aware=False, connect=True, read_preference=Primary())"
      ]
     },
     "execution_count": 22,
     "metadata": {},
     "output_type": "execute_result"
    }
   ],
   "source": [
    "connect(db=\"rptutorials\", host='localhost', port=27017)"
   ]
  },
  {
   "cell_type": "code",
   "execution_count": 23,
   "id": "567db133",
   "metadata": {},
   "outputs": [],
   "source": [
    "from mongoengine import Document, ListField, StringField, URLField\n",
    "\n",
    "class Tutorial(Document):\n",
    "    title = StringField(required=True, max_length=70)\n",
    "    author = StringField(required=True, max_length=20)\n",
    "    contributors = ListField(StringField(max_length=20))\n",
    "    url = URLField(required=True)"
   ]
  },
  {
   "cell_type": "code",
   "execution_count": 24,
   "id": "eecea0c5",
   "metadata": {},
   "outputs": [],
   "source": [
    "tutorial1 = Tutorial(\n",
    "    title=\"Beautiful Soup: Build a Web Scraper With Python\",\n",
    "    author=\"Martin\",\n",
    "    contributors=[\"Aldren\", \"Geir Arne\", \"Jaya\", \"Joanna\", \"Mike\"],\n",
    "    url=\"https://realpython.com/beautiful-soup-web-scraper-python/\"\n",
    ")"
   ]
  },
  {
   "cell_type": "code",
   "execution_count": 25,
   "id": "b08aae2a",
   "metadata": {},
   "outputs": [
    {
     "data": {
      "text/plain": [
       "<Tutorial: Tutorial object>"
      ]
     },
     "execution_count": 25,
     "metadata": {},
     "output_type": "execute_result"
    }
   ],
   "source": [
    "tutorial1.save() # Insert the new tutorial"
   ]
  },
  {
   "cell_type": "code",
   "execution_count": 26,
   "id": "dbda48ac",
   "metadata": {},
   "outputs": [],
   "source": [
    "tutorial2 = Tutorial()"
   ]
  },
  {
   "cell_type": "code",
   "execution_count": 28,
   "id": "955a2290",
   "metadata": {},
   "outputs": [],
   "source": [
    "# tutorial2.author = \"Alex\"\n",
    "# tutorial2.contributors = [\"Aldren\", \"Jon\", \"Joanna\"]\n",
    "# tutorial2.url = \"https://realpython.com/convert-python-string-to-int/\"\n",
    "# tutorial2.save()"
   ]
  },
  {
   "cell_type": "code",
   "execution_count": 30,
   "id": "ec72f3b5",
   "metadata": {},
   "outputs": [
    {
     "name": "stdout",
     "output_type": "stream",
     "text": [
      "Python's Requests Library (Guide)\n"
     ]
    }
   ],
   "source": [
    "for doc in Tutorial.objects(author='Alex'):\n",
    "    print(doc.title)"
   ]
  },
  {
   "cell_type": "code",
   "execution_count": null,
   "id": "1e43eecd",
   "metadata": {},
   "outputs": [],
   "source": []
  }
 ],
 "metadata": {
  "kernelspec": {
   "display_name": "Python 3 (ipykernel)",
   "language": "python",
   "name": "python3"
  },
  "language_info": {
   "codemirror_mode": {
    "name": "ipython",
    "version": 3
   },
   "file_extension": ".py",
   "mimetype": "text/x-python",
   "name": "python",
   "nbconvert_exporter": "python",
   "pygments_lexer": "ipython3",
   "version": "3.8.12"
  }
 },
 "nbformat": 4,
 "nbformat_minor": 5
}
