{
 "cells": [
  {
   "cell_type": "code",
   "execution_count": 1,
   "id": "071d89cc",
   "metadata": {},
   "outputs": [],
   "source": [
    "from tensorflow.keras.models import Sequential\n",
    "from tensorflow.keras.layers import Convolution2D\n",
    "from tensorflow.keras.layers import MaxPooling2D\n",
    "from tensorflow.keras.layers import Flatten\n",
    "from tensorflow.keras.layers import Dense"
   ]
  },
  {
   "cell_type": "markdown",
   "id": "768046bd",
   "metadata": {},
   "source": [
    "## CNN - CONV, POOL, FLAT, CONNECT"
   ]
  },
  {
   "cell_type": "code",
   "execution_count": 2,
   "id": "44b216ee",
   "metadata": {},
   "outputs": [],
   "source": [
    "# Initialising the CNN\n",
    "classifier = Sequential()\n",
    "\n",
    "# Step 1 - Convolution\n",
    "classifier.add(Convolution2D(32, 3, 3, input_shape = (64, 64, 3), activation = 'relu'))\n",
    "# Step 2 - Pooling\n",
    "classifier.add(MaxPooling2D(pool_size = (2, 2)))\n",
    "# Step 3 - Flattening\n",
    "classifier.add(Flatten())\n",
    "# Step 4 - Full connection\n",
    "classifier.add(Dense(128, activation = 'relu'))\n",
    "classifier.add(Dense(1, activation = 'sigmoid'))# sigmoid for binary\n",
    "\n",
    "# Compiling the CNN\n",
    "classifier.compile(optimizer = 'adam', loss = 'binary_crossentropy', metrics = ['accuracy'])"
   ]
  },
  {
   "cell_type": "code",
   "execution_count": 4,
   "id": "4531a0d6",
   "metadata": {},
   "outputs": [
    {
     "name": "stdout",
     "output_type": "stream",
     "text": [
      "Found 5319 images belonging to 2 classes.\n",
      "Found 2032 images belonging to 2 classes.\n"
     ]
    }
   ],
   "source": [
    "from tensorflow.keras.preprocessing.image import ImageDataGenerator\n",
    "\n",
    "train_datagen = ImageDataGenerator(rescale = 1./255,\n",
    "                                   shear_range = 0.2,\n",
    "                                   zoom_range = 0.2,\n",
    "                                   horizontal_flip = True)\n",
    "\n",
    "test_datagen = ImageDataGenerator(rescale = 1./255)\n",
    "\n",
    "training_set = train_datagen.flow_from_directory('training_set',\n",
    "                                                 target_size = (64, 64),\n",
    "                                                 batch_size = 32,\n",
    "                                                 class_mode = 'binary')\n",
    "\n",
    "test_set = test_datagen.flow_from_directory('test_set',\n",
    "                                            target_size = (64, 64),\n",
    "                                            batch_size = 32,\n",
    "                                            class_mode = 'binary')"
   ]
  },
  {
   "cell_type": "code",
   "execution_count": 14,
   "id": "9aecfb90",
   "metadata": {},
   "outputs": [
    {
     "name": "stdout",
     "output_type": "stream",
     "text": [
      "Epoch 1/10\n",
      "600/600 [==============================] - 50s 83ms/step - loss: 0.4606 - accuracy: 0.7834 - val_loss: 0.6651 - val_accuracy: 0.6324\n",
      "Epoch 2/10\n",
      "600/600 [==============================] - 53s 89ms/step - loss: 0.4325 - accuracy: 0.7985 - val_loss: 0.6814 - val_accuracy: 0.6634\n",
      "Epoch 3/10\n",
      "600/600 [==============================] - 51s 85ms/step - loss: 0.4073 - accuracy: 0.8148 - val_loss: 0.6999 - val_accuracy: 0.6762\n",
      "Epoch 4/10\n",
      "600/600 [==============================] - 52s 87ms/step - loss: 0.3873 - accuracy: 0.8218 - val_loss: 0.7503 - val_accuracy: 0.6649\n",
      "Epoch 5/10\n",
      "600/600 [==============================] - 49s 82ms/step - loss: 0.3719 - accuracy: 0.8331 - val_loss: 0.7794 - val_accuracy: 0.6491\n",
      "Epoch 6/10\n",
      "600/600 [==============================] - 49s 81ms/step - loss: 0.3535 - accuracy: 0.8432 - val_loss: 0.9325 - val_accuracy: 0.6186\n",
      "Epoch 7/10\n",
      "600/600 [==============================] - 48s 80ms/step - loss: 0.3277 - accuracy: 0.8559 - val_loss: 0.7899 - val_accuracy: 0.6668\n",
      "Epoch 8/10\n",
      "600/600 [==============================] - 48s 79ms/step - loss: 0.3115 - accuracy: 0.8654 - val_loss: 0.7259 - val_accuracy: 0.7042\n",
      "Epoch 9/10\n",
      "600/600 [==============================] - 48s 80ms/step - loss: 0.2923 - accuracy: 0.8739 - val_loss: 0.7891 - val_accuracy: 0.6919\n",
      "Epoch 10/10\n",
      "600/600 [==============================] - 47s 79ms/step - loss: 0.2725 - accuracy: 0.8808 - val_loss: 0.8124 - val_accuracy: 0.6905\n"
     ]
    }
   ],
   "source": [
    "history = classifier.fit_generator(training_set,\n",
    "                         steps_per_epoch = 600,\n",
    "                         epochs = 10,\n",
    "                         validation_data = test_set)"
   ]
  },
  {
   "cell_type": "code",
   "execution_count": 15,
   "id": "8dbc31d9",
   "metadata": {},
   "outputs": [
    {
     "data": {
      "image/png": "[encoded data removed]",
      "text/plain": [
       "<Figure size 432x288 with 1 Axes>"
      ]
     },
     "metadata": {
      "needs_background": "light"
     },
     "output_type": "display_data"
    }
   ],
   "source": [
    "from matplotlib import pyplot as plt\n",
    "# plot history\n",
    "plt.plot(history.history['loss'], label='train')\n",
    "plt.plot(history.history['val_loss'], label='test')\n",
    "plt.legend()\n",
    "plt.show()"
   ]
  },
  {
   "cell_type": "code",
   "execution_count": 21,
   "id": "c9cd0fe9",
   "metadata": {},
   "outputs": [
    {
     "name": "stdout",
     "output_type": "stream",
     "text": [
      "dog\n"
     ]
    }
   ],
   "source": [
    "import numpy as np\n",
    "from tensorflow.keras.preprocessing import image\n",
    "# loading an image from the disk\n",
    "test_image = image.load_img('random_cat.jpg', target_size = (64, 64))\n",
    "# converting the image to a numpy array\n",
    "test_image = image.img_to_array(test_image)\n",
    "test_image = np.expand_dims(test_image, axis = 0)\n",
    "result = classifier.predict(test_image)\n",
    "# print(training_set.class_indices)\n",
    "# our cut-off\n",
    "if result[0][0] >= 0.5:\n",
    "    prediction = 'dog'\n",
    "else:\n",
    "    prediction = 'cat'\n",
    "print(prediction)"
   ]
  },
  {
   "cell_type": "code",
   "execution_count": null,
   "id": "cd2be89d",
   "metadata": {},
   "outputs": [],
   "source": [
    "\"\"\"\n",
    "lecture notes\n",
    "softmax for multiple classification\n",
    "sigmoid for binary classification\n",
    "tanh for -1 to 1\n",
    "\n",
    "\"\"\""
   ]
  },
  {
   "cell_type": "code",
   "execution_count": null,
   "id": "8f4b7331",
   "metadata": {},
   "outputs": [],
   "source": []
  }
 ],
 "metadata": {
  "kernelspec": {
   "display_name": "Python 3",
   "language": "python",
   "name": "python3"
  },
  "language_info": {
   "codemirror_mode": {
    "name": "ipython",
    "version": 3
   },
   "file_extension": ".py",
   "mimetype": "text/x-python",
   "name": "python",
   "nbconvert_exporter": "python",
   "pygments_lexer": "ipython3",
   "version": "3.6.13"
  }
 },
 "nbformat": 4,
 "nbformat_minor": 5
}
