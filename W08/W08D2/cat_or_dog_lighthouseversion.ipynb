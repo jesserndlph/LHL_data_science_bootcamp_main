{
 "cells": [
  {
   "cell_type": "code",
   "execution_count": 1,
   "id": "071d89cc",
   "metadata": {},
   "outputs": [],
   "source": [
    "from tensorflow.keras.models import Sequential\n",
    "from tensorflow.keras.layers import Convolution2D\n",
    "from tensorflow.keras.layers import MaxPooling2D\n",
    "from tensorflow.keras.layers import Flatten\n",
    "from tensorflow.keras.layers import Dense"
   ]
  },
  {
   "cell_type": "markdown",
   "id": "768046bd",
   "metadata": {},
   "source": [
    "## CNN - CONV, POOL, FLAT, CONNECT"
   ]
  },
  {
   "cell_type": "code",
   "execution_count": null,
   "id": "627b7901",
   "metadata": {},
   "outputs": [],
   "source": []
  },
  {
   "cell_type": "code",
   "execution_count": 2,
   "id": "44b216ee",
   "metadata": {},
   "outputs": [],
   "source": [
    "# Initialising the CNN\n",
    "classifier = Sequential()\n",
    "\n",
    "# Step 1 - Convolution\n",
    "classifier.add(Convolution2D(32, 3, 3, input_shape = (64, 64, 3), activation = 'relu'))\n",
    "# Step 2 - Pooling\n",
    "classifier.add(MaxPooling2D(pool_size = (2, 2)))\n",
    "# Step 3 - Flattening\n",
    "classifier.add(Flatten())\n",
    "# Step 4 - Full connection\n",
    "classifier.add(Dense(128, activation = 'relu'))\n",
    "classifier.add(Dense(1, activation = 'sigmoid'))# sigmoid for binary\n",
    "\n",
    "# Compiling the CNN\n",
    "classifier.compile(optimizer = 'adam', loss = 'binary_crossentropy', metrics = ['accuracy'])"
   ]
  },
  {
   "cell_type": "code",
   "execution_count": 3,
   "id": "4531a0d6",
   "metadata": {},
   "outputs": [
    {
     "name": "stdout",
     "output_type": "stream",
     "text": [
      "Found 5319 images belonging to 2 classes.\n",
      "Found 2032 images belonging to 2 classes.\n"
     ]
    }
   ],
   "source": [
    "from tensorflow.keras.preprocessing.image import ImageDataGenerator\n",
    "\n",
    "train_datagen = ImageDataGenerator(rescale = 1./255,\n",
    "                                   shear_range = 0.2,\n",
    "                                   zoom_range = 0.2,\n",
    "                                   horizontal_flip = True)\n",
    "\n",
    "test_datagen = ImageDataGenerator(rescale = 1./255)\n",
    "\n",
    "training_set = train_datagen.flow_from_directory('training_set',\n",
    "                                                 target_size = (64, 64),\n",
    "                                                 batch_size = 32,\n",
    "                                                 class_mode = 'binary')\n",
    "\n",
    "test_set = test_datagen.flow_from_directory('test_set',\n",
    "                                            target_size = (64, 64),\n",
    "                                            batch_size = 32,\n",
    "                                            class_mode = 'binary')"
   ]
  },
  {
   "cell_type": "code",
   "execution_count": 5,
   "id": "9aecfb90",
   "metadata": {},
   "outputs": [
    {
     "name": "stdout",
     "output_type": "stream",
     "text": [
      "Epoch 1/10\n",
      "1800/1800 [==============================] - 142s 79ms/step - loss: 0.4409 - accuracy: 0.7942 - val_loss: 0.6538 - val_accuracy: 0.7037\n",
      "Epoch 2/10\n",
      "1800/1800 [==============================] - 139s 77ms/step - loss: 0.3764 - accuracy: 0.8298 - val_loss: 0.7853 - val_accuracy: 0.6713\n",
      "Epoch 3/10\n",
      "1800/1800 [==============================] - 143s 79ms/step - loss: 0.3196 - accuracy: 0.8603 - val_loss: 0.6337 - val_accuracy: 0.7244\n",
      "Epoch 4/10\n",
      "1800/1800 [==============================] - 146s 81ms/step - loss: 0.2595 - accuracy: 0.8893 - val_loss: 0.6788 - val_accuracy: 0.7333\n",
      "Epoch 5/10\n",
      "1800/1800 [==============================] - 142s 79ms/step - loss: 0.2103 - accuracy: 0.9148 - val_loss: 0.9075 - val_accuracy: 0.7170\n",
      "Epoch 6/10\n",
      "1800/1800 [==============================] - 145s 81ms/step - loss: 0.1681 - accuracy: 0.9325 - val_loss: 1.2349 - val_accuracy: 0.6801\n",
      "Epoch 7/10\n",
      "1800/1800 [==============================] - 143s 79ms/step - loss: 0.1417 - accuracy: 0.9452 - val_loss: 1.2738 - val_accuracy: 0.6855\n",
      "Epoch 8/10\n",
      "1800/1800 [==============================] - 145s 80ms/step - loss: 0.1167 - accuracy: 0.9563 - val_loss: 1.2890 - val_accuracy: 0.6870\n",
      "Epoch 9/10\n",
      "1800/1800 [==============================] - 147s 82ms/step - loss: 0.0956 - accuracy: 0.9634 - val_loss: 1.3851 - val_accuracy: 0.7096\n",
      "Epoch 10/10\n",
      "1800/1800 [==============================] - 144s 80ms/step - loss: 0.0818 - accuracy: 0.9699 - val_loss: 1.4466 - val_accuracy: 0.7028\n"
     ]
    }
   ],
   "source": [
    "history = classifier.fit_generator(training_set,\n",
    "                         steps_per_epoch = 1800,\n",
    "                         epochs = 10,\n",
    "                         validation_data = test_set)"
   ]
  },
  {
   "cell_type": "code",
   "execution_count": 6,
   "id": "8dbc31d9",
   "metadata": {},
   "outputs": [
    {
     "data": {
      "image/png": "[encoded data removed]",
      "text/plain": [
       "<Figure size 432x288 with 1 Axes>"
      ]
     },
     "metadata": {
      "needs_background": "light"
     },
     "output_type": "display_data"
    }
   ],
   "source": [
    "from matplotlib import pyplot as plt\n",
    "# plot history\n",
    "plt.plot(history.history['loss'], label='train')\n",
    "plt.plot(history.history['val_loss'], label='test')\n",
    "plt.legend()\n",
    "plt.show()"
   ]
  },
  {
   "cell_type": "code",
   "execution_count": 7,
   "id": "c9cd0fe9",
   "metadata": {},
   "outputs": [
    {
     "name": "stdout",
     "output_type": "stream",
     "text": [
      "dog\n"
     ]
    }
   ],
   "source": [
    "import numpy as np\n",
    "from tensorflow.keras.preprocessing import image\n",
    "# loading an image from the disk\n",
    "test_image = image.load_img('random_cat.jpg', target_size = (64, 64))\n",
    "# converting the image to a numpy array\n",
    "test_image = image.img_to_array(test_image)\n",
    "test_image = np.expand_dims(test_image, axis = 0)\n",
    "result = classifier.predict(test_image)\n",
    "# print(training_set.class_indices)\n",
    "# our cut-off\n",
    "if result[0][0] >= 0.5:\n",
    "    prediction = 'dog'\n",
    "else:\n",
    "    prediction = 'cat'\n",
    "print(prediction)"
   ]
  },
  {
   "cell_type": "code",
   "execution_count": 8,
   "id": "cd2be89d",
   "metadata": {},
   "outputs": [
    {
     "data": {
      "text/plain": [
       "'\\nlecture notes\\nsoftmax for multiple classification\\nsigmoid for binary classification\\ntanh for -1 to 1\\n'"
      ]
     },
     "execution_count": 8,
     "metadata": {},
     "output_type": "execute_result"
    }
   ],
   "source": [
    "\"\"\"\n",
    "lecture notes\n",
    "softmax for multiple classification\n",
    "sigmoid for binary classification\n",
    "tanh for -1 to 1\n",
    "\"\"\""
   ]
  },
  {
   "cell_type": "code",
   "execution_count": null,
   "id": "8f4b7331",
   "metadata": {},
   "outputs": [],
   "source": []
  }
 ],
 "metadata": {
  "kernelspec": {
   "display_name": "Python 3",
   "language": "python",
   "name": "python3"
  },
  "language_info": {
   "codemirror_mode": {
    "name": "ipython",
    "version": 3
   },
   "file_extension": ".py",
   "mimetype": "text/x-python",
   "name": "python",
   "nbconvert_exporter": "python",
   "pygments_lexer": "ipython3",
   "version": "3.6.13"
  }
 },
 "nbformat": 4,
 "nbformat_minor": 5
}
