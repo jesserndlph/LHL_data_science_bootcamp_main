{
 "cells": [
  {
   "cell_type": "code",
   "execution_count": 1,
   "id": "b763390c",
   "metadata": {},
   "outputs": [],
   "source": [
    "text = \"natural language processing and machine learning is fun and exciting\"\n",
    "\n",
    "# Note the .lower() as upper and lowercase does not matter in our implementation\n",
    "# [['natural', 'language', 'processing', 'and', 'machine', 'learning', 'is', 'fun', 'and', 'exciting']]\n",
    "corpus = [[word.lower() for word in text.split()]]"
   ]
  },
  {
   "cell_type": "code",
   "execution_count": 2,
   "id": "f3e809f1",
   "metadata": {},
   "outputs": [],
   "source": [
    "settings = {\n",
    "\t'window_size': 2, # context window +- center word\n",
    "\t'n': 10, # dimensions of word embeddings, also refer to size of hidden layer\n",
    "\t'epochs': 50, # number of training epochs\n",
    "\t'learning_rate': 0.01 # learning rate\n",
    "}"
   ]
  },
  {
   "cell_type": "code",
   "execution_count": 5,
   "id": "197a4ec2",
   "metadata": {},
   "outputs": [
    {
     "ename": "TypeError",
     "evalue": "'module' object is not callable",
     "output_type": "error",
     "traceback": [
      "\u001b[0;31m---------------------------------------------------------------------------\u001b[0m",
      "\u001b[0;31mTypeError\u001b[0m                                 Traceback (most recent call last)",
      "\u001b[0;32m<ipython-input-5-1e5e9baa0d36>\u001b[0m in \u001b[0;36m<module>\u001b[0;34m\u001b[0m\n\u001b[1;32m      1\u001b[0m \u001b[0;32mfrom\u001b[0m \u001b[0mgensim\u001b[0m\u001b[0;34m.\u001b[0m\u001b[0mmodels\u001b[0m \u001b[0;32mimport\u001b[0m \u001b[0mword2vec\u001b[0m\u001b[0;34m\u001b[0m\u001b[0;34m\u001b[0m\u001b[0m\n\u001b[1;32m      2\u001b[0m \u001b[0;31m# Initialise object\u001b[0m\u001b[0;34m\u001b[0m\u001b[0;34m\u001b[0m\u001b[0;34m\u001b[0m\u001b[0m\n\u001b[0;32m----> 3\u001b[0;31m \u001b[0mw2v\u001b[0m \u001b[0;34m=\u001b[0m \u001b[0mword2vec\u001b[0m\u001b[0;34m(\u001b[0m\u001b[0;34m)\u001b[0m\u001b[0;34m\u001b[0m\u001b[0;34m\u001b[0m\u001b[0m\n\u001b[0m\u001b[1;32m      4\u001b[0m \u001b[0;31m# Numpy ndarray with one-hot representation for [target_word, context_words]\u001b[0m\u001b[0;34m\u001b[0m\u001b[0;34m\u001b[0m\u001b[0;34m\u001b[0m\u001b[0m\n\u001b[1;32m      5\u001b[0m \u001b[0mtraining_data\u001b[0m \u001b[0;34m=\u001b[0m \u001b[0mw2v\u001b[0m\u001b[0;34m.\u001b[0m\u001b[0mgenerate_training_data\u001b[0m\u001b[0;34m(\u001b[0m\u001b[0msettings\u001b[0m\u001b[0;34m,\u001b[0m \u001b[0mcorpus\u001b[0m\u001b[0;34m)\u001b[0m\u001b[0;34m\u001b[0m\u001b[0;34m\u001b[0m\u001b[0m\n",
      "\u001b[0;31mTypeError\u001b[0m: 'module' object is not callable"
     ]
    }
   ],
   "source": [
    "from gensim.models import word2vec\n",
    "# Initialise object\n",
    "w2v = word2vec()\n",
    "# Numpy ndarray with one-hot representation for [target_word, context_words]\n",
    "training_data = w2v.generate_training_data(settings, corpus)"
   ]
  },
  {
   "cell_type": "code",
   "execution_count": 6,
   "id": "a2e9dea6",
   "metadata": {},
   "outputs": [],
   "source": [
    "class word2vec():\n",
    "  def __init__(self):\n",
    "    self.n = settings['n']\n",
    "    self.lr = settings['learning_rate']\n",
    "    self.epochs = settings['epochs']\n",
    "    self.window = settings['window_size']\n",
    "\n",
    "  def generate_training_data(self, settings, corpus):\n",
    "    # Find unique word counts using dictonary\n",
    "    word_counts = defaultdict(int)\n",
    "    for row in corpus:\n",
    "      for word in row:\n",
    "        word_counts[word] += 1\n",
    "    ## How many unique words in vocab? 9\n",
    "    self.v_count = len(word_counts.keys())\n",
    "    # Generate Lookup Dictionaries (vocab)\n",
    "    self.words_list = list(word_counts.keys())\n",
    "    # Generate word:index\n",
    "    self.word_index = dict((word, i) for i, word in enumerate(self.words_list))\n",
    "    # Generate index:word\n",
    "    self.index_word = dict((i, word) for i, word in enumerate(self.words_list))\n",
    "\n",
    "    training_data = []\n",
    "    # Cycle through each sentence in corpus\n",
    "    for sentence in corpus:\n",
    "      sent_len = len(sentence)\n",
    "      # Cycle through each word in sentence\n",
    "      for i, word in enumerate(sentence):\n",
    "        # Convert target word to one-hot\n",
    "        w_target = self.word2onehot(sentence[i])\n",
    "        # Cycle through context window\n",
    "        w_context = []\n",
    "        # Note: window_size 2 will have range of 5 values\n",
    "        for j in range(i - self.window, i + self.window+1):\n",
    "          # Criteria for context word \n",
    "          # 1. Target word cannot be context word (j != i)\n",
    "          # 2. Index must be greater or equal than 0 (j >= 0) - if not list index out of range\n",
    "          # 3. Index must be less or equal than length of sentence (j <= sent_len-1) - if not list index out of range \n",
    "          if j != i and j <= sent_len-1 and j >= 0:\n",
    "            # Append the one-hot representation of word to w_context\n",
    "            w_context.append(self.word2onehot(sentence[j]))\n",
    "            # print(sentence[i], sentence[j]) \n",
    "            # training_data contains a one-hot representation of the target word and context words\n",
    "        training_data.append([w_target, w_context])\n",
    "    return np.array(training_data)\n",
    "\n",
    "  def word2onehot(self, word):\n",
    "    # word_vec - initialise a blank vector\n",
    "    word_vec = [0 for i in range(0, self.v_count)] # Alternative - np.zeros(self.v_count)\n",
    "    # Get ID of word from word_index\n",
    "    word_index = self.word_index[word]\n",
    "    # Change value from 0 to 1 according to ID of the word\n",
    "    word_vec[word_index] = 1\n",
    "    return word_vec"
   ]
  },
  {
   "cell_type": "code",
   "execution_count": 7,
   "id": "095f38f6",
   "metadata": {},
   "outputs": [
    {
     "ename": "IndentationError",
     "evalue": "expected an indented block (<ipython-input-7-a1ac80ac4502>, line 9)",
     "output_type": "error",
     "traceback": [
      "\u001b[0;36m  File \u001b[0;32m\"<ipython-input-7-a1ac80ac4502>\"\u001b[0;36m, line \u001b[0;32m9\u001b[0m\n\u001b[0;31m    self.w1 = np.array(getW1)\u001b[0m\n\u001b[0m       ^\u001b[0m\n\u001b[0;31mIndentationError\u001b[0m\u001b[0;31m:\u001b[0m expected an indented block\n"
     ]
    }
   ],
   "source": [
    "# Training\n",
    "w2v.train(training_data)\n",
    "\n",
    "class word2vec():\n",
    "  def train(self, training_data):\n",
    "  # Initialising weight matrices\n",
    "  # Both s1 and s2 should be randomly initialised but for this demo, we pre-determine the arrays (getW1 and getW2)\n",
    "  # getW1 - shape (9x10) and getW2 - shape (10x9)\n",
    "  self.w1 = np.array(getW1)\n",
    "  self.w2 = np.array(getW2)\n",
    "  # self.w1 = np.random.uniform(-1, 1, (self.v_count, self.n))\n",
    "  # self.w2 = np.random.uniform(-1, 1, (self.n, self.v_count))"
   ]
  },
  {
   "cell_type": "code",
   "execution_count": 8,
   "id": "abf8a80a",
   "metadata": {},
   "outputs": [],
   "source": [
    "class word2vec():\n",
    "  def train(self, training_data):\n",
    "  ##Removed##\n",
    "  \n",
    "    # Cycle through each epoch\n",
    "    for i in range(self.epochs):\n",
    "      # Intialise loss to 0\n",
    "      self.loss = 0\n",
    "\n",
    "      # Cycle through each training sample\n",
    "      # w_t = vector for target word, w_c = vectors for context words\n",
    "      for w_t, w_c in training_data:\n",
    "        # Forward pass - Pass in vector for target word (w_t) to get:\n",
    "        # 1. predicted y using softmax (y_pred) 2. matrix of hidden layer (h) 3. output layer before softmax (u)\n",
    "        y_pred, h, u = self.forward_pass(w_t)\n",
    "        \n",
    "        ##Removed##\n",
    "        \n",
    "  def forward_pass(self, x):\n",
    "    # x is one-hot vector for target word, shape - 9x1\n",
    "    # Run through first matrix (w1) to get hidden layer - 10x9 dot 9x1 gives us 10x1\n",
    "    h = np.dot(self.w1.T, x)\n",
    "    # Dot product hidden layer with second matrix (w2) - 9x10 dot 10x1 gives us 9x1\n",
    "    u = np.dot(self.w2.T, h)\n",
    "    # Run 1x9 through softmax to force each element to range of [0, 1] - 1x8\n",
    "    y_c = self.softmax(u)\n",
    "    return y_c, h, u\n",
    "  \n",
    "  def softmax(self, x):\n",
    "    e_x = np.exp(x - np.max(x))\n",
    "    return e_x / e_x.sum(axis=0)"
   ]
  },
  {
   "cell_type": "code",
   "execution_count": 9,
   "id": "491a514b",
   "metadata": {},
   "outputs": [
    {
     "ename": "NameError",
     "evalue": "name 'self' is not defined",
     "output_type": "error",
     "traceback": [
      "\u001b[0;31m---------------------------------------------------------------------------\u001b[0m",
      "\u001b[0;31mNameError\u001b[0m                                 Traceback (most recent call last)",
      "\u001b[0;32m<ipython-input-9-5c97951879c9>\u001b[0m in \u001b[0;36m<module>\u001b[0;34m\u001b[0m\n\u001b[0;32m----> 1\u001b[0;31m \u001b[0;32mclass\u001b[0m \u001b[0mword2vec\u001b[0m\u001b[0;34m(\u001b[0m\u001b[0;34m)\u001b[0m\u001b[0;34m:\u001b[0m\u001b[0;34m\u001b[0m\u001b[0;34m\u001b[0m\u001b[0m\n\u001b[0m\u001b[1;32m      2\u001b[0m   \u001b[0;31m##Removed##\u001b[0m\u001b[0;34m\u001b[0m\u001b[0;34m\u001b[0m\u001b[0;34m\u001b[0m\u001b[0m\n\u001b[1;32m      3\u001b[0m \u001b[0;34m\u001b[0m\u001b[0m\n\u001b[1;32m      4\u001b[0m   \u001b[0;32mfor\u001b[0m \u001b[0mi\u001b[0m \u001b[0;32min\u001b[0m \u001b[0mrange\u001b[0m\u001b[0;34m(\u001b[0m\u001b[0mself\u001b[0m\u001b[0;34m.\u001b[0m\u001b[0mepochs\u001b[0m\u001b[0;34m)\u001b[0m\u001b[0;34m:\u001b[0m\u001b[0;34m\u001b[0m\u001b[0;34m\u001b[0m\u001b[0m\n\u001b[1;32m      5\u001b[0m     \u001b[0mself\u001b[0m\u001b[0;34m.\u001b[0m\u001b[0mloss\u001b[0m \u001b[0;34m=\u001b[0m \u001b[0;36m0\u001b[0m\u001b[0;34m\u001b[0m\u001b[0;34m\u001b[0m\u001b[0m\n",
      "\u001b[0;32m<ipython-input-9-5c97951879c9>\u001b[0m in \u001b[0;36mword2vec\u001b[0;34m()\u001b[0m\n\u001b[1;32m      2\u001b[0m   \u001b[0;31m##Removed##\u001b[0m\u001b[0;34m\u001b[0m\u001b[0;34m\u001b[0m\u001b[0;34m\u001b[0m\u001b[0m\n\u001b[1;32m      3\u001b[0m \u001b[0;34m\u001b[0m\u001b[0m\n\u001b[0;32m----> 4\u001b[0;31m   \u001b[0;32mfor\u001b[0m \u001b[0mi\u001b[0m \u001b[0;32min\u001b[0m \u001b[0mrange\u001b[0m\u001b[0;34m(\u001b[0m\u001b[0mself\u001b[0m\u001b[0;34m.\u001b[0m\u001b[0mepochs\u001b[0m\u001b[0;34m)\u001b[0m\u001b[0;34m:\u001b[0m\u001b[0;34m\u001b[0m\u001b[0;34m\u001b[0m\u001b[0m\n\u001b[0m\u001b[1;32m      5\u001b[0m     \u001b[0mself\u001b[0m\u001b[0;34m.\u001b[0m\u001b[0mloss\u001b[0m \u001b[0;34m=\u001b[0m \u001b[0;36m0\u001b[0m\u001b[0;34m\u001b[0m\u001b[0;34m\u001b[0m\u001b[0m\n\u001b[1;32m      6\u001b[0m     \u001b[0;32mfor\u001b[0m \u001b[0mw_t\u001b[0m\u001b[0;34m,\u001b[0m \u001b[0mw_c\u001b[0m \u001b[0;32min\u001b[0m \u001b[0mtraining_data\u001b[0m\u001b[0;34m:\u001b[0m\u001b[0;34m\u001b[0m\u001b[0;34m\u001b[0m\u001b[0m\n",
      "\u001b[0;31mNameError\u001b[0m: name 'self' is not defined"
     ]
    }
   ],
   "source": [
    "class word2vec():\n",
    "  ##Removed##\n",
    "  \n",
    "  for i in range(self.epochs):\n",
    "    self.loss = 0\n",
    "    for w_t, w_c in training_data:\n",
    "    ##Removed##\n",
    "      \n",
    "      # Calculate error\n",
    "      # 1. For a target word, calculate difference between y_pred and each of the context words\n",
    "      # 2. Sum up the differences using np.sum to give us the error for this particular target word\n",
    "      EI = np.sum([np.subtract(y_pred, word) for word in w_c], axis=0)\n",
    "\n",
    "      # Backpropagation\n",
    "      # We use SGD to backpropagate errors - calculate loss on the output layer \n",
    "      self.backprop(EI, h, w_t)\n",
    "\n",
    "      # Calculate loss\n",
    "      # There are 2 parts to the loss function\n",
    "      # Part 1: -ve sum of all the output +\n",
    "      # Part 2: length of context words * log of sum for all elements (exponential-ed) in the output layer before softmax (u)\n",
    "      # Note: word.index(1) returns the index in the context word vector with value 1\n",
    "      # Note: u[word.index(1)] returns the value of the output layer before softmax\n",
    "      self.loss += -np.sum([u[word.index(1)] for word in w_c]) + len(w_c) * np.log(np.sum(np.exp(u)))\n",
    "    print('Epoch:', i, \"Loss:\", self.loss)\n",
    "\n",
    "  def backprop(self, e, h, x):\n",
    "    # https://docs.scipy.org/doc/numpy-1.15.1/reference/generated/numpy.outer.html\n",
    "    # Column vector EI represents row-wise sum of prediction errors across each context word for the current center word\n",
    "    # Going backwards, we need to take derivative of E with respect of w2\n",
    "    # h - shape 10x1, e - shape 9x1, dl_dw2 - shape 10x9\n",
    "    dl_dw2 = np.outer(h, e)\n",
    "    # x - shape 1x8, w2 - 5x8, e.T - 8x1\n",
    "    # x - 1x8, np.dot() - 5x1, dl_dw1 - 8x5\n",
    "    dl_dw1 = np.outer(x, np.dot(self.w2, e.T))\n",
    "    # Update weights\n",
    "    self.w1 = self.w1 - (self.lr * dl_dw1)\n",
    "    self.w2 = self.w2 - (self.lr * dl_dw2)"
   ]
  },
  {
   "cell_type": "code",
   "execution_count": 10,
   "id": "e195ca1a",
   "metadata": {},
   "outputs": [
    {
     "ename": "AttributeError",
     "evalue": "'Word2Vec' object has no attribute 'word_vec'",
     "output_type": "error",
     "traceback": [
      "\u001b[0;31m---------------------------------------------------------------------------\u001b[0m",
      "\u001b[0;31mAttributeError\u001b[0m                            Traceback (most recent call last)",
      "\u001b[0;32m<ipython-input-10-583b1fe8d9a8>\u001b[0m in \u001b[0;36m<module>\u001b[0;34m\u001b[0m\n\u001b[1;32m      1\u001b[0m \u001b[0;31m# Get vector for word\u001b[0m\u001b[0;34m\u001b[0m\u001b[0;34m\u001b[0m\u001b[0;34m\u001b[0m\u001b[0m\n\u001b[0;32m----> 2\u001b[0;31m \u001b[0mvec\u001b[0m \u001b[0;34m=\u001b[0m \u001b[0mw2v\u001b[0m\u001b[0;34m.\u001b[0m\u001b[0mword_vec\u001b[0m\u001b[0;34m(\u001b[0m\u001b[0;34m\"machine\"\u001b[0m\u001b[0;34m)\u001b[0m\u001b[0;34m\u001b[0m\u001b[0;34m\u001b[0m\u001b[0m\n\u001b[0m\u001b[1;32m      3\u001b[0m \u001b[0;34m\u001b[0m\u001b[0m\n\u001b[1;32m      4\u001b[0m \u001b[0;32mclass\u001b[0m \u001b[0mword2vec\u001b[0m\u001b[0;34m(\u001b[0m\u001b[0;34m)\u001b[0m\u001b[0;34m:\u001b[0m\u001b[0;34m\u001b[0m\u001b[0;34m\u001b[0m\u001b[0m\n\u001b[1;32m      5\u001b[0m   \u001b[0;31m## Removed ##\u001b[0m\u001b[0;34m\u001b[0m\u001b[0;34m\u001b[0m\u001b[0;34m\u001b[0m\u001b[0m\n",
      "\u001b[0;31mAttributeError\u001b[0m: 'Word2Vec' object has no attribute 'word_vec'"
     ]
    }
   ],
   "source": [
    "# Get vector for word\n",
    "vec = w2v.word_vec(\"machine\")\n",
    "\n",
    "class word2vec():\n",
    "  ## Removed ##\n",
    "  \n",
    "  # Get vector from word\n",
    "  def word_vec(self, word):\n",
    "    w_index = self.word_index[word]\n",
    "    v_w = self.w1[w_index]\n",
    "    return v_w"
   ]
  },
  {
   "cell_type": "code",
   "execution_count": 11,
   "id": "9915ded1",
   "metadata": {},
   "outputs": [
    {
     "ename": "AttributeError",
     "evalue": "'Word2Vec' object has no attribute 'vec_sim'",
     "output_type": "error",
     "traceback": [
      "\u001b[0;31m---------------------------------------------------------------------------\u001b[0m",
      "\u001b[0;31mAttributeError\u001b[0m                            Traceback (most recent call last)",
      "\u001b[0;32m<ipython-input-11-336d05229e85>\u001b[0m in \u001b[0;36m<module>\u001b[0;34m\u001b[0m\n\u001b[1;32m      1\u001b[0m \u001b[0;31m# Find similar words\u001b[0m\u001b[0;34m\u001b[0m\u001b[0;34m\u001b[0m\u001b[0;34m\u001b[0m\u001b[0m\n\u001b[0;32m----> 2\u001b[0;31m \u001b[0mw2v\u001b[0m\u001b[0;34m.\u001b[0m\u001b[0mvec_sim\u001b[0m\u001b[0;34m(\u001b[0m\u001b[0;34m\"machine\"\u001b[0m\u001b[0;34m,\u001b[0m \u001b[0;36m3\u001b[0m\u001b[0;34m)\u001b[0m\u001b[0;34m\u001b[0m\u001b[0;34m\u001b[0m\u001b[0m\n\u001b[0m\u001b[1;32m      3\u001b[0m \u001b[0;34m\u001b[0m\u001b[0m\n\u001b[1;32m      4\u001b[0m \u001b[0;32mclass\u001b[0m \u001b[0mword2vec\u001b[0m\u001b[0;34m(\u001b[0m\u001b[0;34m)\u001b[0m\u001b[0;34m:\u001b[0m\u001b[0;34m\u001b[0m\u001b[0;34m\u001b[0m\u001b[0m\n\u001b[1;32m      5\u001b[0m   \u001b[0;31m## Removed##\u001b[0m\u001b[0;34m\u001b[0m\u001b[0;34m\u001b[0m\u001b[0;34m\u001b[0m\u001b[0m\n",
      "\u001b[0;31mAttributeError\u001b[0m: 'Word2Vec' object has no attribute 'vec_sim'"
     ]
    }
   ],
   "source": [
    "# Find similar words\n",
    "w2v.vec_sim(\"machine\", 3)\n",
    "\n",
    "class word2vec():\n",
    "  ## Removed##\n",
    "  \n",
    "  # Input vector, returns nearest word(s)\n",
    "  def vec_sim(self, word, top_n):\n",
    "    v_w1 = self.word_vec(word)\n",
    "    word_sim = {}\n",
    "\n",
    "    for i in range(self.v_count):\n",
    "      # Find the similary score for each word in vocab\n",
    "      v_w2 = self.w1[i]\n",
    "      theta_sum = np.dot(v_w1, v_w2)\n",
    "      theta_den = np.linalg.norm(v_w1) * np.linalg.norm(v_w2)\n",
    "      theta = theta_sum / theta_den\n",
    "\n",
    "      word = self.index_word[i]\n",
    "      word_sim[word] = theta\n",
    "\n",
    "    words_sorted = sorted(word_sim.items(), key=lambda kv: kv[1], reverse=True)\n",
    "\n",
    "    for word, sim in words_sorted[:top_n]:\n",
    "      print(word, sim)"
   ]
  },
  {
   "cell_type": "code",
   "execution_count": null,
   "id": "6a05051b",
   "metadata": {},
   "outputs": [],
   "source": []
  }
 ],
 "metadata": {
  "kernelspec": {
   "display_name": "Python 3.6.13 64-bit ('tensorflow': conda)",
   "language": "python",
   "name": "python3613jvsc74a57bd07257430773ff2786ada9528d4be6e0e9fe11a1482846f09bd681c7e1b20b89d3"
  },
  "language_info": {
   "codemirror_mode": {
    "name": "ipython",
    "version": 3
   },
   "file_extension": ".py",
   "mimetype": "text/x-python",
   "name": "python",
   "nbconvert_exporter": "python",
   "pygments_lexer": "ipython3",
   "version": "3.6.13"
  }
 },
 "nbformat": 4,
 "nbformat_minor": 5
}
