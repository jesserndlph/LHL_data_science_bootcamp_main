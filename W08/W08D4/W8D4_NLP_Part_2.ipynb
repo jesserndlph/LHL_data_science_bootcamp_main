{
 "cells": [
  {
   "cell_type": "markdown",
   "metadata": {},
   "source": [
    "## NLP Part 2:\n",
    "\n",
    "**Agenda**\n",
    "\n",
    "- Sentiment Analysis\n",
    "    - Supervised learning sentiment anlaysis\n",
    "    - Sentiment as feature engineering\n",
    "    \n",
    "- Topic Modeling with LDA (Latent-Dirichlet-Allocation)\n",
    "\n",
    "\n",
    "### Quick Overview of the NLP lifecycle: From dataset to ouput\n",
    "![workflowlda](images/sentiment_workflow.jpg)\n",
    "\n",
    "\n",
    "![workflow](images/topic_workflow.jpg)\n"
   ]
  },
  {
   "cell_type": "code",
   "execution_count": 1,
   "metadata": {},
   "outputs": [],
   "source": [
    "import pandas as pd\n",
    "#pd.set_option('display.max_colwidth', 0) #code to wrap text for easy viewing\n",
    "import warnings\n",
    "warnings.filterwarnings(\"ignore\")"
   ]
  },
  {
   "cell_type": "code",
   "execution_count": 2,
   "metadata": {},
   "outputs": [],
   "source": [
    "df = imdb_df = pd.read_csv(\"imdb_sentiment.csv\")"
   ]
  },
  {
   "cell_type": "code",
   "execution_count": 3,
   "metadata": {},
   "outputs": [
    {
     "data": {
      "text/html": [
       "<div>\n",
       "<style scoped>\n",
       "    .dataframe tbody tr th:only-of-type {\n",
       "        vertical-align: middle;\n",
       "    }\n",
       "\n",
       "    .dataframe tbody tr th {\n",
       "        vertical-align: top;\n",
       "    }\n",
       "\n",
       "    .dataframe thead th {\n",
       "        text-align: right;\n",
       "    }\n",
       "</style>\n",
       "<table border=\"1\" class=\"dataframe\">\n",
       "  <thead>\n",
       "    <tr style=\"text-align: right;\">\n",
       "      <th></th>\n",
       "      <th>review</th>\n",
       "      <th>sentiment</th>\n",
       "    </tr>\n",
       "  </thead>\n",
       "  <tbody>\n",
       "    <tr>\n",
       "      <th>0</th>\n",
       "      <td>One of the other reviewers has mentioned that ...</td>\n",
       "      <td>positive</td>\n",
       "    </tr>\n",
       "    <tr>\n",
       "      <th>1</th>\n",
       "      <td>A wonderful little production. &lt;br /&gt;&lt;br /&gt;The...</td>\n",
       "      <td>positive</td>\n",
       "    </tr>\n",
       "    <tr>\n",
       "      <th>2</th>\n",
       "      <td>I thought this was a wonderful way to spend ti...</td>\n",
       "      <td>positive</td>\n",
       "    </tr>\n",
       "    <tr>\n",
       "      <th>3</th>\n",
       "      <td>Basically there's a family where a little boy ...</td>\n",
       "      <td>negative</td>\n",
       "    </tr>\n",
       "    <tr>\n",
       "      <th>4</th>\n",
       "      <td>Petter Mattei's \"Love in the Time of Money\" is...</td>\n",
       "      <td>positive</td>\n",
       "    </tr>\n",
       "  </tbody>\n",
       "</table>\n",
       "</div>"
      ],
      "text/plain": [
       "                                              review sentiment\n",
       "0  One of the other reviewers has mentioned that ...  positive\n",
       "1  A wonderful little production. <br /><br />The...  positive\n",
       "2  I thought this was a wonderful way to spend ti...  positive\n",
       "3  Basically there's a family where a little boy ...  negative\n",
       "4  Petter Mattei's \"Love in the Time of Money\" is...  positive"
      ]
     },
     "execution_count": 3,
     "metadata": {},
     "output_type": "execute_result"
    }
   ],
   "source": [
    "df.head()"
   ]
  },
  {
   "cell_type": "code",
   "execution_count": 4,
   "metadata": {},
   "outputs": [
    {
     "data": {
      "text/plain": [
       "(50000, 2)"
      ]
     },
     "execution_count": 4,
     "metadata": {},
     "output_type": "execute_result"
    }
   ],
   "source": [
    "df.shape"
   ]
  },
  {
   "cell_type": "code",
   "execution_count": 5,
   "metadata": {},
   "outputs": [
    {
     "data": {
      "text/plain": [
       "negative    25000\n",
       "positive    25000\n",
       "Name: sentiment, dtype: int64"
      ]
     },
     "execution_count": 5,
     "metadata": {},
     "output_type": "execute_result"
    }
   ],
   "source": [
    "df.sentiment.value_counts()"
   ]
  },
  {
   "cell_type": "code",
   "execution_count": 6,
   "metadata": {},
   "outputs": [],
   "source": [
    "#Replace sentiment column with 1 & 0s \n",
    "df.sentiment = df.sentiment.map({\"positive\":1, \"negative\":0})"
   ]
  },
  {
   "cell_type": "markdown",
   "metadata": {},
   "source": [
    "### Preprocessing\n",
    "\n",
    "This is a dataset of movie review from the IMBD website with already labeled sentiment of positive and negative. \n",
    "\n",
    "**Target Variable is sentiment**, we will be trying to classify if it's positive or negative."
   ]
  },
  {
   "cell_type": "code",
   "execution_count": 7,
   "metadata": {},
   "outputs": [
    {
     "name": "stderr",
     "output_type": "stream",
     "text": [
      "[nltk_data] Downloading package punkt to\n",
      "[nltk_data]     C:\\Users\\andre\\AppData\\Roaming\\nltk_data...\n",
      "[nltk_data]   Package punkt is already up-to-date!\n",
      "[nltk_data] Downloading package stopwords to\n",
      "[nltk_data]     C:\\Users\\andre\\AppData\\Roaming\\nltk_data...\n",
      "[nltk_data]   Package stopwords is already up-to-date!\n"
     ]
    }
   ],
   "source": [
    "#NLTK\n",
    "import nltk #spacy \n",
    "nltk.download('punkt') #download if you have not done so\n",
    "from nltk.tokenize import word_tokenize\n",
    "nltk.download('stopwords') #download if you have not done so\n",
    "from nltk.corpus import stopwords\n",
    "\n",
    "# Import vectorizer\n",
    "from sklearn.feature_extraction.text import CountVectorizer, TfidfVectorizer"
   ]
  },
  {
   "cell_type": "code",
   "execution_count": 8,
   "metadata": {},
   "outputs": [],
   "source": [
    "#instatiate tokenizer\n",
    "tokenizer = word_tokenize\n",
    "\n",
    "#get stop_words\n",
    "stop_words = stopwords.words('english')\n",
    "#stop_words.extend(['.',',',\"'d\", \"'ll\", \"'re\", \"'s\", \"'ve\", 'could', 'might', 'must', \"n't\", 'need', 'sha', 'wo', 'would'])"
   ]
  },
  {
   "cell_type": "markdown",
   "metadata": {},
   "source": []
  },
  {
   "cell_type": "code",
   "execution_count": 9,
   "metadata": {},
   "outputs": [],
   "source": [
    "#instatiate vectorizer\n",
    "tfidf = TfidfVectorizer(min_df = 2, tokenizer = tokenizer, stop_words = stop_words)"
   ]
  },
  {
   "cell_type": "markdown",
   "metadata": {},
   "source": [
    "Now that we created our tokenizer function which will be fed into our TFIDF vectorizer down below, ideally I may want to optimize the min_df value of our vectorizer. The **min_df** used for removing terms that appear too infrequently.\n",
    "\n",
    "For example:\n",
    "* min_df = 0.01 means \"ignore terms that appear in less than 1% of the documents\".\n",
    "* min_df = 5 means \"ignore terms that appear in less than 5 documents\"."
   ]
  },
  {
   "cell_type": "markdown",
   "metadata": {},
   "source": [
    "### Modeling"
   ]
  },
  {
   "cell_type": "code",
   "execution_count": 10,
   "metadata": {},
   "outputs": [],
   "source": [
    "from sklearn.naive_bayes import BernoulliNB #because binary \n",
    "from sklearn.pipeline import Pipeline\n",
    "\n",
    "#build pipeline\n",
    "nlp_pipeline = Pipeline([\n",
    "    ('preprocessing', tfidf),\n",
    "    ('model', BernoulliNB())\n",
    "], verbose = True)"
   ]
  },
  {
   "cell_type": "code",
   "execution_count": 11,
   "metadata": {},
   "outputs": [],
   "source": [
    "#train_test_split\n",
    "from sklearn.model_selection import train_test_split\n",
    "\n",
    "X_train, X_test, y_train, y_test = train_test_split(df.review, df.sentiment, \n",
    "                                                    test_size=0.20, random_state=42)"
   ]
  },
  {
   "cell_type": "code",
   "execution_count": 12,
   "metadata": {},
   "outputs": [
    {
     "name": "stdout",
     "output_type": "stream",
     "text": [
      "[Pipeline] ..... (step 1 of 2) Processing preprocessing, total=  48.2s\n",
      "[Pipeline] ............. (step 2 of 2) Processing model, total=   0.1s\n",
      "Wall time: 1min 48s\n"
     ]
    }
   ],
   "source": [
    "%%time\n",
    "#fit pipeline\n",
    "nlp_pipeline.fit(X_train, y_train)\n",
    "\n",
    "train_accuracy = nlp_pipeline.score(X_train,y_train)\n",
    "test_accuracy = nlp_pipeline.score(X_test,y_test)"
   ]
  },
  {
   "cell_type": "code",
   "execution_count": 13,
   "metadata": {},
   "outputs": [
    {
     "name": "stdout",
     "output_type": "stream",
     "text": [
      "Train accuracy:\t0.9012\n",
      "Test accuracy:\t0.8601\n"
     ]
    }
   ],
   "source": [
    "print(f'Train accuracy:\\t{train_accuracy}')\n",
    "print(f'Test accuracy:\\t{test_accuracy}')"
   ]
  },
  {
   "cell_type": "code",
   "execution_count": 26,
   "metadata": {},
   "outputs": [
    {
     "data": {
      "text/plain": [
       "array([0], dtype=int64)"
      ]
     },
     "execution_count": 26,
     "metadata": {},
     "output_type": "execute_result"
    }
   ],
   "source": [
    "#Test prediction\n",
    "nlp_pipeline.predict(['Welcome to the terrible world of data science'])"
   ]
  },
  {
   "cell_type": "markdown",
   "metadata": {},
   "source": [
    "### How do we find out the sentiment of a document if it isn't labeled?\n",
    "\n",
    "There are python packages out there, such as textblob, nltk, & vaderSentiment, that makes it easy for us to determine a sentiment for any string.\n",
    "\n",
    "- You may want to do this as part of a feature engineering step.\n",
    "\n",
    "\n",
    "#### TextBlob Example\n",
    "\n",
    "Note: Make sure you install textblob, it does not come with anaconda.\n",
    "```\n",
    "pip install textblob\n",
    "```"
   ]
  },
  {
   "cell_type": "code",
   "execution_count": 27,
   "metadata": {},
   "outputs": [],
   "source": [
    "from textblob import TextBlob"
   ]
  },
  {
   "cell_type": "code",
   "execution_count": 33,
   "metadata": {},
   "outputs": [],
   "source": [
    "documents = ['Today is a good day!',\n",
    "            'That is extraordinarily terrible!',\n",
    "            'That is a waste of time.',\n",
    "            'That is sick movie.']"
   ]
  },
  {
   "cell_type": "code",
   "execution_count": 34,
   "metadata": {},
   "outputs": [
    {
     "name": "stdout",
     "output_type": "stream",
     "text": [
      "Sentiment(polarity=0.875, subjectivity=0.6000000000000001)\n",
      "Sentiment(polarity=-1.0, subjectivity=1.0)\n",
      "Sentiment(polarity=-0.2, subjectivity=0.0)\n",
      "Sentiment(polarity=-0.7142857142857143, subjectivity=0.8571428571428571)\n"
     ]
    }
   ],
   "source": [
    "for i in documents:\n",
    "    print(TextBlob(i).sentiment)"
   ]
  },
  {
   "cell_type": "markdown",
   "metadata": {},
   "source": [
    "- Polarity ranges from -1 to 1, with -1 being most negative, and 1 being most positive\n",
    "- Subjectivity is from 0 to 1, socre of 0 implying the statement is factual, score of 1 implies highly subejctive statement\n",
    "\n",
    "#### Valence Aware Dictionary and sEntiment Reasoner (VADER)\n",
    "\n",
    "- recenlty developed lexicon-based sentiment anlaysis tool, whose accuracy has been much greater than existing lexicon-based sentiment analyzers. It is better than other becauses it includes colloquial langauge terms, such as slang, emoticons, acronyms, and it also factors in the intesity of words.\n",
    "- Model deeloped by georgia tech. Read the paper on it [here](http://comp.social.gatech.edu/papers/icwsm14.vader.hutto.pdf), it's an easy to read paper if you're interested."
   ]
  },
  {
   "cell_type": "code",
   "execution_count": 35,
   "metadata": {},
   "outputs": [
    {
     "name": "stderr",
     "output_type": "stream",
     "text": [
      "[nltk_data] Downloading package vader_lexicon to\n",
      "[nltk_data]     C:\\Users\\andre\\AppData\\Roaming\\nltk_data...\n",
      "[nltk_data]   Package vader_lexicon is already up-to-date!\n"
     ]
    }
   ],
   "source": [
    "nltk.download('vader_lexicon')\n",
    "from nltk.sentiment.vader import SentimentIntensityAnalyzer as Vader"
   ]
  },
  {
   "cell_type": "code",
   "execution_count": 36,
   "metadata": {},
   "outputs": [],
   "source": [
    "vader = Vader()"
   ]
  },
  {
   "cell_type": "code",
   "execution_count": 37,
   "metadata": {},
   "outputs": [
    {
     "name": "stdout",
     "output_type": "stream",
     "text": [
      "{'neg': 0.0, 'neu': 0.484, 'pos': 0.516, 'compound': 0.4926}\n",
      "{'neg': 0.531, 'neu': 0.469, 'pos': 0.0, 'compound': -0.5255}\n",
      "{'neg': 0.412, 'neu': 0.588, 'pos': 0.0, 'compound': -0.4215}\n",
      "{'neg': 0.524, 'neu': 0.476, 'pos': 0.0, 'compound': -0.5106}\n"
     ]
    }
   ],
   "source": [
    "for i in documents:\n",
    "    print(vader.polarity_scores(i))"
   ]
  },
  {
   "cell_type": "markdown",
   "metadata": {},
   "source": [
    "\n",
    "\n",
    "VADER's SentimentIntensityAnalyzer() takes in a string and returns a dictionary of scores in each of four categories:\n",
    "\n",
    "    negative\n",
    "    neutral\n",
    "    positive\n",
    "    compound (computed by normalizing the scores above)\n",
    "\n"
   ]
  },
  {
   "cell_type": "markdown",
   "metadata": {},
   "source": [
    "_______________________\n",
    "\n",
    "## LDA Topic Modelling\n",
    "\n",
    "**What is topic modelling? What are the use cases?**\n",
    "\n",
    "\n"
   ]
  },
  {
   "cell_type": "markdown",
   "metadata": {},
   "source": [
    "### Example: A corpus of food magazines \n",
    "\n",
    "![exampleA](images/00_TM_food_magazines.png)\n",
    "\n",
    "### Example: A corpus of news articles\n",
    "![exampleB](images/01_TM_NYT_articles.png)\n",
    "\n",
    "\n",
    "### Topic modeling \n",
    "\n",
    "- Suppose your company has a large collection of documents on a variety of topics\n",
    "- Suppose they ask you to \n",
    "    - infer different topics in the documents\n",
    "    - pull all documents about a certain topic    \n",
    "    \n",
    "**Use Cases:**\n",
    "- Understanding customer support chat logs\n",
    "- Understanding customer reviews\n",
    "- Categorizing knowledge databases\n",
    "- Looking at the change of topics over time. \n",
    "- Any idea on combining topic modeling and sentiment analysis?"
   ]
  },
  {
   "cell_type": "markdown",
   "metadata": {},
   "source": [
    "### Topic modeling motivation\n",
    "\n",
    "- Humans are pretty good at reading and understanding documents and answering questions such as \n",
    "    - What is it about?  \n",
    "    - What is it related to in terms of content?     \n",
    "- Labeling by hand? \n",
    "    - Probably not\n",
    "- Use topic modeling which automates this process of inferring underlying structure in a large corpus of text documents"
   ]
  },
  {
   "cell_type": "markdown",
   "metadata": {},
   "source": [
    "### Topic modeling: Input \n",
    "\n",
    "<center>\n",
    "<img src=\"images/02_TM_science_articles.png\" height=\"2000\" width=\"2000\"> \n",
    "</center>\n",
    "(Credit: [Dave Blei's presentation](http://www.cs.columbia.edu/~blei/talks/Blei_Science_2008.pdf))"
   ]
  },
  {
   "cell_type": "markdown",
   "metadata": {},
   "source": [
    "### Topic modeling: output\n",
    "<center>\n",
    "<img src=\"images/TM_topics.png\" height=\"600\" width=\"600\"> \n",
    "</center>\n",
    "\n",
    "(Credit: [Dave Blei's presentation](http://www.cs.columbia.edu/~blei/talks/Blei_Science_2008.pdf))"
   ]
  },
  {
   "cell_type": "markdown",
   "metadata": {},
   "source": [
    "### Topic modeling: output with interpretation\n",
    "\n",
    "- The labels are assigned manually.  \n",
    "<center>\n",
    "<img src=\"images/03_TM_topics_with_labels.png\" height=\"800\" width=\"800\"> \n",
    "</center>\n",
    "\n",
    "(Credit: [Dave Blei's presentation](http://www.cs.columbia.edu/~blei/talks/Blei_Science_2008.pdf))"
   ]
  },
  {
   "cell_type": "markdown",
   "metadata": {},
   "source": [
    "## Topic modeling pipeline \n",
    "\n",
    "- Feed knowlege into the machines; let it read large amount of text\n",
    "    * E.g., Wikipedia or News articles     \n",
    "- Preprocess your corpus \n",
    "    - Be careful with the features (i.e., words)\n",
    "- Train ML models\n",
    "    - For now Latent Dirichlet Allocation (LDA)\n",
    "- Interpret your topics     \n",
    "- Evaluate\n",
    "    - How well your model does on unseen documents? "
   ]
  },
  {
   "cell_type": "markdown",
   "metadata": {},
   "source": [
    "### Baysian approach: Latent Dirichlet Allocation (LDA)\n",
    "\n",
    "- Developed by [David Blei](http://www.cs.columbia.edu/~blei/) and colleagues. \n",
    "    * One of the most cited papers in the last 15 years.\n",
    "    \n",
    "- Main Idea:\n",
    "    - Documents exhibit multiple topics\n",
    "    - A word in a document is likely to belong to the same topics the other words of that document\n",
    "    \n",
    "- Insight: \n",
    "    - Each document is a random mixture of corpus-wide topics.\n",
    "        - Every document is a discrete probability distribution of topics\n",
    "\n",
    "    - Every topic is a mixture words, aka. vocabulary, that is equal to the length of number of words in corpus.\n",
    "        - Every topic is a discrete probability distribution of words \n",
    "        \n",
    "\n"
   ]
  },
  {
   "cell_type": "markdown",
   "metadata": {},
   "source": [
    "### LDA: insight\n",
    "- Each document is a random mixture of corpus-wide topics\n",
    "- Every topic is a mixture words\n",
    "\n",
    "\n",
    "![lda](images/04_TM_dist_topics_words_blei.png)\n",
    "\n",
    "(Credit: [Dave Blei's presentation](http://www.cs.columbia.edu/~blei/talks/Blei_Science_2008.pdf))"
   ]
  },
  {
   "cell_type": "markdown",
   "metadata": {},
   "source": [
    "### Example: Every document is a discrete probability distribution of topics\n",
    "\n",
    "- Assume two topics: Topic 1 (topic model) and Topic 2 (fashion model)\n",
    "- Document 1: 100% topic models\n",
    "- Document 4: 100% fashion models\n",
    "- Document 7: 60% topic models + 40% fashion model\n",
    "\n",
    "<blockquote>\n",
    "Document 1: probabilistic topic model<br>\n",
    "Document 2: probabilistic topic model<br>\n",
    "Document 3: probabilistic topic model<br>\n",
    "Document 4: famous fashion model<br>\n",
    "Document 5: famous fashion model<br>\n",
    "Document 6: famous fashion model<br>\n",
    "Document 7: famous fashion model at probabilistic topic model conference<br>    \n",
    "</blockquote>\n",
    "    \n",
    "(Credit: The example is adapted from [Topic models tutorial](http://topicmodels.info/))"
   ]
  },
  {
   "cell_type": "markdown",
   "metadata": {},
   "source": [
    "### Example: Every topic is a discrete probability distribution of words\n",
    "\n",
    "- Assume two topics: Topic 1 (topic model) and Topic 2 (fashion model)\n",
    "- Topic 1: _model_ (0.33), _probabilistic_ (0.32), _topic_ (0.32), ...    \n",
    "- Topic 2: _model_ (0.33), _famous_ (0.32), _fashion_ (0.32), ...    \n",
    "\n",
    "<blockquote>\n",
    "Document 1: probabilistic topic model<br>\n",
    "Document 2: probabilistic topic model<br>\n",
    "Document 3: probabilistic topic model<br>\n",
    "Document 4: famous fashion model<br>\n",
    "Document 5: famous fashion model<br>\n",
    "Document 6: famous fashion model<br>\n",
    "Document 7: famous fashion model at probabilistic topic model conference<br>    \n",
    "</blockquote>\n",
    "    \n",
    "(Credit: The example is adapted from [Topic models tutorial](http://topicmodels.info/))\n",
    "\n",
    "\n",
    "![topics](images/topics.png)"
   ]
  },
  {
   "cell_type": "markdown",
   "metadata": {},
   "source": [
    "![topic_traingle](images/topics_triangle.png)"
   ]
  },
  {
   "cell_type": "markdown",
   "metadata": {},
   "source": [
    "### LDA learning: goals\n",
    "\n",
    "Infer the underlying topic structure in the documents. In particular, \n",
    "- Learn the probability distribution of topics in each document\n",
    "- Learn the discrete probability distribution of words in each topic\n",
    "\n",
    "### LDA learning: intuition\n",
    "\n",
    "Intuition: A word in a document is likely to belong to the same topic as the other words in that document. \n",
    "\n",
    "### LDA algorithm \n",
    "\n",
    "- Choose the number of topics you think are there in your corpus\n",
    "    * Example: k = 2\n",
    "    \n",
    "### LDA algorithm\n",
    "\n",
    "- Repeat the following steps till the topics make sense:     \n",
    "- Randomly assign each words in each document to one of the topics\n",
    "    * Example: The word _probabilistic_ is randomly assigned to topic 2 (fashion).\n",
    "- Go through every word and its topic assignment in each document, looking at\n",
    "    * How often the topic occurs in the document?\n",
    "    * How often the word occurs with the topic overall? \n",
    "    * Example: Seems like topic 2 does not occur in Document 1 and the word _probabilistic_ doesn't occur much in topic 2 (fashion). So the word _probabilistic_ should probably be assigned to topic 1. \n"
   ]
  },
  {
   "cell_type": "markdown",
   "metadata": {},
   "source": [
    "#### Training LDA with [Gensim](https://radimrehurek.com/gensim/index.html)\n",
    "\n",
    "Tutorial from [here](https://radimrehurek.com/gensim/auto_examples/tutorials/run_lda.html#sphx-glr-auto-examples-tutorials-run-lda-py)"
   ]
  },
  {
   "cell_type": "code",
   "execution_count": 38,
   "metadata": {},
   "outputs": [],
   "source": [
    "import io\n",
    "import os.path\n",
    "import re\n",
    "import tarfile\n",
    "\n",
    "import smart_open\n",
    "\n",
    "def extract_documents(url='https://cs.nyu.edu/~roweis/data/nips12raw_str602.tgz'):\n",
    "    with smart_open.open(url, \"rb\") as file:\n",
    "        with tarfile.open(fileobj=file) as tar:\n",
    "            for member in tar.getmembers():\n",
    "                if member.isfile() and re.search(r'nipstxt/nips\\d+/\\d+\\.txt', member.name):\n",
    "                    member_bytes = tar.extractfile(member).read()\n",
    "                    yield member_bytes.decode('utf-8', errors='replace')\n",
    "\n",
    "docs = list(extract_documents())"
   ]
  },
  {
   "cell_type": "code",
   "execution_count": 39,
   "metadata": {},
   "outputs": [
    {
     "name": "stdout",
     "output_type": "stream",
     "text": [
      "1740\n",
      "387 \n",
      "Neural Net and Traditional Classifiers  \n",
      "William Y. Huang and Richard P. Lippmann \n",
      "MIT Lincoln Laboratory \n",
      "Lexington, MA 02173, USA \n",
      "Abstract\n",
      "Previous work on nets with continuous-valued inputs led to generative \n",
      "procedures to construct convex decision regions with two-layer percepttons (one hidden \n",
      "layer) and arbitrary decision regions with three-layer percepttons (two hidden layers). \n",
      "Here we demonstrate that two-layer perceptton classifiers trained with back propagation \n",
      "can form both c\n"
     ]
    }
   ],
   "source": [
    "print(len(docs))\n",
    "print(docs[0][:500]) #look at the first document"
   ]
  },
  {
   "cell_type": "code",
   "execution_count": 40,
   "metadata": {},
   "outputs": [],
   "source": [
    "#Pre Processing\n",
    "# Tokenize the documents.\n",
    "from nltk.tokenize import RegexpTokenizer\n",
    "\n",
    "# Split the documents into tokens.\n",
    "tokenizer = RegexpTokenizer(r'\\w+')\n",
    "for idx in range(len(docs)):\n",
    "    docs[idx] = docs[idx].lower()  # Convert to lowercase.\n",
    "    docs[idx] = tokenizer.tokenize(docs[idx])  # Split into words.\n",
    "\n",
    "# Remove numbers, but not words that contain numbers.\n",
    "doocs = [[token for token in doc if not token.isnumeric()] for doc in docs]\n",
    "\n",
    "# Remove words that are only one character.\n",
    "docs = [[token for token in doc if len(token) > 1] for doc in docs]"
   ]
  },
  {
   "cell_type": "code",
   "execution_count": 41,
   "metadata": {},
   "outputs": [
    {
     "name": "stderr",
     "output_type": "stream",
     "text": [
      "[nltk_data] Downloading package wordnet to\n",
      "[nltk_data]     C:\\Users\\andre\\AppData\\Roaming\\nltk_data...\n",
      "[nltk_data]   Package wordnet is already up-to-date!\n"
     ]
    }
   ],
   "source": [
    "# Lemmatize the documents.\n",
    "from nltk.stem.wordnet import WordNetLemmatizer\n",
    "nltk.download('wordnet')\n",
    "\n",
    "lemmatizer = WordNetLemmatizer()\n",
    "docs = [[lemmatizer.lemmatize(token) for token in doc] for doc in docs]"
   ]
  },
  {
   "cell_type": "code",
   "execution_count": 42,
   "metadata": {},
   "outputs": [],
   "source": [
    "import gensim"
   ]
  },
  {
   "cell_type": "code",
   "execution_count": 43,
   "metadata": {},
   "outputs": [
    {
     "name": "stdout",
     "output_type": "stream",
     "text": [
      "Wall time: 12.3 s\n"
     ]
    }
   ],
   "source": [
    "%%time\n",
    "# Compute bigrams.\n",
    "from gensim.models import Phrases\n",
    "\n",
    "# Add bigrams and trigrams to docs (only ones that appear 20 times or more).\n",
    "bigram = Phrases(docs, min_count=20)\n",
    "for idx in range(len(docs)):\n",
    "    for token in bigram[docs[idx]]:\n",
    "        if '_' in token:\n",
    "            # Token is a bigram, add to document.\n",
    "            docs[idx].append(token)"
   ]
  },
  {
   "cell_type": "code",
   "execution_count": 44,
   "metadata": {},
   "outputs": [],
   "source": [
    "# Remove rare and common tokens.\n",
    "from gensim.corpora import Dictionary\n",
    "\n",
    "# Create a dictionary representation of the documents.\n",
    "dictionary = Dictionary(docs)\n",
    "\n",
    "# Filter out words that occur less than 20 documents, or more than 50% of the documents.\n",
    "dictionary.filter_extremes(no_below=20, no_above=0.5)"
   ]
  },
  {
   "cell_type": "code",
   "execution_count": 45,
   "metadata": {},
   "outputs": [],
   "source": [
    "# Bag-of-words representation of the documents.\n",
    "corpus = [dictionary.doc2bow(doc) for doc in docs]"
   ]
  },
  {
   "cell_type": "code",
   "execution_count": 46,
   "metadata": {},
   "outputs": [
    {
     "name": "stdout",
     "output_type": "stream",
     "text": [
      "Number of unique tokens: 9738\n",
      "Number of documents: 1740\n"
     ]
    }
   ],
   "source": [
    "print('Number of unique tokens: %d' % len(dictionary))\n",
    "print('Number of documents: %d' % len(corpus))"
   ]
  },
  {
   "cell_type": "code",
   "execution_count": 47,
   "metadata": {},
   "outputs": [
    {
     "name": "stdout",
     "output_type": "stream",
     "text": [
      "Wall time: 1min 9s\n"
     ]
    }
   ],
   "source": [
    "%%time\n",
    "# Train LDA model.\n",
    "from gensim.models import LdaModel\n",
    "\n",
    "# Set training parameters.\n",
    "num_topics = 10 #number of topics, similar to K in k-means\n",
    "chunksize = 2000 # Number of documents to be used in each training chunk.\n",
    "passes = 20 #Number of passes through the corpus during training.\n",
    "iterations = 400 #Maximum number of iterations through the corpus when inferring the topic distribution of a corpus.\n",
    "eval_every = None  # Don't evaluate model perplexity, takes too much time.\n",
    "\n",
    "# Make a index to word dictionary.\n",
    "temp = dictionary[0]  # This is only to \"load\" the dictionary.\n",
    "id2word = dictionary.id2token\n",
    "\n",
    "model = LdaModel(\n",
    "    corpus=corpus,\n",
    "    id2word=id2word,\n",
    "    chunksize=chunksize,\n",
    "    alpha='auto',\n",
    "    eta='auto',\n",
    "    iterations=iterations,\n",
    "    num_topics=num_topics,\n",
    "    passes=passes,\n",
    "    eval_every=eval_every\n",
    ")"
   ]
  },
  {
   "cell_type": "code",
   "execution_count": 48,
   "metadata": {},
   "outputs": [
    {
     "name": "stdout",
     "output_type": "stream",
     "text": [
      "Average topic coherence: -1.1672.\n",
      "[([(0.018794239, 'neuron'),\n",
      "   (0.01863369, 'cell'),\n",
      "   (0.0086115245, 'response'),\n",
      "   (0.007806326, 'stimulus'),\n",
      "   (0.0072809695, 'spike'),\n",
      "   (0.006781008, 'activity'),\n",
      "   (0.006232301, 'synaptic'),\n",
      "   (0.0056042876, 'firing'),\n",
      "   (0.004935798, 'cortex'),\n",
      "   (0.004325682, 'connection'),\n",
      "   (0.0042543025, 'visual'),\n",
      "   (0.004132585, 'frequency'),\n",
      "   (0.0040870407, 'cortical'),\n",
      "   (0.0038517267, 'signal'),\n",
      "   (0.0036974992, 'orientation'),\n",
      "   (0.0035579538, 'potential'),\n",
      "   (0.0033264365, 'field'),\n",
      "   (0.0032710019, 'fig'),\n",
      "   (0.00315523, 'layer'),\n",
      "   (0.0030391028, 'temporal')],\n",
      "  -0.8341374567087377),\n",
      " ([(0.0106591955, 'gaussian'),\n",
      "   (0.009123859, 'mixture'),\n",
      "   (0.007869442, 'component'),\n",
      "   (0.007790583, 'density'),\n",
      "   (0.0069111274, 'likelihood'),\n",
      "   (0.006691491, 'matrix'),\n",
      "   (0.0056680543, 'prior'),\n",
      "   (0.0054988363, 'em'),\n",
      "   (0.004901987, 'noise'),\n",
      "   (0.004713703, 'bayesian'),\n",
      "   (0.004685639, 'estimate'),\n",
      "   (0.004622938, 'posterior'),\n",
      "   (0.0043178787, 'basis'),\n",
      "   (0.004259859, 'log'),\n",
      "   (0.0040532695, 'approximation'),\n",
      "   (0.0040369416, 'variance'),\n",
      "   (0.0038126223, 'covariance'),\n",
      "   (0.003802612, 'estimation'),\n",
      "   (0.0036309608, 'sample'),\n",
      "   (0.0035961624, 'independent')],\n",
      "  -0.8399516467561652),\n",
      " ([(0.008184929, 'hidden'),\n",
      "   (0.007539707, 'layer'),\n",
      "   (0.0073005185, 'net'),\n",
      "   (0.005134216, 'rule'),\n",
      "   (0.0047253612, 'hidden_unit'),\n",
      "   (0.004244194, 'trained'),\n",
      "   (0.004003319, 'node'),\n",
      "   (0.0039604655, 'architecture'),\n",
      "   (0.0034117282, 'back'),\n",
      "   (0.0033771433, 'table'),\n",
      "   (0.0032976451, 'prediction'),\n",
      "   (0.0031253987, 'propagation'),\n",
      "   (0.0028768545, 'recurrent'),\n",
      "   (0.0027942075, 'gradient'),\n",
      "   (0.0027311752, 'training_set'),\n",
      "   (0.002572979, 'back_propagation'),\n",
      "   (0.0025193589, 'learn'),\n",
      "   (0.0024329326, '1990'),\n",
      "   (0.0021948023, '1988'),\n",
      "   (0.002179427, 'activation')],\n",
      "  -0.8971384348316058),\n",
      " ([(0.00925448, 'map'),\n",
      "   (0.008560547, 'image'),\n",
      "   (0.006675717, 'cluster'),\n",
      "   (0.0060754465, 'region'),\n",
      "   (0.0055066273, 'surface'),\n",
      "   (0.004825735, 'field'),\n",
      "   (0.0047967345, 'clustering'),\n",
      "   (0.004668102, 'rule'),\n",
      "   (0.0045235404, 'self'),\n",
      "   (0.004357905, 'edge'),\n",
      "   (0.0041375686, 'contour'),\n",
      "   (0.004127909, 'node'),\n",
      "   (0.003909642, 'dimensional'),\n",
      "   (0.0038811513, 'mapping'),\n",
      "   (0.0036430617, 'fig'),\n",
      "   (0.0034478235, 'constraint'),\n",
      "   (0.0033415046, 'distance'),\n",
      "   (0.0032739823, 'center'),\n",
      "   (0.0032591275, 'solution'),\n",
      "   (0.0032425097, 'noise')],\n",
      "  -1.0552369337909406),\n",
      " ([(0.005787784, 'bound'),\n",
      "   (0.005474478, 'class'),\n",
      "   (0.005071689, 'let'),\n",
      "   (0.004557956, 'optimal'),\n",
      "   (0.00419719, 'approximation'),\n",
      "   (0.0040034093, 'theorem'),\n",
      "   (0.0037847678, 'sample'),\n",
      "   (0.0035891894, 'xi'),\n",
      "   (0.0033569743, 'estimate'),\n",
      "   (0.003011602, 'convergence'),\n",
      "   (0.0030019828, 'generalization'),\n",
      "   (0.0028510669, 'machine'),\n",
      "   (0.0026872347, 'loss'),\n",
      "   (0.0026348087, 'dimension'),\n",
      "   (0.0025004775, 'stochastic'),\n",
      "   (0.0024709573, 'regression'),\n",
      "   (0.0024633335, 'decision'),\n",
      "   (0.002310021, 'classifier'),\n",
      "   (0.0022479538, 'kernel'),\n",
      "   (0.0022139014, 'complexity')],\n",
      "  -1.1796401272060466),\n",
      " ([(0.016156843, 'speech'),\n",
      "   (0.015243648, 'word'),\n",
      "   (0.01245859, 'recognition'),\n",
      "   (0.008979265, 'sequence'),\n",
      "   (0.008128941, 'tree'),\n",
      "   (0.00797083, 'context'),\n",
      "   (0.007074057, 'classifier'),\n",
      "   (0.0063232887, 'hmm'),\n",
      "   (0.006087016, 'speaker'),\n",
      "   (0.005884444, 'class'),\n",
      "   (0.0057113003, 'language'),\n",
      "   (0.0055869846, 'hidden'),\n",
      "   (0.004343399, 'markov'),\n",
      "   (0.0043128096, 'phoneme'),\n",
      "   (0.0041967602, 'node'),\n",
      "   (0.0040570586, 'classification'),\n",
      "   (0.0039711953, 'frame'),\n",
      "   (0.0037899322, 'layer'),\n",
      "   (0.0036137896, 'trained'),\n",
      "   (0.0036108717, 'acoustic')],\n",
      "  -1.1844189466821349),\n",
      " ([(0.008580094, 'memory'),\n",
      "   (0.0061590127, 'dynamic'),\n",
      "   (0.006118618, 'matrix'),\n",
      "   (0.005629298, 'hidden'),\n",
      "   (0.005249688, 'neuron'),\n",
      "   (0.0046555754, 'solution'),\n",
      "   (0.004478131, 'energy'),\n",
      "   (0.004276934, 'capacity'),\n",
      "   (0.0039142496, 'connection'),\n",
      "   (0.0038549737, 'code'),\n",
      "   (0.0036388275, 'attractor'),\n",
      "   (0.0035451737, 'hopfield'),\n",
      "   (0.0035087483, 'activation'),\n",
      "   (0.003484013, 'hidden_unit'),\n",
      "   (0.0030883597, 'field'),\n",
      "   (0.0030757964, 'layer'),\n",
      "   (0.002989312, 'generalization'),\n",
      "   (0.002924555, 'minimum'),\n",
      "   (0.0028412482, 'fixed_point'),\n",
      "   (0.002837526, 'net')],\n",
      "  -1.2342305319445894),\n",
      " ([(0.01616155, 'object'),\n",
      "   (0.010241565, 'motion'),\n",
      "   (0.009090301, 'visual'),\n",
      "   (0.0085944235, 'control'),\n",
      "   (0.007861609, 'position'),\n",
      "   (0.0066994415, 'movement'),\n",
      "   (0.0064987917, 'motor'),\n",
      "   (0.005881734, 'image'),\n",
      "   (0.0058576292, 'trajectory'),\n",
      "   (0.00584302, 'field'),\n",
      "   (0.0058150007, 'direction'),\n",
      "   (0.005464879, 'eye'),\n",
      "   (0.0054621766, 'target'),\n",
      "   (0.0053758663, 'view'),\n",
      "   (0.004677323, 'velocity'),\n",
      "   (0.0046680905, 'module'),\n",
      "   (0.004483692, 'map'),\n",
      "   (0.004286756, 'location'),\n",
      "   (0.004216262, 'dynamic'),\n",
      "   (0.0041260705, 'robot')],\n",
      "  -1.253204774316134),\n",
      " ([(0.024157798, 'image'),\n",
      "   (0.009609293, 'recognition'),\n",
      "   (0.007030017, 'signal'),\n",
      "   (0.0060675023, 'face'),\n",
      "   (0.005891643, 'character'),\n",
      "   (0.005850287, 'distance'),\n",
      "   (0.0057687336, 'pixel'),\n",
      "   (0.0050225146, 'classification'),\n",
      "   (0.004645748, 'filter'),\n",
      "   (0.004240646, 'frequency'),\n",
      "   (0.0040850556, 'class'),\n",
      "   (0.0035844075, 'digit'),\n",
      "   (0.0035125404, 'detection'),\n",
      "   (0.003484996, 'sound'),\n",
      "   (0.002873004, 'human'),\n",
      "   (0.00276717, 'subject'),\n",
      "   (0.0027409252, 'scale'),\n",
      "   (0.0027360003, 'tangent'),\n",
      "   (0.0027343472, 'object'),\n",
      "   (0.002714148, 'channel')],\n",
      "  -1.556695982727671),\n",
      " ([(0.013878323, 'circuit'),\n",
      "   (0.010788593, 'action'),\n",
      "   (0.0107036345, 'chip'),\n",
      "   (0.010256995, 'analog'),\n",
      "   (0.00978775, 'control'),\n",
      "   (0.008890598, 'neuron'),\n",
      "   (0.00762014, 'policy'),\n",
      "   (0.006513608, 'voltage'),\n",
      "   (0.005811499, 'reinforcement'),\n",
      "   (0.004972302, 'vlsi'),\n",
      "   (0.0043494334, 'gate'),\n",
      "   (0.004243275, 'implementation'),\n",
      "   (0.00416059, 'dynamic'),\n",
      "   (0.004006626, 'reinforcement_learning'),\n",
      "   (0.0036240218, 'threshold'),\n",
      "   (0.0035531027, 'controller'),\n",
      "   (0.0033986703, 'bit'),\n",
      "   (0.0033674606, 'pulse'),\n",
      "   (0.0033582728, 'signal'),\n",
      "   (0.0033200504, 'design')],\n",
      "  -1.6370608949410792)]\n"
     ]
    }
   ],
   "source": [
    "top_topics = model.top_topics(corpus) #, num_words=20)\n",
    "\n",
    "# Average topic coherence is the sum of topic coherences of all topics, divided by the number of topics.\n",
    "avg_topic_coherence = sum([t[1] for t in top_topics]) / num_topics\n",
    "print('Average topic coherence: %.4f.' % avg_topic_coherence)\n",
    "\n",
    "from pprint import pprint\n",
    "pprint(top_topics)"
   ]
  },
  {
   "cell_type": "code",
   "execution_count": 49,
   "metadata": {},
   "outputs": [
    {
     "name": "stdout",
     "output_type": "stream",
     "text": [
      "Wall time: 6.59 s\n"
     ]
    },
    {
     "data": {
      "text/html": [
       "\n",
       "<link rel=\"stylesheet\" type=\"text/css\" href=\"https://cdn.jsdelivr.net/gh/bmabey/pyLDAvis@3.3.1/pyLDAvis/js/ldavis.v1.0.0.css\">\n",
       "\n",
       "\n",
       "<div id=\"ldavis_el2147629703831550888389656267\"></div>\n",
       "<script type=\"text/javascript\">\n",
       "\n",
       "var ldavis_el2147629703831550888389656267_data = {\"mdsDat\": {\"x\": [0.003388135535253396, 0.10175243477866236, -0.08024221159554706, 0.10902242812525305, -0.009498720566476302, -0.013845346229495112, -0.1585792866286774, 0.031563576082402206, -0.10521635695156986, 0.12165534745019486], \"y\": [-0.0810713650774987, 0.04873769587607517, -0.1475911646493886, -0.06411528257914645, 0.04109160503981162, 0.11245015841887326, 0.004814122550619215, -0.015661658999812537, 0.08225714364861815, 0.019088745771849196], \"topics\": [1, 2, 3, 4, 5, 6, 7, 8, 9, 10], \"cluster\": [1, 1, 1, 1, 1, 1, 1, 1, 1, 1], \"Freq\": [9.009320209652488, 6.4450205452622855, 7.670506100843181, 16.618310694601558, 5.611208454603505, 8.323331006610173, 13.17345593831668, 15.780354749630165, 7.3012842692523545, 10.067208031227619]}, \"tinfo\": {\"Term\": [\"image\", \"cell\", \"neuron\", \"object\", \"speech\", \"recognition\", \"circuit\", \"word\", \"control\", \"chip\", \"visual\", \"action\", \"analog\", \"mixture\", \"spike\", \"motion\", \"hidden\", \"gaussian\", \"stimulus\", \"policy\", \"map\", \"tree\", \"firing\", \"memory\", \"likelihood\", \"classifier\", \"voltage\", \"synaptic\", \"density\", \"sequence\", \"storage_capacity\", \"spin_glass\", \"ability_proc\", \"replica\", \"basin\", \"europhys\", \"lyapunov\", \"2554_2558\", \"spin\", \"2558\", \"student\", \"hop_field\", \"hopfield_1982\", \"outer_product\", \"saad\", \"collective_computational\", \"with_emergent\", \"stable_fixed\", \"content_addressable\", \"2554\", \"attraction\", \"addressable\", \"stored_memory\", \"tensor\", \"saddle\", \"gardner\", \"hopfield\", \"79_2554\", \"ackley_hinton\", \"phys_rev\", \"saddle_point\", \"attractor\", \"capacity\", \"phys\", \"fixed_point\", \"teacher\", \"associative_memory\", \"bifurcation\", \"energy_function\", \"lett\", \"statistical_mechanic\", \"boltzmann\", \"symmetric\", \"equilibrium\", \"memory\", \"decoding\", \"boltzmann_machine\", \"energy\", \"message\", \"code\", \"associative\", \"eigenvalue\", \"stable\", \"recall\", \"dynamic\", \"matrix\", \"stability\", \"dynamical\", \"temperature\", \"solution\", \"hidden\", \"activation\", \"eq\", \"connection\", \"hidden_unit\", \"minimum\", \"limit\", \"neuron\", \"generalization\", \"constraint\", \"field\", \"phase\", \"bit\", \"layer\", \"fig\", \"net\", \"simulation\", \"noise\", \"rule\", \"hmms\", \"continuous_speech\", \"viterbi\", \"hmm\", \"phonetic\", \"utterance\", \"speaker_independent\", \"large_vocabulary\", \"word_recognition\", \"baum_welch\", \"automatic_speech\", \"rabiner\", \"time_warping\", \"formant\", \"cepstral\", \"vocabulary\", \"sentence\", \"phoneme\", \"spoken_language\", \"speaker\", \"phone\", \"vowel\", \"consonant\", \"speaker_dependent\", \"context_free\", \"markov_model\", \"warping\", \"lexical\", \"spoken\", \"corpus\", \"speech\", \"hidden_markov\", \"speech_recognition\", \"phrase\", \"word\", \"language\", \"grammar\", \"acoustic\", \"bourlard\", \"context\", \"tdnn\", \"tree\", \"waibel\", \"mlp\", \"recognition\", \"letter\", \"sequence\", \"classifier\", \"frame\", \"markov\", \"symbol\", \"hybrid\", \"class\", \"string\", \"rbf\", \"hidden\", \"classification\", \"node\", \"trained\", \"transition\", \"layer\", \"continuous\", \"architecture\", \"transistor\", \"floating_gate\", \"drain\", \"transconductance\", \"cmos\", \"fabricated\", \"chip\", \"bias_current\", \"mo_transistor\", \"mosis\", \"off_chip\", \"analog_circuit\", \"integrated_circuit\", \"carver\", \"mead\", \"analog_vlsi\", \"carver_mead\", \"resistor\", \"gate_voltage\", \"cmos_process\", \"vlsi\", \"programmable\", \"power_consumption\", \"critic\", \"low_power\", \"power_dissipation\", \"parasitic\", \"capacitor\", \"packet\", \"current_source\", \"mead_1989\", \"optimal_control\", \"analog\", \"circuit\", \"barto_sutton\", \"charge\", \"silicon\", \"bus\", \"routing\", \"watkins\", \"digital\", \"policy\", \"gate\", \"barto\", \"voltage\", \"device\", \"action\", \"reinforcement\", \"reinforcement_learning\", \"pulse\", \"hardware\", \"sutton\", \"control\", \"implementation\", \"controller\", \"synapse\", \"design\", \"neuron\", \"reward\", \"bit\", \"programming\", \"dynamic\", \"threshold\", \"optimal\", \"signal\", \"gain\", \"pp\", \"element\", \"memory\", \"vc_dimension\", \"support_vector\", \"warmuth\", \"smola\", \"chervonenkis\", \"vapnik_chervonenkis\", \"pac\", \"locally_weighted\", \"sample_complexity\", \"uniform_convergence\", \"svm\", \"vapnik\", \"theorem_let\", \"blumer\", \"lemma_let\", \"following_lemma\", \"hilbert_space\", \"lemma\", \"manfred\", \"yi_xi\", \"bagging\", \"loss_function\", \"schapire\", \"absorbing\", \"corollary\", \"cardinality\", \"xi_xj\", \"california_santa\", \"uci\", \"margin\", \"vc\", \"boosting\", \"theorem\", \"learner\", \"bound\", \"loss\", \"freund\", \"sontag\", \"polynomial\", \"inequality\", \"sample_size\", \"let\", \"risk\", \"proof\", \"xi\", \"bounded\", \"upper_bound\", \"lower_bound\", \"query\", \"regression\", \"zi\", \"convergence\", \"empirical\", \"approximation\", \"optimal\", \"hypothesis\", \"class\", \"kernel\", \"sample\", \"denote\", \"stochastic\", \"dimension\", \"estimate\", \"generalization\", \"decision\", \"machine\", \"complexity\", \"support\", \"assume\", \"define\", \"finite\", \"expected\", \"classifier\", \"log\", \"prediction\", \"condition\", \"gradient\", \"node\", \"matrix\", \"classification\", \"ritter\", \"disparity\", \"random_dot\", \"geiger\", \"cluster_center\", \"kohonen\", \"stereo\", \"topological\", \"self_organizing\", \"discontinuity\", \"infomax\", \"constancy\", \"organizing\", \"yuille\", \"contour\", \"early_vision\", \"kohonen_self\", \"filling\", \"markov_random\", \"preservation\", \"song\", \"figure_ground\", \"decorrelation\", \"gc\", \"dij\", \"721_741\", \"topologically\", \"pooling\", \"buhmann\", \"schulten\", \"neighborhood\", \"clustering\", \"surface\", \"cluster\", \"becker\", \"color\", \"self\", \"edge\", \"map\", \"vector_quantization\", \"feature_map\", \"geman\", \"interpolation\", \"quantization\", \"region\", \"competitive\", \"unsupervised\", \"mapping\", \"image\", \"vision\", \"boundary\", \"dimensional\", \"constraint\", \"field\", \"center\", \"rule\", \"distance\", \"node\", \"fig\", \"filter\", \"solution\", \"noise\", \"layer\", \"principle\", \"curve\", \"hand_printed\", \"cochlear\", \"face_recognition\", \"zip_code\", \"document\", \"frequency_domain\", \"facial\", \"hearing\", \"printed\", \"ocr\", \"template_matching\", \"human_face\", \"pentland\", \"character_recognition\", \"face\", \"lighting\", \"zip\", \"filter_bank\", \"pixel_intensity\", \"sound_source\", \"font\", \"convolutional\", \"tangent\", \"digitized\", \"low_resolution\", \"sound\", \"pyramid\", \"character\", \"clue\", \"video\", \"template\", \"texture\", \"audio\", \"image\", \"handwritten\", \"pixel\", \"eeg\", \"digit\", \"detection\", \"localization\", \"spectral\", \"auditory\", \"recognition\", \"person\", \"road\", \"distance\", \"filter\", \"similarity\", \"database\", \"waveform\", \"signal\", \"classification\", \"frequency\", \"subject\", \"resolution\", \"human\", \"channel\", \"class\", \"scale\", \"low\", \"object\", \"transformation\", \"location\", \"visual\", \"noise\", \"field\", \"dendrite\", \"afferent\", \"postsynaptic\", \"pyramidal_cell\", \"membrane_potential\", \"lgn\", \"axonal\", \"ocular_dominance\", \"dendritic_tree\", \"potentiation\", \"epsp\", \"firing_rate\", \"interneurons\", \"excitatory_neuron\", \"interspike\", \"intracellular\", \"geniculate\", \"compartment\", \"hippocampal\", \"synaptic_transmission\", \"spike_train\", \"firing\", \"olfactory_bulb\", \"neocortical\", \"neurol\", \"pyramidal_neuron\", \"cortical_neuron\", \"voltage_dependent\", \"brain_re\", \"comp_neurol\", \"spike\", \"cortical\", \"dendritic\", \"action_potential\", \"excitatory\", \"membrane\", \"olfactory\", \"physiol\", \"neuronal\", \"cell\", \"rat\", \"dominance\", \"inhibitory\", \"cortex\", \"ocular\", \"fiber\", \"inhibition\", \"fire\", \"synaptic\", \"stimulus\", \"axon\", \"neuron\", \"response\", \"activity\", \"synapsis\", \"orientation\", \"receptor\", \"potential\", \"frequency\", \"lateral\", \"mechanism\", \"connection\", \"visual\", \"receptive\", \"brain\", \"temporal\", \"spatial\", \"receptive_field\", \"fig\", \"signal\", \"simulation\", \"field\", \"correlation\", \"layer\", \"noise\", \"genetic_algorithm\", \"fitness\", \"genetic\", \"fahlman\", \"chaotic_time\", \"parity_problem\", \"fully_recurrent\", \"schmidhuber\", \"shavlik\", \"mutation\", \"hint\", \"continually_running\", \"cascade_correlation\", \"backgammon\", \"back_prop\", \"hill_climbing\", \"mcclelland_editor\", \"533_536\", \"instruction\", \"game\", \"williams_1986\", \"huberman\", \"crossover\", \"270_280\", \"bp\", \"mitchell\", \"credit_assignment\", \"recurrent_net\", \"human_expert\", \"backprop\", \"back_propagation\", \"rumelhart_hinton\", \"schedule\", \"epoch\", \"patient\", \"diagnosis\", \"backpropagation\", \"cascade\", \"rumelhart\", \"net\", \"hidden_unit\", \"back\", \"internal_representation\", \"propagation\", \"hidden\", \"recurrent\", \"hidden_layer\", \"recurrent_network\", \"trained\", \"table\", \"layer\", \"rule\", \"fault\", \"architecture\", \"learn\", \"training_set\", \"prediction\", \"node\", \"run\", \"gradient\", \"knowledge\", \"better\", \"1990\", \"1988\", \"100\", \"activation\", \"search\", \"generalization\", \"initial\", \"noise\", \"target\", \"connection\", \"kawato\", \"motor_command\", \"desired_trajectory\", \"saccadic_eye\", \"eye_position\", \"joint_angle\", \"motor_control\", \"gaze\", \"kinematic\", \"visual_attention\", \"saccadic\", \"arm_movement\", \"oculomotor\", \"workspace\", \"eye_movement\", \"attentional\", \"parietal\", \"torque\", \"finger\", \"moving_object\", \"command\", \"saccade\", \"arm\", \"rotational\", \"movement\", \"limb\", \"rigid\", \"sensorimotor\", \"edelman\", \"motor\", \"object\", \"muscle\", \"motion\", \"3d\", \"velocity\", \"attention\", \"view\", \"robot\", \"trajectory\", \"module\", \"eye\", \"saliency\", \"position\", \"rotation\", \"visual\", \"head\", \"control\", \"coordinate\", \"direction\", \"target\", \"location\", \"force\", \"angle\", \"field\", \"human\", \"inverse\", \"subject\", \"map\", \"image\", \"hand\", \"dynamic\", \"feedback\", \"layer\", \"latent_variable\", \"factor_analysis\", \"mixing_matrix\", \"gibbs_sampling\", \"cichocki\", \"blind_deconvolution\", \"blind_separation\", \"cardoso\", \"maximisation\", \"wake_sleep\", \"analysis_ica\", \"generarive\", \"independent_component\", \"dempster_laird\", \"em_algorithm\", \"generarive_model\", \"source_separation\", \"missing_data\", \"joint_density\", \"rubin_1977\", \"39_38\", \"dempster\", \"rubin_maximum\", \"ncrg\", \"blind_source\", \"posterior_distribution\", \"dempster_et\", \"neal\", \"mixing_proportion\", \"latent\", \"ica\", \"em\", \"deconvolution\", \"tresp\", \"blind\", \"mixture\", \"ghahramani\", \"kalman\", \"covariance\", \"posterior\", \"likelihood\", \"pca\", \"generative\", \"projection_pursuit\", \"density\", \"gaussian\", \"maximum_likelihood\", \"gaussians\", \"mixing\", \"variational\", \"wavelet\", \"bayesian\", \"covariance_matrix\", \"prior\", \"conditional\", \"missing\", \"basis_function\", \"component\", \"basis\", \"matrix\", \"estimation\", \"variance\", \"log\", \"source\", \"estimate\", \"principal\", \"independent\", \"approximation\", \"noise\", \"expert\", \"maximum\", \"sample\", \"entropy\", \"factor\", \"nonlinear\", \"field\", \"dimensional\", \"hidden\"], \"Freq\": [6818.0, 6065.0, 8543.0, 3252.0, 2618.0, 4429.0, 2681.0, 2750.0, 4172.0, 1817.0, 3333.0, 2682.0, 1924.0, 2486.0, 2156.0, 2113.0, 5850.0, 3444.0, 2792.0, 1643.0, 3196.0, 2198.0, 1632.0, 3297.0, 2042.0, 2635.0, 1474.0, 2165.0, 2411.0, 3374.0, 103.71515985154828, 92.87630949662339, 24.79822695053217, 165.09392070234927, 194.8934979056569, 35.07636982934942, 132.0800696533097, 20.789505545203323, 295.4533660292234, 44.99154055197691, 530.7511011535386, 52.78025898899377, 48.1328100190259, 98.09124122473982, 100.85559060265491, 50.489413203905386, 46.390710621412595, 54.51673804715879, 43.54804241362718, 61.11726926924753, 167.73697823788817, 45.09965061144566, 38.63933056360935, 154.8690195335446, 149.90474465325374, 42.64957140455202, 696.4603432510289, 30.83914274619244, 24.64926794377123, 136.62779905021813, 108.76148139621634, 714.858921803832, 840.2169396911734, 301.4058486710215, 558.1719997593423, 538.4155288997147, 372.2899128449695, 231.78922535926748, 217.59134454197633, 98.11511766170422, 133.38316507989782, 359.05685506045364, 423.3393359853969, 359.73545816161067, 1685.5860668529804, 239.69767760966798, 219.83609553903622, 879.7426886946239, 249.81616396889854, 757.3215182942054, 493.80172032720907, 401.6146142464294, 469.9371301006825, 301.1844656156427, 1209.957105214028, 1202.0214374847121, 302.0440859568124, 399.4547115071645, 356.048927146246, 914.6021951820572, 1105.8929811733788, 689.3044561680142, 517.8454295712694, 768.9664499683329, 684.4451438427503, 574.5378793491218, 456.31635465729926, 1031.3174460315906, 587.2595834419833, 521.929672501204, 606.7178275410591, 515.0796508089575, 471.54105948496203, 604.2497266556906, 529.2846671131575, 557.4407495720817, 493.38543785055566, 491.3777130917133, 488.7521740913418, 358.16158678629597, 205.17622238984686, 170.84409174993277, 888.6570032379367, 327.87365219398663, 308.90750325358493, 112.4994754993983, 62.9701194655749, 135.35458219217557, 84.9459664996306, 57.83292785906691, 72.08331581289362, 74.97312694676836, 115.20670146440995, 43.038813215661, 197.59767810980588, 400.5767104976091, 606.1099883287882, 54.59284687514896, 855.4518942774405, 211.16429605871505, 459.88214029759007, 167.82808252465787, 58.42831748027492, 73.90021821054178, 94.95083208009586, 101.51665037871875, 44.057535385644336, 182.5863631926066, 153.00628970388422, 2270.6367513361656, 390.01435480701747, 503.4890739740467, 187.81888438089533, 2142.2988795538386, 802.6498995100542, 409.51854101114964, 507.4616429724325, 126.12133527829548, 1120.1978368631299, 268.9138908033013, 1142.41825558563, 208.44670560405513, 474.4272086070599, 1750.8947832966503, 477.5402202934629, 1261.92031404924, 994.1678677923179, 558.1004943091375, 610.4089201361778, 402.0519201307675, 333.9615587213138, 826.9830053316252, 360.9477121219924, 375.8643641550482, 785.1789202302314, 570.1674761323154, 589.8007480875524, 507.8717070111767, 420.0406167119795, 532.626296624885, 430.0252441334946, 433.9886838734373, 499.0767205197984, 133.6728777406894, 106.51748257693718, 85.30243567768561, 313.217177041552, 163.39542443795114, 1790.2848762089634, 59.2738117107945, 48.26492561394706, 55.084916750467336, 48.17589185064905, 72.70242520110337, 49.09365519289215, 45.15100260087717, 290.0870912932593, 402.8155769864942, 41.12163823053373, 171.47343977077506, 37.21290511706771, 37.20971908108747, 831.6648794917623, 144.65305300451706, 35.148672648866444, 252.01407329095989, 86.86612948026435, 32.15756901058553, 33.05615528828448, 204.40364562906004, 171.1111906439525, 86.36871843590586, 69.67780855334048, 134.39988782713175, 1715.5802427985468, 2321.281812143686, 70.23950012500079, 248.89231297013112, 354.27991863446175, 118.99665734513526, 275.45681407200846, 195.97449943706653, 512.1351356139864, 1274.5410351997782, 727.484180279154, 363.8852451374484, 1089.4630416813472, 462.66819091290705, 1804.4950737343386, 972.0285885635271, 670.146397772094, 563.2398731851636, 440.6347830468386, 409.5527798664585, 1637.0945416369525, 709.7282094795158, 594.2902934756432, 484.086374987797, 555.3100754589497, 1487.037260897572, 406.1633633159317, 568.4600069418749, 396.51660130757637, 695.8983306998457, 606.1521804660232, 526.4660568862065, 561.7031377741181, 431.6839739674712, 453.3178641177719, 449.04038810819736, 464.4028743256337, 355.12167271168045, 419.4438599712648, 117.36893231043327, 108.68181708704888, 101.0102771576727, 84.67266732869707, 159.66450680911015, 74.97759130580347, 71.21337333270588, 62.53750056241834, 341.4372870867533, 361.74223311154554, 110.37569408216025, 39.478185168075555, 40.39656755671119, 38.46106746434371, 35.561015518945965, 452.73354402394483, 32.72352740317645, 45.48962819358723, 113.53597295901938, 189.8088667677559, 124.9356516569488, 32.041165341433235, 131.01232411248293, 56.68297729265507, 119.72199039927017, 23.469293172084864, 100.61017871195544, 470.55888581101755, 529.1432878058375, 254.08060009149108, 1450.720410378622, 460.39241773740235, 2097.326409006091, 973.7765705487745, 90.24863403896678, 94.26939297977592, 723.9378766766924, 259.42380267317384, 181.5300972680641, 1837.8342235319042, 502.6102547860072, 779.4273346885885, 1300.6190231448, 473.5118331818441, 350.42023913173176, 345.90961086269107, 473.33418976724465, 895.403890237618, 404.500425063405, 1091.317957449301, 502.12516297302227, 1520.9409833492734, 1651.6721934023792, 676.9005075586658, 1983.7934101294106, 814.5938123466159, 1371.4910256115913, 565.3804772914474, 906.1011370912121, 954.7788919078143, 1216.4709702303828, 1087.8322485769363, 892.6412419509184, 1033.1446537862957, 802.254197072887, 670.9466056439387, 766.8639671776153, 668.6006241836459, 677.8046285897028, 689.0889719526725, 837.0852151173082, 741.986717587619, 767.6366379878278, 729.8736387984303, 735.4897187079063, 747.1714922796012, 724.8458787797179, 694.8079846409713, 72.27806230570565, 312.90878155372116, 65.96958040388645, 71.54945793279006, 71.68897837369029, 337.03024908603027, 107.4155553390171, 108.77260706798354, 312.29483463757197, 207.93771834998668, 90.0073000615378, 50.92491107441938, 349.650417800256, 137.23012633026718, 506.2540007259669, 57.584960984629504, 45.47503540197174, 40.2930047903396, 54.26587011614476, 44.509171498278725, 141.29230064549856, 51.19635275711619, 65.23802039120703, 56.248089509327734, 32.748285605659696, 16.32715347210246, 24.53485114390545, 35.28222679543369, 53.771907930360314, 69.0206980151322, 298.7664369950481, 586.9065300063912, 673.7657603504059, 816.8102354681432, 85.21061009386317, 243.4046120934603, 553.4797399023189, 533.2133667291608, 1132.3358763705553, 95.12918162346993, 162.62549596686128, 105.56984733179407, 199.35824392803397, 156.21291144714323, 743.3638835450392, 236.30366975577954, 259.44873635058696, 474.87994873103327, 1047.4293909253556, 314.0678196625575, 309.26615140043725, 478.36592285481026, 421.85993062951115, 590.4548930562676, 400.58952306756527, 571.1676556776456, 408.85124128782303, 505.07208667756083, 445.7483940401004, 360.57773849822553, 398.77195417529873, 396.73867343443663, 376.21530916431857, 273.69865195261673, 286.2550358241317, 81.38706667672913, 193.19202606527512, 126.82675768683119, 53.68202318947824, 310.4840471257983, 54.97725889124732, 240.59576806396763, 62.750949726553756, 140.59901652513386, 80.79914815825379, 68.19484004445381, 42.42176351243172, 91.74778492648058, 108.04082192891187, 1101.2196960310785, 63.80337891506381, 71.54538716359, 30.60376512010575, 30.544409130167494, 61.96117224612323, 78.13054257271271, 90.17612156025936, 496.56964467818136, 48.12322406984135, 46.558670533864586, 632.5084157410955, 171.59602762378623, 1069.3021573568685, 67.16643426452605, 278.76625981899133, 477.0013212262446, 341.13379636714706, 89.1427452377907, 4384.513018731556, 298.4142598529543, 1046.994742751202, 304.5201144548324, 650.5510731535337, 637.5075666330953, 224.97457304429386, 309.6165421921382, 459.7402169215099, 1744.036076771813, 141.36665633947638, 241.80965801108252, 1061.7962894954733, 843.1787920979506, 404.4259066498256, 416.18072738640217, 217.01314782806767, 1275.9110775208285, 911.55993504933, 769.6549071510312, 502.22678764588005, 344.967125257964, 521.4350769005941, 492.6035637415223, 741.4160559187256, 497.4634760560751, 461.41610849752567, 496.2696161804958, 394.24564392060995, 394.47366557885096, 429.040962978043, 442.6570168386422, 401.18230278710035, 262.8516976247122, 297.30734718138467, 282.37378733329984, 170.66810647617788, 273.6839935780875, 268.5632198694227, 122.93544585537603, 337.3441834463131, 101.2150245251204, 88.33906903217759, 117.76367491949041, 533.924148277424, 226.52749294226575, 85.25272520097347, 77.42445853794716, 80.35314569522822, 78.37824045019582, 92.07049434692061, 211.3424749629763, 66.51656964546844, 424.5831837659288, 1609.855856475225, 66.44681212679127, 63.51835487504277, 60.5118049840369, 57.584547421158256, 99.54506597846627, 56.58542813789015, 52.5485754132008, 51.61098303054445, 2091.4899894615583, 1174.020109442414, 392.2316798043883, 275.60247582533077, 858.506384294337, 724.6178292182793, 253.37151372918626, 172.33232156461878, 691.7287308798193, 5352.607973071638, 361.2770651382372, 373.43540604217094, 856.6616557419367, 1417.829258498438, 412.67153567852506, 398.99615266778903, 672.0153096069405, 488.7272620786696, 1790.255354172098, 2242.400850490252, 392.9087557778574, 5398.726320644865, 2473.697654283418, 1947.8739055777526, 859.3585228805937, 1062.1226288497346, 403.8752664010365, 1022.037604385183, 1187.102954834051, 516.8732169959346, 731.5198775523598, 1242.5708163583017, 1222.0667875798786, 712.9378924668843, 693.231828171047, 872.9954155250797, 782.8357956423251, 647.0847883873578, 939.6094316755459, 1106.4251407258519, 866.5727745676799, 955.5332740742476, 789.7068109096116, 906.3534877091431, 741.6432786065607, 210.81702170658102, 125.67770819732321, 352.39956295957535, 111.37374960000857, 58.79139693678708, 56.775432177360955, 51.35839784396796, 90.872053216695, 111.87873599110685, 61.34829550725889, 301.6260430076474, 30.581057005023514, 103.90686108830046, 90.02716116173421, 36.24418269855644, 66.30729191165511, 20.78091980793837, 24.359061345235048, 261.75063511310685, 370.6120010560483, 104.68980280483123, 53.106096407032254, 83.48157112384429, 18.41146081926706, 372.69407722173787, 76.08112450032145, 40.15994531824871, 71.6211007175073, 59.69567058433126, 159.1532435449739, 885.3599468388747, 158.62264981223876, 343.73116235548434, 526.1831810945552, 244.32502439939663, 149.9786948557565, 657.990988444551, 184.88997386150942, 564.524852433881, 2512.1022867618162, 1625.9928469827375, 1173.9728135188884, 293.1281310167851, 1075.4470593732408, 2816.427345580909, 989.9232251406789, 696.5503772681104, 388.77801144981163, 1460.4235673205171, 1162.0721795444501, 2594.406786433585, 1766.6794417311564, 262.6558751699072, 1362.7928783943203, 866.9092813498099, 939.7950863089877, 1134.7169290378554, 1377.5387013356715, 615.547535725631, 961.4844746315912, 591.6953935900066, 676.9653375898044, 837.1700744638762, 755.2296256654683, 734.640401645899, 749.939030710971, 638.9350002500119, 709.6722320749946, 657.1008504101161, 702.0010456479984, 624.6117134675743, 632.4321575479753, 143.46621666319845, 194.20716974216384, 76.59925710227806, 54.07586262061571, 185.75576860162863, 88.6591711627103, 119.0624152216588, 117.23813939787553, 61.15084619716369, 70.47304448714783, 151.10057013246626, 50.88186011616365, 76.70418442412463, 98.82170547545671, 198.7739663544016, 155.41082419220425, 113.27442119798573, 112.06614219561679, 98.85256508965402, 57.58328945292584, 428.48668837916495, 210.9369543063983, 571.360289243958, 42.98283216903325, 1066.6076846595452, 48.65201204447095, 130.12749594458688, 53.87747607679317, 110.51497859105548, 1034.6625534145974, 2573.055281959993, 334.59368957998436, 1630.5437252910165, 272.66582053849567, 744.6693653203057, 479.8966185841591, 855.8833373408089, 656.905289778043, 932.5840651174574, 743.1994468321611, 870.0548876895401, 216.91261741328753, 1251.6345176655184, 454.01172246987375, 1447.2526668128553, 469.47363098101766, 1368.3048401621634, 434.0164346944787, 925.7972482475978, 869.6246694524542, 682.4877431388918, 376.3617789085398, 352.7350281127794, 930.2581583878181, 561.5241718053474, 409.6013829311266, 488.96148661377356, 713.8416301238431, 936.4217778596171, 539.6301188431306, 671.2645555457474, 437.02692443312225, 490.92100724524323, 150.6485096407616, 141.77449451091078, 75.54622435160054, 123.72819209467328, 50.865778261957146, 68.7777157352973, 149.2392589929365, 43.7008831613127, 47.558625191544344, 64.3021128292068, 42.46600474431338, 70.79250626652359, 285.3303930586329, 72.40151224241814, 549.0976884807528, 46.65825996282378, 61.238162797108956, 93.1389851896278, 51.31865220018199, 48.32679770315736, 41.32325425639873, 111.36622123635614, 23.94566356342419, 29.699220443370535, 72.8243232146022, 214.0797643730424, 34.244184435598875, 238.06324542913194, 48.53974610845009, 342.7640173851117, 493.0905009414361, 1207.1095513929495, 84.13735179462675, 155.62964059933154, 347.8100212280038, 2002.87784055029, 154.47680203929312, 261.5293661910871, 836.950316792906, 1014.8315867151205, 1517.1369761240207, 529.9423881320345, 282.1302700251127, 135.46244081093585, 1710.1959198622733, 2339.91630519867, 430.7131207177706, 392.46395567678854, 264.87451724057274, 238.11044661776424, 312.0570758422595, 1034.7563661053755, 341.9636671817625, 1244.256452401399, 660.1610886642134, 378.016865282851, 398.36420647821416, 1727.5070771822518, 947.8646767315894, 1468.922252493818, 834.7528420727583, 886.1930910004232, 935.128175813716, 779.3012332236775, 1028.5957293207478, 447.70600862614833, 789.4328520856286, 889.7774168871637, 1076.0886606543995, 615.162945872338, 709.5462075499557, 797.0718290759955, 502.8014235568984, 571.2328737235042, 555.8822396234036, 592.0864457502788, 543.217549934581, 555.3377009512993], \"Total\": [6818.0, 6065.0, 8543.0, 3252.0, 2618.0, 4429.0, 2681.0, 2750.0, 4172.0, 1817.0, 3333.0, 2682.0, 1924.0, 2486.0, 2156.0, 2113.0, 5850.0, 3444.0, 2792.0, 1643.0, 3196.0, 2198.0, 1632.0, 3297.0, 2042.0, 2635.0, 1474.0, 2165.0, 2411.0, 3374.0, 107.14401351355217, 97.13905536771449, 26.242429830154556, 174.74566849825047, 207.2182494807155, 37.303888224646464, 140.67044596646534, 22.195592386366567, 316.5965527752366, 48.50812300696696, 576.4347886501853, 57.58496097413074, 52.53165020545661, 107.22438459674635, 110.8742796280963, 55.59220547314381, 51.32800557077381, 60.575537675763265, 48.44980107398743, 68.6951688017473, 189.94495836533238, 51.49128540562235, 44.41943149520309, 178.47804748132472, 172.89536853152595, 49.341043820863746, 806.7349780735037, 36.32387797810506, 29.142261947980543, 163.64356848603148, 130.44096681514867, 886.2622544567029, 1112.2176213589153, 379.3152630152081, 733.2940024967821, 718.9478671020569, 494.5431106052951, 301.43326096279475, 285.7628314522041, 118.02072011565505, 167.2915147185256, 526.959370400357, 641.8435753182049, 531.6463346991887, 3297.9764738775602, 344.7693514773703, 316.54766763065385, 1763.059227722653, 373.75218665033583, 1600.2934197420889, 931.9779892925511, 709.311399041794, 899.2740364465863, 501.7179717488609, 4025.2430690430156, 4187.577442283466, 507.69206572533125, 799.4662108118296, 677.9501015943775, 3477.732407874613, 5850.012948604858, 2487.718090768595, 1533.5715381630002, 3400.1882510463033, 2719.575728894843, 1962.7714076593911, 1239.01625139711, 8543.366057382744, 2744.606368396228, 2175.9867921348778, 4292.271448107716, 2355.322716353035, 1770.7730641804965, 6478.040926143233, 3270.968674335106, 4429.947845942501, 2878.1073386044764, 4740.137553950695, 4401.892891404178, 359.87626167493096, 206.4911842594279, 172.06632613440988, 895.8275256142256, 331.4066358152906, 312.6797218453516, 114.04870044001584, 63.91370746477605, 137.64161929831658, 86.46019485759957, 58.97842569507293, 73.67836135842391, 76.67161745594403, 117.99210122577416, 44.21884444591735, 203.37579113039126, 416.09699505944565, 631.7174286332396, 56.98036152620606, 893.878182846061, 221.069422312822, 482.38858612156173, 176.09289200469405, 61.89819667747281, 78.65622886020714, 101.06478500074115, 108.11316026742286, 47.1474874731506, 195.57241434304578, 165.23196540676923, 2618.2494909159473, 437.9609079784985, 571.9089357216333, 206.77941817738062, 2750.7288566121824, 991.5607014722714, 507.08449078433364, 693.3725397703271, 141.88416321520063, 1919.5178311853163, 350.9034949821636, 2198.5471331632807, 265.38515862504136, 780.0062470143409, 4429.55411317723, 829.3337001318903, 3374.872557710193, 2635.1892534593267, 1163.6353655031444, 1474.5908761227809, 766.6122500770803, 603.6156448537381, 4903.5484823090665, 798.2145583307107, 883.1065398832226, 5850.012948604858, 3073.6951940623067, 4247.046673015009, 2967.8741613128063, 1536.368503067968, 6478.040926143233, 1954.313202523484, 3515.055528030421, 501.33337013848916, 134.61567648949216, 107.4844175397233, 86.37034101245563, 317.39554082350236, 165.7128790808733, 1817.337210611155, 60.2432655620136, 49.199483667249126, 56.21443154582297, 49.1882317527987, 74.2619590996908, 50.18221974350591, 46.15523514745738, 297.2139886237709, 412.73201130803335, 42.137982715933155, 175.7146930097791, 38.144181091262496, 38.144721183696156, 853.8574527876902, 148.53833449977375, 36.12335673827963, 259.00430288543595, 89.29507215838096, 33.114833685041944, 34.090417214219734, 210.8523196959498, 176.72374612484404, 89.33432782277521, 72.24673168021855, 141.32758987602597, 1924.2467105405763, 2681.0982200185035, 73.2417038905273, 271.88684701688624, 396.9575489426421, 127.44655872343532, 309.5643449247296, 218.05479235043325, 610.9512559280518, 1643.7218842702864, 908.9059765463235, 430.82814202863244, 1474.1478779175313, 577.500729019468, 2682.0677021727392, 1417.3375948690261, 928.1428460905366, 763.385817805689, 599.5974220273074, 569.3026487272132, 4172.051516845238, 1413.173776354444, 1151.6029714871015, 863.4301959487733, 1112.7598668424039, 8543.366057382744, 757.8333388035995, 1770.7730641804965, 784.1800065567052, 4025.2430690430156, 2738.139303225241, 3446.930338382582, 5084.86911535585, 1407.5033158385174, 2229.917458552425, 2108.258229189734, 3297.9764738775602, 357.1561531253464, 422.62598706518855, 118.37865088697683, 109.72722113173506, 102.01935875957881, 85.65575876809349, 161.64151518242664, 75.98764782205934, 72.1820862362459, 63.513563898596566, 346.7789458412419, 368.78460727340473, 112.63135067831722, 40.404506825922255, 41.364490173598746, 39.440823726469986, 36.5358818155255, 465.3192492149814, 33.652077214277284, 47.075168606860935, 117.55298679385122, 196.6052821837839, 131.0054443121323, 33.60892431383359, 137.89019055509576, 59.66815957007875, 126.1415324156209, 24.96044854847814, 107.05949249058442, 500.7277498020664, 567.4833799620121, 270.78368883123125, 1656.8422997071007, 510.7963164725282, 2499.2297903671792, 1166.4403589956064, 96.27090157129751, 101.2928997088156, 898.0767631354895, 300.3111556152796, 205.03797186642004, 2576.7744563136307, 625.1684497457413, 1029.2652965137581, 1922.767071538928, 617.991571595302, 437.3807244140589, 442.54041341626737, 646.949521683138, 1417.7996347129347, 543.8530614623613, 1917.4785871218508, 744.4799303242245, 3048.3278891436603, 3446.930338382582, 1123.0548062564571, 4903.5484823090665, 1492.5054131563118, 3209.2676586756734, 895.6075728310961, 1817.6481306739272, 2031.0273505611985, 3275.224871469014, 2744.606368396228, 2051.7762421126945, 2716.182190656725, 1690.9830415300528, 1239.051735422884, 1641.1533590535823, 1254.8103930216475, 1431.391710349422, 1507.7277843402069, 2635.1892534593267, 2244.038248586277, 3018.2486916916873, 2525.074384100556, 2873.871836617175, 4247.046673015009, 4187.577442283466, 3073.6951940623067, 77.32234203233332, 348.4325893774462, 74.2096368815035, 84.85278789600697, 87.59010069567552, 414.17643816644465, 132.81162567892196, 135.02061985695462, 389.22008676586756, 261.4282422546166, 113.88638749548288, 64.75938705150544, 454.0316342147433, 178.71233575835168, 667.2667673014388, 76.92242194271157, 60.90796575736263, 55.74360672566385, 75.27268466806613, 61.77970404013509, 198.2506943682672, 72.72136798629526, 98.76530962897286, 85.90265498132659, 50.50612221434296, 25.379144841841622, 38.354647557285624, 55.448166589124554, 84.61250711852078, 111.0976568264533, 491.8989422950189, 994.9182675767038, 1176.9060298103316, 1454.9924401616327, 138.83929297854414, 446.6932473263109, 1291.0504495878092, 1261.5507483338135, 3196.2526468514016, 159.47357656315867, 316.17580858512565, 183.3520984776672, 425.681955443244, 320.9219656857436, 2891.1040193250647, 588.8404496445818, 680.3569306856823, 1684.637788079732, 6818.1773542294895, 1003.8826380422042, 1012.8625669859911, 2522.2701531979037, 2175.9867921348778, 4292.271448107716, 2063.1596796305075, 4401.892891404178, 2595.162864224575, 4247.046673015009, 3270.968674335106, 2076.464324641432, 3477.732407874613, 4740.137553950695, 6478.040926143233, 1071.9521618805438, 2101.5907590651054, 83.5207591239155, 198.50550688291491, 130.78441507121357, 55.930619331004955, 325.13631392630504, 57.9921216064419, 259.47308186161484, 68.77424197765397, 154.2183189016738, 89.18610083708677, 75.62108828902615, 47.21491327423222, 102.40294778250811, 121.02541758839924, 1240.237080505354, 72.74888357772984, 82.5273880837167, 35.312256210038676, 35.319476738487644, 71.69658816064691, 90.62769695904532, 105.48768324343789, 580.9781414511974, 57.858738182030116, 56.00776670201653, 762.5244305991323, 206.98643242076207, 1292.212506581715, 81.49136485553855, 338.63509926072777, 579.6628086566194, 437.47072126509624, 109.51882142431364, 6818.1773542294895, 392.5808966568074, 1521.49952632292, 404.97381630901015, 946.6010135181293, 1066.8846587667058, 318.8647908011862, 475.5571257456385, 799.7977470332527, 4429.55411317723, 189.4842647441442, 378.69355770527443, 2595.162864224575, 2076.464324641432, 827.4333136155153, 909.196524958068, 353.31905421950086, 5084.86911535585, 3073.6951940623067, 2511.707765218274, 1348.0393664590708, 769.2920320145745, 1703.6381174073379, 1611.068307683479, 4903.5484823090665, 1921.8557698074121, 2097.0351930587058, 3252.9636476537453, 1391.5448360913758, 1881.3882871958574, 3333.807088084049, 4740.137553950695, 4292.271448107716, 263.9077882256591, 298.62318808315456, 283.7545292570485, 171.63410311559971, 275.8211587515374, 270.8679197032541, 123.9988554178081, 340.37695942146655, 102.15788469137681, 89.27159554868622, 119.04080608493622, 539.741177914317, 229.149418873603, 86.27729103751489, 78.35817938987532, 81.32872105103075, 79.348891706961, 93.21683291554409, 214.23992739446348, 67.43977317734796, 430.5375969112977, 1632.5044247332298, 67.4222557788077, 64.4581857028615, 61.481141749354684, 58.50956255262222, 101.14515224441168, 57.518630808314626, 53.50925346723206, 52.556867678108155, 2156.8232115965247, 1209.6844551939244, 399.97099199991806, 280.7713911587429, 886.5542820545634, 747.5085094223024, 258.8525634091328, 175.5419643300884, 718.4460248861686, 6065.586916698195, 377.795591628005, 391.0621977341547, 931.9346772407044, 1579.300061458852, 442.3052598839241, 427.69410976657963, 748.3280704781515, 534.3433507059817, 2165.452639358593, 2792.6049312262144, 425.0363017391927, 8543.366057382744, 3966.3614391881106, 2998.3637659187807, 1137.6211518771117, 1604.6705566685066, 478.54402789515933, 1841.5593802107826, 2511.707765218274, 701.6025047747481, 1317.9588508844017, 3400.1882510463033, 3333.807088084049, 1274.8997996422652, 1243.0698005707725, 2049.148840370498, 1656.7914663902536, 1157.2355658428494, 3270.968674335106, 5084.86911535585, 2878.1073386044764, 4292.271448107716, 2187.288037862714, 6478.040926143233, 4740.137553950695, 212.2167957769697, 126.88303978917217, 359.33756653448114, 114.63217895449607, 60.83059210395916, 58.79410291455683, 53.66362411281164, 95.3375270586225, 117.48621838589735, 64.8829050200048, 319.1350775640548, 32.356875253085036, 110.44331226062536, 98.94352382095053, 41.28011752483505, 75.81053343824016, 24.08594982860346, 28.237142221029423, 303.94303252487396, 431.6409364553311, 123.26693784396717, 62.69823806181993, 99.11681570537395, 22.080534253628226, 447.97497962509476, 91.45291223676473, 48.28971003726691, 86.64881792662351, 72.60028732564149, 194.5858299415413, 1130.6570087998814, 196.136101845567, 432.032700371259, 683.6701553120788, 311.93359077022933, 188.71538246048405, 949.8990826014951, 242.60966808198611, 834.3281685380617, 4429.947845942501, 2719.575728894843, 1959.5876507883036, 406.97076688325217, 1841.6131167009382, 5850.012948604858, 1737.0268757287424, 1168.9907369610144, 587.9891270389036, 2967.8741613128063, 2366.1605621438143, 6478.040926143233, 4401.892891404178, 375.77543505244313, 3515.055528030421, 2001.4527947758334, 2306.8003422279735, 3018.2486916916873, 4247.046673015009, 1321.4396260510484, 2873.871836617175, 1340.6280326227252, 1837.717278827904, 2821.9799927813365, 2322.698852215399, 2287.0995754244977, 2487.718090768595, 1792.1868484095507, 2744.606368396228, 2279.592868671505, 4740.137553950695, 2780.1418501047765, 3400.1882510463033, 144.48886258329037, 195.61671996504117, 77.63263447639615, 55.024248571855715, 190.71715284259585, 91.41076601422641, 122.78985117003013, 121.86106060293254, 63.84213677641579, 73.65255413838086, 160.16391661711714, 54.009783278921226, 82.57759202988122, 107.36512144391261, 219.1802788320083, 172.0315068088538, 125.8994925485121, 124.8612000900965, 110.92317455028781, 64.89593298461016, 482.93650013071033, 238.83165332016233, 650.8632102356567, 49.11928466405357, 1219.7366359009352, 57.02181576562599, 153.47730001355643, 63.900564970845224, 133.84708782142954, 1254.7244086445396, 3252.9636476537453, 411.41460892469985, 2113.194229653924, 335.2290015710497, 1115.0442966661158, 723.2794141296465, 1442.9385312423697, 1053.0778661161999, 1604.207109305083, 1224.9226899609193, 1486.7244825492376, 288.14823641160706, 2617.449906343336, 751.8236586610304, 3333.807088084049, 792.7211360273085, 4172.051516845238, 879.3895138318463, 2811.6852485028444, 2780.1418501047765, 1881.3882871958574, 739.4935248343991, 692.1712219513525, 4292.271448107716, 1703.6381174073379, 933.6026816962525, 1348.0393664590708, 3196.2526468514016, 6818.1773542294895, 1810.942616279407, 4025.2430690430156, 1370.892596605558, 6478.040926143233, 151.9751225984458, 143.7298279419211, 76.96813060493443, 126.20971607770122, 52.31427751566816, 70.77971729326066, 153.9019673909536, 45.10676697701692, 49.19324407120905, 66.59688632000515, 44.06031618840684, 73.70220760113018, 298.339052890094, 75.79210930976299, 577.0014253368988, 49.08016249386957, 64.55569601118991, 98.25666586027468, 54.25366510310979, 51.16275652521793, 44.00453611328579, 118.73073788979644, 25.530889899629422, 31.697947144607888, 77.81534645827497, 229.21961691487292, 36.778108586360474, 255.71465808959144, 52.16444156548202, 368.79923203620115, 543.2511075238523, 1353.008966107693, 91.12185754881818, 171.52631289385405, 396.6663386877912, 2486.9725102939374, 171.71388743644331, 301.410272302266, 1040.7548682265872, 1292.2745496101695, 2042.4040342639723, 664.8981703868175, 337.525055621232, 152.1674798770606, 2411.466948885023, 3444.060819604966, 539.6593349310375, 487.09570426393304, 316.6595127309997, 284.5272747542677, 386.82869067317273, 1546.1465010854856, 434.3282173860533, 2032.0563594685577, 993.079836146821, 503.3436482630992, 554.0577154085188, 3880.5767293417384, 1995.2047368503627, 4187.577442283466, 1805.529749256857, 1985.781744996966, 2244.038248586277, 1912.4790187885524, 3275.224871469014, 768.1504989510884, 2362.7006248802345, 3048.3278891436603, 4740.137553950695, 1493.620566565694, 2218.8745116922582, 3209.2676586756734, 1012.5423742980755, 1902.923134177301, 2000.3890351955356, 4292.271448107716, 2522.2701531979037, 5850.012948604858], \"Category\": [\"Default\", \"Default\", \"Default\", \"Default\", \"Default\", \"Default\", \"Default\", \"Default\", \"Default\", \"Default\", \"Default\", \"Default\", \"Default\", \"Default\", \"Default\", \"Default\", \"Default\", \"Default\", \"Default\", \"Default\", \"Default\", \"Default\", \"Default\", \"Default\", \"Default\", \"Default\", \"Default\", \"Default\", \"Default\", \"Default\", \"Topic1\", \"Topic1\", \"Topic1\", \"Topic1\", \"Topic1\", \"Topic1\", \"Topic1\", \"Topic1\", \"Topic1\", \"Topic1\", \"Topic1\", \"Topic1\", \"Topic1\", \"Topic1\", \"Topic1\", \"Topic1\", \"Topic1\", \"Topic1\", \"Topic1\", \"Topic1\", \"Topic1\", \"Topic1\", \"Topic1\", \"Topic1\", \"Topic1\", \"Topic1\", \"Topic1\", \"Topic1\", \"Topic1\", \"Topic1\", \"Topic1\", \"Topic1\", \"Topic1\", \"Topic1\", \"Topic1\", \"Topic1\", \"Topic1\", \"Topic1\", \"Topic1\", \"Topic1\", \"Topic1\", \"Topic1\", \"Topic1\", \"Topic1\", \"Topic1\", \"Topic1\", \"Topic1\", \"Topic1\", \"Topic1\", \"Topic1\", \"Topic1\", \"Topic1\", \"Topic1\", \"Topic1\", \"Topic1\", \"Topic1\", \"Topic1\", \"Topic1\", \"Topic1\", \"Topic1\", \"Topic1\", \"Topic1\", \"Topic1\", \"Topic1\", \"Topic1\", \"Topic1\", \"Topic1\", \"Topic1\", \"Topic1\", \"Topic1\", \"Topic1\", \"Topic1\", \"Topic1\", \"Topic1\", \"Topic1\", \"Topic1\", \"Topic1\", \"Topic1\", \"Topic1\", \"Topic2\", \"Topic2\", \"Topic2\", \"Topic2\", \"Topic2\", \"Topic2\", \"Topic2\", \"Topic2\", \"Topic2\", \"Topic2\", \"Topic2\", \"Topic2\", \"Topic2\", \"Topic2\", \"Topic2\", \"Topic2\", \"Topic2\", \"Topic2\", \"Topic2\", \"Topic2\", \"Topic2\", \"Topic2\", \"Topic2\", \"Topic2\", \"Topic2\", \"Topic2\", \"Topic2\", \"Topic2\", \"Topic2\", \"Topic2\", \"Topic2\", \"Topic2\", \"Topic2\", \"Topic2\", \"Topic2\", \"Topic2\", \"Topic2\", \"Topic2\", \"Topic2\", \"Topic2\", \"Topic2\", \"Topic2\", \"Topic2\", \"Topic2\", \"Topic2\", \"Topic2\", \"Topic2\", \"Topic2\", \"Topic2\", \"Topic2\", \"Topic2\", \"Topic2\", \"Topic2\", \"Topic2\", \"Topic2\", \"Topic2\", \"Topic2\", \"Topic2\", \"Topic2\", \"Topic2\", \"Topic2\", \"Topic2\", \"Topic2\", \"Topic3\", \"Topic3\", \"Topic3\", \"Topic3\", \"Topic3\", \"Topic3\", \"Topic3\", \"Topic3\", \"Topic3\", \"Topic3\", \"Topic3\", \"Topic3\", \"Topic3\", \"Topic3\", \"Topic3\", \"Topic3\", \"Topic3\", \"Topic3\", \"Topic3\", \"Topic3\", \"Topic3\", \"Topic3\", \"Topic3\", \"Topic3\", \"Topic3\", \"Topic3\", \"Topic3\", \"Topic3\", \"Topic3\", \"Topic3\", \"Topic3\", \"Topic3\", \"Topic3\", \"Topic3\", \"Topic3\", \"Topic3\", \"Topic3\", \"Topic3\", \"Topic3\", \"Topic3\", \"Topic3\", \"Topic3\", \"Topic3\", \"Topic3\", \"Topic3\", \"Topic3\", \"Topic3\", \"Topic3\", \"Topic3\", \"Topic3\", \"Topic3\", \"Topic3\", \"Topic3\", \"Topic3\", \"Topic3\", \"Topic3\", \"Topic3\", \"Topic3\", \"Topic3\", \"Topic3\", \"Topic3\", \"Topic3\", \"Topic3\", \"Topic3\", \"Topic3\", \"Topic3\", \"Topic3\", \"Topic3\", \"Topic3\", \"Topic4\", \"Topic4\", \"Topic4\", \"Topic4\", \"Topic4\", \"Topic4\", \"Topic4\", \"Topic4\", \"Topic4\", \"Topic4\", \"Topic4\", \"Topic4\", \"Topic4\", \"Topic4\", \"Topic4\", \"Topic4\", \"Topic4\", \"Topic4\", \"Topic4\", \"Topic4\", \"Topic4\", \"Topic4\", \"Topic4\", \"Topic4\", \"Topic4\", \"Topic4\", \"Topic4\", \"Topic4\", \"Topic4\", \"Topic4\", \"Topic4\", \"Topic4\", \"Topic4\", \"Topic4\", \"Topic4\", \"Topic4\", \"Topic4\", \"Topic4\", \"Topic4\", \"Topic4\", \"Topic4\", \"Topic4\", \"Topic4\", \"Topic4\", \"Topic4\", \"Topic4\", \"Topic4\", \"Topic4\", \"Topic4\", \"Topic4\", \"Topic4\", \"Topic4\", \"Topic4\", \"Topic4\", \"Topic4\", \"Topic4\", \"Topic4\", \"Topic4\", \"Topic4\", \"Topic4\", \"Topic4\", \"Topic4\", \"Topic4\", \"Topic4\", \"Topic4\", \"Topic4\", \"Topic4\", \"Topic4\", \"Topic4\", \"Topic4\", \"Topic4\", \"Topic4\", \"Topic4\", \"Topic4\", \"Topic4\", \"Topic4\", \"Topic4\", \"Topic4\", \"Topic4\", \"Topic4\", \"Topic5\", \"Topic5\", \"Topic5\", \"Topic5\", \"Topic5\", \"Topic5\", \"Topic5\", \"Topic5\", \"Topic5\", \"Topic5\", \"Topic5\", \"Topic5\", \"Topic5\", \"Topic5\", \"Topic5\", \"Topic5\", \"Topic5\", \"Topic5\", \"Topic5\", \"Topic5\", \"Topic5\", \"Topic5\", \"Topic5\", \"Topic5\", \"Topic5\", \"Topic5\", \"Topic5\", \"Topic5\", \"Topic5\", \"Topic5\", \"Topic5\", \"Topic5\", \"Topic5\", \"Topic5\", \"Topic5\", \"Topic5\", \"Topic5\", \"Topic5\", \"Topic5\", \"Topic5\", \"Topic5\", \"Topic5\", \"Topic5\", \"Topic5\", \"Topic5\", \"Topic5\", \"Topic5\", \"Topic5\", \"Topic5\", \"Topic5\", \"Topic5\", \"Topic5\", \"Topic5\", \"Topic5\", \"Topic5\", \"Topic5\", \"Topic5\", \"Topic5\", \"Topic5\", \"Topic5\", \"Topic5\", \"Topic5\", \"Topic5\", \"Topic5\", \"Topic5\", \"Topic6\", \"Topic6\", \"Topic6\", \"Topic6\", \"Topic6\", \"Topic6\", \"Topic6\", \"Topic6\", \"Topic6\", \"Topic6\", \"Topic6\", \"Topic6\", \"Topic6\", \"Topic6\", \"Topic6\", \"Topic6\", \"Topic6\", \"Topic6\", \"Topic6\", \"Topic6\", \"Topic6\", \"Topic6\", \"Topic6\", \"Topic6\", \"Topic6\", \"Topic6\", \"Topic6\", \"Topic6\", \"Topic6\", \"Topic6\", \"Topic6\", \"Topic6\", \"Topic6\", \"Topic6\", \"Topic6\", \"Topic6\", \"Topic6\", \"Topic6\", \"Topic6\", \"Topic6\", \"Topic6\", \"Topic6\", \"Topic6\", \"Topic6\", \"Topic6\", \"Topic6\", \"Topic6\", \"Topic6\", \"Topic6\", \"Topic6\", \"Topic6\", \"Topic6\", \"Topic6\", \"Topic6\", \"Topic6\", \"Topic6\", \"Topic6\", \"Topic6\", \"Topic6\", \"Topic6\", \"Topic6\", \"Topic6\", \"Topic6\", \"Topic6\", \"Topic6\", \"Topic6\", \"Topic7\", \"Topic7\", \"Topic7\", \"Topic7\", \"Topic7\", \"Topic7\", \"Topic7\", \"Topic7\", \"Topic7\", \"Topic7\", \"Topic7\", \"Topic7\", \"Topic7\", \"Topic7\", \"Topic7\", \"Topic7\", \"Topic7\", \"Topic7\", \"Topic7\", \"Topic7\", \"Topic7\", \"Topic7\", \"Topic7\", \"Topic7\", \"Topic7\", \"Topic7\", \"Topic7\", \"Topic7\", \"Topic7\", \"Topic7\", \"Topic7\", \"Topic7\", \"Topic7\", \"Topic7\", \"Topic7\", \"Topic7\", \"Topic7\", \"Topic7\", \"Topic7\", \"Topic7\", \"Topic7\", \"Topic7\", \"Topic7\", \"Topic7\", \"Topic7\", \"Topic7\", \"Topic7\", \"Topic7\", \"Topic7\", \"Topic7\", \"Topic7\", \"Topic7\", \"Topic7\", \"Topic7\", \"Topic7\", \"Topic7\", \"Topic7\", \"Topic7\", \"Topic7\", \"Topic7\", \"Topic7\", \"Topic7\", \"Topic7\", \"Topic7\", \"Topic7\", \"Topic7\", \"Topic7\", \"Topic7\", \"Topic7\", \"Topic7\", \"Topic7\", \"Topic7\", \"Topic7\", \"Topic7\", \"Topic7\", \"Topic8\", \"Topic8\", \"Topic8\", \"Topic8\", \"Topic8\", \"Topic8\", \"Topic8\", \"Topic8\", \"Topic8\", \"Topic8\", \"Topic8\", \"Topic8\", \"Topic8\", \"Topic8\", \"Topic8\", \"Topic8\", \"Topic8\", \"Topic8\", \"Topic8\", \"Topic8\", \"Topic8\", \"Topic8\", \"Topic8\", \"Topic8\", \"Topic8\", \"Topic8\", \"Topic8\", \"Topic8\", \"Topic8\", \"Topic8\", \"Topic8\", \"Topic8\", \"Topic8\", \"Topic8\", \"Topic8\", \"Topic8\", \"Topic8\", \"Topic8\", \"Topic8\", \"Topic8\", \"Topic8\", \"Topic8\", \"Topic8\", \"Topic8\", \"Topic8\", \"Topic8\", \"Topic8\", \"Topic8\", \"Topic8\", \"Topic8\", \"Topic8\", \"Topic8\", \"Topic8\", \"Topic8\", \"Topic8\", \"Topic8\", \"Topic8\", \"Topic8\", \"Topic8\", \"Topic8\", \"Topic8\", \"Topic8\", \"Topic8\", \"Topic8\", \"Topic8\", \"Topic8\", \"Topic8\", \"Topic8\", \"Topic8\", \"Topic8\", \"Topic8\", \"Topic8\", \"Topic9\", \"Topic9\", \"Topic9\", \"Topic9\", \"Topic9\", \"Topic9\", \"Topic9\", \"Topic9\", \"Topic9\", \"Topic9\", \"Topic9\", \"Topic9\", \"Topic9\", \"Topic9\", \"Topic9\", \"Topic9\", \"Topic9\", \"Topic9\", \"Topic9\", \"Topic9\", \"Topic9\", \"Topic9\", \"Topic9\", \"Topic9\", \"Topic9\", \"Topic9\", \"Topic9\", \"Topic9\", \"Topic9\", \"Topic9\", \"Topic9\", \"Topic9\", \"Topic9\", \"Topic9\", \"Topic9\", \"Topic9\", \"Topic9\", \"Topic9\", \"Topic9\", \"Topic9\", \"Topic9\", \"Topic9\", \"Topic9\", \"Topic9\", \"Topic9\", \"Topic9\", \"Topic9\", \"Topic9\", \"Topic9\", \"Topic9\", \"Topic9\", \"Topic9\", \"Topic9\", \"Topic9\", \"Topic9\", \"Topic9\", \"Topic9\", \"Topic9\", \"Topic9\", \"Topic9\", \"Topic9\", \"Topic9\", \"Topic9\", \"Topic10\", \"Topic10\", \"Topic10\", \"Topic10\", \"Topic10\", \"Topic10\", \"Topic10\", \"Topic10\", \"Topic10\", \"Topic10\", \"Topic10\", \"Topic10\", \"Topic10\", \"Topic10\", \"Topic10\", \"Topic10\", \"Topic10\", \"Topic10\", \"Topic10\", \"Topic10\", \"Topic10\", \"Topic10\", \"Topic10\", \"Topic10\", \"Topic10\", \"Topic10\", \"Topic10\", \"Topic10\", \"Topic10\", \"Topic10\", \"Topic10\", \"Topic10\", \"Topic10\", \"Topic10\", \"Topic10\", \"Topic10\", \"Topic10\", \"Topic10\", \"Topic10\", \"Topic10\", \"Topic10\", \"Topic10\", \"Topic10\", \"Topic10\", \"Topic10\", \"Topic10\", \"Topic10\", \"Topic10\", \"Topic10\", \"Topic10\", \"Topic10\", \"Topic10\", \"Topic10\", \"Topic10\", \"Topic10\", \"Topic10\", \"Topic10\", \"Topic10\", \"Topic10\", \"Topic10\", \"Topic10\", \"Topic10\", \"Topic10\", \"Topic10\", \"Topic10\", \"Topic10\", \"Topic10\", \"Topic10\", \"Topic10\", \"Topic10\", \"Topic10\", \"Topic10\", \"Topic10\", \"Topic10\", \"Topic10\", \"Topic10\", \"Topic10\", \"Topic10\"], \"logprob\": [30.0, 29.0, 28.0, 27.0, 26.0, 25.0, 24.0, 23.0, 22.0, 21.0, 20.0, 19.0, 18.0, 17.0, 16.0, 15.0, 14.0, 13.0, 12.0, 11.0, 10.0, 9.0, 8.0, 7.0, 6.0, 5.0, 4.0, 3.0, 2.0, 1.0, -7.5465, -7.6569, -8.9774, -7.0817, -6.9157, -8.6307, -7.3048, -9.1537, -6.4997, -8.3817, -5.9139, -8.222, -8.3142, -7.6023, -7.5745, -8.2664, -8.3511, -8.1897, -8.4143, -8.0754, -7.0658, -8.3793, -8.5339, -7.1456, -7.1782, -8.4352, -5.6422, -8.7594, -8.9834, -7.2709, -7.499, -5.6161, -5.4545, -6.4797, -5.8635, -5.8995, -6.2685, -6.7424, -6.8056, -7.602, -7.295, -6.3047, -6.14, -6.3028, -4.7583, -6.7088, -6.7953, -5.4085, -6.6675, -5.5584, -5.986, -6.1927, -6.0356, -6.4805, -5.0898, -5.0964, -6.4776, -6.1981, -6.3131, -5.3697, -5.1798, -5.6525, -5.9385, -5.5431, -5.6596, -5.8346, -6.065, -5.2496, -5.8127, -5.9306, -5.7801, -5.9439, -6.0322, -5.7842, -5.9167, -5.8648, -5.9869, -5.991, -5.9963, -5.9722, -6.5294, -6.7125, -5.0635, -6.0606, -6.1202, -7.1303, -7.7106, -6.9453, -7.4112, -7.7957, -7.5754, -7.5361, -7.1065, -8.0911, -6.567, -5.8603, -5.4462, -7.8533, -5.1016, -6.5006, -5.7223, -6.7303, -7.7854, -7.5505, -7.2999, -7.233, -8.0677, -6.646, -6.8227, -4.1254, -5.887, -5.6317, -6.6177, -4.1836, -5.1653, -5.8382, -5.6238, -7.016, -4.832, -6.2588, -4.8123, -6.5135, -5.6911, -4.3853, -5.6846, -4.7128, -4.9513, -5.5287, -5.4391, -5.8566, -6.0422, -5.1354, -5.9645, -5.924, -5.1873, -5.5073, -5.4734, -5.623, -5.8129, -5.5754, -5.7894, -5.7802, -5.8145, -7.1319, -7.359, -7.5811, -6.2804, -6.9311, -4.5372, -7.9451, -8.1506, -8.0184, -8.1524, -7.7409, -8.1336, -8.2173, -6.3571, -6.0288, -8.3108, -6.8829, -8.4106, -8.4107, -5.3039, -7.053, -8.4677, -6.4978, -7.5629, -8.5567, -8.5291, -6.7072, -6.885, -7.5687, -7.7834, -7.1265, -4.5798, -4.2774, -7.7754, -6.5103, -6.1572, -7.2482, -6.4089, -6.7493, -5.7887, -4.877, -5.4377, -6.1305, -5.0339, -5.8903, -4.5293, -5.1479, -5.5198, -5.6936, -5.9391, -6.0122, -4.6266, -5.4624, -5.6399, -5.845, -5.7078, -4.7228, -6.0205, -5.6844, -6.0446, -5.4821, -5.6202, -5.7611, -5.6963, -5.9596, -5.9107, -5.9202, -5.8865, -6.928, -6.7615, -8.0351, -8.112, -8.1852, -8.3616, -7.7273, -8.4832, -8.5347, -8.6647, -6.9673, -6.9095, -8.0965, -9.1247, -9.1017, -9.1508, -9.2292, -6.6851, -9.3123, -8.9829, -8.0683, -7.5544, -7.9726, -9.3334, -7.9251, -8.763, -8.0153, -9.6447, -8.1892, -6.6465, -6.5292, -7.2628, -5.5206, -6.6683, -5.152, -5.9192, -8.2979, -8.2543, -6.2157, -7.242, -7.599, -5.2841, -6.5806, -6.1419, -5.6298, -6.6402, -6.9413, -6.9542, -6.6406, -6.0031, -6.7978, -5.8053, -6.5816, -5.4733, -5.3909, -6.2829, -5.2077, -6.0977, -5.5768, -6.4629, -5.9913, -5.9389, -5.6967, -5.8085, -6.0062, -5.8601, -6.113, -6.2917, -6.1581, -6.2952, -6.2816, -6.2651, -6.0705, -6.1911, -6.1571, -6.2076, -6.1999, -6.1841, -6.2145, -6.2568, -7.4342, -5.9688, -7.5255, -7.4443, -7.4423, -5.8945, -7.038, -7.0254, -5.9707, -6.3774, -7.2148, -7.7843, -5.8578, -6.793, -5.4876, -7.6614, -7.8975, -8.0185, -7.7208, -7.919, -6.7639, -7.779, -7.5366, -7.6849, -8.2258, -8.9219, -8.5146, -8.1513, -7.7299, -7.4803, -6.015, -5.3398, -5.2018, -5.0093, -7.2696, -6.22, -5.3985, -5.4358, -4.6826, -7.1594, -6.6232, -7.0553, -6.4196, -6.6635, -5.1035, -6.2496, -6.1561, -5.5516, -4.7606, -5.9651, -5.9805, -5.5443, -5.67, -5.3338, -5.7217, -5.367, -5.7013, -5.49, -5.6149, -5.827, -5.7263, -5.7314, -5.7845, -6.1027, -6.0578, -7.7098, -6.8453, -7.2662, -8.1259, -6.3708, -8.1021, -6.6259, -7.9698, -7.1631, -7.717, -7.8866, -8.3613, -7.5899, -7.4265, -5.1048, -7.9532, -7.8386, -8.6879, -8.6898, -7.9825, -7.7506, -7.6072, -5.9013, -8.2352, -8.2683, -5.6593, -6.9638, -5.1342, -7.9018, -6.4786, -5.9415, -6.2767, -7.6187, -3.7231, -6.4105, -5.1553, -6.3902, -5.6312, -5.6514, -6.693, -6.3736, -5.9783, -4.645, -7.1576, -6.6208, -5.1413, -5.3718, -6.1065, -6.0779, -6.729, -4.9576, -5.2938, -5.463, -5.8899, -6.2655, -5.8524, -5.9093, -5.5004, -5.8995, -5.9747, -5.9019, -6.132, -6.1314, -6.0474, -6.0162, -6.1146, -6.9965, -6.8734, -6.9249, -7.4284, -6.9561, -6.975, -7.7565, -6.747, -7.9509, -8.0869, -7.7994, -6.2879, -7.1453, -8.1225, -8.2188, -8.1817, -8.2066, -8.0456, -7.2146, -8.3707, -6.517, -5.1842, -8.3717, -8.4168, -8.4653, -8.5149, -7.9675, -8.5324, -8.6064, -8.6244, -4.9225, -5.4999, -6.5963, -6.9492, -5.8129, -5.9825, -7.0333, -7.4187, -6.0289, -3.9828, -6.6785, -6.6454, -5.8151, -5.3112, -6.5455, -6.5792, -6.0578, -6.3763, -5.078, -4.8528, -6.5945, -3.9742, -4.7547, -4.9936, -5.8119, -5.6001, -6.567, -5.6386, -5.4889, -6.3203, -5.973, -5.4432, -5.4598, -5.9987, -6.0268, -5.7962, -5.9052, -6.0956, -5.7227, -5.5592, -5.8036, -5.7059, -5.8965, -5.7587, -5.9593, -7.3977, -7.915, -6.8839, -8.0358, -8.6747, -8.7096, -8.8099, -8.2392, -8.0313, -8.6321, -7.0395, -9.3283, -8.1052, -8.2486, -9.1584, -8.5544, -9.7146, -9.5558, -7.1813, -6.8335, -8.0977, -8.7764, -8.3241, -9.8357, -6.8279, -8.4169, -9.0558, -8.4773, -8.6594, -7.6788, -5.9627, -7.6822, -6.9088, -6.483, -7.2502, -7.7382, -6.2595, -7.5289, -6.4127, -4.9198, -5.3548, -5.6805, -7.0681, -5.7682, -4.8055, -5.8511, -6.2025, -6.7857, -5.4622, -5.6907, -4.8876, -5.2718, -7.1778, -5.5314, -5.9838, -5.903, -5.7145, -5.5206, -6.3262, -5.8802, -6.3657, -6.2311, -6.0187, -6.1217, -6.1493, -6.1287, -6.2889, -6.1839, -6.2608, -6.1948, -6.3116, -6.2991, -7.0119, -6.709, -7.6394, -7.9876, -6.7535, -7.4932, -7.1983, -7.2138, -7.8646, -7.7227, -6.96, -8.0485, -7.638, -7.3847, -6.6858, -6.9319, -7.2482, -7.2589, -7.3843, -7.9247, -5.9177, -6.6264, -5.6299, -8.2172, -5.0057, -8.0933, -7.1095, -7.9913, -7.2728, -5.0361, -4.1251, -6.1651, -4.5813, -6.3697, -5.365, -5.8044, -5.2258, -5.4904, -5.14, -5.367, -5.2094, -6.5985, -4.8458, -5.8598, -4.7005, -5.8264, -4.7566, -5.9049, -5.1473, -5.2099, -5.4522, -6.0474, -6.1123, -5.1425, -5.6473, -5.9628, -5.7857, -5.4073, -5.1359, -5.6871, -5.4688, -5.898, -5.7817, -7.2843, -7.345, -7.9745, -7.4811, -8.37, -8.0683, -7.2937, -8.5218, -8.4372, -8.1356, -8.5505, -8.0394, -6.6456, -8.017, -5.9909, -8.4564, -8.1844, -7.7651, -8.3611, -8.4212, -8.5778, -7.5864, -9.1234, -8.9081, -8.0112, -6.9329, -8.7657, -6.8267, -8.4168, -6.4622, -6.0985, -5.2032, -7.8668, -7.2517, -6.4475, -4.6969, -7.2592, -6.7327, -5.5694, -5.3767, -4.9746, -6.0264, -6.6568, -7.3905, -4.8548, -4.5413, -6.2338, -6.3268, -6.7199, -6.8265, -6.556, -5.3573, -6.4645, -5.1729, -5.8067, -6.3643, -6.3118, -4.8448, -5.445, -5.0069, -5.5721, -5.5123, -5.4585, -5.6408, -5.3633, -6.1951, -5.6279, -5.5082, -5.3181, -5.8773, -5.7346, -5.6183, -6.079, -5.9514, -5.9786, -5.9156, -6.0017, -5.9796], \"loglift\": [30.0, 29.0, 28.0, 27.0, 26.0, 25.0, 24.0, 23.0, 22.0, 21.0, 20.0, 19.0, 18.0, 17.0, 16.0, 15.0, 14.0, 13.0, 12.0, 11.0, 10.0, 9.0, 8.0, 7.0, 6.0, 5.0, 4.0, 3.0, 2.0, 1.0, 2.3744, 2.362, 2.3503, 2.3501, 2.3456, 2.3453, 2.3439, 2.3415, 2.3378, 2.3317, 2.3243, 2.3198, 2.3195, 2.3179, 2.3122, 2.3106, 2.3058, 2.3015, 2.3002, 2.29, 2.2826, 2.2744, 2.2675, 2.265, 2.2642, 2.2612, 2.2599, 2.2432, 2.2395, 2.2265, 2.2251, 2.192, 2.1265, 2.177, 2.134, 2.1178, 2.1229, 2.1442, 2.1344, 2.2222, 2.1804, 2.0233, 1.9907, 2.0163, 1.7357, 2.0434, 2.0423, 1.7117, 2.004, 1.6588, 1.7717, 1.8381, 1.7579, 1.8966, 1.2049, 1.1588, 1.8876, 1.7131, 1.7629, 1.0713, 0.7411, 1.1235, 1.3212, 0.9204, 1.0273, 1.1784, 1.408, 0.2926, 0.865, 0.9792, 0.4504, 0.8868, 1.0837, 0.0347, 0.5856, 0.3341, 0.6433, 0.1403, 0.209, 2.7371, 2.7355, 2.7347, 2.7338, 2.7311, 2.7297, 2.7282, 2.727, 2.7251, 2.7242, 2.7222, 2.72, 2.7195, 2.718, 2.7148, 2.713, 2.7038, 2.7005, 2.6991, 2.6979, 2.696, 2.6941, 2.6938, 2.6842, 2.6795, 2.6795, 2.6789, 2.6741, 2.6732, 2.665, 2.5994, 2.6259, 2.6144, 2.6457, 2.4919, 2.5305, 2.5282, 2.4297, 2.6241, 2.2033, 2.4757, 2.0872, 2.5004, 2.2447, 1.8137, 2.1899, 1.7581, 1.7671, 2.0071, 1.8599, 2.0965, 2.15, 0.9619, 1.9482, 1.8876, 0.7336, 1.0572, 0.7677, 0.9765, 1.445, 0.2435, 1.2279, 0.6501, 2.5633, 2.5608, 2.5588, 2.5553, 2.5545, 2.5537, 2.5528, 2.5516, 2.5486, 2.5475, 2.547, 2.5466, 2.5459, 2.5458, 2.5435, 2.5435, 2.5434, 2.5434, 2.5431, 2.543, 2.5415, 2.5413, 2.5404, 2.5404, 2.5402, 2.5385, 2.537, 2.5367, 2.5355, 2.534, 2.5316, 2.5175, 2.453, 2.4237, 2.5259, 2.4794, 2.454, 2.4992, 2.4511, 2.461, 2.3914, 2.3134, 2.3451, 2.3989, 2.2654, 2.3461, 2.1715, 2.1906, 2.2421, 2.2637, 2.2597, 2.2384, 1.6323, 1.8791, 1.9062, 1.9891, 1.8727, 0.8194, 1.9441, 1.4315, 1.8859, 0.8127, 1.0599, 0.6887, 0.3647, 1.3859, 0.9747, 1.0213, 0.6075, 1.789, 1.7871, 1.7861, 1.7851, 1.7847, 1.7831, 1.7824, 1.7813, 1.7812, 1.7792, 1.7791, 1.7754, 1.7744, 1.7715, 1.771, 1.7695, 1.7676, 1.7672, 1.7667, 1.7604, 1.7599, 1.7595, 1.7472, 1.7469, 1.7435, 1.7433, 1.7424, 1.7331, 1.7325, 1.7325, 1.7247, 1.731, 1.6618, 1.6908, 1.6193, 1.6141, 1.7301, 1.7228, 1.5791, 1.6483, 1.6729, 1.4567, 1.5765, 1.5166, 1.4037, 1.5284, 1.573, 1.5483, 1.4822, 1.3351, 1.4986, 1.231, 1.4008, 1.0994, 1.059, 1.2884, 0.8897, 1.1891, 0.9445, 1.3347, 1.0985, 1.0398, 0.8042, 0.8692, 0.9624, 0.828, 1.049, 1.1813, 1.0338, 1.1651, 1.0471, 1.0117, 0.6479, 0.688, 0.4255, 0.5535, 0.4318, 0.057, 0.0407, 0.3077, 2.8129, 2.7729, 2.7627, 2.7099, 2.6801, 2.6743, 2.6682, 2.6642, 2.6602, 2.6515, 2.6451, 2.6401, 2.6192, 2.6163, 2.6043, 2.5909, 2.5882, 2.5558, 2.5532, 2.5525, 2.5417, 2.5294, 2.4657, 2.457, 2.4472, 2.4393, 2.4336, 2.4283, 2.4271, 2.4044, 2.3818, 2.3526, 2.3226, 2.3031, 2.3922, 2.2733, 2.0334, 2.0192, 1.8427, 2.3638, 2.2156, 2.3284, 2.1218, 2.1604, 1.5222, 1.9674, 1.9163, 1.6142, 1.0072, 1.7184, 1.6941, 1.2179, 1.2398, 0.8967, 1.2413, 0.8383, 1.0324, 0.7511, 0.8873, 1.1297, 0.7147, 0.3999, 0.0344, 1.5152, 0.8868, 2.4602, 2.459, 2.4554, 2.4451, 2.44, 2.4327, 2.4106, 2.3945, 2.3937, 2.3873, 2.3827, 2.3791, 2.3762, 2.3726, 2.3672, 2.3549, 2.3433, 2.343, 2.3409, 2.3402, 2.3377, 2.3293, 2.3291, 2.3019, 2.3013, 2.2992, 2.2986, 2.2968, 2.2928, 2.2916, 2.2912, 2.2374, 2.2803, 2.0446, 2.2118, 2.1123, 2.201, 2.111, 1.9712, 2.1373, 2.057, 1.9324, 1.554, 2.1932, 2.0375, 1.5924, 1.5849, 1.7702, 1.7047, 1.9987, 1.1035, 1.2706, 1.3033, 1.4988, 1.6841, 1.3022, 1.3012, 0.597, 1.1346, 0.9721, 0.6059, 1.2249, 0.9239, 0.4358, 0.1151, 0.116, 2.023, 2.0226, 2.0221, 2.0213, 2.0192, 2.0184, 2.0184, 2.018, 2.0177, 2.0165, 2.0162, 2.0161, 2.0155, 2.015, 2.015, 2.0149, 2.0147, 2.0146, 2.0133, 2.0132, 2.013, 2.013, 2.0124, 2.0123, 2.0111, 2.011, 2.011, 2.0106, 2.0088, 2.0088, 1.9962, 1.997, 2.0074, 2.0084, 1.9948, 1.9959, 2.0056, 2.0085, 1.9891, 1.9019, 1.9823, 1.9808, 1.9427, 1.9191, 1.9576, 1.9575, 1.9194, 1.9377, 1.8367, 1.8075, 1.9484, 1.568, 1.5548, 1.5956, 1.7465, 1.6143, 1.8573, 1.4382, 1.2775, 1.7214, 1.4383, 1.0203, 1.0234, 1.4457, 1.443, 1.1737, 1.2773, 1.4457, 0.7796, 0.5018, 0.8266, 0.5247, 1.0082, 0.0602, 0.172, 1.8398, 1.8369, 1.8269, 1.8176, 1.8123, 1.8115, 1.8025, 1.7984, 1.7975, 1.7904, 1.79, 1.79, 1.7854, 1.752, 1.7163, 1.7125, 1.6988, 1.6987, 1.697, 1.694, 1.6831, 1.6804, 1.6747, 1.6647, 1.6624, 1.6624, 1.6621, 1.6559, 1.6507, 1.6454, 1.6018, 1.6341, 1.6178, 1.5846, 1.6021, 1.6167, 1.4792, 1.5747, 1.4558, 1.2791, 1.332, 1.3341, 1.5183, 1.3085, 1.1154, 1.2841, 1.3286, 1.4327, 1.1373, 1.1353, 0.9313, 0.9335, 1.4883, 0.8989, 1.0097, 0.9484, 0.8681, 0.7205, 1.0824, 0.7515, 1.0285, 0.8477, 0.6312, 0.7229, 0.7107, 0.6473, 0.815, 0.4938, 0.6025, -0.0635, 0.3533, 0.1644, 2.61, 2.6099, 2.6037, 2.5997, 2.5908, 2.5866, 2.5863, 2.5784, 2.5741, 2.573, 2.5589, 2.5575, 2.5433, 2.5342, 2.5194, 2.5155, 2.5114, 2.509, 2.5019, 2.4976, 2.4975, 2.4929, 2.4868, 2.4837, 2.483, 2.4584, 2.4521, 2.4465, 2.4256, 2.4243, 2.3826, 2.4104, 2.3578, 2.4106, 2.2134, 2.2069, 2.0948, 2.1452, 2.0747, 2.1175, 2.0813, 2.3331, 1.8794, 2.1127, 1.7827, 2.0933, 1.5023, 1.911, 1.5062, 1.4549, 1.6031, 1.9417, 1.943, 1.088, 1.5073, 1.7933, 1.603, 1.118, 0.6318, 1.4064, 0.8259, 1.4739, 0.0372, 2.2871, 2.2822, 2.2772, 2.276, 2.2678, 2.2672, 2.2651, 2.2642, 2.2621, 2.2608, 2.259, 2.2556, 2.2513, 2.2501, 2.2463, 2.2453, 2.2431, 2.2424, 2.2403, 2.2389, 2.233, 2.2319, 2.2318, 2.2308, 2.2296, 2.2276, 2.2245, 2.2244, 2.2239, 2.2227, 2.199, 2.1818, 2.2161, 2.1986, 2.1644, 2.0794, 2.1901, 2.154, 2.0779, 2.0542, 1.9986, 2.069, 2.1166, 2.1796, 1.9523, 1.9094, 2.0704, 2.0799, 2.1173, 2.1178, 2.0811, 1.8943, 2.0568, 1.8054, 1.8876, 2.0096, 1.966, 1.4866, 1.5516, 1.2483, 1.5244, 1.4891, 1.4205, 1.3981, 1.1377, 1.756, 1.1996, 1.0645, 0.8132, 1.4088, 1.1558, 0.903, 1.5959, 1.0925, 1.0153, 0.315, 0.7605, -0.0587]}, \"token.table\": {\"Topic\": [1, 2, 3, 4, 5, 6, 7, 8, 9, 10, 1, 2, 3, 4, 5, 6, 7, 8, 9, 10, 1, 2, 3, 4, 5, 6, 7, 8, 9, 10, 1, 3, 7, 8, 1, 1, 3, 2, 8, 9, 2, 4, 10, 1, 4, 5, 6, 7, 8, 9, 10, 1, 8, 9, 1, 5, 6, 10, 1, 3, 1, 3, 3, 4, 1, 8, 2, 5, 6, 7, 8, 9, 10, 1, 2, 3, 4, 5, 6, 7, 8, 9, 3, 6, 7, 1, 2, 3, 4, 5, 6, 7, 8, 9, 10, 1, 2, 3, 4, 5, 6, 7, 8, 9, 10, 1, 3, 7, 1, 2, 3, 4, 5, 6, 7, 8, 9, 2, 3, 2, 3, 6, 7, 8, 9, 6, 10, 1, 2, 3, 4, 5, 6, 7, 8, 9, 10, 1, 2, 3, 4, 5, 6, 7, 8, 9, 10, 1, 2, 3, 4, 5, 6, 7, 8, 9, 10, 4, 5, 6, 7, 8, 9, 10, 7, 9, 1, 2, 3, 4, 5, 6, 7, 8, 9, 10, 1, 3, 5, 6, 7, 8, 9, 1, 2, 3, 4, 5, 6, 7, 8, 9, 10, 1, 2, 3, 4, 5, 6, 7, 8, 9, 10, 5, 6, 7, 8, 9, 1, 2, 3, 4, 5, 6, 7, 8, 9, 10, 1, 2, 5, 6, 7, 8, 9, 10, 2, 6, 10, 2, 3, 5, 6, 7, 8, 9, 10, 2, 3, 7, 7, 1, 2, 3, 4, 5, 6, 7, 8, 9, 10, 1, 4, 8, 1, 2, 3, 4, 5, 6, 7, 8, 9, 10, 4, 8, 1, 2, 4, 5, 6, 8, 10, 1, 2, 3, 4, 5, 6, 7, 8, 9, 10, 4, 8, 10, 3, 4, 5, 7, 8, 9, 3, 8, 9, 1, 4, 5, 7, 9, 10, 1, 2, 3, 4, 5, 6, 7, 8, 9, 10, 1, 2, 3, 4, 5, 6, 7, 8, 9, 10, 2, 4, 1, 2, 3, 4, 5, 6, 8, 9, 10, 1, 5, 8, 9, 10, 1, 2, 3, 4, 5, 6, 7, 8, 9, 10, 3, 1, 3, 4, 7, 9, 10, 1, 2, 3, 4, 5, 6, 7, 8, 9, 10, 4, 5, 6, 7, 8, 9, 10, 6, 8, 10, 4, 5, 6, 8, 10, 6, 10, 4, 1, 2, 3, 4, 8, 10, 1, 2, 3, 4, 8, 10, 2, 4, 1, 2, 3, 4, 5, 6, 7, 8, 9, 10, 1, 2, 3, 4, 5, 6, 7, 8, 9, 10, 1, 2, 3, 4, 5, 6, 7, 8, 9, 10, 2, 5, 6, 8, 1, 2, 3, 4, 5, 7, 8, 9, 10, 1, 2, 3, 4, 5, 6, 7, 8, 9, 10, 7, 3, 4, 5, 6, 7, 10, 3, 6, 8, 2, 4, 1, 3, 7, 1, 2, 3, 4, 5, 6, 7, 8, 9, 1, 4, 10, 3, 3, 1, 2, 3, 4, 5, 6, 7, 8, 9, 10, 1, 4, 8, 1, 2, 3, 4, 5, 6, 7, 8, 9, 10, 1, 2, 3, 4, 5, 6, 7, 8, 9, 10, 2, 1, 2, 3, 4, 5, 6, 7, 8, 9, 10, 8, 10, 1, 2, 3, 4, 5, 6, 7, 8, 9, 10, 4, 6, 8, 10, 2, 3, 7, 8, 4, 3, 6, 8, 9, 8, 10, 1, 2, 3, 4, 5, 6, 7, 8, 9, 10, 1, 2, 3, 4, 5, 6, 7, 8, 9, 10, 1, 2, 3, 4, 5, 6, 7, 8, 9, 10, 1, 2, 3, 4, 5, 6, 7, 8, 10, 2, 3, 4, 6, 7, 8, 9, 1, 2, 4, 5, 6, 7, 8, 9, 10, 2, 5, 7, 8, 10, 1, 2, 4, 5, 6, 7, 8, 9, 10, 2, 3, 6, 3, 6, 7, 1, 2, 3, 4, 5, 6, 7, 8, 9, 10, 1, 3, 3, 4, 5, 6, 7, 8, 9, 1, 3, 4, 5, 6, 7, 8, 9, 7, 7, 1, 3, 4, 5, 6, 7, 8, 9, 10, 1, 2, 3, 4, 5, 6, 7, 8, 9, 10, 1, 2, 3, 4, 5, 6, 7, 8, 9, 10, 1, 2, 3, 4, 5, 6, 7, 8, 9, 10, 1, 2, 3, 4, 5, 6, 7, 8, 9, 10, 1, 2, 3, 4, 5, 6, 7, 8, 9, 10, 2, 6, 8, 9, 3, 5, 7, 9, 1, 2, 3, 4, 5, 6, 7, 8, 9, 10, 1, 3, 1, 2, 3, 4, 5, 6, 7, 8, 9, 10, 2, 5, 6, 3, 8, 1, 2, 3, 4, 5, 6, 7, 8, 9, 10, 2, 1, 2, 3, 4, 5, 6, 7, 8, 9, 10, 1, 2, 3, 4, 5, 6, 7, 8, 9, 10, 1, 3, 4, 5, 7, 8, 9, 10, 1, 2, 3, 4, 5, 6, 7, 8, 9, 10, 1, 6, 8, 10, 1, 2, 3, 4, 5, 6, 7, 8, 9, 10, 1, 3, 4, 2, 6, 8, 9, 1, 2, 3, 4, 5, 6, 7, 8, 9, 10, 1, 5, 6, 7, 8, 9, 10, 1, 5, 6, 7, 8, 9, 10, 7, 9, 1, 2, 4, 5, 6, 7, 8, 10, 1, 2, 4, 5, 6, 7, 8, 10, 3, 4, 7, 8, 3, 4, 8, 1, 3, 4, 5, 8, 3, 7, 1, 2, 3, 4, 5, 6, 7, 8, 9, 10, 1, 2, 4, 5, 6, 7, 8, 9, 10, 1, 2, 3, 4, 5, 6, 7, 8, 9, 10, 1, 2, 3, 5, 6, 7, 8, 9, 1, 3, 6, 7, 8, 10, 5, 6, 7, 8, 10, 1, 2, 3, 4, 5, 6, 7, 8, 9, 10, 2, 4, 8, 10, 4, 10, 2, 4, 10, 7, 1, 7, 7, 1, 2, 3, 4, 5, 6, 7, 8, 9, 10, 1, 2, 3, 4, 5, 6, 7, 8, 9, 10, 1, 2, 3, 4, 5, 6, 7, 8, 9, 10, 9, 1, 2, 3, 4, 5, 6, 7, 8, 9, 10, 1, 2, 3, 4, 5, 6, 7, 8, 9, 4, 6, 8, 10, 1, 2, 3, 4, 6, 7, 8, 9, 10, 1, 2, 3, 4, 5, 6, 7, 8, 9, 10, 2, 6, 7, 9, 10, 1, 4, 5, 1, 2, 3, 4, 5, 6, 7, 8, 9, 10, 1, 2, 3, 4, 5, 6, 7, 8, 9, 10, 1, 2, 3, 4, 5, 6, 7, 8, 9, 10, 1, 2, 3, 4, 5, 6, 7, 8, 9, 10, 5, 6, 7, 8, 9, 10, 1, 2, 3, 4, 5, 6, 7, 8, 9, 10, 2, 4, 6, 8, 1, 4, 5, 7, 3, 1, 2, 3, 4, 5, 6, 7, 8, 9, 10, 1, 2, 3, 4, 5, 6, 7, 8, 9, 10, 3, 5, 6, 9, 6, 7, 8, 9, 1, 2, 3, 4, 5, 6, 7, 8, 9, 10, 6, 7, 8, 9, 10, 1, 2, 3, 4, 5, 6, 7, 8, 9, 10, 1, 2, 3, 4, 5, 6, 7, 8, 9, 10, 1, 2, 3, 4, 5, 6, 7, 8, 9, 10, 2, 4, 6, 8, 9, 10, 1, 2, 3, 4, 5, 6, 7, 8, 9, 10, 1, 2, 3, 4, 5, 6, 7, 8, 9, 10, 1, 2, 3, 4, 5, 6, 8, 9, 10, 1, 2, 4, 5, 6, 7, 8, 9, 10, 1, 2, 3, 4, 5, 6, 7, 8, 9, 10, 7, 1, 2, 3, 4, 5, 6, 7, 8, 9, 10, 1, 3, 4, 5, 7, 8, 9, 10, 1, 2, 3, 4, 5, 6, 7, 8, 9, 10, 1, 2, 3, 4, 5, 6, 7, 8, 9, 10, 1, 4, 1, 3, 5, 6, 7, 8, 7, 1, 2, 3, 4, 5, 6, 7, 8, 9, 10, 2, 4, 5, 6, 8, 9, 10, 1, 3, 4, 5, 6, 7, 8, 9, 10, 6, 7, 9, 7, 9, 3, 8, 1, 2, 4, 5, 6, 7, 8, 9, 10, 6, 10, 6, 8, 9, 10, 1, 2, 3, 4, 5, 6, 7, 8, 9, 10, 2, 10, 1, 2, 4, 8, 1, 3, 4, 6, 8, 9, 2, 3, 5, 6, 7, 8, 9, 1, 2, 3, 4, 5, 6, 7, 8, 9, 10, 1, 5, 6, 7, 9, 1, 2, 3, 4, 5, 6, 7, 8, 9, 10, 1, 2, 3, 4, 5, 6, 7, 8, 9, 10, 5, 7, 9, 1, 5, 6, 8, 9, 10, 1, 2, 3, 4, 5, 6, 7, 8, 9, 10, 2, 6, 6, 7, 9, 1, 2, 3, 4, 5, 6, 7, 8, 9, 10, 1, 3, 5, 6, 7, 8, 10, 1, 2, 3, 5, 6, 7, 8, 1, 3, 6, 7, 8, 1, 3, 4, 7, 8, 9, 10, 3, 4, 1, 3, 6, 8, 1, 2, 3, 4, 5, 6, 7, 8, 9, 10, 2, 6, 10, 1, 2, 3, 4, 5, 6, 7, 8, 9, 10, 1, 2, 3, 4, 5, 6, 7, 8, 9, 10, 6, 10, 4, 5, 6, 7, 8, 8, 9, 1, 2, 3, 4, 5, 6, 7, 8, 9, 10, 1, 2, 3, 4, 8, 1, 6, 1, 2, 3, 4, 6, 7, 8, 9, 10, 3, 1, 2, 3, 4, 5, 6, 7, 8, 9, 10, 1, 2, 3, 4, 5, 6, 7, 8, 9, 10, 6, 7, 8, 9, 2, 3, 4, 5, 7, 8, 4, 5, 6, 7, 1, 4, 5, 6, 8, 10, 1, 2, 3, 4, 5, 6, 7, 8, 9, 10, 4, 7, 10, 4, 10, 1, 2, 4, 5, 6, 8, 9, 10, 1, 4, 7, 8, 8, 7, 2, 4, 9, 10, 4, 8, 10, 1, 2, 3, 4, 5, 6, 7, 8, 9, 10, 1, 2, 5, 6, 8, 9, 1, 2, 3, 4, 5, 6, 7, 8, 9, 10, 6, 10, 2, 4, 6, 8, 9, 10, 1, 2, 3, 5, 6, 7, 8, 9, 1, 2, 4, 5, 6, 7, 8, 9, 10, 6, 7, 1, 2, 3, 4, 5, 6, 7, 8, 9, 10, 1, 2, 3, 4, 5, 6, 7, 8, 9, 10, 2, 4, 6, 8, 10, 1, 2, 4, 5, 6, 7, 8, 9, 10, 4, 2, 4, 5, 8, 1, 4, 6, 7, 8, 9, 7, 8, 10, 2, 4, 6, 8, 10, 2, 1, 3, 4, 5, 1, 2, 3, 4, 5, 6, 7, 8, 10, 1, 3, 7, 1, 4, 5, 8, 1, 2, 3, 4, 5, 6, 7, 8, 9, 10, 2, 6, 8, 6, 8, 10, 2, 3, 4, 5, 6, 7, 8, 9, 10, 1, 2, 4, 5, 6, 7, 8, 9, 10, 2, 6, 7, 8, 10, 1, 2, 3, 4, 5, 6, 7, 8, 9, 10, 1, 2, 3, 4, 5, 6, 7, 8, 9, 10, 1, 2, 3, 4, 5, 6, 7, 8, 9, 10, 6, 7, 8, 10, 1, 2, 3, 4, 6, 8, 10, 4, 5, 6, 7, 8, 1, 3, 5, 6, 7, 8, 9, 1, 3, 5, 6, 7, 8, 9, 10, 1, 2, 3, 4, 5, 6, 7, 8, 9, 10, 1, 2, 3, 6, 8, 9, 3, 1, 2, 6, 7, 8, 9, 10, 7, 9, 1, 2, 3, 4, 5, 6, 8, 9, 10, 7, 7, 1, 2, 3, 4, 5, 6, 7, 8, 9, 10, 9, 10, 2, 4, 10, 4, 5, 6, 8, 9, 10, 9, 1, 2, 3, 4, 5, 6, 7, 8, 9, 10, 6, 9, 1, 2, 3, 4, 5, 6, 7, 8, 9, 10, 1, 2, 3, 4, 5, 6, 7, 8, 9, 10, 1, 3, 5, 7, 1, 2, 3, 4, 5, 6, 8, 9, 10, 2, 6, 7, 8, 10, 10, 3, 5, 6, 7, 8, 9, 10, 1, 2, 3, 4, 5, 6, 7, 8, 9, 10, 1, 2, 3, 4, 5, 6, 7, 8, 9, 10, 1, 4, 5, 8, 1, 2, 3, 4, 4, 1, 2, 3, 4, 5, 6, 7, 8, 9, 10, 1, 2, 3, 4, 5, 6, 7, 1, 2, 3, 4, 5, 6, 7, 8, 9, 10, 1, 2, 6, 7, 10, 3, 5, 6, 9, 1, 2, 3, 4, 5, 6, 7, 8, 9, 10, 7, 9, 1, 2, 3, 4, 5, 6, 7, 8, 9, 10, 1, 2, 3, 5, 6, 7, 8, 9, 4, 1, 2, 3, 4, 5, 6, 7, 8, 9, 10, 1, 2, 3, 4, 5, 6, 7, 8, 9, 10, 1, 2, 3, 4, 5, 6, 7, 8, 9, 10, 4, 7, 8, 10, 1, 2, 3, 4, 5, 6, 7, 8, 9, 10, 3, 6, 3, 6, 8, 9, 1, 2, 3, 4, 5, 6, 7, 8, 10, 1, 3, 5, 8, 9, 10, 1, 2, 3, 4, 5, 6, 7, 8, 9, 10, 4, 1, 2, 3, 4, 5, 6, 7, 8, 9, 10, 1, 2, 3, 4, 5, 6, 7, 8, 9, 10, 1, 2, 3, 4, 5, 6, 8, 2, 3, 4, 5, 6, 7, 8, 9, 10, 2, 4, 6, 7, 2, 5, 6, 10, 1, 2, 3, 4, 5, 6, 7, 8, 9, 10, 2, 10, 1, 2, 3, 4, 5, 6, 7, 8, 9, 10, 1, 2, 4, 5, 6, 8, 9, 10, 4, 8, 9, 3, 6, 7, 3, 6, 1, 2, 3, 4, 5, 6, 7, 8, 9, 10, 3, 5, 6, 7, 5, 7, 1, 2, 3, 4, 5, 6, 7, 8, 9, 10, 1, 2, 3, 4, 5, 6, 7, 8, 9, 10, 1, 2, 3, 4, 5, 6, 7, 8, 9, 10, 1, 2, 4, 5, 6, 7, 8, 9, 10, 4, 6, 10, 4, 6, 8, 2, 3, 4, 5, 6, 8, 9, 10, 10, 5, 6, 8, 10, 2, 3, 4, 5, 6, 7, 8, 9, 10, 2, 3, 4, 6, 8, 10, 3, 1, 2, 3, 4, 5, 6, 7, 8, 9, 10, 3, 1, 3, 4, 5, 6, 7, 8, 9, 10, 3, 4, 5, 6, 7, 8, 9, 10, 7, 9, 2, 7, 9, 1, 2, 3, 4, 5, 6, 7, 8, 9, 10, 5, 7, 9, 1, 6, 7, 9, 1, 5, 8, 1, 10, 4, 6, 7, 8, 10, 1, 2, 3, 4, 5, 6, 7, 8, 9, 10, 7, 1, 2, 3, 4, 5, 6, 7, 8, 9, 10, 7, 1, 2, 3, 4, 5, 6, 7, 8, 9, 10, 1, 3, 5, 6, 7, 8, 9, 10, 1, 2, 3, 4, 5, 6, 7, 8, 9, 10, 1, 2, 3, 4, 5, 6, 7, 8, 9, 10, 1, 2, 3, 4, 5, 6, 7, 8, 9, 10, 1, 2, 3, 4, 5, 6, 7, 8, 9, 10, 4, 6, 7, 5, 7, 9, 5, 7, 5, 7, 9, 3, 7, 9, 7, 1, 2, 3, 4, 5, 6, 7, 8, 9, 10, 3, 4, 5, 1, 2, 3, 5, 6, 7, 8, 9, 10, 1, 4, 5, 6, 7, 8, 9, 10, 1, 3, 4, 5, 10, 2, 4, 6, 3, 6, 7, 10, 3, 7, 9, 2, 3, 8, 1, 2, 3, 4, 6, 8, 9, 10, 1, 2, 4, 5, 6, 8, 10, 6, 9, 10, 2, 4, 5, 6, 8, 9, 10, 1, 2, 3, 4, 5, 6, 7, 8, 9, 10, 2, 3, 4, 6, 9, 1, 2, 4, 6, 8, 9, 1, 2, 6, 1, 2, 4, 5, 6, 8, 1, 3, 4, 5, 6, 7, 8, 9, 10, 1, 4, 5, 7, 10, 6, 7, 9, 1, 3, 4, 5, 6, 7, 8, 9, 10, 6, 9, 10, 2, 3, 4, 6, 8, 1, 2, 3, 4, 5, 6, 7, 8, 9, 10, 5, 6, 7, 9, 10, 1, 2, 3, 4, 5, 6, 7, 8, 9, 10, 2, 4, 5, 6, 7, 9, 10, 2, 4, 5, 10, 7, 1, 2, 3, 4, 5, 6, 7, 8, 9, 10, 7, 3, 3, 1, 2, 3, 4, 5, 6, 7, 8, 9, 10, 1, 2, 3, 4, 5, 6, 7, 8, 9, 10, 1, 5, 6, 7, 8, 10, 1, 2, 4, 5, 6, 7, 8, 9, 10, 1, 2, 3, 4, 5, 6, 7, 8, 9, 10, 2, 4, 6, 8, 9, 10, 1, 2, 3, 4, 5, 6, 7, 8, 9, 10, 2, 3, 4, 1, 2, 3, 4, 6, 8, 9, 10, 2, 4, 8, 10, 1, 2, 3, 4, 5, 6, 7, 8, 9, 10, 1, 2, 3, 4, 5, 6, 7, 8, 9, 10, 3, 6, 7, 8, 9, 5, 6, 7, 8, 9, 10, 7, 7, 1, 2, 3, 4, 5, 6, 8, 9, 10, 1, 2, 4, 6, 8, 2, 6, 5, 9, 10, 1, 2, 3, 4, 7, 8, 10, 1, 2, 3, 4, 5, 6, 8, 9, 10, 1, 2, 3, 4, 5, 6, 7, 8, 9, 10, 1, 3, 5, 6, 7, 8, 9, 10, 1, 5, 6, 7, 8, 9, 10, 1, 2, 6, 7, 8, 9, 1, 2, 3, 4, 5, 6, 7, 8, 9, 10, 1, 2, 3, 4, 5, 6, 7, 8, 9, 10, 2, 8, 9, 1, 2, 3, 4, 5, 7, 8, 9, 10, 1, 2, 3, 4, 5, 6, 7, 8, 9, 10, 1, 2, 4, 5, 6, 7, 8, 9, 10, 2, 3, 4, 5, 6, 7, 8, 9, 3, 4, 5, 7, 8, 9, 1, 2, 3, 4, 6, 8, 3, 5, 7, 1, 2, 3, 4, 5, 6, 7, 8, 9, 10, 1, 2, 3, 4, 5, 6, 7, 8, 9, 10, 3, 4, 5, 6, 7, 8, 1, 2, 5, 6, 8, 9, 1, 2, 3, 4, 8, 10, 5, 7, 8, 9, 1, 3, 4, 5, 6, 7, 8, 9, 10, 1, 3, 4, 5, 6, 7, 8, 9, 10, 1, 5, 6, 7, 8, 9, 10, 1, 4, 9, 10, 1, 3, 4, 9, 10, 2, 4, 10, 4, 10, 1, 2, 3, 4, 5, 6, 7, 8, 9, 10, 1, 2, 3, 4, 5, 6, 7, 8, 9, 10, 1, 2, 4, 5, 6, 7, 8, 9, 1, 2, 3, 4, 5, 6, 7, 8, 9, 10, 1, 4, 6, 7, 9, 6, 7, 9, 9, 1, 4, 5, 7, 8, 9, 10, 1, 4, 5, 7, 8, 9, 10, 1, 3, 5, 6, 8, 9, 1, 2, 3, 4, 5, 6, 7, 8, 9, 10, 4, 4, 6, 7, 8, 10, 1, 2, 3, 4, 5, 6, 7, 8, 9, 10, 2, 4, 6, 8, 1, 2, 3, 4, 5, 8, 4, 5, 8, 10, 1, 4, 5, 7, 10, 1, 2, 3, 4, 5, 6, 7, 8, 9, 10, 1, 2, 3, 4, 5, 6, 7, 8, 9, 10, 1, 2, 3, 5, 6, 7, 8, 9, 10, 5, 7, 8, 9, 1, 2, 4, 6, 8, 9, 1, 2, 3, 4, 5, 6, 7, 8, 9, 10, 4, 8, 1, 2, 3, 4, 5, 6, 7, 8, 9, 10, 2, 3, 6, 7, 10, 1, 2, 3, 4, 5, 6, 7, 8, 9, 10, 1, 2, 3, 4, 5, 6, 7, 8, 9, 10, 4, 1, 2, 3, 4, 5, 6, 7, 8, 9, 10, 1, 3, 5, 6, 7, 8, 3, 4, 8, 2, 3, 4, 5, 6, 7, 8, 9, 10, 6, 7, 9, 1, 2, 3, 4, 5, 6, 7, 8, 9, 10, 5, 6, 10, 1, 2, 3, 5, 6, 7, 8, 9, 10, 2, 3, 4, 5, 6, 8, 10, 2, 6, 2, 1, 2, 3, 4, 5, 6, 7, 10, 1, 2, 3, 4, 5, 6, 8, 9, 10, 1, 2, 3, 4, 6, 8, 10, 1, 3, 5, 6, 7, 8, 9, 10, 6, 7, 1, 2, 3, 4, 7, 10, 1, 3, 4, 10, 1, 2, 6, 9, 2, 6, 1, 2, 3, 4, 5, 7, 8, 9, 10, 1, 2, 3, 4, 5, 6, 7, 8, 9, 10, 1, 7, 8, 1, 4, 5, 6, 8, 10, 3, 5, 6, 9, 10, 1, 2, 5, 6, 7, 8, 9, 10, 1, 2, 3, 4, 5, 6, 7, 8, 9, 10, 1, 5, 7, 1, 3, 7, 1, 2, 3, 4, 5, 6, 8, 9, 10, 1, 2, 3, 4, 6, 7, 8, 10, 1, 2, 3, 4, 5, 6, 7, 8, 9, 10, 1, 2, 3, 4, 5, 6, 7, 8, 9, 10, 4, 6, 1, 2, 3, 4, 5, 6, 7, 8, 9, 10, 3, 4, 5, 7, 8, 9, 4, 10, 1, 2, 3, 4, 5, 6, 7, 8, 9, 10, 1, 2, 3, 4, 5, 6, 7, 8, 9, 10, 1, 3, 7, 8, 1, 3, 7, 8, 1, 3, 4, 5, 6, 7, 8, 9, 10, 7, 1, 2, 3, 4, 5, 6, 7, 8, 9, 10, 1, 2, 3, 4, 5, 6, 7, 8, 9, 10, 1, 2, 3, 4, 5, 6, 7, 8, 9, 10, 2, 6, 8, 1, 3, 4, 5, 6, 7, 8, 9, 10, 1, 2, 3, 4, 5, 7, 8, 10, 2, 3, 5, 6, 7, 8, 9, 3, 6, 7, 8, 1, 2, 3, 4, 5, 6, 7, 8, 9, 10, 1, 4, 5, 9, 10, 5, 6, 7, 9, 10, 1, 2, 3, 4, 5, 7, 8, 9, 10, 1, 4, 1, 2, 3, 4, 5, 6, 7, 8, 9, 10, 2, 6, 1, 2, 3, 4, 5, 7, 8, 9, 1, 3, 5, 6, 8, 9, 10, 3, 4, 9, 1, 2, 3, 4, 5, 6, 7, 8, 9, 10, 1, 2, 3, 4, 5, 6, 7, 8, 9, 10, 1, 2, 3, 4, 5, 6, 7, 8, 9, 10, 3, 1, 2, 3, 4, 5, 6, 7, 8, 9, 10, 2, 3, 1, 2, 3, 4, 5, 6, 7, 8, 9, 10, 1, 2, 3, 4, 5, 6, 7, 8, 9, 10, 4, 5, 9, 10, 4, 8, 4, 1, 2, 3, 4, 5, 6, 7, 8, 9, 10, 1, 3, 4, 5, 6, 7, 8, 10, 2, 6, 4, 6, 4, 1, 2, 3, 4, 5, 6, 7, 8, 9, 10, 2, 4, 5, 6, 10, 1, 2, 3, 4, 5, 7, 8, 9, 4, 8, 1, 2, 3, 4, 5, 6, 8, 10, 1, 3, 5, 6, 7, 8, 9, 10, 5, 6, 8, 9, 10, 1, 2, 3, 4, 5, 6, 7, 8, 9, 10, 1, 2, 3, 4, 5, 6, 7, 8, 9, 10, 1, 2, 3, 5, 6, 7, 8, 9, 10, 7, 9, 2, 1, 2, 3, 5, 6, 7, 8, 9, 1, 2, 4, 6, 3, 6, 7, 8, 7, 2, 3, 5, 6, 8, 9, 10, 2, 6, 8, 8, 9, 10, 4, 2, 6, 2, 3, 4, 8, 2, 3, 4, 6, 7, 8, 9, 10, 4, 5, 6, 9, 10, 1, 2, 5, 6, 8, 9, 1, 3, 7, 10, 1, 2, 3, 4, 5, 6, 7, 8, 9, 10, 2, 6, 5, 7, 9, 10, 1, 2, 3, 4, 5, 6, 7, 8, 9, 10, 1, 4, 9, 10, 4, 5, 1, 4, 5, 6, 7, 9, 10, 1, 2, 3, 4, 5, 7, 8, 9, 10, 2, 4, 6, 8, 9, 4, 6], \"Freq\": [0.06514801611658942, 0.05990119602666276, 0.08001400637138163, 0.10624810682101496, 0.014865990254792216, 0.11062045689595384, 0.16440036281770215, 0.3213677305080082, 0.012242580209828885, 0.06471078110909553, 0.10246700719423645, 0.057260974608543895, 0.08180139229791986, 0.0835235268726129, 0.055538840033850845, 0.03272055691916794, 0.16963025560726538, 0.3250529009733131, 0.07017698391874176, 0.021957215827336382, 0.06874605790836741, 0.11977405965478445, 0.03153813996827164, 0.09000772530270784, 0.06555680779921634, 0.04677566826754896, 0.1325310600913887, 0.29660026015104907, 0.11374992055972133, 0.03472739007742271, 0.8879809317602031, 0.05822825782034118, 0.02911412891017059, 0.014557064455085296, 0.9461337924415594, 0.9276796794123923, 0.0412302079738841, 0.04528875925344434, 0.8151976665619981, 0.04528875925344434, 0.02272492993507734, 0.02272492993507734, 0.9317221273381708, 0.04474553194891416, 0.020881248242826608, 0.01491517731630472, 0.032813390095870386, 0.020881248242826608, 0.01491517731630472, 0.8143686814702378, 0.03579642555913133, 0.07082869733575636, 0.8499443680290762, 0.03541434866787818, 0.0788048617265731, 0.6304388938125848, 0.03940243086328655, 0.2364145851797193, 0.8534331058673269, 0.11012040075707444, 0.952655686299029, 0.03810622745196116, 0.029754001962758306, 0.9521280628082658, 0.8578606576464601, 0.10294327891757522, 0.7312086517991307, 0.007211130688354346, 0.24517844340404776, 0.005768904550683477, 0.0014422261376708693, 0.004326678413012608, 0.004326678413012608, 0.0003728466657235764, 0.0037284666572357642, 0.6726153849653318, 0.11781954636865015, 0.0011185399971707292, 0.030573426589333267, 0.09283881976517053, 0.05704553985570719, 0.02386218660630889, 0.007123232861247025, 0.007123232861247025, 0.9830061348520894, 0.27696064218720595, 0.06954164165223023, 0.026128362470491127, 0.06712979280880028, 0.016480967096771326, 0.018088866325724626, 0.14832870387094194, 0.3014811054287438, 0.06311004473641703, 0.012863193831626402, 0.0793766262470392, 0.0003335152363320975, 0.011339518035291315, 0.0003335152363320975, 0.04802619403182204, 0.029015825560892484, 0.649687680374926, 0.04735916355915785, 0.11372869558924524, 0.02034442941625795, 0.8739342909292849, 0.09710381010325386, 0.9945644271847283, 0.027543245733345063, 0.0041574710540898206, 0.8917775411022666, 0.0010393677635224551, 0.003637787172328593, 0.020267671388687878, 0.020787355270449104, 0.009354309871702098, 0.02182672303397156, 0.013465844587503802, 0.9830066548877775, 0.0024228796715592585, 0.9764205076383812, 0.012114398357796293, 0.0024228796715592585, 0.0024228796715592585, 0.004845759343118517, 0.02269616032086307, 0.9532387334762489, 0.010113104645214472, 0.0028894584700612774, 0.018781480055398304, 0.015892021585337025, 0.11702306803748173, 0.1415834650330026, 0.09101794180693024, 0.05778916940122555, 0.5099894199658155, 0.03467350164073533, 0.05347193803544216, 0.00852926618970243, 0.0173865810790088, 0.4989620720975922, 0.039037795252868816, 0.005576827893266974, 0.0190268245770285, 0.04559876924494761, 0.020667068075048197, 0.2919633426475063, 0.05974301069367987, 0.1234688887669384, 0.10497700450460892, 0.046940936973605615, 0.038121730633110015, 0.06116546332924368, 0.03470784430775688, 0.38776058845469363, 0.11208926768242795, 0.03100946745529098, 0.04455621326253796, 0.015364211469840678, 0.004609263440952203, 0.004609263440952203, 0.009218526881904407, 0.8772964749279026, 0.043019792115553894, 0.03703032818464491, 0.9442733687084451, 0.530055436582775, 0.0010729867137303137, 0.08154699024350384, 0.0010729867137303137, 0.032189601411909415, 0.012875840564763765, 0.2027944888950293, 0.055795309113976316, 0.08261997695723416, 0.0010729867137303137, 0.7522094475134661, 0.07683859947718202, 0.03235309451670822, 0.012132410443765583, 0.09099307832824187, 0.0060662052218827915, 0.02830895770211969, 0.07616594714346793, 0.020107810045875533, 0.04082494766889881, 0.46735425167231925, 0.059714102560478856, 0.02071713762302328, 0.09627375718934346, 0.03534099947456912, 0.03412234432027363, 0.1498945839783449, 0.03732997161614266, 0.0027651830826772345, 0.022121464661417876, 0.0953988163523646, 0.027651830826772344, 0.05392107011220607, 0.04700811240551298, 0.04562552086417437, 0.6636439398425362, 0.005530366165354469, 0.011625777377060489, 0.05812888688530244, 0.017438666065590733, 0.0058128886885302445, 0.9009977467221879, 0.8844667499775154, 0.005264683035580448, 0.015794049106741346, 0.015794049106741346, 0.005264683035580448, 0.015794049106741346, 0.010529366071160897, 0.021058732142321793, 0.005264683035580448, 0.021058732142321793, 0.8067589434216735, 0.0011283341866037393, 0.007898339306226175, 0.0011283341866037393, 0.01692501279905609, 0.010155007679433654, 0.1466834442584861, 0.009026673492829915, 0.07304680506928798, 0.8126457063958289, 0.10957020760393199, 0.013753477101933698, 0.012503161001757907, 0.0012503161001757906, 0.5751454060808637, 0.33758534704746346, 0.0012503161001757906, 0.05876485670826216, 0.0012503161001757906, 0.9834104474044199, 0.07293494666961874, 0.9246269045535538, 0.9919446400175025, 0.08011889641009015, 0.08420138794691003, 0.04286616113660874, 0.03521148950507147, 0.012757786052562125, 0.04490740690501868, 0.0408249153681988, 0.5991056330283174, 0.04694865267342862, 0.013268097494664611, 0.04844947446665468, 0.07267421169998202, 0.8720905403997842, 0.06014202315181114, 0.08313750259220952, 0.0035377660677535965, 0.01945771337264478, 0.0035377660677535965, 0.015919947304891185, 0.0026533245508151976, 0.7827307424904832, 0.02211103792345998, 0.007075532135507193, 0.08085420542002227, 0.9096098109752504, 0.005139120357841196, 0.010278240715682393, 0.11306064787250633, 0.020556481431364786, 0.010278240715682393, 0.8171201368967502, 0.020556481431364786, 0.031582302319777794, 0.022107611623844458, 0.014738407749229639, 0.13475115656438527, 0.054742657354281514, 0.020002124802525938, 0.0031582302319777796, 0.692705164213793, 0.01684389457054816, 0.00842194728527408, 0.9697754443272294, 0.025520406429663932, 0.00850680214322131, 0.8448844550544911, 0.03481666710389386, 0.004642222280519181, 0.009284444561038363, 0.041780000524672636, 0.06499111192726854, 0.9557396439687885, 0.013653423485268408, 0.013653423485268408, 0.9410368077554261, 0.019303319133444637, 0.009651659566722318, 0.009651659566722318, 0.009651659566722318, 0.004825829783361159, 0.03307931200293151, 0.053127379883496056, 0.027566093335776254, 0.12530042425352844, 0.036086522185016186, 0.05613459006558074, 0.04410574933724201, 0.05663579176259485, 0.09272231394761105, 0.4751392087693798, 0.00180486612168676, 0.0270729918253014, 0.01624379509518084, 0.10648710117951884, 0.00360973224337352, 0.00180486612168676, 0.00180486612168676, 0.01263406285180732, 0.11009683342289237, 0.7183367164313306, 0.983111362864674, 0.011566016033702048, 0.002587076966633993, 0.023283692699705937, 0.0006467692416584983, 0.2658221583216428, 0.017462769524779452, 0.018109538766437953, 0.002587076966633993, 0.0006467692416584983, 0.6694061651165457, 0.007202571970418615, 0.6122186174855823, 0.23048230305339568, 0.1368488674379537, 0.007202571970418615, 0.033193353897671245, 0.08379961475805527, 0.028295973814408272, 0.22473533048751188, 0.02666351378665395, 0.08706453481356392, 0.020133673675636655, 0.3683918129298923, 0.015236293592373686, 0.11209558857246354, 0.9793625801919088, 0.7696562723668217, 0.006634967865231222, 0.006634967865231222, 0.17582664842862739, 0.026539871460924888, 0.016587419663078053, 0.26655024833373486, 0.01524757776485348, 0.320763858164325, 0.03105988063210894, 0.005082525921617826, 0.058166685547404014, 0.03444823124652082, 0.24226706893044972, 0.0016941753072059421, 0.02541262960808913, 0.002521010487827357, 0.005042020975654714, 0.04537818878089242, 0.04033616780523771, 0.010084041951309427, 0.017647073414791496, 0.8773116497639201, 0.014128341257096484, 0.014128341257096484, 0.9748555467396574, 0.006497642732920517, 0.006497642732920517, 0.012995285465841035, 0.006497642732920517, 0.9681487672051571, 0.051403742090190684, 0.93811829314598, 0.9652388573390241, 0.6812669442185837, 0.04554430824859613, 0.05503270580038699, 0.007590718041432688, 0.017079115593223546, 0.19166563054617536, 0.6949980129270604, 0.03474990064635302, 0.018954491261647104, 0.003159081876941184, 0.012636327507764736, 0.2306129770167064, 0.05908775402632234, 0.9380180951678672, 0.07162206560193965, 0.008402588701903534, 0.012003698145576478, 0.8390585003757959, 0.00880271197342275, 0.004801479258230591, 0.020406286847480012, 0.007602342158865103, 0.0024007396291152957, 0.025207766105710603, 0.04442853499256864, 0.293228330950953, 0.09083167154036255, 0.12834910108964273, 0.30507594028230467, 0.04245393343734336, 0.03949203110450546, 0.026657120995541184, 0.010860308553739, 0.017771413997027453, 0.1148882982606356, 0.008090725229622226, 0.024272175688866676, 0.7670007517681869, 0.037217336056262235, 0.001618145045924445, 0.01618145045924445, 0.02265403064294223, 0.00323629009184889, 0.008090725229622226, 0.8880483709016307, 0.04933602060564615, 0.028192011774654944, 0.03524001471831868, 0.08259389850514617, 0.011161337635830564, 0.002232267527166113, 0.05803895570631893, 0.002232267527166113, 0.002232267527166113, 0.8326357876329601, 0.004464535054332226, 0.002232267527166113, 0.08527276581840268, 0.0016089201097811826, 0.012871360878249461, 0.02976502203095188, 0.027351641866280103, 0.040223002744529564, 0.5574908180391798, 0.07803262532438736, 0.13193144900205697, 0.03539624241518602, 0.9904828897016118, 0.011818583730171856, 0.05909291865085928, 0.6382035214292802, 0.17727875595257783, 0.011818583730171856, 0.1063672535715467, 0.9337247014902558, 0.03923213031471663, 0.02353927818882998, 0.04006338259738409, 0.921457799739834, 0.0047426559093208245, 0.9675018055014482, 0.018970623637283298, 0.755247879433597, 0.005394627710239978, 0.015284778512346605, 0.08271762489034633, 0.008091941565359967, 0.018881196985839923, 0.06113911404938642, 0.04945075401053313, 0.004495523091866648, 0.033518714410003723, 0.955283360685106, 0.9754633938277855, 0.9749706583929943, 0.9729938966560242, 0.016487389111996407, 0.008243694555998203, 0.07419325100398383, 0.004121847277999102, 0.012365541833997304, 0.02473108366799461, 0.012365541833997304, 0.7625417464298339, 0.057705861891987426, 0.02473108366799461, 0.03621767509616839, 0.009054418774042098, 0.9416595525003781, 0.004451341703746859, 0.004451341703746859, 0.0666052610486567, 0.0009891870452770797, 0.016321586247071817, 0.010056734960316978, 0.8825197088947013, 0.006594580301847198, 0.004781070718839219, 0.0031324256433774194, 0.03586731590899096, 0.09936215893706955, 0.01793365795449548, 0.035382622450761354, 0.19436207675007264, 0.11438765614218739, 0.26512732165159536, 0.09742338510415113, 0.06979585798506349, 0.06979585798506349, 0.9724360855379639, 0.04034589948173093, 0.004344943021109485, 0.26690364272529693, 0.0006207061458727835, 0.005586355312855052, 0.3060081299152823, 0.3506989724181227, 0.003103530729363918, 0.009931298333964536, 0.012414122917455672, 0.9699067189609023, 0.016439096931540716, 0.01160799785143656, 0.03405012703088058, 0.004643199140574625, 0.010060264804578353, 0.0023215995702873123, 0.8272633135457123, 0.0038693326171455205, 0.09828104847549622, 0.0015477330468582082, 0.0069647987108619365, 0.0247881813571, 0.8923745288555999, 0.06610181695226666, 0.016525454238066666, 0.014712002599197341, 0.9158221618000344, 0.058848010396789364, 0.0073560012995986706, 0.9900081830353291, 0.9849575464302733, 0.009354345413024942, 0.0038517892877161525, 0.0005502556125308789, 0.019115240570807834, 0.9748772691111994, 0.0018649074333298736, 0.002237888919995848, 0.8656900305517273, 0.004102796353325722, 0.0018649074333298736, 0.002237888919995848, 0.11487829789312021, 0.002237888919995848, 0.0033568333799937726, 0.001118944459997924, 0.038339582177735775, 0.16865337479248663, 0.007545556066894807, 0.4046049523437648, 0.01651864976806701, 0.15111505528565006, 0.01101243317871134, 0.10686138862305078, 0.0038747450073243605, 0.09115847464599942, 0.007808191276208079, 0.18544454280994185, 0.010410921701610771, 0.22611220570685894, 0.010736263004786108, 0.296711268495907, 0.001626706515876683, 0.19032466235757192, 0.004554778244454712, 0.06636962584776866, 0.0011384381581177787, 0.377202509723024, 0.018594489915923718, 0.31762424611486023, 0.002656355702274817, 0.12446923862087714, 0.00037947938603925954, 0.1407868522205653, 0.01669709298572742, 0.012271238821103573, 0.012271238821103573, 0.012271238821103573, 0.8221730010139394, 0.04908495528441429, 0.04908495528441429, 0.024542477642207145, 0.01168390950410127, 0.04742292681076398, 0.0391754612784572, 0.5615149449912199, 0.04673563801640508, 0.06323056908101865, 0.09278398723845127, 0.005498310354871186, 0.13127215972254958, 0.011416815280009969, 0.8220107001607178, 0.011416815280009969, 0.12558496808010966, 0.022833630560019937, 0.0020102153766573686, 0.09146479963791027, 0.05930135361139237, 0.5899982130489376, 0.06734221511802184, 0.01407150763660158, 0.057291138234735, 0.005025538441643421, 0.11357716878114131, 0.006301285754711223, 0.9861512206123064, 0.0031506428773556117, 0.9699900497847803, 0.9722652183842827, 0.02015057447428565, 0.4730382507740373, 0.007498624847144581, 0.016871905906075308, 0.006248854039287151, 0.03061938479250704, 0.10123143543645184, 0.10997983109145386, 0.14747295532717675, 0.013747478886431732, 0.09310792518537855, 0.8994066627587682, 0.07195253302070145, 0.006716018247324187, 0.006716018247324187, 0.5439974780332592, 0.23506063865634655, 0.03805743673483706, 0.07835354621878218, 0.08730823721521443, 0.006211996813634976, 0.0020706656045449924, 0.006211996813634976, 0.0020706656045449924, 0.0020706656045449924, 0.010353328022724961, 0.08489728978634468, 0.8862448787452567, 0.989404473616678, 0.986946210491333, 0.09849866807724948, 0.06623186301746085, 0.03226680505978862, 0.4007876839005324, 0.022077287672486953, 0.061137104323810025, 0.12227420864762005, 0.030568552161905013, 0.16473053109471034, 0.07865247417245388, 0.030751343285470693, 0.051449362804537505, 0.4742803329797595, 0.028977227326693538, 0.02247213547784397, 0.018332531574030607, 0.20638882320440907, 0.01951527554654871, 0.06859915040605001, 0.11982754946811162, 0.02035779872684047, 0.03942712917983028, 0.04999256902540571, 0.04690024516816412, 0.09096586013385678, 0.07498885353810857, 0.06107339618052141, 0.05128103729925638, 0.445294635442789, 0.1718761248115045, 0.02494976005328291, 0.05504788329216388, 0.2891003942681988, 0.0669287214127748, 0.07603736397190983, 0.1196004370808165, 0.07960161540809309, 0.07643339190926352, 0.04039484961007709, 0.021146336110781, 0.04934145092515567, 0.0020139367724553332, 0.17924037274852467, 0.009062715476049, 0.021146336110781, 0.024167241269464002, 0.029202083200602334, 0.0010069683862276666, 0.66459913491026, 0.2261639483529666, 0.027645528147176673, 0.07793686126597679, 0.014999169526659684, 0.054114650841281996, 0.007940736808231597, 0.3655679945419213, 0.18587206158527295, 0.02999833905331937, 0.009411243624570782, 0.9540419155335451, 0.011357641851589823, 0.028394104628974556, 0.0056788209257949114, 0.030883553582885657, 0.7875306163635842, 0.12353421433154263, 0.030883553582885657, 0.23989116197155852, 0.044117914845344094, 0.09007407614257752, 0.1098352255003879, 0.1939350006743251, 0.06066213291234813, 0.035845805811842074, 0.09053363775554986, 0.06755555710693315, 0.06709599549396081, 0.9081564634869778, 0.08255967849881615, 0.03907231221378493, 0.5834798623925217, 0.004688677465654192, 0.06824630533341101, 0.03334170642242981, 0.04324002551658866, 0.023443387328270962, 0.10315090424439223, 0.07189305447336428, 0.029173993119626086, 0.9408027955613981, 0.02542710258274049, 0.02542710258274049, 0.030905332859811792, 0.9580653186541656, 0.17397416113291309, 0.2200261449622136, 0.1110364498995357, 0.2282131643096448, 0.018932482240934658, 0.018932482240934658, 0.034283143517368164, 0.08801045798488544, 0.036841587063440415, 0.06958966445316524, 0.9927784604230152, 0.01049055691520411, 0.01049055691520411, 0.002997301975772603, 0.008991905927317807, 0.7583173998704685, 0.029973019757726028, 0.037466274697157534, 0.004495952963658904, 0.09741231421260958, 0.03896492568504383, 0.007909777687729384, 0.019414908869881217, 0.39237291135796976, 0.05345092195041372, 0.01989428933580421, 0.010786060483267343, 0.06927047732587248, 0.08988383736056119, 0.3278962386913272, 0.00886853861957537, 0.0017367096556006073, 0.5158027677133804, 0.004341774139001518, 0.04515445104561579, 0.0017367096556006073, 0.11635954692524068, 0.311739383180309, 0.0026050644834009107, 0.16114912681440227, 0.010951882404862289, 0.0365062746828743, 0.5689763668430837, 0.007822773146330207, 0.0031291092585320826, 0.010430364195106942, 0.11369096972666567, 0.009908845985351595, 0.07666317683403602, 0.11375735660349227, 0.8531801745261921, 0.01895955943391538, 0.00947977971695769, 0.07050345611905422, 0.0147829827346404, 0.0011371525180492615, 0.08187498129954683, 0.10575518417858133, 0.07960067626344831, 0.02842881295123154, 0.017057287770738925, 0.4935241928333795, 0.10689233669663059, 0.03626073747430342, 0.007252147494860684, 0.9500313218267495, 0.9259709501327029, 0.018156293139856918, 0.036312586279713836, 0.018156293139856918, 0.13578458568731097, 0.014172801873086331, 0.013715614715889998, 0.04526152856243699, 0.03977528267608099, 0.1568151949183423, 0.36117785418510323, 0.1348702113729183, 0.012344053244300997, 0.08595118555291065, 0.0025327675833210993, 0.013930221708266044, 0.006331918958302748, 0.8978661082873296, 0.0006331918958302748, 0.07534983560380269, 0.003165959479151374, 0.0016533237171171059, 0.007439956727026976, 0.0016533237171171059, 0.9705010219477411, 0.0008266618585585529, 0.015706575312612506, 0.0024799855756756587, 0.9886781302019846, 0.009886781302019846, 0.007686728397083304, 0.023060185191249912, 0.10569251545989543, 0.014412615744531196, 0.003843364198541652, 0.03170775463796863, 0.008647569446718717, 0.8042239585448407, 0.023024062447942414, 0.039140906161502106, 0.09900346852615238, 0.025326468692736654, 0.011512031223971207, 0.004604812489588483, 0.009209624979176967, 0.7874229357196306, 0.08283338203756155, 0.062125036528171154, 0.020708345509390387, 0.8283338203756154, 0.9729568087965932, 0.015443758869787192, 0.007721879434893596, 0.060534632365864934, 0.04035642157724329, 0.020178210788621646, 0.030267316182932467, 0.8373957477277982, 0.9626758503249728, 0.022387810472673787, 0.08660106598535049, 0.028073971940305927, 0.046631343222881025, 0.23696335637749746, 0.13608738940555076, 0.057099603946384934, 0.20984104450296462, 0.11182005772833715, 0.039969722762469455, 0.046631343222881025, 0.0010998722196459338, 0.2441716327613973, 0.1396837718950336, 0.0010998722196459338, 0.4575468433727085, 0.0010998722196459338, 0.13418441079680393, 0.0010998722196459338, 0.019797699953626808, 0.01413409484171577, 0.14913906970913882, 0.12135826260645609, 0.43523264460869593, 0.04094013678290085, 0.034116780652417376, 0.005361208388237016, 0.18471799810380263, 0.010722416776474031, 0.004873825807488196, 0.6961175608318332, 0.1769298800447576, 0.0058009796735986096, 0.0029004898367993048, 0.014502449183996523, 0.06671126624638402, 0.03480587804159166, 0.0029004898367993048, 0.03292294604939064, 0.010974315349796879, 0.010974315349796879, 0.010974315349796879, 0.010974315349796879, 0.9218424893829378, 0.6581258160803883, 0.020250025110165795, 0.07087508788558028, 0.010125012555082897, 0.23287528876690664, 0.11157064109333112, 0.03347119232799933, 0.02789266027333278, 0.5331482777959894, 0.06853625095733197, 0.02789266027333278, 0.03586199177999929, 0.04622212273866575, 0.016735596163999666, 0.09961664383333135, 0.025267256426760705, 0.025267256426760705, 0.008422418808920236, 0.9348884877901461, 0.027190087757010428, 0.9244629837383546, 0.01319398561548131, 0.01319398561548131, 0.9499669643146543, 0.9965602067609961, 0.017501269192045393, 0.980071074754542, 0.9886657334881706, 0.03461337413886108, 0.021214648665753563, 0.02903057185839961, 0.6308566576921454, 0.07034330873381445, 0.008932483648738342, 0.02903057185839961, 0.01228216501701522, 0.03796305550713795, 0.12617133153842908, 0.015758043052412497, 0.023222379235134205, 0.009952448243628944, 0.1339433659455062, 0.029442659387402297, 0.017416784426350654, 0.056811892057381894, 0.003317482747876315, 0.0004146853434845394, 0.7091119373585624, 0.0512239897380058, 0.07099465244390278, 0.4987599000805828, 0.12850930758833035, 0.03864265892516227, 0.04583199081821572, 0.018871996219265295, 0.10873864488243337, 0.02695999459895042, 0.009885331352948489, 0.9918509209346941, 0.0018746168890571115, 0.06373697422794179, 0.03936695467019934, 0.007498467556228446, 0.02905656178038523, 0.5980027876092185, 0.11247701334342669, 0.07873390934039869, 0.05342658133812768, 0.015934243556985448, 0.03290039136792067, 0.008657997728400176, 0.8017305896498563, 0.005194798637040105, 0.0034631990913600703, 0.06233758364448127, 0.019047595002480388, 0.04328998864200088, 0.02597399318520053, 0.07948477651598389, 0.05828883611172152, 0.7948477651598389, 0.05828883611172152, 0.003169233876953317, 0.08451290338542178, 0.0010564112923177724, 0.02957951618489762, 0.6877237512988698, 0.006338467753906634, 0.09930266147787059, 0.0021128225846355447, 0.08662572597005733, 0.009820750742030697, 0.0016367917903384493, 0.838037396653286, 0.0032735835806768985, 0.0049103753710153485, 0.07692921414590712, 0.0016367917903384493, 0.05237733729083038, 0.0049103753710153485, 0.0032735835806768985, 0.08641737025562908, 0.8296067544540392, 0.017283474051125815, 0.03456694810225163, 0.017283474051125815, 0.23759495827205251, 0.09899789928002188, 0.6533861352481444, 0.08271675905968448, 0.01969446644278202, 0.011324318204599662, 0.4702053863214207, 0.10733484211316201, 0.06646882424438932, 0.04726671946267685, 0.051697974412302804, 0.03594240125807719, 0.10733484211316201, 0.13916035106508262, 0.02021988006928551, 0.016651665939411597, 0.14907205698139905, 0.18951181711997006, 0.10070293210977489, 0.0507479342915401, 0.06264198139111982, 0.05550555313137198, 0.21528225250239277, 0.04694693336328697, 0.008535806066052176, 0.033076248505952185, 0.0725543515614435, 0.10136269703436959, 0.03947810305549131, 0.2375799355051189, 0.054415763671082626, 0.3293398507151798, 0.07682225459446959, 0.02677598999874845, 0.0038251414283926354, 0.007650282856785271, 0.0535519799974969, 0.7956294171056681, 0.007650282856785271, 0.030601131427141083, 0.015300565713570542, 0.0535519799974969, 0.0038251414283926354, 0.8983086242284208, 0.00573999120912729, 0.04878992527758196, 0.002869995604563645, 0.017219973627381868, 0.028699956045636448, 0.06666248287723235, 0.02697325896766627, 0.040074556180532746, 0.12022366854159823, 0.15760089882536435, 0.409222871766594, 0.052405188851465896, 0.051634524309532574, 0.03814789482569944, 0.03737723028376612, 0.0030756330719387396, 0.024605064575509917, 0.9534462523010093, 0.012302532287754958, 0.023014241857552867, 0.007671413952517623, 0.012785689920862705, 0.9538124680963578, 0.9954931370443137, 0.30060296465218744, 0.04993487264056998, 0.17290881272555575, 0.06335021155893206, 0.01863241516439178, 0.010434152492059397, 0.11750843163676417, 0.05887843191947803, 0.16669800767075849, 0.04074288115947003, 0.4990830063910139, 0.032521699664577346, 0.06629423393163844, 0.030020030459609857, 0.003752503807451232, 0.001250834602483744, 0.06629423393163844, 0.05378588790680099, 0.1413443100806631, 0.1050701066086345, 0.0780006641557456, 0.7540064201722073, 0.026000221385248528, 0.14300121761886692, 0.014942424467749911, 0.12701060797587424, 0.029884848935499822, 0.8293045579601201, 0.09195032395898967, 0.014268153717774259, 0.10384045205713488, 0.08006019586084445, 0.42249588508742664, 0.13634013552539848, 0.06817006776269924, 0.017438854543946315, 0.05786529007764005, 0.007926752065430144, 0.7531351107580585, 0.20742081738910464, 0.012346477225541943, 0.014815772670650332, 0.009877181780433555, 0.5667468484829938, 0.0014098180310522235, 0.0014098180310522235, 0.19314507025415462, 0.0719007195836634, 0.0014098180310522235, 0.021147270465783352, 0.007049090155261118, 0.0014098180310522235, 0.13675234901206568, 0.14656648588951926, 0.02134463386740572, 0.21297201347700373, 0.11620967327809781, 0.08964746224310402, 0.04600954411418566, 0.10197991736649399, 0.12000427485452549, 0.07731500711971405, 0.0683028283756983, 0.0014781868044478352, 0.022911895468941446, 0.002217280206671753, 0.05099744475345032, 0.002217280206671753, 0.008869120826687012, 0.002217280206671753, 0.01552096144670227, 0.0014781868044478352, 0.8920857364842686, 0.02426337160575591, 0.012131685802877955, 0.008665489859198539, 0.001733097971839708, 0.001733097971839708, 0.9514707865399996, 0.013432195540375351, 0.00805931732422521, 0.004029658662112605, 0.6742962161268427, 0.006716097770187676, 0.013432195540375351, 0.030894049742863305, 0.1450677118360538, 0.010745756432300281, 0.09268214922858992, 0.4991324092592724, 0.03856932253367105, 0.03686773477483262, 0.005671959196128095, 0.13896300030513833, 0.0890497593792111, 0.03233016741793014, 0.014747093909933048, 0.053316416443604096, 0.09188573897727514, 0.7628703806305267, 0.003499405415736361, 0.010498216247209083, 0.003499405415736361, 0.13647681121371807, 0.003499405415736361, 0.006998810831472722, 0.020996432494418165, 0.052491081236045414, 0.08592232997686737, 0.06024439228263115, 0.21826247040100794, 0.07407097411798912, 0.00592567792943913, 0.022715098729516662, 0.03259122861191521, 0.0019752259764797097, 0.496769333084647, 0.007313468287521812, 0.046806197040139594, 0.007313468287521812, 0.05411966532766141, 0.023403098520069797, 0.046806197040139594, 0.027791179492582883, 0.7693768638472945, 0.013164242917539261, 0.004388080972513087, 0.9912567285188442, 0.33777361349604207, 0.04434093767901711, 0.007172798742193944, 0.11932928816559016, 0.10759198113290916, 0.011085234419754278, 0.09520260148730143, 0.028691194968775775, 0.010433161806827554, 0.23931064894410703, 0.6771418826835173, 0.060190389571868196, 0.030095194785934098, 0.01692854706708793, 0.09592843338016493, 0.0075237986964835244, 0.07711893663895612, 0.03385709413417586, 0.00915967641224717, 0.058011283944232085, 0.014655482259595473, 0.37127221724308535, 0.05740063885008227, 0.07785724950410096, 0.013128869524220946, 0.049462252626134726, 0.03450144781946434, 0.31417690094007794, 0.001107708139853794, 0.10080144072669524, 0.00720010290904966, 0.2520036018167381, 0.05926238548217797, 0.05538540699268969, 0.004430832559415176, 0.024369579076783464, 0.03323124419561382, 0.46246814838895894, 0.9382399976438838, 0.026806857075539536, 0.010151662658650484, 0.006767775105766989, 0.010151662658650484, 0.0011279625176278316, 0.9689198026423074, 0.002255925035255663, 0.985195512954162, 0.045100979570896024, 0.01724449218887201, 0.08224296274692805, 0.4569790430051083, 0.029182986781168017, 0.03382573467817202, 0.06367197115891203, 0.1552004296998481, 0.04443772987132403, 0.07163096755377604, 0.08368926004240457, 0.07297703475697678, 0.03883181665967572, 0.010042711205088548, 0.3173496740807981, 0.06561237987324518, 0.4117511594086305, 0.0020178587459971056, 0.0013452391639980704, 0.0006726195819990352, 0.0053809566559922814, 0.0612083819619122, 0.33765503016351567, 0.003363097909995176, 0.5851790363391606, 0.004035717491994211, 0.07299926838884657, 0.013687362822908732, 0.9079284005862792, 0.020973467464152587, 0.9752662370830952, 0.9836290389985359, 0.00603453398158611, 0.0008062974537033955, 0.0008062974537033955, 0.02822041087961884, 0.004837784722220372, 0.8877334965274384, 0.005644082175923768, 0.015319651620364513, 0.021770031249991675, 0.0354770879629494, 0.9710637152817259, 0.022938512959410847, 0.9288054015889513, 0.003853964321945856, 0.061663429151133695, 0.003853964321945856, 0.04677014977721512, 0.04046406216680409, 0.07935160243100543, 0.18024900419758189, 0.02890290154771721, 0.054652759290228906, 0.08881073384662197, 0.16816233627762742, 0.012612175220822055, 0.3000646687953914, 0.006957498066470127, 0.987964725438758, 0.008723553971672788, 0.008723553971672788, 0.008723553971672788, 0.9683144908556794, 0.239504745666623, 0.015966983044441534, 0.010644655362961022, 0.026611638407402556, 0.6998860901146872, 0.005322327681480511, 0.012651189279470315, 0.03162797319867579, 0.5155359631384153, 0.240372596309936, 0.009488391959602736, 0.02846517587880821, 0.16130266331324652, 0.044496556587321996, 0.012400679704663508, 0.17944512984395428, 0.009482872715330918, 0.018236293683328686, 0.05179107406065347, 0.272085501755264, 0.08388695094331196, 0.31877041358458547, 0.008023969220664623, 0.014028717868652875, 0.014028717868652875, 0.009352478579101917, 0.9329097382654162, 0.02805743573730575, 0.14141696473264778, 0.005824421941212842, 0.022598757131905824, 0.007222283207103924, 0.13745635781262305, 0.09342372793705397, 0.22272589503197907, 0.01467754329185636, 0.2166684962131177, 0.1379223115679201, 0.1617257921638551, 0.022317547878944088, 0.10455618321368326, 0.03393490156935334, 0.13635104594532965, 0.07673567832349269, 0.28737664392064993, 0.049832332935176527, 0.09141023035348332, 0.03576922057310217, 0.7013069392425515, 0.15126228101309933, 0.12376004810162673, 0.07175710785427948, 0.7175710785427948, 0.08969638481784935, 0.01793927696356987, 0.01793927696356987, 0.07175710785427948, 0.005779054259490918, 0.022634629183006096, 0.032266386282157625, 0.0024079392747878826, 0.17385321563968512, 0.40597856172923696, 0.06934865111389102, 0.03852702839660612, 0.08331469890766073, 0.1656662221054063, 0.11327511831042016, 0.8778821669057563, 0.07212198922753642, 0.02704574596032616, 0.8925096166907632, 0.1613814012822596, 0.06916345769239697, 0.07475242397057047, 0.4736648920752035, 0.009780690986803613, 0.0034931039238584333, 0.030040693745182524, 0.12714898282844697, 0.00838344941726024, 0.04121862630152951, 0.013100191086408215, 0.0018714558694868878, 0.02620038217281643, 0.02432892630332954, 0.9151419201790881, 0.018714558694868877, 0.0018714558694868878, 0.0006125557669856923, 0.0006125557669856923, 0.009800892271771076, 0.0012251115339713846, 0.0012251115339713846, 0.9862147848469646, 0.0006125557669856923, 0.0018527398703656966, 0.003705479740731393, 0.003705479740731393, 0.9893630907752821, 0.9930405214862489, 0.7609499029039838, 0.03272902808189178, 0.03545644708871609, 0.04091128510236472, 0.01636451404094589, 0.0027274190068243146, 0.1118241792797969, 0.9954264131374014, 0.963468721230003, 0.09930738948455352, 0.011034154387172613, 0.8606640421994638, 0.011034154387172613, 0.08654572061916574, 0.027045537693489292, 0.04868196784828072, 0.08654572061916574, 0.07843205931111895, 0.016227322616093574, 0.04327286030958287, 0.09330710504253806, 0.5084561086375987, 0.010818215077395717, 0.9746415124852394, 0.008475143586828169, 0.008475143586828169, 0.002578127211442074, 0.4795316613282257, 0.002578127211442074, 0.0060156301600315055, 0.03867190817163111, 0.19078141364671347, 0.013750011794357727, 0.005156254422884148, 0.24664083656129174, 0.013750011794357727, 0.004379490381933056, 0.043396768330063916, 0.042998632840797274, 0.021499316420398637, 0.017517961527732225, 0.3065643267353139, 0.4725868257595034, 0.02468440033453177, 0.048970665179796896, 0.017119826038465583, 0.9484046880238725, 0.034487443200868086, 0.9348619212145496, 0.020774709360323326, 0.010387354680161663, 0.020774709360323326, 0.010387354680161663, 0.9503644385401148, 0.018634596834119898, 0.07317922369414664, 0.02273529279818148, 0.30692645277545, 0.0618115772950559, 0.03978676239681759, 0.02770863809778368, 0.26785016827857555, 0.05612775409551053, 0.12788602198977084, 0.014920035898806597, 0.011583702048884401, 0.0046334808195537605, 0.0046334808195537605, 0.12047050130839776, 0.8595106920272225, 0.8714854139712697, 0.10133551325247322, 0.0011002238139084719, 0.03080626678943721, 0.7998627127114589, 0.06931410027623372, 0.003300671441725415, 0.0055011190695423585, 0.007701566697359302, 0.03740760967288804, 0.04510917637024734, 0.9700037841020898, 0.02032484432375065, 0.0505217558904659, 0.003774613945839406, 0.07200801988985944, 0.06155524280907339, 0.030777621404536694, 0.040359333728590574, 0.019453779567018478, 0.021486263999393542, 0.6794305102510931, 0.0020529846419219283, 0.02258283106114121, 0.0020529846419219283, 0.04311267748036049, 0.036953723554594704, 0.04105969283843856, 0.02258283106114121, 0.0020529846419219283, 0.02258283106114121, 0.8047699796333958, 0.008206066770240595, 0.008206066770240595, 0.01641213354048119, 0.9601098121181496, 0.03492325121560138, 0.1746162560780069, 0.023282167477067586, 0.6519006893578925, 0.06984650243120276, 0.04656433495413517, 0.10606604948596539, 0.8485283958877231, 0.02357023321910342, 0.01178511660955171, 0.0599938593085687, 0.092717782567788, 0.5781226442462075, 0.04363189767895906, 0.04908588488882894, 0.16907360350596634, 0.21387402097409153, 0.03242723657017742, 0.0003643509726986227, 0.3964138582961015, 0.010566178208260057, 0.03789250116065676, 0.0003643509726986227, 0.2586891906160221, 0.02987677976128706, 0.019674952525725625, 0.013568114613498572, 0.013568114613498572, 0.9633361375583986, 0.02037483066860071, 0.9576170414242333, 0.011850972048986991, 0.008888229036740244, 0.0740685753061687, 0.011850972048986991, 0.008888229036740244, 0.035552916146960975, 0.014813715061233738, 0.8354935294535829, 0.008348695709531744, 0.0027828985698439145, 0.0027828985698439145, 0.9795802965850579, 0.9942662607240169, 0.9830004971973331, 0.005823640795332476, 0.011647281590664952, 0.07570733033932218, 0.8968406824812013, 0.007923320256772849, 0.007923320256772849, 0.9824917118398333, 0.08803454516531449, 0.03584015079852724, 0.021225720375826814, 0.2557525323972575, 0.09916934929689576, 0.00626332732401447, 0.029228860845400856, 0.3343920865765503, 0.00974295361513362, 0.12004710704361066, 0.001972057947292469, 0.8085437583899123, 0.02760881126209457, 0.001972057947292469, 0.13212788246859544, 0.02760881126209457, 0.03644510842403025, 0.05356326541107476, 0.024848937561838806, 0.13087107115901772, 0.021535745886926968, 0.20597008245701945, 0.03644510842403025, 0.14136284479623856, 0.2981872507420657, 0.05135447096113353, 0.9698187714005859, 0.011973071251859086, 0.030566948372147486, 0.04839766825590019, 0.7590792179083293, 0.07641737093036872, 0.025472456976789574, 0.05858665104661602, 0.030020142413454586, 0.006671142758545464, 0.7354934891296374, 0.006671142758545464, 0.11174164120563651, 0.001667785689636366, 0.08672485586109102, 0.020013428275636392, 0.0037844329659662977, 0.0012614776553220993, 0.0025229553106441986, 0.0012614776553220993, 0.06938127104271546, 0.2762636065155397, 0.04919762855756187, 0.5916330203460646, 0.005045910621288397, 0.9160406307418099, 0.0727016373604611, 0.18905941058878592, 0.1341877371719683, 0.0006837591703030231, 0.05111099798015098, 0.0027350366812120925, 0.022564052619999764, 0.0018803377183333138, 0.4813664558933283, 0.02119653427939372, 0.09487158487954446, 0.1650996829125743, 0.09409826487245167, 0.0025663163147032274, 0.07613405066952908, 0.005132632629406455, 0.03849474472054841, 0.0008554387715677423, 0.5962408237827165, 0.01796421420292259, 0.0034217550862709694, 0.8904904362357996, 0.004566617621722049, 0.022833088108610247, 0.0022833088108610245, 0.07763249956927484, 0.2515098192459446, 0.03309339726920324, 0.03824125906663485, 0.0025739308987158074, 0.011766541251272262, 0.0022062264846135493, 0.5978873773302719, 0.025371604573055814, 0.03677044141022582, 0.9853327252854813, 0.05276311639804832, 0.02638155819902416, 0.03957233729853624, 0.8705914205677974, 0.006266938799914818, 0.018800816399744454, 0.018800816399744454, 0.003133469399957409, 0.9463077587871375, 0.003133469399957409, 0.9848771074847404, 0.004667664016515358, 0.004667664016515358, 0.9923785266482582, 0.001116286306690954, 0.004465145226763816, 0.001116286306690954, 0.001116286306690954, 0.9947863699978473, 0.9203791945575778, 0.05209693554099497, 0.01736564518033166, 0.01736564518033166, 0.8627368577250231, 0.0012395644507543434, 0.05825952918545414, 0.0012395644507543434, 0.002479128901508687, 0.0074373867045260614, 0.0570199647346998, 0.0074373867045260614, 0.0012395644507543434, 0.9137348591233502, 0.01903614289840313, 0.03807228579680626, 0.11164588059233913, 0.03189882302638261, 0.015949411513191306, 0.8453188101991391, 0.008804686773989054, 0.11328696982532584, 0.0017609373547978109, 0.004108853827861559, 0.0381536426872859, 0.30581612061655317, 0.01760937354797811, 0.17668071459804702, 0.3298822644654566, 0.0035218747095956218, 0.013774050170278222, 0.15151455187306045, 0.8264430102166933, 0.8895494471430432, 0.02117974874150103, 0.06353924622450309, 0.5533322451921063, 0.17726512046573467, 0.06129728464702974, 0.0066267334753545674, 0.011596783581870492, 0.0016566833688386419, 0.08946090191728666, 0.0016566833688386419, 0.09940100213031851, 0.024931997836627407, 0.07568642200404749, 0.6028200905498841, 0.01780856988330529, 0.031164997295784258, 0.09794713435817909, 0.06322042308573378, 0.08102899296903907, 0.0044521424708263225, 0.0018407693719355988, 0.08467539110903755, 0.0018407693719355988, 0.0018407693719355988, 0.9074993003642502, 0.00469333640612173, 0.0007333338134565203, 0.0016133343896043448, 0.0014666676269130406, 0.15356010053779537, 0.6431337544013683, 0.0032266687792086896, 0.006160004033034771, 0.13728008987906062, 0.048106698162747735, 0.07005507861558945, 0.02688982815547878, 0.5024152102734193, 0.031135590495817534, 0.03396609872271004, 0.06439406216180445, 0.00849152468067751, 0.16629235832993455, 0.05661016453785006, 0.03891948811977192, 0.06941209490233795, 0.13078254466355138, 0.02073897957447902, 0.161679391784714, 0.027087646791156272, 0.07660725108123882, 0.08888134103348151, 0.05967747183676616, 0.03089684712116262, 0.3339398955972234, 0.03351891045817568, 0.003351891045817568, 0.003351891045817568, 0.9552889480580069, 0.10655614818716334, 0.0033298796308488545, 0.0033298796308488545, 0.8624388243898533, 0.0033298796308488545, 0.0033298796308488545, 0.016649398154244273, 0.01756136131791279, 0.7902612593060756, 0.13171020988434592, 0.06146476461269477, 0.008780680658956395, 0.04008936879894297, 0.04677093026543346, 0.009354186053086692, 0.0013363122932980988, 0.8980018610963224, 0.0013363122932980988, 0.0026726245865961976, 0.03541020718072991, 0.017168585299747834, 0.011803402393576636, 0.0010730365812342396, 0.9195923501177433, 0.008584292649873917, 0.006438219487405437, 0.0010730365812342396, 0.17152185610576415, 0.06097580050818725, 0.07106532145558514, 0.10177255912157872, 0.05571170262258835, 0.022811090837595232, 0.0688719473365856, 0.28820935923653973, 0.10133388429777881, 0.057466401917787985, 0.02303063156885209, 0.006580180448243454, 0.07896216537892145, 0.006580180448243454, 0.8620036387198925, 0.02303063156885209, 0.9764414617458427, 0.11303023151340016, 0.01474307367566089, 0.009828715783773928, 0.002457178945943482, 0.7199534311614402, 0.13023048413500454, 0.007371536837830445, 0.9906200116754885, 0.008727929618286242, 0.007047515079365371, 0.02584088862433969, 0.00939668677248716, 0.20202876560847396, 0.46748516693123626, 0.0939668677248716, 0.039935918783070436, 0.06107846402116655, 0.09161769603174982, 0.9826670374369264, 0.9836623392835966, 0.12639209624548967, 0.002142238919415079, 0.005355597298537698, 0.07819172055865038, 0.10068522921250872, 0.007497836217952777, 0.013924552976198015, 0.026777986492688487, 0.4391589784800912, 0.20137045842501744, 0.9736271106857236, 0.010939630457142961, 0.01843193447114563, 0.01843193447114563, 0.940028658028427, 0.009953210874616387, 0.009953210874616387, 0.006635473916410924, 0.019906421749232774, 0.08294342395513656, 0.8692470830498311, 0.9896956584980235, 0.020100429610206087, 0.009380200484762841, 0.002680057281360812, 0.5460616710772654, 0.006700143203402029, 0.12060257766123653, 0.0469010024238142, 0.012730272086463856, 0.000670014320340203, 0.23517502643941124, 0.015663636126437022, 0.9554818037126583, 0.03207451951894318, 0.08652661079528859, 0.017156138347341705, 0.15440524512607534, 0.043263305397644294, 0.09398580138108933, 0.010442866820121037, 0.44158408267940386, 0.05594392939350556, 0.06489495809646645, 0.05794631898001679, 0.009657719830002798, 0.021729869617506295, 0.004828859915001399, 0.8136628956777356, 0.021729869617506295, 0.021729869617506295, 0.03380201940500979, 0.007243289872502098, 0.012072149787503497, 0.09850928241310887, 0.09850928241310887, 0.7388196180983165, 0.03283642747103629, 0.03428937829980225, 0.809834434551212, 0.013110644644042038, 0.012102133517577265, 0.0020170222529295443, 0.018153200276365897, 0.10387664602587153, 0.005042555632323861, 0.0010085111264647722, 0.9857040453289365, 0.03253802870940384, 0.02169201913960256, 0.013557511962251599, 0.9300453206104596, 0.9935836696047793, 0.04846048833721855, 0.18814071942684846, 0.004275925441519284, 0.7368844844218232, 0.004275925441519284, 0.015678393285570705, 0.0014253084805064277, 0.09323806485421472, 0.0822779612041332, 0.022846413242423477, 0.0577335037342323, 0.0580422390483191, 0.04816270899754138, 0.1398570972813221, 0.40042970237058445, 0.07579451960831031, 0.021457104329032858, 0.0709484632216391, 0.03497459454587843, 0.05645898833834661, 0.15089039361221837, 0.0659520925722279, 0.030477860961408344, 0.01149165249364577, 0.4331853353039514, 0.10992015428704649, 0.03597386867576067, 0.003915455017004933, 0.9005546539111345, 0.02153500259352713, 0.07047819030608879, 0.00859624871902079, 0.010745310898775989, 0.004298124359510395, 0.9735251674291046, 0.9670130063764295, 0.09081120756481095, 0.01707561167885334, 0.022120678765787282, 0.7132948696757373, 0.03686779794297881, 0.011254380424698793, 0.020180268347735765, 0.03027040252160365, 0.022508760849397586, 0.035703551692147895, 0.8303626677075379, 0.008473088445995284, 0.01694617689199057, 0.01694617689199057, 0.042365442229976416, 0.01694617689199057, 0.06778470756796227, 0.07958195837152633, 0.5763663045695392, 0.018086808720801442, 0.02290995771301516, 0.024115744961068587, 0.15072340600667866, 0.009646297984427435, 0.09284561810011406, 0.013263659728587724, 0.012057872480534294, 0.021210037980697843, 0.9332416711507051, 0.021210037980697843, 0.9931039463613837, 0.003691836231826705, 0.05498366164926955, 0.013745915412317388, 0.8797385863883128, 0.027491830824634775, 0.0004896190877141374, 0.15618848898080984, 0.002448095438570687, 0.05875429052569649, 0.007344286315712061, 0.014688572631424122, 0.0019584763508565498, 0.011750858105139298, 0.0039169527017130995, 0.7427521560623465, 0.12276003326116028, 0.859320232828122, 0.36803391358734494, 0.013720562567949263, 0.042775871535371233, 0.20984389809804754, 0.04196877961960951, 0.014527654483710984, 0.15819001548929737, 0.08797301881802762, 0.010492194904902377, 0.051653882608750167, 0.0031361254953467255, 0.0031361254953467255, 0.059586384411587784, 0.0031361254953467255, 0.7056282364530132, 0.05017800792554761, 0.006272250990693451, 0.16935077674872318, 0.9870025214575384, 0.06697182121177045, 0.013288059764240169, 0.023386985185062697, 0.019134806060505844, 0.06962943316461849, 0.20941982188442507, 0.11693492592531349, 0.08398053770999787, 0.3624982703684718, 0.03454895538702444, 0.020944384539617167, 0.10338504708917409, 0.010249379668323294, 0.3306539006041689, 0.036541266643587395, 0.039215017861410864, 0.022726885351499478, 0.016488132509911387, 0.002673751217823468, 0.4166595647774904, 0.023147347219063173, 0.007715782406354391, 0.013716946500185585, 0.8350191181987975, 0.005143854937569594, 0.00943040071887759, 0.028291202156632767, 0.056582404313265534, 0.002571927468784797, 0.01714618312523198, 0.9664033330619806, 0.005086333331905161, 0.005086333331905161, 0.020345333327620643, 0.06819151174636331, 0.022412594769783748, 0.1425822518333051, 0.0615154196872788, 0.06342287456130294, 0.21983417423128315, 0.17643957584723374, 0.13685988721123268, 0.028134959391856194, 0.08011310470901424, 0.9742978856178062, 0.011198826271469037, 0.017854666573662817, 0.8391693289621525, 0.10712799944197691, 0.05356399972098846, 0.024856486925303827, 0.00451936125914615, 0.042933931961888425, 0.781849497832284, 0.00451936125914615, 0.002259680629573075, 0.042933931961888425, 0.006779041888719225, 0.08812754455334994, 0.9383634145260882, 0.014217627492819518, 0.014217627492819518, 0.014217627492819518, 0.007108813746409759, 0.014217627492819518, 0.16051942373371605, 0.04565231317197429, 0.061115193439901065, 0.38031322182781807, 0.0047861296067392405, 0.059274374360385976, 0.003681638159030185, 0.2293660573075805, 0.016567371715635833, 0.03865720066981694, 0.9806229728368556, 0.036605366636224955, 0.02534217690200189, 0.007821659537654905, 0.03879543130676833, 0.3541647438650141, 0.07821659537654906, 0.15486885884556711, 0.0328509700581506, 0.22338659639542408, 0.048181422751954216, 0.08488471587889608, 0.07419992646756651, 0.02611837411658341, 0.10447349646633364, 0.2819597205767527, 0.015433584705253833, 0.02315037705788075, 0.12703027411247386, 0.17095663058127322, 0.09200790881978246, 0.0019970932315920014, 0.0059912796947760045, 0.01597674585273601, 0.9406309120798327, 0.007988372926368005, 0.0059912796947760045, 0.019970932315920016, 0.41367406368599335, 0.06442464926257274, 0.3404334097874896, 0.03255140173266833, 0.008816004635931006, 0.0020344626082917706, 0.0020344626082917706, 0.0006781542027639235, 0.13495268635002078, 0.9399911155928677, 0.02968392996609056, 0.009894643322030187, 0.019789286644060374, 0.026570063347939613, 0.7173917103943696, 0.053140126695879225, 0.18599044343557727, 0.2870394677034451, 0.028656186459578546, 0.02411895693681194, 0.17313112652662038, 0.041073867258729246, 0.0236413538291523, 0.009074459045533206, 0.03247701132085568, 0.03008899578255747, 0.35079948257600735, 0.020327994603333392, 0.9757437409600028, 0.07931949241499509, 0.07300998733652957, 0.05272943529860469, 0.14286522213382638, 0.10590954953138548, 0.05047604062772414, 0.07886881348081898, 0.07436202413905789, 0.022533946708805423, 0.319982043265037, 0.0018530208508813972, 0.11118125105288383, 0.044472500421153534, 0.024089271061458164, 0.007412083403525589, 0.009265104254406986, 0.0018530208508813972, 0.7986519867298821, 0.04151798069480499, 0.8718775945909047, 0.08303596138960997, 0.9757279640262736, 0.016822895931487475, 0.003364579186297495, 0.9689019609888635, 0.027682913171110386, 0.03869620054205563, 0.015933729634964082, 0.05690617726772887, 0.013657482544254928, 0.02959121217921901, 0.03641995345134647, 0.5554042901330337, 0.07966864817482042, 0.16920103374271384, 0.004552494181418309, 0.012039996717837335, 0.013377774130930373, 0.004013332239279112, 0.9698886244924521, 0.00362553766551612, 0.9933973203514169, 0.5112225673392096, 0.025773379729438207, 0.1406923316995215, 0.02152835247988368, 0.002425729856888302, 0.024257298568883017, 0.06610113860020622, 0.17434933346384668, 0.03305056930010311, 0.0006064324642220755, 0.6688924076687415, 0.04548468372147442, 0.024080126676074693, 0.16856088673252287, 0.01337784815337483, 0.002675569630674966, 0.01337784815337483, 0.05886253187484925, 0.002675569630674966, 0.002675569630674966, 0.29295311606647495, 0.018850896164277518, 0.047891465930867204, 0.2593271931788448, 0.06368546001445108, 0.02802160240635847, 0.014775026723352649, 0.14978820195398893, 0.07081823153606959, 0.05400527009225451, 0.017880428274115567, 0.003973428505359014, 0.057614713327705715, 0.02384057103215409, 0.027813999537513102, 0.001986714252679507, 0.08940214137057784, 0.02384057103215409, 0.7509779875128538, 0.030532279654859575, 0.010177426551619859, 0.9465006693006468, 0.14214965583976127, 0.010934588910750867, 0.8310287572170659, 0.0031579660796405436, 0.006315932159281087, 0.10737084670777848, 0.01894779647784326, 0.00947389823892163, 0.00947389823892163, 0.006315932159281087, 0.8368610111047441, 0.9874216692373147, 0.019170146751110142, 0.019170146751110142, 0.019170146751110142, 0.9393371908043969, 0.13590821716000853, 0.0020104765852072266, 0.014877526730533478, 0.009248192291953243, 0.012464954828284806, 0.005629334438580235, 0.005629334438580235, 0.008444001657870353, 0.8053969200340151, 0.6076874407280038, 0.0038461230425823026, 0.06282000969551094, 0.0012820410141941008, 0.3089718844207783, 0.01538449217032921, 0.9756199948080432, 0.023674963520289784, 0.1306204883878057, 0.0400025245687655, 0.0040818902621189285, 0.012245670786356785, 0.036737012359070356, 0.04163528067361307, 0.0971489882384305, 0.6065688929508728, 0.007347402471814072, 0.9783964453179068, 0.02933947061276695, 0.017509038914070598, 0.000473217267947854, 0.04211633684735901, 0.014669735306383476, 0.12019718605875493, 0.000946434535895708, 0.7718173640229499, 0.00236608633973927, 0.0007969877632971892, 0.0007969877632971892, 0.0007969877632971892, 0.0015939755265943784, 0.15780357713284346, 0.00956385315956627, 0.8248823350125908, 0.003984938816485946, 0.0051120374586523624, 0.9917352669785584, 0.008143995537670905, 0.008143995537670905, 0.9691354689828378, 0.0032793964551581056, 0.002459547341368579, 0.014757284048211475, 0.002459547341368579, 0.007378642024105738, 0.024595473413685794, 0.06066883442042496, 0.0040992455689476326, 0.8747790044134247, 0.005738943796526685, 0.015409286129488985, 0.07704643064744493, 0.8937385955103612, 0.002430638043247092, 0.029167656518965104, 0.1531301967245668, 0.8142637444877758, 0.015412380190000408, 0.030824760380000815, 0.9401551915900249, 0.03154778432300179, 0.9464335296900537, 0.046927305965369086, 0.003910608830447424, 0.011731826491342271, 0.003910608830447424, 0.9307249016464868, 0.032527006310178075, 0.018296441049475167, 0.014230565260702908, 0.14840446629018747, 0.6078484304214528, 0.016263503155089037, 0.05285638525403937, 0.07115282630351454, 0.004065875788772259, 0.032527006310178075, 0.9928917375215363, 0.12573511458157913, 0.08103932878776823, 0.03611780670206941, 0.08623126350119072, 0.028668509069767593, 0.025282464691448587, 0.017381694475370902, 0.5670495652224897, 0.021670684021241646, 0.010835342010620823, 0.9921741572185468, 0.1206784296815963, 0.004447895565374063, 0.17405317646608506, 0.018259781794693522, 0.00596954404826519, 0.00643774358146246, 0.6319523199330149, 0.02856017152503346, 0.00690594311465973, 0.0028091971991836186, 0.0027837860197178796, 0.0013918930098589398, 0.009743251069012578, 0.0013918930098589398, 0.9631899628223863, 0.0013918930098589398, 0.019486502138025157, 0.0013918930098589398, 0.1024241157423378, 0.13892006502983748, 0.07652376463507997, 0.17588692979201456, 0.11890615735604733, 0.025900351107257837, 0.00588644343346769, 0.32446076205273905, 0.0028254928480644912, 0.02825492848064491, 0.10358349191591987, 0.010970145783356075, 0.05316301418087944, 0.10611506401977126, 0.08375284376908389, 0.09345720350051426, 0.15653554175481169, 0.148096968075307, 0.01729907604298458, 0.2269976319786757, 0.08898269130064529, 0.01699669384394348, 0.15946898047699914, 0.10547948238447279, 0.0914822051012252, 0.008998249682087725, 0.0919821078613412, 0.1374732590318958, 0.020496013164755373, 0.2779459346244875, 0.003996355756811629, 0.0006148239625864045, 0.0009222359438796066, 0.004303767738104831, 0.024592958503456178, 0.1524763427214283, 0.005226003681984438, 0.011989067270434887, 0.7909710278674094, 0.004918591700691236, 0.06727505680464714, 0.9082132668627364, 0.011212509467441189, 0.0045217639973914574, 0.9337442654613359, 0.06104381396478467, 0.005875838374604935, 0.9900787661209316, 0.012109822718469967, 0.04843929087387987, 0.9324563493221875, 0.975843169992971, 0.9773903594692919, 0.015452812007419636, 0.9789052477942344, 0.07658988551647895, 0.02233871660897303, 0.15259954462753003, 0.47926701088342133, 0.06353479139435186, 0.020017810987261544, 0.04525765962337393, 0.06643592342149121, 0.02611018824425419, 0.047868678447799344, 0.9481517382242646, 0.028303036961918347, 0.014151518480959174, 0.022024897047746902, 0.00880995881909876, 0.01761991763819752, 0.7708713966711415, 0.01982240734297221, 0.08369460878143822, 0.04625228380026849, 0.02422738675252159, 0.00660746911432407, 0.004362266118057815, 0.002492723496033037, 0.12027390868359406, 0.08412941799111501, 0.6618180881967715, 0.0018695426220247781, 0.11279573819549495, 0.012463617480165187, 0.9139712050440972, 0.018652473572328517, 0.009326236786164259, 0.009326236786164259, 0.04663118393082129, 0.006186529487003461, 0.9898447179205537, 0.006186529487003461, 0.9676119013412008, 0.005658549130650297, 0.011317098261300593, 0.011317098261300593, 0.9680139668761548, 0.09531412523665345, 0.8975413459784867, 0.017008508514081096, 0.017008508514081096, 0.9694849853026224, 0.0032058105622122667, 0.0032058105622122667, 0.0288522950599104, 0.006411621124424533, 0.012823242248849067, 0.782217777179793, 0.13784985417512746, 0.0192348633732736, 0.04662368070882966, 0.0015039897002848278, 0.0015039897002848278, 0.004511969100854484, 0.139871042126489, 0.009023938201708968, 0.7971145411509588, 0.8984116374793941, 0.029296031656936766, 0.06835740719951912, 0.047497347667113526, 0.01055496614824745, 0.03166489844474235, 0.7441251134514453, 0.058052313815360974, 0.047497347667113526, 0.052774830741237254, 0.21865368869596874, 0.018681091849752668, 0.059864407973071056, 0.021653083734940595, 0.05222214312544496, 0.0658083917434469, 0.2955009074415422, 0.04245702693125607, 0.14732588345145856, 0.0776963592841986, 0.9544513112330235, 0.004523465930014329, 0.013570397790042989, 0.018093863720057318, 0.004523465930014329, 0.0015829862445992078, 0.9592896642271199, 0.0015829862445992078, 0.011080903712194454, 0.02374479366898812, 0.0015829862445992078, 0.006034882177539436, 0.9897206771164676, 0.003017441088769718, 0.024180356265974562, 0.9091813956006436, 0.014508213759584738, 0.009672142506389826, 0.004836071253194913, 0.0386885700255593, 0.7935351654645436, 0.026363294533705766, 0.02372696508033519, 0.010545317813482306, 0.005272658906741153, 0.11336216649493479, 0.010545317813482306, 0.0026363294533705765, 0.013181647266852883, 0.8371853612547825, 0.012221684105909233, 0.0366650523177277, 0.09777347284727386, 0.01833252615886385, 0.005696643556520787, 0.9798226917215754, 0.011393287113041575, 0.0006572463432944651, 0.01643115858236163, 0.0026289853731778605, 0.17088404925656095, 0.688136921429305, 0.010515941492711442, 0.013144926865889302, 0.08347028559839707, 0.013802173209183768, 0.8777026972831478, 0.08493897070482075, 0.02831299023494025, 0.0024335017001831543, 0.7756786669333804, 0.20928114621575128, 0.003041877125228943, 0.00912563137568683, 0.046766603617895426, 0.011134905623308435, 0.007794433936315905, 0.8061671671275308, 0.0055674528116542174, 0.0055674528116542174, 0.0055674528116542174, 0.06346896205285808, 0.0011134905623308435, 0.046766603617895426, 0.6312201494298786, 0.07213944564912898, 0.1623137527105402, 0.03606972282456449, 0.07213944564912898, 0.037058970933855316, 0.02674358727185435, 0.023305126051187362, 0.026361536025113576, 0.06494871194593199, 0.1234025526972708, 0.06265640446548734, 0.14212306378756884, 0.4783281609194521, 0.015664101116371835, 0.0750614488455733, 0.08666888938870318, 0.0030953174781679707, 0.0030953174781679707, 0.02321488108625978, 0.02321488108625978, 0.7854368100851226, 0.004362628353800006, 0.047988911891800067, 0.008725256707600012, 0.9336024677132012, 0.9938167356776917, 0.03203806547538366, 0.013032433413715386, 0.07602252824667309, 0.1341254605494875, 0.06407613095076732, 0.049414643360337504, 0.5549644562007136, 0.054844823949385585, 0.0027150902945240387, 0.018462614002763465, 0.9857558774336824, 0.9689022051184623, 0.9663343112139646, 0.054262098148937066, 0.09372544225725493, 0.20314653273940902, 0.1551626938804316, 0.07444221729523598, 0.09731301899437474, 0.05201986268823719, 0.14484841076121216, 0.06054035743889673, 0.06457638126815651, 0.027168072738910098, 0.06924545368819769, 0.0016565898011530547, 0.25445219345710923, 0.026836754778679486, 0.012921400448993828, 0.054336145477820195, 0.37604588486174345, 0.04605319647205492, 0.13153323021155255, 0.016186545655031814, 0.7283945544764316, 0.016186545655031814, 0.1294923652402545, 0.03237309131006363, 0.08093272827515907, 0.0442621596242235, 0.002603656448483735, 0.01041462579393494, 0.1288809941999449, 0.14189927644236358, 0.019527423363628015, 0.04556398784846537, 0.023432908036353617, 0.5832190444603567, 0.06436854409524408, 0.013993161759835669, 0.04384524018081843, 0.14739463720360238, 0.2556084214796649, 0.033583588223605604, 0.14739463720360238, 0.10261651957212824, 0.09795213231884968, 0.09235486761491542, 0.03242156986024397, 0.012968627944097588, 0.9142882700588799, 0.019452941916146382, 0.012968627944097588, 0.012968627944097588, 0.004429011015400067, 0.0654509405609121, 0.004429011015400067, 0.2012739450331808, 0.03149518944284492, 0.027558290762489304, 0.010334359035933488, 0.03346363878302273, 0.009350134365844585, 0.6121877447952981, 0.013464537667904486, 0.9761789809230752, 0.006732268833952243, 0.04973347914243189, 0.07141217517887656, 0.5062613133216785, 0.26397000467906157, 0.0063760870695425504, 0.06248565328151699, 0.01530260896690212, 0.02295391345035318, 0.06571706390931371, 0.03285853195465686, 0.013143412781862743, 0.8871803627757351, 0.1865408273749503, 0.004857834046222665, 0.03206170470506958, 0.7568505444014911, 0.0009715668092445328, 0.0009715668092445328, 0.0019431336184890656, 0.010687234901689862, 0.0038862672369781312, 0.0019431336184890656, 0.14932560889479024, 0.06624627012787059, 0.013032053139908966, 0.05104220813131012, 0.006516026569954483, 0.024435099637329313, 0.04181117049054127, 0.5837273802250891, 0.023349095209003565, 0.03963916163388977, 0.7375038766351631, 0.010479628797657735, 0.21876225115110523, 0.027509025593851554, 0.003929860799121651, 0.024156172660805122, 0.8309723395316962, 0.043481110789449225, 0.06280604891809333, 0.0386498762572882, 0.004831234532161025, 0.9963054946302098, 0.9912909526171225, 0.06855249048780618, 0.062320445898005616, 0.04362431212860393, 0.052972379013304774, 0.4860994780044438, 0.18384531539911658, 0.07166851278270646, 0.006232044589800562, 0.021812156064301966, 0.02318573474013121, 0.0015457156493420806, 0.7311235021388041, 0.24113164129736456, 0.0015457156493420806, 0.9772204304292387, 0.01357250597818387, 0.8893723615086206, 0.08085203286442007, 0.013475338810736677, 0.00529386801836823, 0.023822406082657035, 0.002646934009184115, 0.00529386801836823, 0.9555431773154656, 0.00529386801836823, 0.002646934009184115, 0.004529464814663177, 0.42576969257833863, 0.004529464814663177, 0.06680960601628186, 0.005661831018328971, 0.00792656342566056, 0.07247143703461083, 0.02151495786965009, 0.3917987064683648, 0.5999386447146606, 0.001993151643570301, 0.03189042629712482, 0.13354116011921016, 0.009965758217851506, 0.08371236902995265, 0.07374661081210114, 0.025910971366413914, 0.007972606574281204, 0.027904123009984214, 0.044709395998018125, 0.0015687507367725657, 0.19060321451786674, 0.08392816441733227, 0.5592596376594197, 0.01882500884127079, 0.0917719181011951, 0.008628129052249111, 0.04752705639490249, 0.1952929953681448, 0.08209218831846794, 0.5590910088636711, 0.014690181067515316, 0.09246172789553758, 0.007777154682802226, 0.006269015649814457, 0.0585108127316016, 0.08567654721413091, 0.8442274408416802, 0.002089671883271486, 0.004179343766542972, 0.013545381423721498, 0.3952993812156057, 0.0018060508564961997, 0.02821954463275312, 0.005192396212426574, 0.3937190867161715, 0.0011287817853101248, 0.04921488583952144, 0.08804497925418973, 0.023930173848574647, 0.07944609374112549, 0.12665319292063484, 0.006908355977489173, 0.00518126698311688, 0.0017270889943722932, 0.000575696331457431, 0.1485296535160172, 0.5699393681428567, 0.05181266983116879, 0.009786837634776328, 0.1384900600740095, 0.830940360444057, 0.023081676679001583, 0.12415195561119627, 0.12415195561119627, 0.0034014234414026373, 0.0017007117207013187, 0.0034014234414026373, 0.02551067581051978, 0.661576859352813, 0.05272206334174088, 0.005102135162103956, 0.0757496093312914, 0.1003077018542215, 0.04980796230002722, 0.08059205011046072, 0.2569952499230571, 0.07644138658545845, 0.16118410022092144, 0.08232149324587833, 0.08750982265213117, 0.02905464467501588, 0.0077585010820144535, 0.009169137642380717, 0.6312598607639033, 0.0035265914009156604, 0.0021159548405493963, 0.0014106365603662643, 0.0726477828588626, 0.0021159548405493963, 0.26943158302995646, 0.000705548207865331, 0.6857928580451018, 0.1679204734719488, 0.0035277410393266553, 0.000705548207865331, 0.01340541594944129, 0.11288771325845297, 0.015522060573037283, 0.7218716416574569, 0.23595505898952696, 0.0010774203606827714, 0.0021548407213655427, 0.037709712623897, 0.0010774203606827714, 0.944229413054962, 0.011445205006726812, 0.005722602503363406, 0.011445205006726812, 0.022890410013453624, 0.005722602503363406, 0.9731684759593968, 0.0056910437190608, 0.0113820874381216, 0.029897618905227734, 0.019498447112105043, 0.1364891297847353, 0.03509720480178908, 0.06499482370701681, 0.448464283578416, 0.04159668717249076, 0.1611871627934017, 0.055895548388034455, 0.0038996894224210083, 0.03075866934229086, 0.0027733226456163893, 0.02949806813973796, 0.013362372747060784, 0.028993827658716796, 0.09706629259657362, 0.623745475023177, 0.05748341483641243, 0.1013523366852535, 0.014875094190124269, 0.5357378452641804, 0.4143391217067799, 0.01451506477316745, 0.0013195513430152225, 0.019793270145228338, 0.013195513430152227, 0.026062486111279554, 0.019546864583459667, 0.026062486111279554, 0.07167183680601878, 0.006515621527819889, 0.8470307986165856, 0.0031991377696897667, 0.0031991377696897667, 0.007997844424224416, 0.8045831490769764, 0.17115387067840251, 0.007997844424224416, 0.9311668284684429, 0.03879861785285179, 0.012932872617617263, 0.012932872617617263, 0.02112526035160639, 0.026406575439507987, 0.02376591789555719, 0.02376591789555719, 0.6390391256360932, 0.0026406575439507987, 0.21653391860396548, 0.031687890527409585, 0.013203287719753994, 0.0009495973965230572, 0.22600418037248762, 0.07027020734270624, 0.016143155740891972, 0.0018991947930461143, 0.006647181775661401, 0.04463107763658369, 0.6238854895156486, 0.009495973965230572, 0.01862138792617071, 0.03192237930200693, 0.30459270250664944, 0.01995148706375433, 0.01330099137583622, 0.6038650084629644, 0.007980594825501732, 0.040717205343660835, 0.020358602671830418, 0.875419914888708, 0.061075808015491256, 0.061376577475742045, 0.8883452003067928, 0.006460692365867584, 0.006460692365867584, 0.029073115646404128, 0.019545467600188896, 0.019545467600188896, 0.938182444809067, 0.039168239099041935, 0.9400377383770065, 0.11108857304431409, 0.027033824524076436, 0.020900099632059094, 0.07178729873620297, 0.12971692271636676, 0.030214274468085427, 0.11154292303631538, 0.401418217933135, 0.006360899888017985, 0.08996129841625436, 0.12225405283718022, 0.06711987214590287, 0.008389984018237859, 0.01078712230916296, 0.03595707436387653, 0.03236136692748888, 0.01078712230916296, 0.6771915671863414, 0.031162797782026328, 0.001198569145462551, 0.06118200518458616, 0.07137900604868386, 0.005098500432048847, 0.01529550129614654, 0.010197000864097694, 0.005098500432048847, 0.8106615686957667, 0.020394001728195388, 0.04389152471030819, 0.02648626491139287, 0.08021554516021841, 0.19675511077034705, 0.035567270023870425, 0.03859427172802961, 0.03935102215406941, 0.4661582624405145, 0.03102676746763165, 0.04237802385822859, 0.9109416569720459, 0.0811730189381031, 0.10048919256036445, 0.012561149070045557, 0.8834674845932042, 0.04370522492112865, 0.006243603560161236, 0.9427841375843468, 0.981385505510027, 0.8675767388913533, 0.011567689851884711, 0.023135379703769422, 0.02891922462971178, 0.005783844925942356, 0.01735153477782707, 0.046270759407538845, 0.8356270477086142, 0.015332606379974573, 0.053664122329911, 0.030665212759949146, 0.0076663031899872865, 0.0076663031899872865, 0.04599781913992372, 0.00347043595495599, 0.01388174381982396, 0.05899741123425183, 0.00347043595495599, 0.16658092583788753, 0.7530846022254499, 0.004050768394109122, 0.026485793346098106, 0.006543548944330121, 0.4272002667941236, 0.024304610364654734, 0.11778388099794217, 0.009036329494551118, 0.12619701535493805, 0.009971122200883992, 0.24834326231576695, 0.9836235512454291, 0.88764046163396, 0.019508581574372748, 0.004877145393593187, 0.04389430854233869, 0.039017163148745496, 0.08793583923154409, 0.03278081580820874, 0.052033040965410705, 0.06139898833918463, 0.07596823980949963, 0.2586042135980912, 0.12071665503975283, 0.12123698544940695, 0.09261881291843105, 0.0962611257860098, 0.007633270550324684, 0.9541588187905855, 0.015266541100649369, 0.02289981165097405, 0.0347195941119967, 0.0046292792149328936, 0.0046292792149328936, 0.14582229527038615, 0.013887837644798682, 0.7962360249684577, 0.010489049074926243, 0.010489049074926243, 0.9545034658182882, 0.020978098149852485, 0.06300762950324655, 0.018002179858070445, 0.6210752051034303, 0.27903378780009186, 0.018002179858070445, 0.044638202802902385, 0.05691370857370054, 0.035152584707285627, 0.2215170814094031, 0.033478652102176785, 0.07979078751018802, 0.005021797815326519, 0.3565476448881828, 0.14563213664446903, 0.021203146331378632, 0.12935203272135315, 0.018589513684505843, 0.05421941491314204, 0.012393009123003895, 0.42833337781382214, 0.015491261403754869, 0.16575649702017708, 0.10843882982628408, 0.0410518427199504, 0.025560581316195534, 0.010276961893814515, 0.010276961893814515, 0.012846202367268144, 0.8016030277175321, 0.015415442840721771, 0.07707721420360886, 0.04110784757525806, 0.02055392378762903, 0.007707721420360886, 0.015649313906007753, 0.09389588343604652, 0.031298627812015506, 0.8450629509244186, 0.01922628640674774, 0.9637176061382303, 0.0024032858008434673, 0.00961314320337387, 0.0024032858008434673, 0.004806571601686935, 0.09155901288600138, 0.3739400461557726, 0.017778449104077935, 0.1662284991231287, 0.014519066768330315, 0.046223967670602634, 0.040297817969243324, 0.18163648834666293, 0.060743034438932954, 0.00681507215656321, 0.04255818315282657, 0.9533033026233152, 0.03677577451015931, 0.06588173508504476, 0.11052398542625419, 0.005506533081735084, 0.04188898380034189, 0.2509405790104988, 0.21750805672853582, 0.10816404267693915, 0.056048640296232105, 0.10678740940650538, 0.002519161060581049, 0.8917830154456914, 0.08565147605975566, 0.010076644242324196, 0.005038322121162098, 0.08943318909490475, 0.03504814167232753, 0.004834226437562418, 0.01329412270329665, 0.17765782158041887, 0.48825687019380426, 0.06526205690709265, 0.037465254891108746, 0.03988236810988995, 0.04955082098501479, 0.1712931249600453, 0.0024321539040980064, 0.09276929891345254, 0.07574422158476649, 0.035787407446013525, 0.009728615616392025, 0.3012396335504245, 0.18797075173100306, 0.09172694724026767, 0.03092309963781751, 0.9933724637857912, 0.2631024738787176, 0.011789291179264942, 0.06728522282799991, 0.19754251317451257, 0.11472993123235882, 0.009776485368170927, 0.024728757107726464, 0.1633248143859143, 0.03565541722509397, 0.11242958173396567, 0.010088237049424065, 0.02017647409884813, 0.7112207119843965, 0.09583825196952861, 0.15132355574136097, 0.010088237049424065, 0.019744720565304723, 0.9280018665693219, 0.03948944113060945, 0.06950596974100454, 0.010491467130717665, 0.00786860034803825, 0.010491467130717665, 0.8301373367180352, 0.053768769044928034, 0.009180033739377957, 0.0052457335653588325, 0.0026228667826794162, 0.864755235787228, 0.04184299528002716, 0.08368599056005432, 0.006797460192914831, 0.0486279844570061, 0.17830260967568903, 0.016209328152335365, 0.01986949902544335, 0.17673396501578562, 0.06640595726924489, 0.056471207756523215, 0.022483906791949056, 0.4073247300215887, 0.015490499859635356, 0.03098099971927071, 0.9449204914377567, 0.0012071525237617952, 0.0006035762618808976, 0.0036214575712853856, 0.15874055687467606, 0.12071525237617951, 0.4726002130527428, 0.008450067666332566, 0.21366599670583775, 0.01991801664206962, 0.9565061732211934, 0.0011187206704341443, 0.0011187206704341443, 0.0011187206704341443, 0.03803650279476091, 0.0011187206704341443, 0.0011187206704341443, 0.9370224515944336, 0.04846667853074657, 0.982036617408952, 0.014719577567099887, 0.20186849234879845, 0.04836432629189963, 0.031541951929499754, 0.002102796795299984, 0.651867006542995, 0.025233561543599806, 0.023130764748299823, 0.0007638691449913493, 0.867373414137677, 0.006874822304922143, 0.0026735420074697224, 0.002291607434974048, 0.08402560594904841, 0.01489544832733131, 0.003055476579965397, 0.017568990334801034, 0.0017485301199887749, 0.8795106503543538, 0.015736771079898973, 0.0034970602399775497, 0.06819267467956222, 0.022730891559854076, 0.0069941204799550995, 0.0009272897237226778, 0.0018545794474453556, 0.0004636448618613389, 0.02410953281678962, 0.9694814061520596, 0.0009272897237226778, 0.0004636448618613389, 0.0009272897237226778, 0.011613387624844606, 0.9871379481117915, 0.9317852560745702, 0.0031585940883883733, 0.00947578226516512, 0.0031585940883883733, 0.044220317237437225, 0.0031585940883883733, 0.9573904095315079, 0.010294520532596859, 0.010294520532596859, 0.020589041065193717, 0.005113195556536618, 0.9357147868462011, 0.04601876000882956, 0.010226391113073236, 0.9652448409739334, 0.017549906199526063, 0.5948487683543716, 0.0019696979084581844, 0.08666670797216011, 0.04136365607762187, 0.015757583267665475, 0.09060610378907648, 0.06500003097912008, 0.051212145619912795, 0.051212145619912795, 0.5226438003894449, 0.005560040429674945, 0.09229667113260409, 0.04781634769520453, 0.03224823449211468, 0.007784056601544923, 0.16568920480431337, 0.033360242578049676, 0.05671241238268444, 0.03447225066398466, 0.907957273023198, 0.06603325621986894, 0.016508314054967235, 0.7950194020526241, 0.0956414318258796, 0.017932768467352426, 0.005977589489117475, 0.005977589489117475, 0.0717310738694097, 0.022588383996237152, 0.8056523625324584, 0.045176767992474304, 0.11294191998118576, 0.007529461332079051, 0.0025066202246253094, 0.0014323544140716054, 0.04583534125029137, 0.06338168282266854, 0.8028346490871348, 0.0025066202246253094, 0.07842140417042039, 0.0025066202246253094, 0.058317117714471234, 0.027508074393618506, 0.07317147788702523, 0.49844630801236733, 0.05611647176298175, 0.006051776366596071, 0.09517793740192003, 0.07317147788702523, 0.003300968927234221, 0.10838181311085691, 0.9706561905751786, 0.00933323260168441, 0.00933323260168441, 0.8779941275072748, 0.09005067974433588, 0.02251266993608397, 0.031319899817765756, 0.4522593533685375, 0.0075167759562637815, 0.0012527959927106302, 0.005011183970842521, 0.0075167759562637815, 0.49234882513527767, 0.0012527959927106302, 0.0012527959927106302, 0.9211796554531725, 0.0034696032220458473, 0.0034696032220458473, 0.01908281772125216, 0.017348016110229236, 0.005204404833068771, 0.015613214499206314, 0.015613214499206314, 0.028930905855102947, 0.010385453383883109, 0.0007418180988487935, 0.06973090129178659, 0.03634908684359088, 0.3723926856220943, 0.029672723953951742, 0.06973090129178659, 0.36274905033706, 0.018545452471219838, 0.04923119693559924, 0.02421206406668815, 0.04680999052893042, 0.5415431662915916, 0.06214429777116625, 0.06537257298005801, 0.05326654094671393, 0.058916022562274496, 0.07909274261784796, 0.01936965125335052, 0.991420340499248, 0.004732316661094262, 0.08836729302573161, 0.009346540608490845, 0.024640879786021315, 0.019542766726844494, 0.5726880336475298, 0.11555722934134134, 0.0416345899832774, 0.0637264132397103, 0.03653647692410057, 0.027189936315609727, 0.7201793297758842, 0.13700972615248527, 0.005269604852018665, 0.026348024260093323, 0.0895832824843173, 0.02107841940807466, 0.9833353612999113, 0.01153472564574676, 0.2661058442250153, 0.5243850459728243, 0.01826216578014811, 0.019566606193015833, 0.04304653362463483, 0.010435523302941776, 0.014348844541544944, 0.09131082890074055, 0.009131082890074055, 0.002608880825735444, 0.6590390809634428, 0.009348072070403442, 0.020254156152540795, 0.1106188528331074, 0.02804421621121033, 0.01713813212907298, 0.04206632431681549, 0.015580120117339072, 0.015580120117339072, 0.08257463662189708, 0.005790856080155722, 0.5605548685590739, 0.42968152114755453, 0.003474513648093433, 0.0008790272564376705, 0.23645833198173336, 0.755084413279959, 0.006153190795063693, 0.046641518805008914, 0.11175492624566492, 0.0009235944317823548, 0.0018471888635647096, 0.0004617972158911774, 0.8266170164452075, 0.006003363806585306, 0.005079769374802951, 0.0004617972158911774, 0.9934790234808252, 0.019440777069803995, 0.12594242536525196, 0.04141730767045199, 0.12213879506898598, 0.008875137357953998, 0.08494774328327398, 0.025780160896913994, 0.4910909338067879, 0.010988265300323999, 0.06973322209821, 0.013769881221378113, 0.005163705458016792, 0.0034424703053445283, 0.03958840851146207, 0.02581852729008396, 0.8554538708781152, 0.0034424703053445283, 0.04475211396947887, 0.005163705458016792, 0.006884940610689057, 0.03309183666169147, 0.07229846922826072, 0.006474489781635288, 0.16473979555494234, 0.011150510179482997, 0.10862755078076983, 0.03992602032008428, 0.2248086729734475, 0.31293367277903894, 0.02625765300329867, 0.7665925356875493, 0.06269530031645384, 0.1681373963032171, 0.7483157327784787, 0.005563685745564898, 0.0459004074009104, 0.013909214363912244, 0.0013909214363912244, 0.005563685745564898, 0.1265738507116014, 0.03616395734617183, 0.013909214363912244, 0.5251123927303389, 0.004425104433120834, 0.15045355072610836, 0.050151183575369455, 0.06342649687473195, 0.008850208866241669, 0.14012830704882642, 0.057526357630570846, 0.00862570433246805, 0.018976549531429708, 0.041403380795846635, 0.8228921933174519, 0.00690056346597444, 0.09143246592416132, 0.00690056346597444, 0.03967147349868739, 0.8992200659702475, 0.03967147349868739, 0.013223824499562463, 0.008784134976132577, 0.0732011248011048, 0.11614578468441962, 0.020008307445635313, 0.030744472416464014, 0.09418544724408817, 0.4260305463424299, 0.13176202464198863, 0.08588931976662963, 0.013664209962872896, 0.8684541442903146, 0.06163222959479652, 0.0280146498158166, 0.03361757977897992, 0.00560292996316332, 0.12343683216979762, 0.7794807364796479, 0.034288008936054895, 0.05943254882249515, 0.0022858672624036596, 0.07604827570027303, 0.0006035577436529606, 0.023538752002465465, 0.8757622860404458, 0.0054320196928766456, 0.003017788718264803, 0.0018106732309588819, 0.004224904205570724, 0.00965692389844737, 0.008878522666891103, 0.9766374933580213, 0.0945897820811838, 0.02848649807850323, 0.2213181773791405, 0.2439612912364123, 0.014243249039251615, 0.0657380724888536, 0.2326397343077764, 0.08545949423550969, 0.008765076331847149, 0.004747749679750539, 0.9781977019474704, 0.01304263602596627, 0.05925020940116753, 0.007406276175145941, 0.014812552350291882, 0.007406276175145941, 0.8072841030909076, 0.051843933226021585, 0.014812552350291882, 0.03703138087572971, 0.02607245962843024, 0.05214491925686048, 0.6518114907107561, 0.02607245962843024, 0.02607245962843024, 0.1303622981421512, 0.10428983851372096, 0.06407114455273066, 0.03203557227636533, 0.8969960237382293, 0.020216490571641915, 0.17116628683990154, 0.004717181133383113, 0.05289981699579634, 0.012466835852512513, 0.10613657550112005, 0.011456011323930418, 0.49193460390995325, 0.0697468924721646, 0.05930170567681628, 0.05938962184637163, 0.08409917254157734, 0.00043350088938957394, 0.2939136030061311, 0.013872028460466366, 0.10100570722777072, 0.00043350088938957394, 0.4074908360261995, 0.008670017787791478, 0.030345062257270173, 0.053609038073178614, 0.057972564427972224, 0.07293322621583602, 0.09225741435849344, 0.012467218156553167, 0.004363526354793608, 0.01122049634089785, 0.10784143705418489, 0.5815957270032053, 0.006856969986104242, 0.9841341252518847, 0.06826944956142385, 0.05030380493999652, 0.009342135203142211, 0.06036456592799583, 0.07114395270085222, 0.2831385592336947, 0.010060760987999304, 0.02946365717914082, 0.20193384554484317, 0.21630636124198505, 0.0019946807046252644, 0.9953456716080069, 0.19721831018726335, 0.27337191511105813, 0.18940768404123312, 0.13278064448251395, 0.02733719151110581, 0.002603542048676744, 0.06183412365607267, 0.05011818443702732, 0.039704016242320346, 0.025384534974598253, 0.034113437400857365, 0.5194339401570548, 0.008187224976205767, 0.2883722574952476, 0.006367841648160042, 0.0086420708082172, 0.05503634567338322, 0.05549119150539465, 0.006822687480171473, 0.01682929578442297, 0.08162013025175703, 0.005830009303696931, 0.005830009303696931, 0.9094814513767212, 0.9434006985310777, 0.056043605853331346, 0.9919141067344842, 0.01175853385066186, 0.03527560155198558, 0.0014698167313327325, 0.01175853385066186, 0.3806825334151777, 0.04115486847731651, 0.016167984044660057, 0.0632021194473075, 0.14404203967060777, 0.2924935295352138, 0.13718025658396252, 0.009145350438930834, 0.8002181634064481, 0.004572675219465417, 0.0022863376097327086, 0.009145350438930834, 0.004572675219465417, 0.03200872653625792, 0.9882316581848197, 0.00639632141219948, 0.9816027916035691, 0.013558049607784105, 0.992344253585227, 0.04532220130774619, 0.01410024040685437, 0.0020143200581220527, 0.28401912819520947, 0.08258712238300417, 0.041293561191502084, 0.027193320784647715, 0.04381146126415465, 0.013596660392323857, 0.4461718928740347, 0.0035146015469471287, 0.09137964022062535, 0.06326282784504832, 0.0035146015469471287, 0.8364751681734167, 0.008810830724830574, 0.001762166144966115, 0.03171899060939007, 0.9321858906870749, 0.01057299686979669, 0.01057299686979669, 0.001762166144966115, 0.001762166144966115, 0.9939629959991486, 0.002799895763377883, 0.08778883813680176, 0.10033010072777344, 0.0313531564774292, 0.02508252518194336, 0.5957099730711548, 0.10033010072777344, 0.0313531564774292, 0.02508252518194336, 0.001793650715025245, 0.07623015538857292, 0.05739682288080784, 0.008968253575126225, 0.18474602364760023, 0.0008968253575126226, 0.6681348913469037, 0.0008968253575126226, 0.005906062320079011, 0.823895693651022, 0.008859093480118516, 0.0561075920407506, 0.10335609060138269, 0.029800299228947065, 0.013167574077906844, 0.02425605751193366, 0.11296392498414817, 0.014553634507160195, 0.08247059554057444, 0.03257242008745377, 0.05613544738476075, 0.5932338637204346, 0.04227484309222723, 0.005976794271192241, 0.0009961323785320402, 0.02789170659889712, 0.003984529514128161, 0.3127855668590606, 0.2530176241471382, 0.04283369227687772, 0.007969059028256321, 0.3197584935087849, 0.024903309463301004, 0.0008998721043946519, 0.00029995736813155064, 0.0005999147362631013, 0.06419087678015184, 0.12868171092843522, 0.3665479038567549, 0.0008998721043946519, 0.43403831168635376, 0.0038994457857101585, 0.02715452333455176, 0.9504083167093116, 0.993802819189753, 0.0011711556732744801, 0.0011711556732744801, 0.9744015201643674, 0.0035134670198234404, 0.009369245386195841, 0.0023423113465489602, 0.007026934039646881, 0.0011711556732744801, 0.004917006072560845, 0.9735672023670474, 0.00983401214512169, 0.00983401214512169, 0.7387318574432207, 0.0027134319832625184, 0.2570976804141236, 0.0006783579958156296, 0.9909832553204717, 0.9535880682800405, 0.0020730175397392185, 0.012438105238435311, 0.010365087698696093, 0.0020730175397392185, 0.0020730175397392185, 0.016584140317913748, 0.7837665115775371, 0.09797081394719213, 0.11304324686214477, 0.01501571702909492, 0.01501571702909492, 0.9610058898620749, 0.9883538891797887, 0.9434559099715365, 0.055497406468913914, 0.0045860033123826605, 0.8988566492270014, 0.08713406293527054, 0.0045860033123826605, 0.1103818193053667, 0.10755151624625472, 0.008490909177335899, 0.6141757638272967, 0.1018909101280308, 0.019812121413783766, 0.014151515295559832, 0.02264242447289573, 0.012925618291908044, 0.0025851236583816087, 0.17061816145318617, 0.005170247316763217, 0.806558581415062, 0.016224950785519027, 0.08112475392759512, 0.008112475392759513, 0.024337426178278537, 0.8518099162397488, 0.016224950785519027, 0.8961969102144974, 0.03896508305280424, 0.01948254152640212, 0.01948254152640212, 0.033082141041002586, 0.7787027045035994, 0.00945204029742931, 0.02799258088084834, 0.00908850028598972, 0.10506306330604118, 0.005816640183033422, 0.0130874404118252, 0.010906200343187665, 0.0069072602173521885, 0.9808079902591723, 0.007265244372290165, 0.05588407035085776, 0.00931401172514296, 0.9220871607891531, 0.00931401172514296, 0.08477365896927881, 0.013522178731296007, 0.021843519489016628, 0.6766290203621579, 0.060329720493474494, 0.00884142455507816, 0.01768284911015632, 0.011441843541865853, 0.011961927339223391, 0.09309499972699943, 0.007927603072912754, 0.9513123687495305, 0.031710412291651016, 0.007927603072912754, 0.9559179782404754, 0.02124262173867723, 0.05595584634695635, 0.005595584634695635, 0.766595094953302, 0.07833818488573889, 0.01119116926939127, 0.027977923173478175, 0.05036026171226072, 0.031258443143243254, 0.02941971119364071, 0.020226051445627988, 0.7446864395890305, 0.011032391697615267, 0.011032391697615267, 0.023903515344833075, 0.0165485875464229, 0.11400138087535774, 0.012117189495753687, 0.024234378991507374, 0.8724376436942655, 0.0848203264702758, 0.012117189495753687, 0.017879294239204917, 0.9654818889170654], \"Term\": [\"100\", \"100\", \"100\", \"100\", \"100\", \"100\", \"100\", \"100\", \"100\", \"100\", \"1988\", \"1988\", \"1988\", \"1988\", \"1988\", \"1988\", \"1988\", \"1988\", \"1988\", \"1988\", \"1990\", \"1990\", \"1990\", \"1990\", \"1990\", \"1990\", \"1990\", \"1990\", \"1990\", \"1990\", \"2554\", \"2554\", \"2554\", \"2554\", \"2554_2558\", \"2558\", \"2558\", \"270_280\", \"270_280\", \"270_280\", \"39_38\", \"39_38\", \"39_38\", \"3d\", \"3d\", \"3d\", \"3d\", \"3d\", \"3d\", \"3d\", \"3d\", \"533_536\", \"533_536\", \"533_536\", \"721_741\", \"721_741\", \"721_741\", \"721_741\", \"79_2554\", \"79_2554\", \"ability_proc\", \"ability_proc\", \"absorbing\", \"absorbing\", \"ackley_hinton\", \"ackley_hinton\", \"acoustic\", \"acoustic\", \"acoustic\", \"acoustic\", \"acoustic\", \"acoustic\", \"acoustic\", \"action\", \"action\", \"action\", \"action\", \"action\", \"action\", \"action\", \"action\", \"action\", \"action_potential\", \"action_potential\", \"action_potential\", \"activation\", \"activation\", \"activation\", \"activation\", \"activation\", \"activation\", \"activation\", \"activation\", \"activation\", \"activation\", \"activity\", \"activity\", \"activity\", \"activity\", \"activity\", \"activity\", \"activity\", \"activity\", \"activity\", \"activity\", \"addressable\", \"addressable\", \"afferent\", \"analog\", \"analog\", \"analog\", \"analog\", \"analog\", \"analog\", \"analog\", \"analog\", \"analog\", \"analog_circuit\", \"analog_circuit\", \"analog_vlsi\", \"analog_vlsi\", \"analog_vlsi\", \"analog_vlsi\", \"analog_vlsi\", \"analog_vlsi\", \"analysis_ica\", \"analysis_ica\", \"angle\", \"angle\", \"angle\", \"angle\", \"angle\", \"angle\", \"angle\", \"angle\", \"angle\", \"angle\", \"approximation\", \"approximation\", \"approximation\", \"approximation\", \"approximation\", \"approximation\", \"approximation\", \"approximation\", \"approximation\", \"approximation\", \"architecture\", \"architecture\", \"architecture\", \"architecture\", \"architecture\", \"architecture\", \"architecture\", \"architecture\", \"architecture\", \"architecture\", \"arm\", \"arm\", \"arm\", \"arm\", \"arm\", \"arm\", \"arm\", \"arm_movement\", \"arm_movement\", \"associative\", \"associative\", \"associative\", \"associative\", \"associative\", \"associative\", \"associative\", \"associative\", \"associative\", \"associative\", \"associative_memory\", \"associative_memory\", \"associative_memory\", \"associative_memory\", \"associative_memory\", \"associative_memory\", \"associative_memory\", \"assume\", \"assume\", \"assume\", \"assume\", \"assume\", \"assume\", \"assume\", \"assume\", \"assume\", \"assume\", \"attention\", \"attention\", \"attention\", \"attention\", \"attention\", \"attention\", \"attention\", \"attention\", \"attention\", \"attention\", \"attentional\", \"attentional\", \"attentional\", \"attentional\", \"attentional\", \"attraction\", \"attraction\", \"attraction\", \"attraction\", \"attraction\", \"attraction\", \"attraction\", \"attraction\", \"attraction\", \"attraction\", \"attractor\", \"attractor\", \"attractor\", \"attractor\", \"attractor\", \"attractor\", \"attractor\", \"attractor\", \"audio\", \"audio\", \"audio\", \"auditory\", \"auditory\", \"auditory\", \"auditory\", \"auditory\", \"auditory\", \"auditory\", \"auditory\", \"automatic_speech\", \"axon\", \"axon\", \"axonal\", \"back\", \"back\", \"back\", \"back\", \"back\", \"back\", \"back\", \"back\", \"back\", \"back\", \"back_prop\", \"back_prop\", \"back_prop\", \"back_propagation\", \"back_propagation\", \"back_propagation\", \"back_propagation\", \"back_propagation\", \"back_propagation\", \"back_propagation\", \"back_propagation\", \"back_propagation\", \"back_propagation\", \"backgammon\", \"backgammon\", \"backprop\", \"backprop\", \"backprop\", \"backprop\", \"backprop\", \"backprop\", \"backprop\", \"backpropagation\", \"backpropagation\", \"backpropagation\", \"backpropagation\", \"backpropagation\", \"backpropagation\", \"backpropagation\", \"backpropagation\", \"backpropagation\", \"backpropagation\", \"bagging\", \"bagging\", \"bagging\", \"barto\", \"barto\", \"barto\", \"barto\", \"barto\", \"barto\", \"barto_sutton\", \"barto_sutton\", \"barto_sutton\", \"basin\", \"basin\", \"basin\", \"basin\", \"basin\", \"basin\", \"basis\", \"basis\", \"basis\", \"basis\", \"basis\", \"basis\", \"basis\", \"basis\", \"basis\", \"basis\", \"basis_function\", \"basis_function\", \"basis_function\", \"basis_function\", \"basis_function\", \"basis_function\", \"basis_function\", \"basis_function\", \"basis_function\", \"basis_function\", \"baum_welch\", \"baum_welch\", \"bayesian\", \"bayesian\", \"bayesian\", \"bayesian\", \"bayesian\", \"bayesian\", \"bayesian\", \"bayesian\", \"bayesian\", \"becker\", \"becker\", \"becker\", \"becker\", \"becker\", \"better\", \"better\", \"better\", \"better\", \"better\", \"better\", \"better\", \"better\", \"better\", \"better\", \"bias_current\", \"bifurcation\", \"bifurcation\", \"bifurcation\", \"bifurcation\", \"bifurcation\", \"bifurcation\", \"bit\", \"bit\", \"bit\", \"bit\", \"bit\", \"bit\", \"bit\", \"bit\", \"bit\", \"bit\", \"blind\", \"blind\", \"blind\", \"blind\", \"blind\", \"blind\", \"blind\", \"blind_deconvolution\", \"blind_deconvolution\", \"blind_deconvolution\", \"blind_separation\", \"blind_separation\", \"blind_separation\", \"blind_separation\", \"blind_separation\", \"blind_source\", \"blind_source\", \"blumer\", \"boltzmann\", \"boltzmann\", \"boltzmann\", \"boltzmann\", \"boltzmann\", \"boltzmann\", \"boltzmann_machine\", \"boltzmann_machine\", \"boltzmann_machine\", \"boltzmann_machine\", \"boltzmann_machine\", \"boltzmann_machine\", \"boosting\", \"boosting\", \"bound\", \"bound\", \"bound\", \"bound\", \"bound\", \"bound\", \"bound\", \"bound\", \"bound\", \"bound\", \"boundary\", \"boundary\", \"boundary\", \"boundary\", \"boundary\", \"boundary\", \"boundary\", \"boundary\", \"boundary\", \"boundary\", \"bounded\", \"bounded\", \"bounded\", \"bounded\", \"bounded\", \"bounded\", \"bounded\", \"bounded\", \"bounded\", \"bounded\", \"bourlard\", \"bourlard\", \"bourlard\", \"bourlard\", \"bp\", \"bp\", \"bp\", \"bp\", \"bp\", \"bp\", \"bp\", \"bp\", \"bp\", \"brain\", \"brain\", \"brain\", \"brain\", \"brain\", \"brain\", \"brain\", \"brain\", \"brain\", \"brain\", \"brain_re\", \"buhmann\", \"buhmann\", \"buhmann\", \"buhmann\", \"buhmann\", \"buhmann\", \"bus\", \"bus\", \"bus\", \"california_santa\", \"california_santa\", \"capacitor\", \"capacitor\", \"capacitor\", \"capacity\", \"capacity\", \"capacity\", \"capacity\", \"capacity\", \"capacity\", \"capacity\", \"capacity\", \"capacity\", \"cardinality\", \"cardinality\", \"cardoso\", \"carver\", \"carver_mead\", \"cascade\", \"cascade\", \"cascade\", \"cascade\", \"cascade\", \"cascade\", \"cascade\", \"cascade\", \"cascade\", \"cascade\", \"cascade_correlation\", \"cascade_correlation\", \"cascade_correlation\", \"cell\", \"cell\", \"cell\", \"cell\", \"cell\", \"cell\", \"cell\", \"cell\", \"cell\", \"cell\", \"center\", \"center\", \"center\", \"center\", \"center\", \"center\", \"center\", \"center\", \"center\", \"center\", \"cepstral\", \"channel\", \"channel\", \"channel\", \"channel\", \"channel\", \"channel\", \"channel\", \"channel\", \"channel\", \"channel\", \"chaotic_time\", \"chaotic_time\", \"character\", \"character\", \"character\", \"character\", \"character\", \"character\", \"character\", \"character\", \"character\", \"character\", \"character_recognition\", \"character_recognition\", \"character_recognition\", \"character_recognition\", \"charge\", \"charge\", \"charge\", \"charge\", \"chervonenkis\", \"chip\", \"chip\", \"chip\", \"chip\", \"cichocki\", \"cichocki\", \"circuit\", \"circuit\", \"circuit\", \"circuit\", \"circuit\", \"circuit\", \"circuit\", \"circuit\", \"circuit\", \"circuit\", \"class\", \"class\", \"class\", \"class\", \"class\", \"class\", \"class\", \"class\", \"class\", \"class\", \"classification\", \"classification\", \"classification\", \"classification\", \"classification\", \"classification\", \"classification\", \"classification\", \"classification\", \"classification\", \"classifier\", \"classifier\", \"classifier\", \"classifier\", \"classifier\", \"classifier\", \"classifier\", \"classifier\", \"classifier\", \"clue\", \"clue\", \"clue\", \"clue\", \"clue\", \"clue\", \"clue\", \"cluster\", \"cluster\", \"cluster\", \"cluster\", \"cluster\", \"cluster\", \"cluster\", \"cluster\", \"cluster\", \"cluster_center\", \"cluster_center\", \"cluster_center\", \"cluster_center\", \"cluster_center\", \"clustering\", \"clustering\", \"clustering\", \"clustering\", \"clustering\", \"clustering\", \"clustering\", \"clustering\", \"clustering\", \"cmos\", \"cmos\", \"cmos\", \"cmos_process\", \"cochlear\", \"cochlear\", \"code\", \"code\", \"code\", \"code\", \"code\", \"code\", \"code\", \"code\", \"code\", \"code\", \"collective_computational\", \"collective_computational\", \"color\", \"color\", \"color\", \"color\", \"color\", \"color\", \"color\", \"command\", \"command\", \"command\", \"command\", \"command\", \"command\", \"command\", \"command\", \"comp_neurol\", \"compartment\", \"competitive\", \"competitive\", \"competitive\", \"competitive\", \"competitive\", \"competitive\", \"competitive\", \"competitive\", \"competitive\", \"complexity\", \"complexity\", \"complexity\", \"complexity\", \"complexity\", \"complexity\", \"complexity\", \"complexity\", \"complexity\", \"complexity\", \"component\", \"component\", \"component\", \"component\", \"component\", \"component\", \"component\", \"component\", \"component\", \"component\", \"condition\", \"condition\", \"condition\", \"condition\", \"condition\", \"condition\", \"condition\", \"condition\", \"condition\", \"condition\", \"conditional\", \"conditional\", \"conditional\", \"conditional\", \"conditional\", \"conditional\", \"conditional\", \"conditional\", \"conditional\", \"conditional\", \"connection\", \"connection\", \"connection\", \"connection\", \"connection\", \"connection\", \"connection\", \"connection\", \"connection\", \"connection\", \"consonant\", \"consonant\", \"consonant\", \"consonant\", \"constancy\", \"constancy\", \"constancy\", \"constancy\", \"constraint\", \"constraint\", \"constraint\", \"constraint\", \"constraint\", \"constraint\", \"constraint\", \"constraint\", \"constraint\", \"constraint\", \"content_addressable\", \"content_addressable\", \"context\", \"context\", \"context\", \"context\", \"context\", \"context\", \"context\", \"context\", \"context\", \"context\", \"context_free\", \"context_free\", \"context_free\", \"continually_running\", \"continually_running\", \"continuous\", \"continuous\", \"continuous\", \"continuous\", \"continuous\", \"continuous\", \"continuous\", \"continuous\", \"continuous\", \"continuous\", \"continuous_speech\", \"contour\", \"contour\", \"contour\", \"contour\", \"contour\", \"contour\", \"contour\", \"contour\", \"contour\", \"contour\", \"control\", \"control\", \"control\", \"control\", \"control\", \"control\", \"control\", \"control\", \"control\", \"control\", \"controller\", \"controller\", \"controller\", \"controller\", \"controller\", \"controller\", \"controller\", \"controller\", \"convergence\", \"convergence\", \"convergence\", \"convergence\", \"convergence\", \"convergence\", \"convergence\", \"convergence\", \"convergence\", \"convergence\", \"convolutional\", \"convolutional\", \"convolutional\", \"convolutional\", \"coordinate\", \"coordinate\", \"coordinate\", \"coordinate\", \"coordinate\", \"coordinate\", \"coordinate\", \"coordinate\", \"coordinate\", \"coordinate\", \"corollary\", \"corollary\", \"corollary\", \"corpus\", \"corpus\", \"corpus\", \"corpus\", \"correlation\", \"correlation\", \"correlation\", \"correlation\", \"correlation\", \"correlation\", \"correlation\", \"correlation\", \"correlation\", \"correlation\", \"cortex\", \"cortex\", \"cortex\", \"cortex\", \"cortex\", \"cortex\", \"cortex\", \"cortical\", \"cortical\", \"cortical\", \"cortical\", \"cortical\", \"cortical\", \"cortical\", \"cortical_neuron\", \"cortical_neuron\", \"covariance\", \"covariance\", \"covariance\", \"covariance\", \"covariance\", \"covariance\", \"covariance\", \"covariance\", \"covariance_matrix\", \"covariance_matrix\", \"covariance_matrix\", \"covariance_matrix\", \"covariance_matrix\", \"covariance_matrix\", \"covariance_matrix\", \"covariance_matrix\", \"credit_assignment\", \"credit_assignment\", \"credit_assignment\", \"credit_assignment\", \"critic\", \"critic\", \"critic\", \"crossover\", \"crossover\", \"crossover\", \"crossover\", \"crossover\", \"current_source\", \"current_source\", \"curve\", \"curve\", \"curve\", \"curve\", \"curve\", \"curve\", \"curve\", \"curve\", \"curve\", \"curve\", \"database\", \"database\", \"database\", \"database\", \"database\", \"database\", \"database\", \"database\", \"database\", \"decision\", \"decision\", \"decision\", \"decision\", \"decision\", \"decision\", \"decision\", \"decision\", \"decision\", \"decision\", \"decoding\", \"decoding\", \"decoding\", \"decoding\", \"decoding\", \"decoding\", \"decoding\", \"decoding\", \"deconvolution\", \"deconvolution\", \"deconvolution\", \"deconvolution\", \"deconvolution\", \"deconvolution\", \"decorrelation\", \"decorrelation\", \"decorrelation\", \"decorrelation\", \"decorrelation\", \"define\", \"define\", \"define\", \"define\", \"define\", \"define\", \"define\", \"define\", \"define\", \"define\", \"dempster\", \"dempster\", \"dempster\", \"dempster\", \"dempster_et\", \"dempster_et\", \"dempster_laird\", \"dempster_laird\", \"dempster_laird\", \"dendrite\", \"dendritic\", \"dendritic\", \"dendritic_tree\", \"denote\", \"denote\", \"denote\", \"denote\", \"denote\", \"denote\", \"denote\", \"denote\", \"denote\", \"denote\", \"density\", \"density\", \"density\", \"density\", \"density\", \"density\", \"density\", \"density\", \"density\", \"density\", \"design\", \"design\", \"design\", \"design\", \"design\", \"design\", \"design\", \"design\", \"design\", \"design\", \"desired_trajectory\", \"detection\", \"detection\", \"detection\", \"detection\", \"detection\", \"detection\", \"detection\", \"detection\", \"detection\", \"detection\", \"device\", \"device\", \"device\", \"device\", \"device\", \"device\", \"device\", \"device\", \"device\", \"diagnosis\", \"diagnosis\", \"diagnosis\", \"diagnosis\", \"digit\", \"digit\", \"digit\", \"digit\", \"digit\", \"digit\", \"digit\", \"digit\", \"digit\", \"digital\", \"digital\", \"digital\", \"digital\", \"digital\", \"digital\", \"digital\", \"digital\", \"digital\", \"digital\", \"digitized\", \"digitized\", \"digitized\", \"digitized\", \"digitized\", \"dij\", \"dij\", \"dij\", \"dimension\", \"dimension\", \"dimension\", \"dimension\", \"dimension\", \"dimension\", \"dimension\", \"dimension\", \"dimension\", \"dimension\", \"dimensional\", \"dimensional\", \"dimensional\", \"dimensional\", \"dimensional\", \"dimensional\", \"dimensional\", \"dimensional\", \"dimensional\", \"dimensional\", \"direction\", \"direction\", \"direction\", \"direction\", \"direction\", \"direction\", \"direction\", \"direction\", \"direction\", \"direction\", \"discontinuity\", \"discontinuity\", \"discontinuity\", \"discontinuity\", \"discontinuity\", \"discontinuity\", \"discontinuity\", \"discontinuity\", \"discontinuity\", \"discontinuity\", \"disparity\", \"disparity\", \"disparity\", \"disparity\", \"disparity\", \"disparity\", \"distance\", \"distance\", \"distance\", \"distance\", \"distance\", \"distance\", \"distance\", \"distance\", \"distance\", \"distance\", \"document\", \"document\", \"document\", \"document\", \"dominance\", \"dominance\", \"dominance\", \"dominance\", \"drain\", \"dynamic\", \"dynamic\", \"dynamic\", \"dynamic\", \"dynamic\", \"dynamic\", \"dynamic\", \"dynamic\", \"dynamic\", \"dynamic\", \"dynamical\", \"dynamical\", \"dynamical\", \"dynamical\", \"dynamical\", \"dynamical\", \"dynamical\", \"dynamical\", \"dynamical\", \"dynamical\", \"early_vision\", \"early_vision\", \"early_vision\", \"early_vision\", \"edelman\", \"edelman\", \"edelman\", \"edelman\", \"edge\", \"edge\", \"edge\", \"edge\", \"edge\", \"edge\", \"edge\", \"edge\", \"edge\", \"edge\", \"eeg\", \"eeg\", \"eeg\", \"eeg\", \"eeg\", \"eigenvalue\", \"eigenvalue\", \"eigenvalue\", \"eigenvalue\", \"eigenvalue\", \"eigenvalue\", \"eigenvalue\", \"eigenvalue\", \"eigenvalue\", \"eigenvalue\", \"element\", \"element\", \"element\", \"element\", \"element\", \"element\", \"element\", \"element\", \"element\", \"element\", \"em\", \"em\", \"em\", \"em\", \"em\", \"em\", \"em\", \"em\", \"em\", \"em\", \"em_algorithm\", \"em_algorithm\", \"em_algorithm\", \"em_algorithm\", \"em_algorithm\", \"em_algorithm\", \"empirical\", \"empirical\", \"empirical\", \"empirical\", \"empirical\", \"empirical\", \"empirical\", \"empirical\", \"empirical\", \"empirical\", \"energy\", \"energy\", \"energy\", \"energy\", \"energy\", \"energy\", \"energy\", \"energy\", \"energy\", \"energy\", \"energy_function\", \"energy_function\", \"energy_function\", \"energy_function\", \"energy_function\", \"energy_function\", \"energy_function\", \"energy_function\", \"energy_function\", \"entropy\", \"entropy\", \"entropy\", \"entropy\", \"entropy\", \"entropy\", \"entropy\", \"entropy\", \"entropy\", \"epoch\", \"epoch\", \"epoch\", \"epoch\", \"epoch\", \"epoch\", \"epoch\", \"epoch\", \"epoch\", \"epoch\", \"epsp\", \"eq\", \"eq\", \"eq\", \"eq\", \"eq\", \"eq\", \"eq\", \"eq\", \"eq\", \"eq\", \"equilibrium\", \"equilibrium\", \"equilibrium\", \"equilibrium\", \"equilibrium\", \"equilibrium\", \"equilibrium\", \"equilibrium\", \"estimate\", \"estimate\", \"estimate\", \"estimate\", \"estimate\", \"estimate\", \"estimate\", \"estimate\", \"estimate\", \"estimate\", \"estimation\", \"estimation\", \"estimation\", \"estimation\", \"estimation\", \"estimation\", \"estimation\", \"estimation\", \"estimation\", \"estimation\", \"europhys\", \"europhys\", \"excitatory\", \"excitatory\", \"excitatory\", \"excitatory\", \"excitatory\", \"excitatory\", \"excitatory_neuron\", \"expected\", \"expected\", \"expected\", \"expected\", \"expected\", \"expected\", \"expected\", \"expected\", \"expected\", \"expected\", \"expert\", \"expert\", \"expert\", \"expert\", \"expert\", \"expert\", \"expert\", \"eye\", \"eye\", \"eye\", \"eye\", \"eye\", \"eye\", \"eye\", \"eye\", \"eye\", \"eye_movement\", \"eye_movement\", \"eye_movement\", \"eye_position\", \"eye_position\", \"fabricated\", \"fabricated\", \"face\", \"face\", \"face\", \"face\", \"face\", \"face\", \"face\", \"face\", \"face\", \"face_recognition\", \"face_recognition\", \"facial\", \"facial\", \"facial\", \"facial\", \"factor\", \"factor\", \"factor\", \"factor\", \"factor\", \"factor\", \"factor\", \"factor\", \"factor\", \"factor\", \"factor_analysis\", \"factor_analysis\", \"fahlman\", \"fahlman\", \"fahlman\", \"fahlman\", \"fault\", \"fault\", \"fault\", \"fault\", \"fault\", \"fault\", \"feature_map\", \"feature_map\", \"feature_map\", \"feature_map\", \"feature_map\", \"feature_map\", \"feature_map\", \"feedback\", \"feedback\", \"feedback\", \"feedback\", \"feedback\", \"feedback\", \"feedback\", \"feedback\", \"feedback\", \"feedback\", \"fiber\", \"fiber\", \"fiber\", \"fiber\", \"fiber\", \"field\", \"field\", \"field\", \"field\", \"field\", \"field\", \"field\", \"field\", \"field\", \"field\", \"fig\", \"fig\", \"fig\", \"fig\", \"fig\", \"fig\", \"fig\", \"fig\", \"fig\", \"fig\", \"figure_ground\", \"figure_ground\", \"figure_ground\", \"filling\", \"filling\", \"filling\", \"filling\", \"filling\", \"filling\", \"filter\", \"filter\", \"filter\", \"filter\", \"filter\", \"filter\", \"filter\", \"filter\", \"filter\", \"filter\", \"filter_bank\", \"filter_bank\", \"finger\", \"finger\", \"finger\", \"finite\", \"finite\", \"finite\", \"finite\", \"finite\", \"finite\", \"finite\", \"finite\", \"finite\", \"finite\", \"fire\", \"fire\", \"fire\", \"fire\", \"fire\", \"fire\", \"fire\", \"firing\", \"firing\", \"firing\", \"firing\", \"firing\", \"firing\", \"firing\", \"firing_rate\", \"firing_rate\", \"firing_rate\", \"firing_rate\", \"fitness\", \"fixed_point\", \"fixed_point\", \"fixed_point\", \"fixed_point\", \"fixed_point\", \"fixed_point\", \"fixed_point\", \"floating_gate\", \"following_lemma\", \"font\", \"font\", \"font\", \"font\", \"force\", \"force\", \"force\", \"force\", \"force\", \"force\", \"force\", \"force\", \"force\", \"force\", \"formant\", \"formant\", \"formant\", \"frame\", \"frame\", \"frame\", \"frame\", \"frame\", \"frame\", \"frame\", \"frame\", \"frame\", \"frame\", \"frequency\", \"frequency\", \"frequency\", \"frequency\", \"frequency\", \"frequency\", \"frequency\", \"frequency\", \"frequency\", \"frequency\", \"frequency_domain\", \"frequency_domain\", \"freund\", \"freund\", \"freund\", \"freund\", \"freund\", \"fully_recurrent\", \"fully_recurrent\", \"gain\", \"gain\", \"gain\", \"gain\", \"gain\", \"gain\", \"gain\", \"gain\", \"gain\", \"gain\", \"game\", \"game\", \"game\", \"game\", \"game\", \"gardner\", \"gardner\", \"gate\", \"gate\", \"gate\", \"gate\", \"gate\", \"gate\", \"gate\", \"gate\", \"gate\", \"gate_voltage\", \"gaussian\", \"gaussian\", \"gaussian\", \"gaussian\", \"gaussian\", \"gaussian\", \"gaussian\", \"gaussian\", \"gaussian\", \"gaussian\", \"gaussians\", \"gaussians\", \"gaussians\", \"gaussians\", \"gaussians\", \"gaussians\", \"gaussians\", \"gaussians\", \"gaussians\", \"gaussians\", \"gaze\", \"gaze\", \"gaze\", \"gaze\", \"gc\", \"gc\", \"gc\", \"gc\", \"gc\", \"gc\", \"geiger\", \"geiger\", \"geiger\", \"geiger\", \"geman\", \"geman\", \"geman\", \"geman\", \"geman\", \"geman\", \"generalization\", \"generalization\", \"generalization\", \"generalization\", \"generalization\", \"generalization\", \"generalization\", \"generalization\", \"generalization\", \"generalization\", \"generarive\", \"generarive\", \"generarive\", \"generarive_model\", \"generarive_model\", \"generative\", \"generative\", \"generative\", \"generative\", \"generative\", \"generative\", \"generative\", \"generative\", \"genetic\", \"genetic\", \"genetic\", \"genetic\", \"genetic_algorithm\", \"geniculate\", \"ghahramani\", \"ghahramani\", \"ghahramani\", \"ghahramani\", \"gibbs_sampling\", \"gibbs_sampling\", \"gibbs_sampling\", \"gradient\", \"gradient\", \"gradient\", \"gradient\", \"gradient\", \"gradient\", \"gradient\", \"gradient\", \"gradient\", \"gradient\", \"grammar\", \"grammar\", \"grammar\", \"grammar\", \"grammar\", \"grammar\", \"hand\", \"hand\", \"hand\", \"hand\", \"hand\", \"hand\", \"hand\", \"hand\", \"hand\", \"hand\", \"hand_printed\", \"hand_printed\", \"handwritten\", \"handwritten\", \"handwritten\", \"handwritten\", \"handwritten\", \"handwritten\", \"hardware\", \"hardware\", \"hardware\", \"hardware\", \"hardware\", \"hardware\", \"hardware\", \"hardware\", \"head\", \"head\", \"head\", \"head\", \"head\", \"head\", \"head\", \"head\", \"head\", \"hearing\", \"hearing\", \"hidden\", \"hidden\", \"hidden\", \"hidden\", \"hidden\", \"hidden\", \"hidden\", \"hidden\", \"hidden\", \"hidden\", \"hidden_layer\", \"hidden_layer\", \"hidden_layer\", \"hidden_layer\", \"hidden_layer\", \"hidden_layer\", \"hidden_layer\", \"hidden_layer\", \"hidden_layer\", \"hidden_layer\", \"hidden_markov\", \"hidden_markov\", \"hidden_markov\", \"hidden_markov\", \"hidden_markov\", \"hidden_unit\", \"hidden_unit\", \"hidden_unit\", \"hidden_unit\", \"hidden_unit\", \"hidden_unit\", \"hidden_unit\", \"hidden_unit\", \"hidden_unit\", \"hilbert_space\", \"hill_climbing\", \"hill_climbing\", \"hill_climbing\", \"hill_climbing\", \"hint\", \"hint\", \"hint\", \"hint\", \"hint\", \"hint\", \"hippocampal\", \"hippocampal\", \"hippocampal\", \"hmm\", \"hmm\", \"hmm\", \"hmm\", \"hmm\", \"hmms\", \"hop_field\", \"hop_field\", \"hop_field\", \"hop_field\", \"hopfield\", \"hopfield\", \"hopfield\", \"hopfield\", \"hopfield\", \"hopfield\", \"hopfield\", \"hopfield\", \"hopfield\", \"hopfield_1982\", \"hopfield_1982\", \"hopfield_1982\", \"huberman\", \"huberman\", \"huberman\", \"huberman\", \"human\", \"human\", \"human\", \"human\", \"human\", \"human\", \"human\", \"human\", \"human\", \"human\", \"human_expert\", \"human_expert\", \"human_expert\", \"human_face\", \"human_face\", \"human_face\", \"hybrid\", \"hybrid\", \"hybrid\", \"hybrid\", \"hybrid\", \"hybrid\", \"hybrid\", \"hybrid\", \"hybrid\", \"hypothesis\", \"hypothesis\", \"hypothesis\", \"hypothesis\", \"hypothesis\", \"hypothesis\", \"hypothesis\", \"hypothesis\", \"hypothesis\", \"ica\", \"ica\", \"ica\", \"ica\", \"ica\", \"image\", \"image\", \"image\", \"image\", \"image\", \"image\", \"image\", \"image\", \"image\", \"image\", \"implementation\", \"implementation\", \"implementation\", \"implementation\", \"implementation\", \"implementation\", \"implementation\", \"implementation\", \"implementation\", \"implementation\", \"independent\", \"independent\", \"independent\", \"independent\", \"independent\", \"independent\", \"independent\", \"independent\", \"independent\", \"independent\", \"independent_component\", \"independent_component\", \"independent_component\", \"independent_component\", \"inequality\", \"inequality\", \"inequality\", \"inequality\", \"inequality\", \"inequality\", \"inequality\", \"infomax\", \"infomax\", \"infomax\", \"infomax\", \"infomax\", \"inhibition\", \"inhibition\", \"inhibition\", \"inhibition\", \"inhibition\", \"inhibition\", \"inhibition\", \"inhibitory\", \"inhibitory\", \"inhibitory\", \"inhibitory\", \"inhibitory\", \"inhibitory\", \"inhibitory\", \"inhibitory\", \"initial\", \"initial\", \"initial\", \"initial\", \"initial\", \"initial\", \"initial\", \"initial\", \"initial\", \"initial\", \"instruction\", \"instruction\", \"instruction\", \"instruction\", \"instruction\", \"instruction\", \"integrated_circuit\", \"internal_representation\", \"internal_representation\", \"internal_representation\", \"internal_representation\", \"internal_representation\", \"internal_representation\", \"internal_representation\", \"interneurons\", \"interneurons\", \"interpolation\", \"interpolation\", \"interpolation\", \"interpolation\", \"interpolation\", \"interpolation\", \"interpolation\", \"interpolation\", \"interpolation\", \"interspike\", \"intracellular\", \"inverse\", \"inverse\", \"inverse\", \"inverse\", \"inverse\", \"inverse\", \"inverse\", \"inverse\", \"inverse\", \"inverse\", \"joint_angle\", \"joint_angle\", \"joint_density\", \"joint_density\", \"joint_density\", \"kalman\", \"kalman\", \"kalman\", \"kalman\", \"kalman\", \"kalman\", \"kawato\", \"kernel\", \"kernel\", \"kernel\", \"kernel\", \"kernel\", \"kernel\", \"kernel\", \"kernel\", \"kernel\", \"kernel\", \"kinematic\", \"kinematic\", \"knowledge\", \"knowledge\", \"knowledge\", \"knowledge\", \"knowledge\", \"knowledge\", \"knowledge\", \"knowledge\", \"knowledge\", \"knowledge\", \"kohonen\", \"kohonen\", \"kohonen\", \"kohonen\", \"kohonen\", \"kohonen\", \"kohonen\", \"kohonen\", \"kohonen\", \"kohonen\", \"kohonen_self\", \"kohonen_self\", \"kohonen_self\", \"kohonen_self\", \"language\", \"language\", \"language\", \"language\", \"language\", \"language\", \"language\", \"language\", \"language\", \"large_vocabulary\", \"latent\", \"latent\", \"latent\", \"latent\", \"latent_variable\", \"lateral\", \"lateral\", \"lateral\", \"lateral\", \"lateral\", \"lateral\", \"lateral\", \"layer\", \"layer\", \"layer\", \"layer\", \"layer\", \"layer\", \"layer\", \"layer\", \"layer\", \"layer\", \"learn\", \"learn\", \"learn\", \"learn\", \"learn\", \"learn\", \"learn\", \"learn\", \"learn\", \"learn\", \"learner\", \"learner\", \"learner\", \"learner\", \"lemma\", \"lemma\", \"lemma\", \"lemma\", \"lemma_let\", \"let\", \"let\", \"let\", \"let\", \"let\", \"let\", \"let\", \"let\", \"let\", \"let\", \"lett\", \"lett\", \"lett\", \"lett\", \"lett\", \"lett\", \"lett\", \"letter\", \"letter\", \"letter\", \"letter\", \"letter\", \"letter\", \"letter\", \"letter\", \"letter\", \"letter\", \"lexical\", \"lexical\", \"lexical\", \"lgn\", \"lgn\", \"lighting\", \"lighting\", \"lighting\", \"lighting\", \"likelihood\", \"likelihood\", \"likelihood\", \"likelihood\", \"likelihood\", \"likelihood\", \"likelihood\", \"likelihood\", \"likelihood\", \"likelihood\", \"limb\", \"limb\", \"limit\", \"limit\", \"limit\", \"limit\", \"limit\", \"limit\", \"limit\", \"limit\", \"limit\", \"limit\", \"localization\", \"localization\", \"localization\", \"localization\", \"localization\", \"localization\", \"localization\", \"localization\", \"locally_weighted\", \"location\", \"location\", \"location\", \"location\", \"location\", \"location\", \"location\", \"location\", \"location\", \"location\", \"log\", \"log\", \"log\", \"log\", \"log\", \"log\", \"log\", \"log\", \"log\", \"log\", \"loss\", \"loss\", \"loss\", \"loss\", \"loss\", \"loss\", \"loss\", \"loss\", \"loss\", \"loss\", \"loss_function\", \"loss_function\", \"loss_function\", \"loss_function\", \"low\", \"low\", \"low\", \"low\", \"low\", \"low\", \"low\", \"low\", \"low\", \"low\", \"low_power\", \"low_power\", \"low_resolution\", \"low_resolution\", \"low_resolution\", \"low_resolution\", \"lower_bound\", \"lower_bound\", \"lower_bound\", \"lower_bound\", \"lower_bound\", \"lower_bound\", \"lower_bound\", \"lower_bound\", \"lower_bound\", \"lyapunov\", \"lyapunov\", \"lyapunov\", \"lyapunov\", \"lyapunov\", \"lyapunov\", \"machine\", \"machine\", \"machine\", \"machine\", \"machine\", \"machine\", \"machine\", \"machine\", \"machine\", \"machine\", \"manfred\", \"map\", \"map\", \"map\", \"map\", \"map\", \"map\", \"map\", \"map\", \"map\", \"map\", \"mapping\", \"mapping\", \"mapping\", \"mapping\", \"mapping\", \"mapping\", \"mapping\", \"mapping\", \"mapping\", \"mapping\", \"margin\", \"margin\", \"margin\", \"margin\", \"margin\", \"margin\", \"margin\", \"markov\", \"markov\", \"markov\", \"markov\", \"markov\", \"markov\", \"markov\", \"markov\", \"markov\", \"markov_model\", \"markov_model\", \"markov_model\", \"markov_model\", \"markov_random\", \"markov_random\", \"markov_random\", \"markov_random\", \"matrix\", \"matrix\", \"matrix\", \"matrix\", \"matrix\", \"matrix\", \"matrix\", \"matrix\", \"matrix\", \"matrix\", \"maximisation\", \"maximisation\", \"maximum\", \"maximum\", \"maximum\", \"maximum\", \"maximum\", \"maximum\", \"maximum\", \"maximum\", \"maximum\", \"maximum\", \"maximum_likelihood\", \"maximum_likelihood\", \"maximum_likelihood\", \"maximum_likelihood\", \"maximum_likelihood\", \"maximum_likelihood\", \"maximum_likelihood\", \"maximum_likelihood\", \"mcclelland_editor\", \"mcclelland_editor\", \"mcclelland_editor\", \"mead\", \"mead\", \"mead\", \"mead_1989\", \"mead_1989\", \"mechanism\", \"mechanism\", \"mechanism\", \"mechanism\", \"mechanism\", \"mechanism\", \"mechanism\", \"mechanism\", \"mechanism\", \"mechanism\", \"membrane\", \"membrane\", \"membrane\", \"membrane\", \"membrane_potential\", \"membrane_potential\", \"memory\", \"memory\", \"memory\", \"memory\", \"memory\", \"memory\", \"memory\", \"memory\", \"memory\", \"memory\", \"message\", \"message\", \"message\", \"message\", \"message\", \"message\", \"message\", \"message\", \"message\", \"message\", \"minimum\", \"minimum\", \"minimum\", \"minimum\", \"minimum\", \"minimum\", \"minimum\", \"minimum\", \"minimum\", \"minimum\", \"missing\", \"missing\", \"missing\", \"missing\", \"missing\", \"missing\", \"missing\", \"missing\", \"missing\", \"missing_data\", \"missing_data\", \"missing_data\", \"mitchell\", \"mitchell\", \"mitchell\", \"mixing\", \"mixing\", \"mixing\", \"mixing\", \"mixing\", \"mixing\", \"mixing\", \"mixing\", \"mixing_matrix\", \"mixing_proportion\", \"mixing_proportion\", \"mixing_proportion\", \"mixing_proportion\", \"mixture\", \"mixture\", \"mixture\", \"mixture\", \"mixture\", \"mixture\", \"mixture\", \"mixture\", \"mixture\", \"mlp\", \"mlp\", \"mlp\", \"mlp\", \"mlp\", \"mlp\", \"mo_transistor\", \"module\", \"module\", \"module\", \"module\", \"module\", \"module\", \"module\", \"module\", \"module\", \"module\", \"mosis\", \"motion\", \"motion\", \"motion\", \"motion\", \"motion\", \"motion\", \"motion\", \"motion\", \"motion\", \"motor\", \"motor\", \"motor\", \"motor\", \"motor\", \"motor\", \"motor\", \"motor\", \"motor_command\", \"motor_command\", \"motor_control\", \"motor_control\", \"motor_control\", \"movement\", \"movement\", \"movement\", \"movement\", \"movement\", \"movement\", \"movement\", \"movement\", \"movement\", \"movement\", \"moving_object\", \"moving_object\", \"moving_object\", \"muscle\", \"muscle\", \"muscle\", \"muscle\", \"mutation\", \"mutation\", \"mutation\", \"ncrg\", \"ncrg\", \"neal\", \"neal\", \"neal\", \"neal\", \"neal\", \"neighborhood\", \"neighborhood\", \"neighborhood\", \"neighborhood\", \"neighborhood\", \"neighborhood\", \"neighborhood\", \"neighborhood\", \"neighborhood\", \"neighborhood\", \"neocortical\", \"net\", \"net\", \"net\", \"net\", \"net\", \"net\", \"net\", \"net\", \"net\", \"net\", \"neurol\", \"neuron\", \"neuron\", \"neuron\", \"neuron\", \"neuron\", \"neuron\", \"neuron\", \"neuron\", \"neuron\", \"neuron\", \"neuronal\", \"neuronal\", \"neuronal\", \"neuronal\", \"neuronal\", \"neuronal\", \"neuronal\", \"neuronal\", \"node\", \"node\", \"node\", \"node\", \"node\", \"node\", \"node\", \"node\", \"node\", \"node\", \"noise\", \"noise\", \"noise\", \"noise\", \"noise\", \"noise\", \"noise\", \"noise\", \"noise\", \"noise\", \"nonlinear\", \"nonlinear\", \"nonlinear\", \"nonlinear\", \"nonlinear\", \"nonlinear\", \"nonlinear\", \"nonlinear\", \"nonlinear\", \"nonlinear\", \"object\", \"object\", \"object\", \"object\", \"object\", \"object\", \"object\", \"object\", \"object\", \"object\", \"ocr\", \"ocr\", \"ocr\", \"ocular\", \"ocular\", \"ocular\", \"ocular_dominance\", \"ocular_dominance\", \"oculomotor\", \"oculomotor\", \"oculomotor\", \"off_chip\", \"olfactory\", \"olfactory\", \"olfactory_bulb\", \"optimal\", \"optimal\", \"optimal\", \"optimal\", \"optimal\", \"optimal\", \"optimal\", \"optimal\", \"optimal\", \"optimal\", \"optimal_control\", \"optimal_control\", \"optimal_control\", \"organizing\", \"organizing\", \"organizing\", \"organizing\", \"organizing\", \"organizing\", \"organizing\", \"organizing\", \"organizing\", \"orientation\", \"orientation\", \"orientation\", \"orientation\", \"orientation\", \"orientation\", \"orientation\", \"orientation\", \"outer_product\", \"outer_product\", \"outer_product\", \"outer_product\", \"outer_product\", \"pac\", \"pac\", \"pac\", \"packet\", \"packet\", \"packet\", \"packet\", \"parasitic\", \"parietal\", \"parietal\", \"parity_problem\", \"parity_problem\", \"parity_problem\", \"patient\", \"patient\", \"patient\", \"patient\", \"patient\", \"patient\", \"patient\", \"patient\", \"pca\", \"pca\", \"pca\", \"pca\", \"pca\", \"pca\", \"pca\", \"pentland\", \"pentland\", \"pentland\", \"person\", \"person\", \"person\", \"person\", \"person\", \"person\", \"person\", \"phase\", \"phase\", \"phase\", \"phase\", \"phase\", \"phase\", \"phase\", \"phase\", \"phase\", \"phase\", \"phone\", \"phone\", \"phone\", \"phone\", \"phone\", \"phoneme\", \"phoneme\", \"phoneme\", \"phoneme\", \"phoneme\", \"phoneme\", \"phonetic\", \"phonetic\", \"phonetic\", \"phrase\", \"phrase\", \"phrase\", \"phrase\", \"phrase\", \"phrase\", \"phys\", \"phys\", \"phys\", \"phys\", \"phys\", \"phys\", \"phys\", \"phys\", \"phys\", \"phys_rev\", \"phys_rev\", \"phys_rev\", \"phys_rev\", \"phys_rev\", \"physiol\", \"physiol\", \"physiol\", \"pixel\", \"pixel\", \"pixel\", \"pixel\", \"pixel\", \"pixel\", \"pixel\", \"pixel\", \"pixel\", \"pixel_intensity\", \"pixel_intensity\", \"pixel_intensity\", \"policy\", \"policy\", \"policy\", \"policy\", \"policy\", \"polynomial\", \"polynomial\", \"polynomial\", \"polynomial\", \"polynomial\", \"polynomial\", \"polynomial\", \"polynomial\", \"polynomial\", \"polynomial\", \"pooling\", \"pooling\", \"pooling\", \"pooling\", \"pooling\", \"position\", \"position\", \"position\", \"position\", \"position\", \"position\", \"position\", \"position\", \"position\", \"position\", \"posterior\", \"posterior\", \"posterior\", \"posterior\", \"posterior\", \"posterior\", \"posterior\", \"posterior_distribution\", \"posterior_distribution\", \"posterior_distribution\", \"posterior_distribution\", \"postsynaptic\", \"potential\", \"potential\", \"potential\", \"potential\", \"potential\", \"potential\", \"potential\", \"potential\", \"potential\", \"potential\", \"potentiation\", \"power_consumption\", \"power_dissipation\", \"pp\", \"pp\", \"pp\", \"pp\", \"pp\", \"pp\", \"pp\", \"pp\", \"pp\", \"pp\", \"prediction\", \"prediction\", \"prediction\", \"prediction\", \"prediction\", \"prediction\", \"prediction\", \"prediction\", \"prediction\", \"prediction\", \"preservation\", \"preservation\", \"preservation\", \"preservation\", \"preservation\", \"preservation\", \"principal\", \"principal\", \"principal\", \"principal\", \"principal\", \"principal\", \"principal\", \"principal\", \"principal\", \"principle\", \"principle\", \"principle\", \"principle\", \"principle\", \"principle\", \"principle\", \"principle\", \"principle\", \"principle\", \"printed\", \"printed\", \"printed\", \"printed\", \"printed\", \"printed\", \"prior\", \"prior\", \"prior\", \"prior\", \"prior\", \"prior\", \"prior\", \"prior\", \"prior\", \"prior\", \"programmable\", \"programmable\", \"programmable\", \"programming\", \"programming\", \"programming\", \"programming\", \"programming\", \"programming\", \"programming\", \"programming\", \"projection_pursuit\", \"projection_pursuit\", \"projection_pursuit\", \"projection_pursuit\", \"proof\", \"proof\", \"proof\", \"proof\", \"proof\", \"proof\", \"proof\", \"proof\", \"proof\", \"proof\", \"propagation\", \"propagation\", \"propagation\", \"propagation\", \"propagation\", \"propagation\", \"propagation\", \"propagation\", \"propagation\", \"propagation\", \"pulse\", \"pulse\", \"pulse\", \"pulse\", \"pulse\", \"pyramid\", \"pyramid\", \"pyramid\", \"pyramid\", \"pyramid\", \"pyramid\", \"pyramidal_cell\", \"pyramidal_neuron\", \"quantization\", \"quantization\", \"quantization\", \"quantization\", \"quantization\", \"quantization\", \"quantization\", \"quantization\", \"quantization\", \"query\", \"query\", \"query\", \"query\", \"query\", \"rabiner\", \"rabiner\", \"random_dot\", \"random_dot\", \"random_dot\", \"rat\", \"rat\", \"rat\", \"rat\", \"rat\", \"rat\", \"rat\", \"rbf\", \"rbf\", \"rbf\", \"rbf\", \"rbf\", \"rbf\", \"rbf\", \"rbf\", \"rbf\", \"recall\", \"recall\", \"recall\", \"recall\", \"recall\", \"recall\", \"recall\", \"recall\", \"recall\", \"recall\", \"receptive\", \"receptive\", \"receptive\", \"receptive\", \"receptive\", \"receptive\", \"receptive\", \"receptive\", \"receptive_field\", \"receptive_field\", \"receptive_field\", \"receptive_field\", \"receptive_field\", \"receptive_field\", \"receptive_field\", \"receptor\", \"receptor\", \"receptor\", \"receptor\", \"receptor\", \"receptor\", \"recognition\", \"recognition\", \"recognition\", \"recognition\", \"recognition\", \"recognition\", \"recognition\", \"recognition\", \"recognition\", \"recognition\", \"recurrent\", \"recurrent\", \"recurrent\", \"recurrent\", \"recurrent\", \"recurrent\", \"recurrent\", \"recurrent\", \"recurrent\", \"recurrent\", \"recurrent_net\", \"recurrent_net\", \"recurrent_net\", \"recurrent_network\", \"recurrent_network\", \"recurrent_network\", \"recurrent_network\", \"recurrent_network\", \"recurrent_network\", \"recurrent_network\", \"recurrent_network\", \"recurrent_network\", \"region\", \"region\", \"region\", \"region\", \"region\", \"region\", \"region\", \"region\", \"region\", \"region\", \"regression\", \"regression\", \"regression\", \"regression\", \"regression\", \"regression\", \"regression\", \"regression\", \"regression\", \"reinforcement\", \"reinforcement\", \"reinforcement\", \"reinforcement\", \"reinforcement\", \"reinforcement\", \"reinforcement\", \"reinforcement\", \"reinforcement_learning\", \"reinforcement_learning\", \"reinforcement_learning\", \"reinforcement_learning\", \"reinforcement_learning\", \"reinforcement_learning\", \"replica\", \"replica\", \"replica\", \"replica\", \"replica\", \"replica\", \"resistor\", \"resistor\", \"resistor\", \"resolution\", \"resolution\", \"resolution\", \"resolution\", \"resolution\", \"resolution\", \"resolution\", \"resolution\", \"resolution\", \"resolution\", \"response\", \"response\", \"response\", \"response\", \"response\", \"response\", \"response\", \"response\", \"response\", \"response\", \"reward\", \"reward\", \"reward\", \"reward\", \"reward\", \"reward\", \"rigid\", \"rigid\", \"rigid\", \"rigid\", \"rigid\", \"rigid\", \"risk\", \"risk\", \"risk\", \"risk\", \"risk\", \"risk\", \"ritter\", \"ritter\", \"ritter\", \"ritter\", \"road\", \"road\", \"road\", \"road\", \"road\", \"road\", \"road\", \"road\", \"road\", \"robot\", \"robot\", \"robot\", \"robot\", \"robot\", \"robot\", \"robot\", \"robot\", \"robot\", \"rotation\", \"rotation\", \"rotation\", \"rotation\", \"rotation\", \"rotation\", \"rotation\", \"rotational\", \"rotational\", \"rotational\", \"rotational\", \"routing\", \"routing\", \"routing\", \"routing\", \"routing\", \"rubin_1977\", \"rubin_1977\", \"rubin_1977\", \"rubin_maximum\", \"rubin_maximum\", \"rule\", \"rule\", \"rule\", \"rule\", \"rule\", \"rule\", \"rule\", \"rule\", \"rule\", \"rule\", \"rumelhart\", \"rumelhart\", \"rumelhart\", \"rumelhart\", \"rumelhart\", \"rumelhart\", \"rumelhart\", \"rumelhart\", \"rumelhart\", \"rumelhart\", \"rumelhart_hinton\", \"rumelhart_hinton\", \"rumelhart_hinton\", \"rumelhart_hinton\", \"rumelhart_hinton\", \"rumelhart_hinton\", \"rumelhart_hinton\", \"rumelhart_hinton\", \"run\", \"run\", \"run\", \"run\", \"run\", \"run\", \"run\", \"run\", \"run\", \"run\", \"saad\", \"saad\", \"saccade\", \"saccade\", \"saccade\", \"saccadic\", \"saccadic\", \"saccadic\", \"saccadic_eye\", \"saddle\", \"saddle\", \"saddle\", \"saddle\", \"saddle\", \"saddle\", \"saddle\", \"saddle_point\", \"saddle_point\", \"saddle_point\", \"saddle_point\", \"saddle_point\", \"saddle_point\", \"saddle_point\", \"saliency\", \"saliency\", \"saliency\", \"saliency\", \"saliency\", \"saliency\", \"sample\", \"sample\", \"sample\", \"sample\", \"sample\", \"sample\", \"sample\", \"sample\", \"sample\", \"sample\", \"sample_complexity\", \"sample_size\", \"sample_size\", \"sample_size\", \"sample_size\", \"sample_size\", \"scale\", \"scale\", \"scale\", \"scale\", \"scale\", \"scale\", \"scale\", \"scale\", \"scale\", \"scale\", \"schapire\", \"schapire\", \"schapire\", \"schapire\", \"schedule\", \"schedule\", \"schedule\", \"schedule\", \"schedule\", \"schedule\", \"schmidhuber\", \"schmidhuber\", \"schmidhuber\", \"schmidhuber\", \"schulten\", \"schulten\", \"schulten\", \"schulten\", \"schulten\", \"search\", \"search\", \"search\", \"search\", \"search\", \"search\", \"search\", \"search\", \"search\", \"search\", \"self\", \"self\", \"self\", \"self\", \"self\", \"self\", \"self\", \"self\", \"self\", \"self\", \"self_organizing\", \"self_organizing\", \"self_organizing\", \"self_organizing\", \"self_organizing\", \"self_organizing\", \"self_organizing\", \"self_organizing\", \"self_organizing\", \"sensorimotor\", \"sensorimotor\", \"sensorimotor\", \"sensorimotor\", \"sentence\", \"sentence\", \"sentence\", \"sentence\", \"sentence\", \"sentence\", \"sequence\", \"sequence\", \"sequence\", \"sequence\", \"sequence\", \"sequence\", \"sequence\", \"sequence\", \"sequence\", \"sequence\", \"shavlik\", \"shavlik\", \"signal\", \"signal\", \"signal\", \"signal\", \"signal\", \"signal\", \"signal\", \"signal\", \"signal\", \"signal\", \"silicon\", \"silicon\", \"silicon\", \"silicon\", \"silicon\", \"similarity\", \"similarity\", \"similarity\", \"similarity\", \"similarity\", \"similarity\", \"similarity\", \"similarity\", \"similarity\", \"similarity\", \"simulation\", \"simulation\", \"simulation\", \"simulation\", \"simulation\", \"simulation\", \"simulation\", \"simulation\", \"simulation\", \"simulation\", \"smola\", \"solution\", \"solution\", \"solution\", \"solution\", \"solution\", \"solution\", \"solution\", \"solution\", \"solution\", \"solution\", \"song\", \"song\", \"song\", \"song\", \"song\", \"song\", \"sontag\", \"sontag\", \"sontag\", \"sound\", \"sound\", \"sound\", \"sound\", \"sound\", \"sound\", \"sound\", \"sound\", \"sound\", \"sound_source\", \"sound_source\", \"sound_source\", \"source\", \"source\", \"source\", \"source\", \"source\", \"source\", \"source\", \"source\", \"source\", \"source\", \"source_separation\", \"source_separation\", \"source_separation\", \"spatial\", \"spatial\", \"spatial\", \"spatial\", \"spatial\", \"spatial\", \"spatial\", \"spatial\", \"spatial\", \"speaker\", \"speaker\", \"speaker\", \"speaker\", \"speaker\", \"speaker\", \"speaker\", \"speaker_dependent\", \"speaker_dependent\", \"speaker_independent\", \"spectral\", \"spectral\", \"spectral\", \"spectral\", \"spectral\", \"spectral\", \"spectral\", \"spectral\", \"speech\", \"speech\", \"speech\", \"speech\", \"speech\", \"speech\", \"speech\", \"speech\", \"speech\", \"speech_recognition\", \"speech_recognition\", \"speech_recognition\", \"speech_recognition\", \"speech_recognition\", \"speech_recognition\", \"speech_recognition\", \"spike\", \"spike\", \"spike\", \"spike\", \"spike\", \"spike\", \"spike\", \"spike\", \"spike_train\", \"spike_train\", \"spin\", \"spin\", \"spin\", \"spin\", \"spin\", \"spin\", \"spin_glass\", \"spin_glass\", \"spin_glass\", \"spin_glass\", \"spoken\", \"spoken\", \"spoken\", \"spoken\", \"spoken_language\", \"spoken_language\", \"stability\", \"stability\", \"stability\", \"stability\", \"stability\", \"stability\", \"stability\", \"stability\", \"stability\", \"stable\", \"stable\", \"stable\", \"stable\", \"stable\", \"stable\", \"stable\", \"stable\", \"stable\", \"stable\", \"stable_fixed\", \"stable_fixed\", \"stable_fixed\", \"statistical_mechanic\", \"statistical_mechanic\", \"statistical_mechanic\", \"statistical_mechanic\", \"statistical_mechanic\", \"statistical_mechanic\", \"stereo\", \"stereo\", \"stereo\", \"stereo\", \"stereo\", \"stimulus\", \"stimulus\", \"stimulus\", \"stimulus\", \"stimulus\", \"stimulus\", \"stimulus\", \"stimulus\", \"stochastic\", \"stochastic\", \"stochastic\", \"stochastic\", \"stochastic\", \"stochastic\", \"stochastic\", \"stochastic\", \"stochastic\", \"stochastic\", \"storage_capacity\", \"storage_capacity\", \"storage_capacity\", \"stored_memory\", \"stored_memory\", \"stored_memory\", \"string\", \"string\", \"string\", \"string\", \"string\", \"string\", \"string\", \"string\", \"string\", \"student\", \"student\", \"student\", \"student\", \"student\", \"student\", \"student\", \"student\", \"subject\", \"subject\", \"subject\", \"subject\", \"subject\", \"subject\", \"subject\", \"subject\", \"subject\", \"subject\", \"support\", \"support\", \"support\", \"support\", \"support\", \"support\", \"support\", \"support\", \"support\", \"support\", \"support_vector\", \"support_vector\", \"surface\", \"surface\", \"surface\", \"surface\", \"surface\", \"surface\", \"surface\", \"surface\", \"surface\", \"surface\", \"sutton\", \"sutton\", \"sutton\", \"sutton\", \"sutton\", \"sutton\", \"svm\", \"svm\", \"symbol\", \"symbol\", \"symbol\", \"symbol\", \"symbol\", \"symbol\", \"symbol\", \"symbol\", \"symbol\", \"symbol\", \"symmetric\", \"symmetric\", \"symmetric\", \"symmetric\", \"symmetric\", \"symmetric\", \"symmetric\", \"symmetric\", \"symmetric\", \"symmetric\", \"synapse\", \"synapse\", \"synapse\", \"synapse\", \"synapsis\", \"synapsis\", \"synapsis\", \"synapsis\", \"synaptic\", \"synaptic\", \"synaptic\", \"synaptic\", \"synaptic\", \"synaptic\", \"synaptic\", \"synaptic\", \"synaptic\", \"synaptic_transmission\", \"table\", \"table\", \"table\", \"table\", \"table\", \"table\", \"table\", \"table\", \"table\", \"table\", \"tangent\", \"tangent\", \"tangent\", \"tangent\", \"tangent\", \"tangent\", \"tangent\", \"tangent\", \"tangent\", \"tangent\", \"target\", \"target\", \"target\", \"target\", \"target\", \"target\", \"target\", \"target\", \"target\", \"target\", \"tdnn\", \"tdnn\", \"tdnn\", \"teacher\", \"teacher\", \"teacher\", \"teacher\", \"teacher\", \"teacher\", \"teacher\", \"teacher\", \"teacher\", \"temperature\", \"temperature\", \"temperature\", \"temperature\", \"temperature\", \"temperature\", \"temperature\", \"temperature\", \"template\", \"template\", \"template\", \"template\", \"template\", \"template\", \"template\", \"template_matching\", \"template_matching\", \"template_matching\", \"template_matching\", \"temporal\", \"temporal\", \"temporal\", \"temporal\", \"temporal\", \"temporal\", \"temporal\", \"temporal\", \"temporal\", \"temporal\", \"tensor\", \"tensor\", \"tensor\", \"tensor\", \"tensor\", \"texture\", \"texture\", \"texture\", \"texture\", \"texture\", \"theorem\", \"theorem\", \"theorem\", \"theorem\", \"theorem\", \"theorem\", \"theorem\", \"theorem\", \"theorem\", \"theorem_let\", \"theorem_let\", \"threshold\", \"threshold\", \"threshold\", \"threshold\", \"threshold\", \"threshold\", \"threshold\", \"threshold\", \"threshold\", \"threshold\", \"time_warping\", \"time_warping\", \"topological\", \"topological\", \"topological\", \"topological\", \"topological\", \"topological\", \"topological\", \"topological\", \"topologically\", \"topologically\", \"topologically\", \"topologically\", \"topologically\", \"topologically\", \"topologically\", \"torque\", \"torque\", \"torque\", \"trained\", \"trained\", \"trained\", \"trained\", \"trained\", \"trained\", \"trained\", \"trained\", \"trained\", \"trained\", \"training_set\", \"training_set\", \"training_set\", \"training_set\", \"training_set\", \"training_set\", \"training_set\", \"training_set\", \"training_set\", \"training_set\", \"trajectory\", \"trajectory\", \"trajectory\", \"trajectory\", \"trajectory\", \"trajectory\", \"trajectory\", \"trajectory\", \"trajectory\", \"trajectory\", \"transconductance\", \"transformation\", \"transformation\", \"transformation\", \"transformation\", \"transformation\", \"transformation\", \"transformation\", \"transformation\", \"transformation\", \"transformation\", \"transistor\", \"transistor\", \"transition\", \"transition\", \"transition\", \"transition\", \"transition\", \"transition\", \"transition\", \"transition\", \"transition\", \"transition\", \"tree\", \"tree\", \"tree\", \"tree\", \"tree\", \"tree\", \"tree\", \"tree\", \"tree\", \"tree\", \"tresp\", \"tresp\", \"tresp\", \"tresp\", \"uci\", \"uci\", \"uniform_convergence\", \"unsupervised\", \"unsupervised\", \"unsupervised\", \"unsupervised\", \"unsupervised\", \"unsupervised\", \"unsupervised\", \"unsupervised\", \"unsupervised\", \"unsupervised\", \"upper_bound\", \"upper_bound\", \"upper_bound\", \"upper_bound\", \"upper_bound\", \"upper_bound\", \"upper_bound\", \"upper_bound\", \"utterance\", \"utterance\", \"vapnik\", \"vapnik\", \"vapnik_chervonenkis\", \"variance\", \"variance\", \"variance\", \"variance\", \"variance\", \"variance\", \"variance\", \"variance\", \"variance\", \"variance\", \"variational\", \"variational\", \"variational\", \"variational\", \"variational\", \"vc\", \"vc\", \"vc\", \"vc\", \"vc\", \"vc\", \"vc\", \"vc\", \"vc_dimension\", \"vc_dimension\", \"vector_quantization\", \"vector_quantization\", \"vector_quantization\", \"vector_quantization\", \"vector_quantization\", \"vector_quantization\", \"vector_quantization\", \"vector_quantization\", \"velocity\", \"velocity\", \"velocity\", \"velocity\", \"velocity\", \"velocity\", \"velocity\", \"velocity\", \"video\", \"video\", \"video\", \"video\", \"video\", \"view\", \"view\", \"view\", \"view\", \"view\", \"view\", \"view\", \"view\", \"view\", \"view\", \"vision\", \"vision\", \"vision\", \"vision\", \"vision\", \"vision\", \"vision\", \"vision\", \"vision\", \"vision\", \"visual\", \"visual\", \"visual\", \"visual\", \"visual\", \"visual\", \"visual\", \"visual\", \"visual\", \"visual_attention\", \"visual_attention\", \"viterbi\", \"vlsi\", \"vlsi\", \"vlsi\", \"vlsi\", \"vlsi\", \"vlsi\", \"vlsi\", \"vlsi\", \"vocabulary\", \"vocabulary\", \"vocabulary\", \"vocabulary\", \"voltage\", \"voltage\", \"voltage\", \"voltage\", \"voltage_dependent\", \"vowel\", \"vowel\", \"vowel\", \"vowel\", \"vowel\", \"vowel\", \"vowel\", \"waibel\", \"waibel\", \"waibel\", \"wake_sleep\", \"wake_sleep\", \"wake_sleep\", \"warmuth\", \"warping\", \"warping\", \"watkins\", \"watkins\", \"watkins\", \"watkins\", \"waveform\", \"waveform\", \"waveform\", \"waveform\", \"waveform\", \"waveform\", \"waveform\", \"waveform\", \"wavelet\", \"wavelet\", \"wavelet\", \"wavelet\", \"wavelet\", \"williams_1986\", \"williams_1986\", \"williams_1986\", \"williams_1986\", \"williams_1986\", \"williams_1986\", \"with_emergent\", \"with_emergent\", \"with_emergent\", \"with_emergent\", \"word\", \"word\", \"word\", \"word\", \"word\", \"word\", \"word\", \"word\", \"word\", \"word\", \"word_recognition\", \"word_recognition\", \"workspace\", \"workspace\", \"workspace\", \"workspace\", \"xi\", \"xi\", \"xi\", \"xi\", \"xi\", \"xi\", \"xi\", \"xi\", \"xi\", \"xi\", \"xi_xj\", \"xi_xj\", \"xi_xj\", \"xi_xj\", \"yi_xi\", \"yi_xi\", \"yuille\", \"yuille\", \"yuille\", \"yuille\", \"yuille\", \"yuille\", \"yuille\", \"zi\", \"zi\", \"zi\", \"zi\", \"zi\", \"zi\", \"zi\", \"zi\", \"zi\", \"zip\", \"zip\", \"zip\", \"zip\", \"zip\", \"zip_code\", \"zip_code\"]}, \"R\": 30, \"lambda.step\": 0.01, \"plot.opts\": {\"xlab\": \"PC1\", \"ylab\": \"PC2\"}, \"topic.order\": [1, 2, 3, 4, 5, 6, 7, 8, 9, 10]};\n",
       "\n",
       "function LDAvis_load_lib(url, callback){\n",
       "  var s = document.createElement('script');\n",
       "  s.src = url;\n",
       "  s.async = true;\n",
       "  s.onreadystatechange = s.onload = callback;\n",
       "  s.onerror = function(){console.warn(\"failed to load library \" + url);};\n",
       "  document.getElementsByTagName(\"head\")[0].appendChild(s);\n",
       "}\n",
       "\n",
       "if(typeof(LDAvis) !== \"undefined\"){\n",
       "   // already loaded: just create the visualization\n",
       "   !function(LDAvis){\n",
       "       new LDAvis(\"#\" + \"ldavis_el2147629703831550888389656267\", ldavis_el2147629703831550888389656267_data);\n",
       "   }(LDAvis);\n",
       "}else if(typeof define === \"function\" && define.amd){\n",
       "   // require.js is available: use it to load d3/LDAvis\n",
       "   require.config({paths: {d3: \"https://d3js.org/d3.v5\"}});\n",
       "   require([\"d3\"], function(d3){\n",
       "      window.d3 = d3;\n",
       "      LDAvis_load_lib(\"https://cdn.jsdelivr.net/gh/bmabey/pyLDAvis@3.3.1/pyLDAvis/js/ldavis.v3.0.0.js\", function(){\n",
       "        new LDAvis(\"#\" + \"ldavis_el2147629703831550888389656267\", ldavis_el2147629703831550888389656267_data);\n",
       "      });\n",
       "    });\n",
       "}else{\n",
       "    // require.js not available: dynamically load d3 & LDAvis\n",
       "    LDAvis_load_lib(\"https://d3js.org/d3.v5.js\", function(){\n",
       "         LDAvis_load_lib(\"https://cdn.jsdelivr.net/gh/bmabey/pyLDAvis@3.3.1/pyLDAvis/js/ldavis.v3.0.0.js\", function(){\n",
       "                 new LDAvis(\"#\" + \"ldavis_el2147629703831550888389656267\", ldavis_el2147629703831550888389656267_data);\n",
       "            })\n",
       "         });\n",
       "}\n",
       "</script>"
      ],
      "text/plain": [
       "PreparedData(topic_coordinates=              x         y  topics  cluster       Freq\n",
       "topic                                                \n",
       "0      0.003388 -0.081071       1        1   9.009320\n",
       "1      0.101752  0.048738       2        1   6.445021\n",
       "2     -0.080242 -0.147591       3        1   7.670506\n",
       "3      0.109022 -0.064115       4        1  16.618311\n",
       "4     -0.009499  0.041092       5        1   5.611208\n",
       "5     -0.013845  0.112450       6        1   8.323331\n",
       "6     -0.158579  0.004814       7        1  13.173456\n",
       "7      0.031564 -0.015662       8        1  15.780355\n",
       "8     -0.105216  0.082257       9        1   7.301284\n",
       "9      0.121655  0.019089      10        1  10.067208, topic_info=             Term         Freq        Total Category  logprob  loglift\n",
       "306         image  6818.000000  6818.000000  Default  30.0000  30.0000\n",
       "702          cell  6065.000000  6065.000000  Default  29.0000  29.0000\n",
       "835        neuron  8543.000000  8543.000000  Default  28.0000  28.0000\n",
       "846        object  3252.000000  3252.000000  Default  27.0000  27.0000\n",
       "545        speech  2618.000000  2618.000000  Default  26.0000  26.0000\n",
       "...           ...          ...          ...      ...      ...      ...\n",
       "1288       factor   571.232874  1902.923134  Topic10  -5.9514   1.0925\n",
       "2208    nonlinear   555.882240  2000.389035  Topic10  -5.9786   1.0153\n",
       "2516        field   592.086446  4292.271448  Topic10  -5.9156   0.3150\n",
       "1772  dimensional   543.217550  2522.270153  Topic10  -6.0017   0.7605\n",
       "288        hidden   555.337701  5850.012949  Topic10  -5.9796  -0.0587\n",
       "\n",
       "[740 rows x 6 columns], token_table=      Topic      Freq      Term\n",
       "term                           \n",
       "3         1  0.065148       100\n",
       "3         2  0.059901       100\n",
       "3         3  0.080014       100\n",
       "3         4  0.106248       100\n",
       "3         5  0.014866       100\n",
       "...     ...       ...       ...\n",
       "8467      6  0.872438       zip\n",
       "8467      8  0.084820       zip\n",
       "8467      9  0.012117       zip\n",
       "8793      4  0.017879  zip_code\n",
       "8793      6  0.965482  zip_code\n",
       "\n",
       "[3820 rows x 3 columns], R=30, lambda_step=0.01, plot_opts={'xlab': 'PC1', 'ylab': 'PC2'}, topic_order=[1, 2, 3, 4, 5, 6, 7, 8, 9, 10])"
      ]
     },
     "execution_count": 49,
     "metadata": {},
     "output_type": "execute_result"
    }
   ],
   "source": [
    "%%time\n",
    "#import pyLDAvis.sklearn Sklearn version\n",
    "import pyLDAvis\n",
    "import pyLDAvis.gensim_models\n",
    " \n",
    "pyLDAvis.enable_notebook()\n",
    "vis = pyLDAvis.gensim_models.prepare(model, corpus, dictionary, sort_topics=False)\n",
    "vis"
   ]
  },
  {
   "cell_type": "code",
   "execution_count": null,
   "metadata": {},
   "outputs": [],
   "source": []
  }
 ],
 "metadata": {
  "kernelspec": {
   "display_name": "Python 3",
   "language": "python",
   "name": "python3"
  },
  "language_info": {
   "codemirror_mode": {
    "name": "ipython",
    "version": 3
   },
   "file_extension": ".py",
   "mimetype": "text/x-python",
   "name": "python",
   "nbconvert_exporter": "python",
   "pygments_lexer": "ipython3",
   "version": "3.6.13"
  }
 },
 "nbformat": 4,
 "nbformat_minor": 4
}
