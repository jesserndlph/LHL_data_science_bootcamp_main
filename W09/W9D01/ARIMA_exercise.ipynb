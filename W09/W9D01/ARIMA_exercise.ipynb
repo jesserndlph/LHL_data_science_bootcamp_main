{
 "cells": [
  {
   "cell_type": "markdown",
   "metadata": {},
   "source": [
    "## Arima Exercise"
   ]
  },
  {
   "cell_type": "code",
   "execution_count": 1,
   "metadata": {
    "ExecuteTime": {
     "end_time": "2020-09-09T12:32:52.566890Z",
     "start_time": "2020-09-09T12:32:52.560424Z"
    }
   },
   "outputs": [],
   "source": [
    "# import libraries\n",
    "import numpy as np\n",
    "import pandas as pd\n",
    "from matplotlib import pyplot as plt\n",
    "from statsmodels.tsa.stattools import adfuller\n",
    "from statsmodels.tsa.seasonal import seasonal_decompose\n",
    "from statsmodels.tsa.arima_model import ARIMA\n",
    "from pandas.plotting import register_matplotlib_converters\n",
    "register_matplotlib_converters()"
   ]
  },
  {
   "cell_type": "code",
   "execution_count": 2,
   "metadata": {
    "ExecuteTime": {
     "end_time": "2020-09-09T12:39:01.764148Z",
     "start_time": "2020-09-09T12:39:01.375044Z"
    }
   },
   "outputs": [],
   "source": [
    "# load data\n",
    "df = pd.read_csv('https://raw.githubusercontent.com/AileenNielsen/TimeSeriesAnalysisWithPython/master/data/AirPassengers.csv',\n",
    "                 parse_dates = ['Month'], \n",
    "                 index_col = ['Month'])\\\n",
    "       .rename(columns={'#Passengers':'Passengers'})"
   ]
  },
  {
   "cell_type": "markdown",
   "metadata": {},
   "source": [
    "**Task:** Print the top 5 rows."
   ]
  },
  {
   "cell_type": "code",
   "execution_count": 4,
   "metadata": {
    "ExecuteTime": {
     "end_time": "2020-09-09T13:19:27.172544Z",
     "start_time": "2020-09-09T13:19:27.128538Z"
    }
   },
   "outputs": [
    {
     "data": {
      "text/html": [
       "<div>\n",
       "<style scoped>\n",
       "    .dataframe tbody tr th:only-of-type {\n",
       "        vertical-align: middle;\n",
       "    }\n",
       "\n",
       "    .dataframe tbody tr th {\n",
       "        vertical-align: top;\n",
       "    }\n",
       "\n",
       "    .dataframe thead th {\n",
       "        text-align: right;\n",
       "    }\n",
       "</style>\n",
       "<table border=\"1\" class=\"dataframe\">\n",
       "  <thead>\n",
       "    <tr style=\"text-align: right;\">\n",
       "      <th></th>\n",
       "      <th>Passengers</th>\n",
       "    </tr>\n",
       "    <tr>\n",
       "      <th>Month</th>\n",
       "      <th></th>\n",
       "    </tr>\n",
       "  </thead>\n",
       "  <tbody>\n",
       "    <tr>\n",
       "      <th>1949-01-01</th>\n",
       "      <td>112</td>\n",
       "    </tr>\n",
       "    <tr>\n",
       "      <th>1949-02-01</th>\n",
       "      <td>118</td>\n",
       "    </tr>\n",
       "    <tr>\n",
       "      <th>1949-03-01</th>\n",
       "      <td>132</td>\n",
       "    </tr>\n",
       "    <tr>\n",
       "      <th>1949-04-01</th>\n",
       "      <td>129</td>\n",
       "    </tr>\n",
       "    <tr>\n",
       "      <th>1949-05-01</th>\n",
       "      <td>121</td>\n",
       "    </tr>\n",
       "  </tbody>\n",
       "</table>\n",
       "</div>"
      ],
      "text/plain": [
       "            Passengers\n",
       "Month                 \n",
       "1949-01-01         112\n",
       "1949-02-01         118\n",
       "1949-03-01         132\n",
       "1949-04-01         129\n",
       "1949-05-01         121"
      ]
     },
     "execution_count": 4,
     "metadata": {},
     "output_type": "execute_result"
    }
   ],
   "source": [
    "df.head()"
   ]
  },
  {
   "cell_type": "markdown",
   "metadata": {},
   "source": [
    "**Task:** Create the function called `plot_timeseries(df)`."
   ]
  },
  {
   "cell_type": "code",
   "execution_count": 6,
   "metadata": {
    "ExecuteTime": {
     "end_time": "2020-09-09T13:20:07.098757Z",
     "start_time": "2020-09-09T13:20:07.090923Z"
    }
   },
   "outputs": [],
   "source": [
    "def plot_timeseries(df):\n",
    "    df.plot()\n",
    "    plt.show()"
   ]
  },
  {
   "cell_type": "code",
   "execution_count": null,
   "metadata": {},
   "outputs": [],
   "source": []
  },
  {
   "cell_type": "markdown",
   "metadata": {},
   "source": [
    "**Task:** Plot the time series from above."
   ]
  },
  {
   "cell_type": "code",
   "execution_count": 7,
   "metadata": {
    "ExecuteTime": {
     "end_time": "2020-09-09T13:20:36.792562Z",
     "start_time": "2020-09-09T13:20:36.102295Z"
    }
   },
   "outputs": [
    {
     "data": {
      "image/png": "[encoded data removed]",
      "text/plain": [
       "<Figure size 432x288 with 1 Axes>"
      ]
     },
     "metadata": {
      "needs_background": "light"
     },
     "output_type": "display_data"
    }
   ],
   "source": [
    "plot_timeseries(df)"
   ]
  },
  {
   "cell_type": "markdown",
   "metadata": {},
   "source": [
    "**Task:** Compute the rolling mean and the rolling std with an appropriate window size."
   ]
  },
  {
   "cell_type": "code",
   "execution_count": 10,
   "metadata": {
    "ExecuteTime": {
     "end_time": "2020-09-09T13:21:01.020985Z",
     "start_time": "2020-09-09T13:21:01.008972Z"
    }
   },
   "outputs": [],
   "source": [
    "def compute_rolling_mean(df, window):\n",
    "    return df.rolling(window).mean()\n",
    "\n",
    "def compute_rolling_std(df, window):\n",
    "    return df.rolling(window).std()"
   ]
  },
  {
   "cell_type": "code",
   "execution_count": null,
   "metadata": {},
   "outputs": [],
   "source": []
  },
  {
   "cell_type": "markdown",
   "metadata": {},
   "source": [
    "**Task:** Plot the two time series:\n",
    "- with rolling mean \n",
    "- with rolling std"
   ]
  },
  {
   "cell_type": "code",
   "execution_count": 11,
   "metadata": {
    "ExecuteTime": {
     "end_time": "2020-09-09T13:21:21.357917Z",
     "start_time": "2020-09-09T13:21:20.503961Z"
    }
   },
   "outputs": [
    {
     "data": {
      "text/plain": [
       "<AxesSubplot:xlabel='Month'>"
      ]
     },
     "execution_count": 11,
     "metadata": {},
     "output_type": "execute_result"
    },
    {
     "data": {
      "image/png": "[encoded data removed]",
      "text/plain": [
       "<Figure size 432x288 with 1 Axes>"
      ]
     },
     "metadata": {
      "needs_background": "light"
     },
     "output_type": "display_data"
    }
   ],
   "source": [
    "computer_rolling_mean(df, 12).plot(legend=True)"
   ]
  },
  {
   "cell_type": "code",
   "execution_count": 12,
   "metadata": {},
   "outputs": [
    {
     "data": {
      "text/plain": [
       "<AxesSubplot:xlabel='Month'>"
      ]
     },
     "execution_count": 12,
     "metadata": {},
     "output_type": "execute_result"
    },
    {
     "data": {
      "image/png": "[encoded data removed]",
      "text/plain": [
       "<Figure size 432x288 with 1 Axes>"
      ]
     },
     "metadata": {
      "needs_background": "light"
     },
     "output_type": "display_data"
    }
   ],
   "source": [
    "computer_rolling_std(df, 12).plot(legend=True)"
   ]
  },
  {
   "cell_type": "code",
   "execution_count": null,
   "metadata": {},
   "outputs": [],
   "source": []
  },
  {
   "cell_type": "markdown",
   "metadata": {},
   "source": [
    "**Task:** Test the stationarity of all the time series"
   ]
  },
  {
   "cell_type": "code",
   "execution_count": 14,
   "metadata": {
    "ExecuteTime": {
     "end_time": "2020-09-09T13:21:47.229458Z",
     "start_time": "2020-09-09T13:21:43.472346Z"
    }
   },
   "outputs": [],
   "source": [
    "def test_stationarity(timeseries):\n",
    "    #Determing rolling statistics\n",
    "    rolmean = timeseries.rolling(12).mean()\n",
    "    rolstd = timeseries.rolling(12).std()\n",
    "\n",
    "    #Plot rolling statistics:\n",
    "    orig = plt.plot(timeseries, color='blue', label='Original')\n",
    "    mean = plt.plot(rolmean, color='red', label='Rolling Mean')\n",
    "    std = plt.plot(rolstd, color='black', label = 'Rolling Std')\n",
    "    plt.legend(loc='best')\n",
    "    plt.title('Rolling Mean & Standard Deviation')\n",
    "    plt.show(block=False)\n",
    "\n",
    "    #Perform Dickey-Fuller test:\n",
    "    print('Results of Dickey-Fuller Test:')\n",
    "    dftest = adfuller(timeseries, autolag='AIC')\n",
    "    dfoutput = pd.Series(dftest[0:4], index=['Test Statistic','p-value','#Lags Used','Number of Observations Used'])\n",
    "    for key,value in dftest[4].items():\n",
    "        dfoutput['Critical Value (%s)'%key] = value\n",
    "    print(dfoutput)"
   ]
  },
  {
   "cell_type": "code",
   "execution_count": 15,
   "metadata": {},
   "outputs": [
    {
     "data": {
      "image/png": "[encoded data removed]",
      "text/plain": [
       "<Figure size 432x288 with 1 Axes>"
      ]
     },
     "metadata": {
      "needs_background": "light"
     },
     "output_type": "display_data"
    },
    {
     "name": "stdout",
     "output_type": "stream",
     "text": [
      "Results of Dickey-Fuller Test:\n",
      "Test Statistic                   0.815369\n",
      "p-value                          0.991880\n",
      "#Lags Used                      13.000000\n",
      "Number of Observations Used    130.000000\n",
      "Critical Value (1%)             -3.481682\n",
      "Critical Value (5%)             -2.884042\n",
      "Critical Value (10%)            -2.578770\n",
      "dtype: float64\n"
     ]
    }
   ],
   "source": [
    "test_stationarity(df['Passengers'])"
   ]
  },
  {
   "cell_type": "markdown",
   "metadata": {},
   "source": [
    "**Task:** Perform a log transformation on the original time series. "
   ]
  },
  {
   "cell_type": "code",
   "execution_count": 16,
   "metadata": {},
   "outputs": [],
   "source": [
    "# log transform\n",
    "df_log = np.log(df)"
   ]
  },
  {
   "cell_type": "code",
   "execution_count": null,
   "metadata": {
    "ExecuteTime": {
     "end_time": "2020-09-09T13:22:04.098681Z",
     "start_time": "2020-09-09T13:22:04.093021Z"
    }
   },
   "outputs": [],
   "source": []
  },
  {
   "cell_type": "markdown",
   "metadata": {},
   "source": [
    "**Task:** Plot the transformed time series."
   ]
  },
  {
   "cell_type": "code",
   "execution_count": 18,
   "metadata": {
    "ExecuteTime": {
     "end_time": "2020-09-09T13:22:28.135942Z",
     "start_time": "2020-09-09T13:22:27.497106Z"
    }
   },
   "outputs": [
    {
     "data": {
      "text/plain": [
       "[<matplotlib.lines.Line2D at 0x7fe45294e370>]"
      ]
     },
     "execution_count": 18,
     "metadata": {},
     "output_type": "execute_result"
    },
    {
     "data": {
      "image/png": "[encoded data removed]",
      "text/plain": [
       "<Figure size 432x288 with 1 Axes>"
      ]
     },
     "metadata": {
      "needs_background": "light"
     },
     "output_type": "display_data"
    }
   ],
   "source": [
    "plt.plot(df_log)"
   ]
  },
  {
   "cell_type": "markdown",
   "metadata": {},
   "source": [
    "**Task:** Test the stationarity of the transformed time series. If it isn't stationary, try a different transformation technique. "
   ]
  },
  {
   "cell_type": "code",
   "execution_count": 19,
   "metadata": {
    "ExecuteTime": {
     "end_time": "2020-09-09T13:24:02.759385Z",
     "start_time": "2020-09-09T13:24:00.222139Z"
    }
   },
   "outputs": [
    {
     "data": {
      "image/png": "[encoded data removed]",
      "text/plain": [
       "<Figure size 432x288 with 1 Axes>"
      ]
     },
     "metadata": {
      "needs_background": "light"
     },
     "output_type": "display_data"
    },
    {
     "name": "stdout",
     "output_type": "stream",
     "text": [
      "Results of Dickey-Fuller Test:\n",
      "Test Statistic                  -1.717017\n",
      "p-value                          0.422367\n",
      "#Lags Used                      13.000000\n",
      "Number of Observations Used    130.000000\n",
      "Critical Value (1%)             -3.481682\n",
      "Critical Value (5%)             -2.884042\n",
      "Critical Value (10%)            -2.578770\n",
      "dtype: float64\n"
     ]
    }
   ],
   "source": [
    "test_stationarity(df_log)"
   ]
  },
  {
   "cell_type": "code",
   "execution_count": 25,
   "metadata": {},
   "outputs": [
    {
     "data": {
      "text/plain": [
       "array([[4.71849887],\n",
       "       [4.77068462],\n",
       "       [4.88280192],\n",
       "       [4.8598124 ],\n",
       "       [4.79579055],\n",
       "       [4.90527478],\n",
       "       [4.99721227],\n",
       "       [4.99721227],\n",
       "       [4.91265489],\n",
       "       [4.77912349],\n",
       "       [4.6443909 ],\n",
       "       [4.77068462],\n",
       "       [4.74493213],\n",
       "       [4.83628191],\n",
       "       [4.94875989],\n",
       "       [4.90527478],\n",
       "       [4.82831374],\n",
       "       [5.00394631],\n",
       "       [5.13579844],\n",
       "       [5.13579844],\n",
       "       [5.06259503],\n",
       "       [4.89034913],\n",
       "       [4.73619845],\n",
       "       [4.94164242],\n",
       "       [4.97673374],\n",
       "       [5.01063529],\n",
       "       [5.18178355],\n",
       "       [5.0937502 ],\n",
       "       [5.14749448],\n",
       "       [5.18178355],\n",
       "       [5.29330482],\n",
       "       [5.29330482],\n",
       "       [5.21493576],\n",
       "       [5.08759634],\n",
       "       [4.98360662],\n",
       "       [5.11198779],\n",
       "       [5.14166356],\n",
       "       [5.19295685],\n",
       "       [5.26269019],\n",
       "       [5.19849703],\n",
       "       [5.20948615],\n",
       "       [5.38449506],\n",
       "       [5.43807931],\n",
       "       [5.48893773],\n",
       "       [5.34233425],\n",
       "       [5.25227343],\n",
       "       [5.14749448],\n",
       "       [5.26785816],\n",
       "       [5.27811466],\n",
       "       [5.27811466],\n",
       "       [5.46383181],\n",
       "       [5.45958551],\n",
       "       [5.433722  ],\n",
       "       [5.49306144],\n",
       "       [5.5759491 ],\n",
       "       [5.60580207],\n",
       "       [5.46806014],\n",
       "       [5.35185813],\n",
       "       [5.19295685],\n",
       "       [5.30330491],\n",
       "       [5.31811999],\n",
       "       [5.23644196],\n",
       "       [5.45958551],\n",
       "       [5.42495002],\n",
       "       [5.45532112],\n",
       "       [5.5759491 ],\n",
       "       [5.71042702],\n",
       "       [5.68017261],\n",
       "       [5.55682806],\n",
       "       [5.433722  ],\n",
       "       [5.31320598],\n",
       "       [5.433722  ],\n",
       "       [5.48893773],\n",
       "       [5.45103845],\n",
       "       [5.58724866],\n",
       "       [5.59471138],\n",
       "       [5.59842196],\n",
       "       [5.75257264],\n",
       "       [5.89715387],\n",
       "       [5.84932478],\n",
       "       [5.74300319],\n",
       "       [5.61312811],\n",
       "       [5.46806014],\n",
       "       [5.62762111],\n",
       "       [5.64897424],\n",
       "       [5.62401751],\n",
       "       [5.75890177],\n",
       "       [5.74620319],\n",
       "       [5.76205138],\n",
       "       [5.9242558 ],\n",
       "       [6.02344759],\n",
       "       [6.00388707],\n",
       "       [5.87211779],\n",
       "       [5.7235851 ],\n",
       "       [5.60211882],\n",
       "       [5.7235851 ],\n",
       "       [5.75257264],\n",
       "       [5.70711026],\n",
       "       [5.87493073],\n",
       "       [5.85220248],\n",
       "       [5.87211779],\n",
       "       [6.04500531],\n",
       "       [6.14203741],\n",
       "       [6.14632926],\n",
       "       [6.00141488],\n",
       "       [5.84932478],\n",
       "       [5.72031178],\n",
       "       [5.81711116],\n",
       "       [5.82894562],\n",
       "       [5.76205138],\n",
       "       [5.89164421],\n",
       "       [5.85220248],\n",
       "       [5.89440283],\n",
       "       [6.07534603],\n",
       "       [6.19644413],\n",
       "       [6.22455843],\n",
       "       [6.00141488],\n",
       "       [5.88332239],\n",
       "       [5.7365723 ],\n",
       "       [5.82008293],\n",
       "       [5.88610403],\n",
       "       [5.83481074],\n",
       "       [6.00635316],\n",
       "       [5.98141421],\n",
       "       [6.04025471],\n",
       "       [6.15697899],\n",
       "       [6.30627529],\n",
       "       [6.32614947],\n",
       "       [6.13772705],\n",
       "       [6.00881319],\n",
       "       [5.89164421],\n",
       "       [6.00388707],\n",
       "       [6.03308622],\n",
       "       [5.96870756],\n",
       "       [6.03787092],\n",
       "       [6.13339804],\n",
       "       [6.15697899],\n",
       "       [6.28226675],\n",
       "       [6.43294009],\n",
       "       [6.40687999],\n",
       "       [6.23048145],\n",
       "       [6.13339804],\n",
       "       [5.96614674],\n",
       "       [6.06842559]])"
      ]
     },
     "execution_count": 25,
     "metadata": {},
     "output_type": "execute_result"
    }
   ],
   "source": [
    "df_log.values"
   ]
  },
  {
   "cell_type": "markdown",
   "metadata": {},
   "source": [
    "**Task:** Use the stationary time series and find the optimal `(p, d, q)` parameters of ARIMA model."
   ]
  },
  {
   "cell_type": "code",
   "execution_count": 29,
   "metadata": {
    "ExecuteTime": {
     "end_time": "2020-09-09T13:25:12.885968Z",
     "start_time": "2020-09-09T13:25:02.731729Z"
    }
   },
   "outputs": [
    {
     "name": "stdout",
     "output_type": "stream",
     "text": [
      "                               SARIMAX Results                                \n",
      "==============================================================================\n",
      "Dep. Variable:             Passengers   No. Observations:                  144\n",
      "Model:                 ARIMA(2, 1, 0)   Log Likelihood                 122.261\n",
      "Date:                Mon, 08 Nov 2021   AIC                           -238.522\n",
      "Time:                        18:15:24   BIC                           -229.633\n",
      "Sample:                    01-31-1949   HQIC                          -234.910\n",
      "                         - 12-31-1960                                         \n",
      "Covariance Type:                  opg                                         \n",
      "==============================================================================\n",
      "                 coef    std err          z      P>|z|      [0.025      0.975]\n",
      "------------------------------------------------------------------------------\n",
      "ar.L1          0.2414      0.101      2.381      0.017       0.043       0.440\n",
      "ar.L2         -0.1667      0.100     -1.665      0.096      -0.363       0.030\n",
      "sigma2         0.0106      0.002      6.020      0.000       0.007       0.014\n",
      "===================================================================================\n",
      "Ljung-Box (L1) (Q):                   0.06   Jarque-Bera (JB):                 6.58\n",
      "Prob(Q):                              0.81   Prob(JB):                         0.04\n",
      "Heteroskedasticity (H):               1.20   Skew:                             0.14\n",
      "Prob(H) (two-sided):                  0.53   Kurtosis:                         1.98\n",
      "===================================================================================\n",
      "\n",
      "Warnings:\n",
      "[1] Covariance matrix calculated using the outer product of gradients (complex-step).\n"
     ]
    },
    {
     "name": "stderr",
     "output_type": "stream",
     "text": [
      "/var/folders/wg/4yj17hrn3q9g_27l8zsxxy5m0000gn/T/ipykernel_3904/3686972330.py:2: FutureWarning: The pandas.datetime class is deprecated and will be removed from pandas in a future version. Import from datetime module instead.\n",
      "  from pandas import datetime\n"
     ]
    },
    {
     "data": {
      "image/png": "[encoded data removed]",
      "text/plain": [
       "<Figure size 432x288 with 1 Axes>"
      ]
     },
     "metadata": {
      "needs_background": "light"
     },
     "output_type": "display_data"
    }
   ],
   "source": [
    "# fit an ARIMA model and plot residual errors\n",
    "from pandas import datetime\n",
    "from pandas import read_csv\n",
    "from pandas import DataFrame\n",
    "from statsmodels.tsa.arima.model import ARIMA\n",
    "from matplotlib import pyplot\n",
    "\n",
    "# fit arima model\n",
    "model = ARIMA(df_log, order=(2,1,0))\n",
    "model_fit = model.fit()\n",
    "print(model_fit.summary())\n",
    "# plot residual errors\n",
    "residuals = DataFrame(model_fit.resid)\n",
    "residuals.plot()\n",
    "pyplot.show()"
   ]
  },
  {
   "cell_type": "code",
   "execution_count": null,
   "metadata": {},
   "outputs": [],
   "source": []
  },
  {
   "cell_type": "markdown",
   "metadata": {},
   "source": [
    "**Task:** Plot the predictions (not transformed to the original scale)."
   ]
  },
  {
   "cell_type": "code",
   "execution_count": 30,
   "metadata": {
    "ExecuteTime": {
     "end_time": "2020-09-09T13:25:36.979824Z",
     "start_time": "2020-09-09T13:25:36.290591Z"
    }
   },
   "outputs": [],
   "source": [
    "# plot predictions\n",
    "predictions = model_fit.predict(start=0, end=len(df_log)-1, typ='levels')\n"
   ]
  },
  {
   "cell_type": "code",
   "execution_count": null,
   "metadata": {},
   "outputs": [],
   "source": []
  },
  {
   "cell_type": "markdown",
   "metadata": {},
   "source": [
    "**Task:** Plot the predictions (transformed to the original scale)."
   ]
  },
  {
   "cell_type": "code",
   "execution_count": 42,
   "metadata": {
    "ExecuteTime": {
     "end_time": "2020-09-09T13:26:20.899525Z",
     "start_time": "2020-09-09T13:26:20.210987Z"
    }
   },
   "outputs": [],
   "source": [
    "# plot predicitions\n",
    "df_log.reset_index(inplace=True)\n"
   ]
  },
  {
   "cell_type": "code",
   "execution_count": 44,
   "metadata": {},
   "outputs": [],
   "source": [
    "# stuck."
   ]
  },
  {
   "cell_type": "markdown",
   "metadata": {},
   "source": [
    "**Task:** Plot the predictions for the next 10 years. How accurate do you think your model is predicting that far in the future? "
   ]
  },
  {
   "cell_type": "code",
   "execution_count": null,
   "metadata": {
    "ExecuteTime": {
     "end_time": "2020-09-09T13:26:42.759650Z",
     "start_time": "2020-09-09T13:26:41.667912Z"
    }
   },
   "outputs": [],
   "source": []
  },
  {
   "cell_type": "code",
   "execution_count": null,
   "metadata": {},
   "outputs": [],
   "source": []
  }
 ],
 "metadata": {
  "kernelspec": {
   "display_name": "Python 3",
   "language": "python",
   "name": "python3"
  },
  "language_info": {
   "codemirror_mode": {
    "name": "ipython",
    "version": 3
   },
   "file_extension": ".py",
   "mimetype": "text/x-python",
   "name": "python",
   "nbconvert_exporter": "python",
   "pygments_lexer": "ipython3",
   "version": "3.8.12"
  },
  "toc": {
   "base_numbering": 1,
   "nav_menu": {},
   "number_sections": true,
   "sideBar": true,
   "skip_h1_title": false,
   "title_cell": "Table of Contents",
   "title_sidebar": "Contents",
   "toc_cell": false,
   "toc_position": {},
   "toc_section_display": true,
   "toc_window_display": false
  },
  "varInspector": {
   "cols": {
    "lenName": 16,
    "lenType": 16,
    "lenVar": 40
   },
   "kernels_config": {
    "python": {
     "delete_cmd_postfix": "",
     "delete_cmd_prefix": "del ",
     "library": "var_list.py",
     "varRefreshCmd": "print(var_dic_list())"
    },
    "r": {
     "delete_cmd_postfix": ") ",
     "delete_cmd_prefix": "rm(",
     "library": "var_list.r",
     "varRefreshCmd": "cat(var_dic_list()) "
    }
   },
   "types_to_exclude": [
    "module",
    "function",
    "builtin_function_or_method",
    "instance",
    "_Feature"
   ],
   "window_display": false
  }
 },
 "nbformat": 4,
 "nbformat_minor": 4
}
